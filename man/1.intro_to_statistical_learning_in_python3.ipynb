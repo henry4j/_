{
 "metadata": {
  "name": "",
  "signature": "sha256:2e1cb2aa5d9ad57012333f93b948fd86f261a64143411385bac7a0b148aca16d"
 },
 "nbformat": 3,
 "nbformat_minor": 0,
 "worksheets": [
  {
   "cells": [
    {
     "cell_type": "markdown",
     "metadata": {},
     "source": [
      "#Introduction to Python for Statistical Learning\n",
      "\n",
      "The first session in our statistical learning in Python series will briefly touch on some of the core components of Python's scientific computing stack that we will use extensively later in the course. We will not only introduce two important libraries for data wrangling, [numpy](http://numpy.org) and [pandas](http://pandas.pydata.org/), but also show how to create plots using [matplotlib](http://matplotlib.org/). Please note that this is not a thorough introduction to these libraries; instead, we would like to point out what basic functionality they provide and how they differ from their counterparts in R.\n",
      "\n",
      "But before we get into the details we will briefly describe how to setup a Python environment and what packages you need to install in order to run the code examples in this notebook."
     ]
    },
    {
     "cell_type": "markdown",
     "metadata": {},
     "source": [
      "## Requirements\n",
      "\n",
      "###Python environment\n",
      "\n",
      "We strongly recommend that you use a bundled Python distribution such as [Anaconda](https://store.continuum.io/cshop/anaconda/). We have assembled a quick installation guide for Mac, Linux, and Windows in [a previous blog post](http://datarobot.com/blog/getting-up-and-running-with-python/).\n",
      "    \n",
      "To run the R examples in this code you also need:\n",
      "\n",
      "    rpy2>=2.3.1\n",
      "    \n",
      "You can find instructions how to install ``rpy2`` [here](http://rpy.sourceforge.net/rpy2/doc-dev/html/overview.html) . If you have an working R environment on your machine the following command should install ``rpy2``:\n",
      "\n",
      "    $ pip install -U rpy2\n",
      "    \n",
      "To test if ``rpy2`` was installed correctly run:\n",
      "\n",
      "    $ python -m 'rpy2.tests'\n",
      "    \n",
      "If you run on Anaconda and it complains that it misses ``libreadline.so`` please install the following conda package:\n",
      "\n",
      "    $ conda install python=2.7.5=2\n",
      "\n",
      "###IPython\n",
      "\n",
      "IPython is an interactive computing environment for Python. It is a great tool for interactive data analysis and programming in general. Amongst other things it features a web-based notebook server that supports code, documentation, inline plots, and much more. In fact, all blog posts in this series will be written using IPython notebooks with the advantage that you can simply download it from [here](http://d1pqsl2386xqi9.cloudfront.net/notebooks/intro_to_statistical_learning_in_python.ipynb) and either run it locally or view it on [nbviewer](http://nbviewer.ipython.org/urls/d1pqsl2386xqi9.cloudfront.net/notebooks/intro_to_statistical_learning_in_python.ipynb). "
     ]
    },
    {
     "cell_type": "markdown",
     "metadata": {},
     "source": [
      "## Manipulating Data\n",
      "\n",
      "The goal of this session is to get familiar with the basics of how to work with data in Python. The basic data containers that are used to manipulate data in Python are n-dimensional arrays that act either as vectors, matrices, or tensors.\n",
      "\n",
      "In contrast to statistical computing environments like R, the fundamental data structures for data analysis in Python are not built into the computing environment but are available via dedicated 3rd party libraries. These libraries are called ``numpy`` and ``pandas``."
     ]
    },
    {
     "cell_type": "markdown",
     "metadata": {},
     "source": [
      "### Numpy\n",
      "\n",
      "Numpy is the lingua-franca in the Python scientific computing ecosystem. It basically provides an n-dimensional array object that holds elements of a specific ``dtype`` (eg. ``numpy.float64`` or ``numpy.int32``). Most packages that we will discuss in this series will directly operate on arrays. Numpy also provides common operations on arrays such as element-wise arithmetic, indexing/slicing, and basic linear algebra (dot product, matrix decompositions, ...). \n",
      "\n",
      "Below we show some basic working with numpy arrays:"
     ]
    },
    {
     "cell_type": "code",
     "collapsed": false,
     "input": [
      "from __future__ import division  # always use floating point division\n",
      "import numpy as np  # convention, use alias ``np``\n",
      "\n",
      "# a one dimensional array\n",
      "x = np.array([2, 7, 5])\n",
      "print('x:', x)  # print x\n",
      "\n",
      "# a sequence starting from 4 to 12 with a step size of 3\n",
      "y = np.arange(4, 12, 3)\n",
      "print('y:', y)\n",
      "\n",
      "# element-wise operations on arrays\n",
      "print('x + y:', x + y)\n",
      "print('x / y:', x / y)\n",
      "print('x ^ y:', x ** y)  # python uses ** for exponentiation"
     ],
     "language": "python",
     "metadata": {},
     "outputs": [
      {
       "output_type": "stream",
       "stream": "stdout",
       "text": [
        "x: [2 7 5]\n",
        "y: [ 4  7 10]\n",
        "x + y: [ 6 14 15]\n",
        "x / y: [ 0.5  1.   0.5]\n",
        "x ^ y: [     16  823543 9765625]\n"
       ]
      }
     ],
     "prompt_number": 11
    },
    {
     "cell_type": "markdown",
     "metadata": {},
     "source": [
      "If you need any help on operations such as ``np.arange`` you can access its documentation by either typing ``help(np.arange)`` or -- if you use IPython -- write a ``'?'`` after the command: ``np.arange?``."
     ]
    },
    {
     "cell_type": "markdown",
     "metadata": {},
     "source": [
      "You can index and slice an array using square brackets ``[]``. To slice an array, numpy uses Python's slicing syntax ``x[start:end:step]`` where step is the step size which is optional. If you omit ``start`` or ``end`` it will use the beginning or end, respectively. Python uses exclusive semantics meaning that the element with position ``end`` is not included in the result.\n",
      "Indexing can be done either by position or by using a boolean mask:"
     ]
    },
    {
     "cell_type": "code",
     "collapsed": false,
     "input": [
      "print(x[1])  # second element of x\n",
      "print(x[1:3])  # slice of x that includes second and third elements\n",
      "print()\n",
      "print(x[-2])  # indexing using negative indices - starts from -1\n",
      "print(x[-np.array([1, 2])])   # fancy indexing using index array\n",
      "print()\n",
      "print(x[np.array([False, True, True])])  # indexing using boolean mask"
     ],
     "language": "python",
     "metadata": {},
     "outputs": [
      {
       "output_type": "stream",
       "stream": "stdout",
       "text": [
        "7\n",
        "[7 5]\n",
        "\n",
        "7\n",
        "[5 7]\n",
        "\n",
        "[7 5]\n"
       ]
      }
     ],
     "prompt_number": 12
    },
    {
     "cell_type": "markdown",
     "metadata": {},
     "source": [
      "For two or more dimensional arrays we just add slicing/indexing arguments, to select the whole dimension you can simply put a colon (``:``)."
     ]
    },
    {
     "cell_type": "code",
     "collapsed": false,
     "input": [
      "# reshape sequence to 2d array (=matrix) where rows hold contiguous sequences\n",
      "# then transpose so that columns hold contiguous sub sequences\n",
      "z_temp = np.arange(1, 13).reshape((3,4))\n",
      "print(\"z_temp\", z_temp, sep=\"\\n\")\n",
      "print()\n",
      "\n",
      "# transpose\n",
      "z = z_temp.T\n",
      "print(\"z = z_temp.T (transpose of z_temp)\", z, sep=\"\\n\")\n",
      "print()\n",
      "\n",
      "# slicing along two dimensions\n",
      "a = z[2:4, 1:3]\n",
      "print(\"a = z[2:4, 1:3]\", a, sep=\"\\n\")\n",
      "print()\n",
      "\n",
      "# slicing along 2nd dimension\n",
      "b = z[:, 1:3] \n",
      "print(\"b = z[:, 1:3]\", b, sep=\"\\n\")\n",
      "print()\n",
      "\n",
      "# first column, returns 1d array\n",
      "c = z[:, 0]\n",
      "print(\"c = z[:, 0]\", c, sep=\"\\n\") # one dimensional\n",
      "print()\n",
      "\n",
      "# first column but return 2d array (remember: exclusive semantics)\n",
      "cc = z[:, 0:1]\n",
      "print(\"cc = z[:, 0:1]\", cc, sep=\"\\n\")  # two dimensional; column vector"
     ],
     "language": "python",
     "metadata": {},
     "outputs": [
      {
       "output_type": "stream",
       "stream": "stdout",
       "text": [
        "z_temp\n",
        "[[ 1  2  3  4]\n",
        " [ 5  6  7  8]\n",
        " [ 9 10 11 12]]\n",
        "\n",
        "z = z_temp.T (transpose of z_temp)\n",
        "[[ 1  5  9]\n",
        " [ 2  6 10]\n",
        " [ 3  7 11]\n",
        " [ 4  8 12]]\n",
        "\n",
        "a = z[2:4, 1:3]\n",
        "[[ 7 11]\n",
        " [ 8 12]]\n",
        "\n",
        "b = z[:, 1:3]\n",
        "[[ 5  9]\n",
        " [ 6 10]\n",
        " [ 7 11]\n",
        " [ 8 12]]\n",
        "\n",
        "c = z[:, 0]\n",
        "[1 2 3 4]\n",
        "\n",
        "cc = z[:, 0:1]\n",
        "[[1]\n",
        " [2]\n",
        " [3]\n",
        " [4]]\n"
       ]
      }
     ],
     "prompt_number": 13
    },
    {
     "cell_type": "markdown",
     "metadata": {},
     "source": [
      "To get information on the dimensionality and shape of an array you will find the following methods useful:"
     ]
    },
    {
     "cell_type": "code",
     "collapsed": false,
     "input": [
      "print(z.shape)  # number of elements along each axis (=dimension)\n",
      "print(z.ndim)  # number of dimensions\n",
      "\n",
      "print(z[:, 0].ndim)  # return first column as 1d array"
     ],
     "language": "python",
     "metadata": {},
     "outputs": [
      {
       "output_type": "stream",
       "stream": "stdout",
       "text": [
        "(4, 3)\n",
        "2\n",
        "1\n"
       ]
      }
     ],
     "prompt_number": 14
    },
    {
     "cell_type": "markdown",
     "metadata": {},
     "source": [
      "In numpy, slicing will return a new array that is basically a view on the original array, thus, it doesn't require copying any memory. Indexing (in numpy often called *fancy indexing*), on the other hand, always copies the underlying memory."
     ]
    },
    {
     "cell_type": "markdown",
     "metadata": {},
     "source": [
      "#### Differences to R\n",
      "\n",
      "R differentiates between vectors and matrices whereas in numpy both are unified by the n-dimensional ``numpy.ndarray`` class.\n",
      "There are a number of crucial differences in how indexing and slicing are handled in Python vs. R.\n",
      "\n",
      "Note that the examples below require the Python package ``rpy2`` to be installed."
     ]
    },
    {
     "cell_type": "code",
     "collapsed": false,
     "input": [
      "# allows execution of R code in IPython\n",
      "try:\n",
      "    %load_ext rmagic\n",
      "except ImportError:\n",
      "    print(\"Please install rpy2 to run the R/Python comparision code examples\")"
     ],
     "language": "python",
     "metadata": {},
     "outputs": [
      {
       "output_type": "stream",
       "stream": "stdout",
       "text": [
        "The rmagic extension is already loaded. To reload it, use:\n",
        "  %reload_ext rmagic\n"
       ]
      }
     ],
     "prompt_number": 21
    },
    {
     "cell_type": "markdown",
     "metadata": {},
     "source": [
      "Python uses *0-based indexing* whereas indices in R start from 1:"
     ]
    },
    {
     "cell_type": "code",
     "collapsed": false,
     "input": [
      "x = np.arange(5)  # seq has excl semantics\n",
      "x[0]"
     ],
     "language": "python",
     "metadata": {},
     "outputs": [
      {
       "metadata": {},
       "output_type": "pyout",
       "prompt_number": 22,
       "text": [
        "0"
       ]
      }
     ],
     "prompt_number": 22
    },
    {
     "cell_type": "code",
     "collapsed": false,
     "input": [
      "%%R  # tells IPython that the following lines will be R code\n",
      "x <- seq(0, 4)  # seq has incl semantics\n",
      "print(x[1])"
     ],
     "language": "python",
     "metadata": {},
     "outputs": [
      {
       "metadata": {},
       "output_type": "display_data",
       "text": [
        "[1] 0\n"
       ]
      }
     ],
     "prompt_number": 122
    },
    {
     "cell_type": "markdown",
     "metadata": {},
     "source": [
      "Python uses exclusive semantics for slicing whereas R uses inclusive semantics:"
     ]
    },
    {
     "cell_type": "code",
     "collapsed": false,
     "input": [
      "x[0:2]  # doesnt include index 2"
     ],
     "language": "python",
     "metadata": {},
     "outputs": [
      {
       "metadata": {},
       "output_type": "pyout",
       "prompt_number": 23,
       "text": [
        "array([0, 1])"
       ]
      }
     ],
     "prompt_number": 23
    },
    {
     "cell_type": "code",
     "collapsed": false,
     "input": [
      "%%R\n",
      "x <- seq(0, 4)  # seq has incl semantics\n",
      "print(x[1:2])  # includes index 2"
     ],
     "language": "python",
     "metadata": {},
     "outputs": [
      {
       "metadata": {},
       "output_type": "display_data",
       "text": [
        "[1] 0 1\n"
       ]
      }
     ],
     "prompt_number": 123
    },
    {
     "cell_type": "markdown",
     "metadata": {},
     "source": [
      "Negative indices have different semantics: in Python they are used to index from the end on an array whereas in R they are used to drop positions:"
     ]
    },
    {
     "cell_type": "code",
     "collapsed": false,
     "input": [
      "x[-2]  # second element from the end"
     ],
     "language": "python",
     "metadata": {},
     "outputs": [
      {
       "metadata": {},
       "output_type": "pyout",
       "prompt_number": 24,
       "text": [
        "3"
       ]
      }
     ],
     "prompt_number": 24
    },
    {
     "cell_type": "code",
     "collapsed": false,
     "input": [
      "%%R\n",
      "x <- seq(0, 4)  # seq has incl semantics\n",
      "print(x[-2])  # drop 2nd position, ie 1"
     ],
     "language": "python",
     "metadata": {},
     "outputs": [
      {
       "metadata": {},
       "output_type": "display_data",
       "text": [
        "[1] 0 2 3 4\n"
       ]
      }
     ],
     "prompt_number": 124
    },
    {
     "cell_type": "markdown",
     "metadata": {},
     "source": [
      "If you index on a specific position of a matrix both R and Python will return a vector (ie. array with one less dimension). If you want to retain the dimensionality, R supports a ``drop=FALSE`` argument whereas in Python you have to use slicing instead:"
     ]
    },
    {
     "cell_type": "code",
     "collapsed": false,
     "input": [
      "X = np.arange(4).reshape((2, 2)).T  # 2d array\n",
      "X[0:1, :]  # still 2d array - slice selects one element"
     ],
     "language": "python",
     "metadata": {},
     "outputs": [
      {
       "metadata": {},
       "output_type": "pyout",
       "prompt_number": 25,
       "text": [
        "array([[0, 2]])"
       ]
      }
     ],
     "prompt_number": 25
    },
    {
     "cell_type": "code",
     "collapsed": false,
     "input": [
      "%%R\n",
      "X = matrix(seq(0, 3), 2, 2)\n",
      "print(X[1, , drop=FALSE])  # use drop=FALSE"
     ],
     "language": "python",
     "metadata": {},
     "outputs": [
      {
       "metadata": {},
       "output_type": "display_data",
       "text": [
        "     [,1] [,2]\n",
        "[1,]    0    2\n"
       ]
      }
     ],
     "prompt_number": 125
    },
    {
     "cell_type": "markdown",
     "metadata": {},
     "source": [
      "### Pandas\n",
      "\n",
      "As ``numpy``, ``pandas`` provides a key data structure: the ``pandas.DataFrame``; as can be inferred from the name it behaves very much like an R data frame. Pandas data frames address three deficiencies of arrays:\n",
      "\n",
      "  1. they hold *heterogenous data*; each column can have its own ``numpy.dtype``,\n",
      "  2. the axes of a DataFrame are *labeled* with column names and row indices, \n",
      "  3. and, they account for *missing values* which this is not directly supported by arrays.\n",
      "\n",
      "Data frames are extremely useful for data munging. They provide a large range of operations such as filter, join, and group-by aggregation. \n",
      "\n",
      "Below we briefly show some of the core functionality of pandas data frames using some sample data from the website of the book [\"Introduction to Statistical Learning\"](http://www-bcf.usc.edu/~gareth/ISL/):"
     ]
    },
    {
     "cell_type": "code",
     "collapsed": false,
     "input": [
      "import pandas as pd  # convention, alias ``pd``\n",
      "\n",
      "# Load car dataset\n",
      "auto = pd.read_csv(\"http://www-bcf.usc.edu/~gareth/ISL/Auto.csv\")\n",
      "auto.head()  # print the first lines"
     ],
     "language": "python",
     "metadata": {},
     "outputs": [
      {
       "html": [
        "<div style=\"max-height:1000px;max-width:1500px;overflow:auto;\">\n",
        "<table border=\"1\" class=\"dataframe\">\n",
        "  <thead>\n",
        "    <tr style=\"text-align: right;\">\n",
        "      <th></th>\n",
        "      <th>mpg</th>\n",
        "      <th>cylinders</th>\n",
        "      <th>displacement</th>\n",
        "      <th>horsepower</th>\n",
        "      <th>weight</th>\n",
        "      <th>acceleration</th>\n",
        "      <th>year</th>\n",
        "      <th>origin</th>\n",
        "      <th>name</th>\n",
        "    </tr>\n",
        "  </thead>\n",
        "  <tbody>\n",
        "    <tr>\n",
        "      <th>0</th>\n",
        "      <td> 18</td>\n",
        "      <td> 8</td>\n",
        "      <td> 307</td>\n",
        "      <td> 130</td>\n",
        "      <td> 3504</td>\n",
        "      <td> 12.0</td>\n",
        "      <td> 70</td>\n",
        "      <td> 1</td>\n",
        "      <td> chevrolet chevelle malibu</td>\n",
        "    </tr>\n",
        "    <tr>\n",
        "      <th>1</th>\n",
        "      <td> 15</td>\n",
        "      <td> 8</td>\n",
        "      <td> 350</td>\n",
        "      <td> 165</td>\n",
        "      <td> 3693</td>\n",
        "      <td> 11.5</td>\n",
        "      <td> 70</td>\n",
        "      <td> 1</td>\n",
        "      <td>         buick skylark 320</td>\n",
        "    </tr>\n",
        "    <tr>\n",
        "      <th>2</th>\n",
        "      <td> 18</td>\n",
        "      <td> 8</td>\n",
        "      <td> 318</td>\n",
        "      <td> 150</td>\n",
        "      <td> 3436</td>\n",
        "      <td> 11.0</td>\n",
        "      <td> 70</td>\n",
        "      <td> 1</td>\n",
        "      <td>        plymouth satellite</td>\n",
        "    </tr>\n",
        "    <tr>\n",
        "      <th>3</th>\n",
        "      <td> 16</td>\n",
        "      <td> 8</td>\n",
        "      <td> 304</td>\n",
        "      <td> 150</td>\n",
        "      <td> 3433</td>\n",
        "      <td> 12.0</td>\n",
        "      <td> 70</td>\n",
        "      <td> 1</td>\n",
        "      <td>             amc rebel sst</td>\n",
        "    </tr>\n",
        "    <tr>\n",
        "      <th>4</th>\n",
        "      <td> 17</td>\n",
        "      <td> 8</td>\n",
        "      <td> 302</td>\n",
        "      <td> 140</td>\n",
        "      <td> 3449</td>\n",
        "      <td> 10.5</td>\n",
        "      <td> 70</td>\n",
        "      <td> 1</td>\n",
        "      <td>               ford torino</td>\n",
        "    </tr>\n",
        "  </tbody>\n",
        "</table>\n",
        "</div>"
       ],
       "metadata": {},
       "output_type": "pyout",
       "prompt_number": 31,
       "text": [
        "   mpg  cylinders  displacement horsepower  weight  acceleration  year  \\\n",
        "0   18          8           307        130    3504          12.0    70   \n",
        "1   15          8           350        165    3693          11.5    70   \n",
        "2   18          8           318        150    3436          11.0    70   \n",
        "3   16          8           304        150    3433          12.0    70   \n",
        "4   17          8           302        140    3449          10.5    70   \n",
        "\n",
        "   origin                       name  \n",
        "0       1  chevrolet chevelle malibu  \n",
        "1       1          buick skylark 320  \n",
        "2       1         plymouth satellite  \n",
        "3       1              amc rebel sst  \n",
        "4       1                ford torino  "
       ]
      }
     ],
     "prompt_number": 31
    },
    {
     "cell_type": "markdown",
     "metadata": {},
     "source": [
      "One of the first things you should do when you work with a new dataset is to look at some summary statistics such as mean, min, max, the number of missing values and quantiles. For this, pandas provides the convenience method ``pd.DataFrame.describe``:"
     ]
    },
    {
     "cell_type": "code",
     "collapsed": false,
     "input": [
      "auto.describe()"
     ],
     "language": "python",
     "metadata": {},
     "outputs": [
      {
       "html": [
        "<div style=\"max-height:1000px;max-width:1500px;overflow:auto;\">\n",
        "<table border=\"1\" class=\"dataframe\">\n",
        "  <thead>\n",
        "    <tr style=\"text-align: right;\">\n",
        "      <th></th>\n",
        "      <th>mpg</th>\n",
        "      <th>cylinders</th>\n",
        "      <th>displacement</th>\n",
        "      <th>weight</th>\n",
        "      <th>acceleration</th>\n",
        "      <th>year</th>\n",
        "      <th>origin</th>\n",
        "    </tr>\n",
        "  </thead>\n",
        "  <tbody>\n",
        "    <tr>\n",
        "      <th>count</th>\n",
        "      <td> 397.000000</td>\n",
        "      <td> 397.000000</td>\n",
        "      <td> 397.000000</td>\n",
        "      <td>  397.000000</td>\n",
        "      <td> 397.000000</td>\n",
        "      <td> 397.000000</td>\n",
        "      <td> 397.000000</td>\n",
        "    </tr>\n",
        "    <tr>\n",
        "      <th>mean</th>\n",
        "      <td>  23.515869</td>\n",
        "      <td>   5.458438</td>\n",
        "      <td> 193.532746</td>\n",
        "      <td> 2970.261965</td>\n",
        "      <td>  15.555668</td>\n",
        "      <td>  75.994962</td>\n",
        "      <td>   1.574307</td>\n",
        "    </tr>\n",
        "    <tr>\n",
        "      <th>std</th>\n",
        "      <td>   7.825804</td>\n",
        "      <td>   1.701577</td>\n",
        "      <td> 104.379583</td>\n",
        "      <td>  847.904119</td>\n",
        "      <td>   2.749995</td>\n",
        "      <td>   3.690005</td>\n",
        "      <td>   0.802549</td>\n",
        "    </tr>\n",
        "    <tr>\n",
        "      <th>min</th>\n",
        "      <td>   9.000000</td>\n",
        "      <td>   3.000000</td>\n",
        "      <td>  68.000000</td>\n",
        "      <td> 1613.000000</td>\n",
        "      <td>   8.000000</td>\n",
        "      <td>  70.000000</td>\n",
        "      <td>   1.000000</td>\n",
        "    </tr>\n",
        "    <tr>\n",
        "      <th>25%</th>\n",
        "      <td>  17.500000</td>\n",
        "      <td>   4.000000</td>\n",
        "      <td> 104.000000</td>\n",
        "      <td> 2223.000000</td>\n",
        "      <td>  13.800000</td>\n",
        "      <td>  73.000000</td>\n",
        "      <td>   1.000000</td>\n",
        "    </tr>\n",
        "    <tr>\n",
        "      <th>50%</th>\n",
        "      <td>  23.000000</td>\n",
        "      <td>   4.000000</td>\n",
        "      <td> 146.000000</td>\n",
        "      <td> 2800.000000</td>\n",
        "      <td>  15.500000</td>\n",
        "      <td>  76.000000</td>\n",
        "      <td>   1.000000</td>\n",
        "    </tr>\n",
        "    <tr>\n",
        "      <th>75%</th>\n",
        "      <td>  29.000000</td>\n",
        "      <td>   8.000000</td>\n",
        "      <td> 262.000000</td>\n",
        "      <td> 3609.000000</td>\n",
        "      <td>  17.100000</td>\n",
        "      <td>  79.000000</td>\n",
        "      <td>   2.000000</td>\n",
        "    </tr>\n",
        "    <tr>\n",
        "      <th>max</th>\n",
        "      <td>  46.600000</td>\n",
        "      <td>   8.000000</td>\n",
        "      <td> 455.000000</td>\n",
        "      <td> 5140.000000</td>\n",
        "      <td>  24.800000</td>\n",
        "      <td>  82.000000</td>\n",
        "      <td>   3.000000</td>\n",
        "    </tr>\n",
        "  </tbody>\n",
        "</table>\n",
        "</div>"
       ],
       "metadata": {},
       "output_type": "pyout",
       "prompt_number": 32,
       "text": [
        "              mpg   cylinders  displacement       weight  acceleration  \\\n",
        "count  397.000000  397.000000    397.000000   397.000000    397.000000   \n",
        "mean    23.515869    5.458438    193.532746  2970.261965     15.555668   \n",
        "std      7.825804    1.701577    104.379583   847.904119      2.749995   \n",
        "min      9.000000    3.000000     68.000000  1613.000000      8.000000   \n",
        "25%     17.500000    4.000000    104.000000  2223.000000     13.800000   \n",
        "50%     23.000000    4.000000    146.000000  2800.000000     15.500000   \n",
        "75%     29.000000    8.000000    262.000000  3609.000000     17.100000   \n",
        "max     46.600000    8.000000    455.000000  5140.000000     24.800000   \n",
        "\n",
        "             year      origin  \n",
        "count  397.000000  397.000000  \n",
        "mean    75.994962    1.574307  \n",
        "std      3.690005    0.802549  \n",
        "min     70.000000    1.000000  \n",
        "25%     73.000000    1.000000  \n",
        "50%     76.000000    1.000000  \n",
        "75%     79.000000    2.000000  \n",
        "max     82.000000    3.000000  "
       ]
      }
     ],
     "prompt_number": 32
    },
    {
     "cell_type": "markdown",
     "metadata": {},
     "source": [
      "You can use the dot ``.`` or bracket ``[]`` notation to access columns of the dataset. To add new columns you have to use the bracket ``[]`` notation:"
     ]
    },
    {
     "cell_type": "markdown",
     "metadata": {},
     "source": [
      "Columns and rows of a data frame are labeled, to access/manipulate the labels either use ``pd.DataFrame.columns`` or ``pd.DataFrame.index``:"
     ]
    },
    {
     "cell_type": "code",
     "collapsed": false,
     "input": [
      "mpg = auto.mpg  # get mpg column\n",
      "weight = auto['weight']  # get weight column\n",
      "auto['mpg_per_weight'] = mpg / weight\n",
      "print(auto[['mpg', 'weight', 'mpg_per_weight']].head())"
     ],
     "language": "python",
     "metadata": {},
     "outputs": [
      {
       "output_type": "stream",
       "stream": "stdout",
       "text": [
        "   mpg  weight  mpg_per_weight\n",
        "0   18    3504        0.005137\n",
        "1   15    3693        0.004062\n",
        "2   18    3436        0.005239\n",
        "3   16    3433        0.004661\n",
        "4   17    3449        0.004929\n"
       ]
      }
     ],
     "prompt_number": 33
    },
    {
     "cell_type": "code",
     "collapsed": false,
     "input": [
      "print(auto.columns)\n",
      "print(auto.index[:10])"
     ],
     "language": "python",
     "metadata": {},
     "outputs": [
      {
       "output_type": "stream",
       "stream": "stdout",
       "text": [
        "Index(['mpg', 'cylinders', 'displacement', 'horsepower', 'weight', 'acceleration', 'year', 'origin', 'name', 'mpg_per_weight'], dtype='object')\n",
        "Int64Index([0, 1, 2, 3, 4, 5, 6, 7, 8, 9], dtype='int64')\n"
       ]
      }
     ],
     "prompt_number": 34
    },
    {
     "cell_type": "markdown",
     "metadata": {},
     "source": [
      "Indexing and slicing work similar as for numpy arrays just that you can also use column and row labels instead of positions:"
     ]
    },
    {
     "cell_type": "code",
     "collapsed": false,
     "input": [
      "auto.ix[0:5, ['weight', 'mpg']]  # select the first 5 rows and two columns weight and mpg"
     ],
     "language": "python",
     "metadata": {},
     "outputs": [
      {
       "html": [
        "<div style=\"max-height:1000px;max-width:1500px;overflow:auto;\">\n",
        "<table border=\"1\" class=\"dataframe\">\n",
        "  <thead>\n",
        "    <tr style=\"text-align: right;\">\n",
        "      <th></th>\n",
        "      <th>weight</th>\n",
        "      <th>mpg</th>\n",
        "    </tr>\n",
        "  </thead>\n",
        "  <tbody>\n",
        "    <tr>\n",
        "      <th>0</th>\n",
        "      <td> 3504</td>\n",
        "      <td> 18</td>\n",
        "    </tr>\n",
        "    <tr>\n",
        "      <th>1</th>\n",
        "      <td> 3693</td>\n",
        "      <td> 15</td>\n",
        "    </tr>\n",
        "    <tr>\n",
        "      <th>2</th>\n",
        "      <td> 3436</td>\n",
        "      <td> 18</td>\n",
        "    </tr>\n",
        "    <tr>\n",
        "      <th>3</th>\n",
        "      <td> 3433</td>\n",
        "      <td> 16</td>\n",
        "    </tr>\n",
        "    <tr>\n",
        "      <th>4</th>\n",
        "      <td> 3449</td>\n",
        "      <td> 17</td>\n",
        "    </tr>\n",
        "    <tr>\n",
        "      <th>5</th>\n",
        "      <td> 4341</td>\n",
        "      <td> 15</td>\n",
        "    </tr>\n",
        "  </tbody>\n",
        "</table>\n",
        "</div>"
       ],
       "metadata": {},
       "output_type": "pyout",
       "prompt_number": 35,
       "text": [
        "   weight  mpg\n",
        "0    3504   18\n",
        "1    3693   15\n",
        "2    3436   18\n",
        "3    3433   16\n",
        "4    3449   17\n",
        "5    4341   15"
       ]
      }
     ],
     "prompt_number": 35
    },
    {
     "cell_type": "markdown",
     "metadata": {},
     "source": [
      "For more information on ``pandas`` please consult the excellent [online documentation](http://pandas.pydata.org/pandas-docs/stable/index.html) or the references at the end of this post.\n"
     ]
    },
    {
     "cell_type": "markdown",
     "metadata": {},
     "source": [
      "#### Differences to R\n",
      "\n",
      "The major difference between the data frame in R and pandas from a user's point of view is that pandas uses an object-oriented interface (ie methods) whereas R uses a functional interface:"
     ]
    },
    {
     "cell_type": "code",
     "collapsed": false,
     "input": [
      "auto.head(2)"
     ],
     "language": "python",
     "metadata": {},
     "outputs": [
      {
       "html": [
        "<div style=\"max-height:1000px;max-width:1500px;overflow:auto;\">\n",
        "<table border=\"1\" class=\"dataframe\">\n",
        "  <thead>\n",
        "    <tr style=\"text-align: right;\">\n",
        "      <th></th>\n",
        "      <th>mpg</th>\n",
        "      <th>cylinders</th>\n",
        "      <th>displacement</th>\n",
        "      <th>horsepower</th>\n",
        "      <th>weight</th>\n",
        "      <th>acceleration</th>\n",
        "      <th>year</th>\n",
        "      <th>origin</th>\n",
        "      <th>name</th>\n",
        "      <th>mpg_per_weight</th>\n",
        "    </tr>\n",
        "  </thead>\n",
        "  <tbody>\n",
        "    <tr>\n",
        "      <th>0</th>\n",
        "      <td> 18</td>\n",
        "      <td> 8</td>\n",
        "      <td> 307</td>\n",
        "      <td> 130</td>\n",
        "      <td> 3504</td>\n",
        "      <td> 12.0</td>\n",
        "      <td> 70</td>\n",
        "      <td> 1</td>\n",
        "      <td> chevrolet chevelle malibu</td>\n",
        "      <td> 0.005137</td>\n",
        "    </tr>\n",
        "    <tr>\n",
        "      <th>1</th>\n",
        "      <td> 15</td>\n",
        "      <td> 8</td>\n",
        "      <td> 350</td>\n",
        "      <td> 165</td>\n",
        "      <td> 3693</td>\n",
        "      <td> 11.5</td>\n",
        "      <td> 70</td>\n",
        "      <td> 1</td>\n",
        "      <td>         buick skylark 320</td>\n",
        "      <td> 0.004062</td>\n",
        "    </tr>\n",
        "  </tbody>\n",
        "</table>\n",
        "</div>"
       ],
       "metadata": {},
       "output_type": "pyout",
       "prompt_number": 41,
       "text": [
        "   mpg  cylinders  displacement horsepower  weight  acceleration  year  \\\n",
        "0   18          8           307        130    3504          12.0    70   \n",
        "1   15          8           350        165    3693          11.5    70   \n",
        "\n",
        "   origin                       name  mpg_per_weight  \n",
        "0       1  chevrolet chevelle malibu        0.005137  \n",
        "1       1          buick skylark 320        0.004062  "
       ]
      }
     ],
     "prompt_number": 41
    },
    {
     "cell_type": "code",
     "collapsed": false,
     "input": [
      "# this command pushes the pandas.DataFrame auto to R-land\n",
      "%Rpush auto"
     ],
     "language": "python",
     "metadata": {},
     "outputs": [],
     "prompt_number": 42
    },
    {
     "cell_type": "code",
     "collapsed": false,
     "input": [
      "%%R\n",
      "\n",
      "auto = data.frame(auto)\n",
      "print(head(auto, 2))"
     ],
     "language": "python",
     "metadata": {},
     "outputs": [
      {
       "metadata": {},
       "output_type": "display_data",
       "text": [
        "  mpg cylinders displacement horsepower weight acceleration year origin\n",
        "0  18         8          307        130   3504         12.0   70      1\n",
        "1  15         8          350        165   3693         11.5   70      1\n",
        "                       name mpg_per_weight\n",
        "0 chevrolet chevelle malibu    0.005136986\n",
        "1         buick skylark 320    0.004061738\n"
       ]
      }
     ],
     "prompt_number": 43
    },
    {
     "cell_type": "markdown",
     "metadata": {},
     "source": [
      "Below is a table that shows some of methods that pandas DataFrame provides and the corresponding functions in R:\n"
     ]
    },
    {
     "cell_type": "markdown",
     "metadata": {},
     "source": [
      "<table>\n",
      "<tr>\n",
      "<th>Tables</th>\n",
      "<th>Pandas</th>\n",
      "<th>R</th>\n",
      "</tr>\n",
      "<tr>\n",
      "<td>first rows</td>\n",
      "<td><code>auto.head()</code></td>\n",
      "<td><code>head(auto)</code></td>\n",
      "</tr>\n",
      "<tr>\n",
      "<td>summary statistics</td>\n",
      "<td><code>auto.describe()</code></td>\n",
      "<td><code>summary(auto)</code></td>\n",
      "</tr>\n",
      "<tr>\n",
      "<td>column access</td>\n",
      "<td><code>auto['mpg']</code></td>\n",
      "<td><code>auto$mpg</code></td>\n",
      "</tr>\n",
      "<tr>\n",
      "<td>row access</td>\n",
      "<td><code>auto.iloc[0]</code></td>\n",
      "<td><code>auto[1,]</code></td>\n",
      "</tr>\n",
      "\n",
      "<tr>\n",
      "<td>column deletion</td>\n",
      "<td><code>del auto['mpg']</code></td>\n",
      "<td><code>auto$mpg = NULL</code></td>\n",
      "</tr>\n",
      "<tr>\n",
      "<td>column dtypes</td>\n",
      "<td><code>auto.dtypes</code></td>\n",
      "<td><code>str(auto)</code></td>\n",
      "</tr>\n",
      "\n",
      "\n",
      "<tr>\n",
      "<td>unique elements</td>\n",
      "<td><code>auto.year.unique()</code></td>\n",
      "<td><code>unique(auto$year)</code></td>\n",
      "</tr>\n",
      "\n",
      "<tr>\n",
      "<td>value counts</td>\n",
      "<td><code>auto.year.value_counts()</code></td>\n",
      "<td><code>table(auto$year)</code></td>\n",
      "</tr>\n",
      "\n",
      "</table>"
     ]
    },
    {
     "cell_type": "markdown",
     "metadata": {},
     "source": [
      "##Plotting using Matplotlib"
     ]
    },
    {
     "cell_type": "markdown",
     "metadata": {},
     "source": [
      "Like R there are several different options for creating statistical graphics in Python, including [Chaco](http://code.enthought.com/chaco/) and [Bokeh](http://bokeh.pydata.org/), but the most common plotting libary is [Matplotlib](http://matplotlib.org/). Here is a quick introduction on how to create graphics in Python similar to those created using the base R functions."
     ]
    },
    {
     "cell_type": "code",
     "collapsed": false,
     "input": [
      "%pylab inline\n",
      "\n",
      "import pandas as pd\n",
      "import matplotlib.pyplot as plt\n",
      "\n",
      "data = np.random.randn(500)  # array of 500 random numbers"
     ],
     "language": "python",
     "metadata": {},
     "outputs": [
      {
       "output_type": "stream",
       "stream": "stdout",
       "text": [
        "Populating the interactive namespace from numpy and matplotlib\n"
       ]
      }
     ],
     "prompt_number": 51
    },
    {
     "cell_type": "markdown",
     "metadata": {},
     "source": [
      "To make a histogram you can use the ``hist()`` command"
     ]
    },
    {
     "cell_type": "code",
     "collapsed": false,
     "input": [
      "plt.hist(data)\n",
      "plt.ylabel(\"Counts\")\n",
      "plt.title(\"The Gaussian Distribution\")"
     ],
     "language": "python",
     "metadata": {},
     "outputs": [
      {
       "metadata": {},
       "output_type": "pyout",
       "prompt_number": 52,
       "text": [
        "<matplotlib.text.Text at 0x110b44d30>"
       ]
      },
      {
       "metadata": {},
       "output_type": "display_data",
       "png": "[encoded data removed]",
       "text": [
        "<matplotlib.figure.Figure at 0x110b85048>"
       ]
      }
     ],
     "prompt_number": 52
    },
    {
     "cell_type": "markdown",
     "metadata": {},
     "source": [
      "Like R, you can specify various options to change the plotting behavior. For example, to make a histogram of frequency rather than of raw counts you pass the argument ``normed=True``"
     ]
    },
    {
     "cell_type": "markdown",
     "metadata": {},
     "source": [
      "You can also easily make a scatter plot\n"
     ]
    },
    {
     "cell_type": "code",
     "collapsed": false,
     "input": [
      "x = np.random.randn(50)\n",
      "y = np.random.randn(50)\n",
      "\n",
      "plt.plot(x, y, 'bo')  # b for blue, o for circles\n",
      "plt.xlabel(\"x\")\n",
      "plt.ylabel(\"y\")\n",
      "plt.title(\"A scatterplot\")"
     ],
     "language": "python",
     "metadata": {},
     "outputs": [
      {
       "metadata": {},
       "output_type": "pyout",
       "prompt_number": 53,
       "text": [
        "<matplotlib.text.Text at 0x1114fd128>"
       ]
      },
      {
       "metadata": {},
       "output_type": "display_data",
       "png": "[encoded data removed]",
       "text": [
        "<matplotlib.figure.Figure at 0x111409cc0>"
       ]
      }
     ],
     "prompt_number": 53
    },
    {
     "cell_type": "markdown",
     "metadata": {},
     "source": [
      "Matplotlib supports Matlab-style plotting commands, where you can quickly specify color (b for blue, r for red, k for black etc.) and a symbol for the plotting character (``'-'`` for solid lines, ``'--'`` for dashed lines, ``'*'`` for stars, ...)  "
     ]
    },
    {
     "cell_type": "code",
     "collapsed": false,
     "input": [
      "s = np.arange(11)\n",
      "plt.plot(s, s ** 2, 'r--')"
     ],
     "language": "python",
     "metadata": {},
     "outputs": [
      {
       "metadata": {},
       "output_type": "pyout",
       "prompt_number": 54,
       "text": [
        "[<matplotlib.lines.Line2D at 0x1115ee5f8>]"
       ]
      },
      {
       "metadata": {},
       "output_type": "display_data",
       "png": "[encoded data removed]",
       "text": [
        "<matplotlib.figure.Figure at 0x1114617b8>"
       ]
      }
     ],
     "prompt_number": 54
    },
    {
     "cell_type": "markdown",
     "metadata": {},
     "source": [
      "There is also a scatter command that also creates scatterplots"
     ]
    },
    {
     "cell_type": "code",
     "collapsed": false,
     "input": [
      "plt.scatter(x, y)"
     ],
     "language": "python",
     "metadata": {},
     "outputs": [
      {
       "metadata": {},
       "output_type": "pyout",
       "prompt_number": 55,
       "text": [
        "<matplotlib.collections.PathCollection at 0x1116a60b8>"
       ]
      },
      {
       "metadata": {},
       "output_type": "display_data",
       "png": "[encoded data removed]",
       "text": [
        "<matplotlib.figure.Figure at 0x110ac9438>"
       ]
      }
     ],
     "prompt_number": 55
    },
    {
     "cell_type": "markdown",
     "metadata": {},
     "source": [
      "Boxplots are very useful to compare two distributions"
     ]
    },
    {
     "cell_type": "code",
     "collapsed": false,
     "input": [
      "plt.boxplot([x, y])  # Pass a list of two arrays to plot them side-by-side\n",
      "plt.title(\"Two box plots, side-by-side\")"
     ],
     "language": "python",
     "metadata": {},
     "outputs": [
      {
       "metadata": {},
       "output_type": "pyout",
       "prompt_number": 56,
       "text": [
        "<matplotlib.text.Text at 0x1116eb080>"
       ]
      },
      {
       "metadata": {},
       "output_type": "display_data",
       "png": "[encoded data removed]",
       "text": [
        "<matplotlib.figure.Figure at 0x1116bd860>"
       ]
      }
     ],
     "prompt_number": 56
    },
    {
     "cell_type": "markdown",
     "metadata": {},
     "source": [
      "###Matplotlib and Pandas"
     ]
    },
    {
     "cell_type": "markdown",
     "metadata": {},
     "source": [
      "Pandas provides a convenience interface to matplotlib, you can create plots by using the ``pd.DataFrame.plot()`` method"
     ]
    },
    {
     "cell_type": "code",
     "collapsed": false,
     "input": [
      "# create a scatterplot of weight vs \"miles per galone\"\n",
      "auto.plot(x='weight', y='mpg', style='bo')\n",
      "plt.title(\"Scatterplot of weight and mpg\")\n",
      "\n",
      "# create a histogram of \"miles per galone\"\n",
      "plt.figure()\n",
      "auto.hist('mpg')\n",
      "plt.title(\"Histogram of mpg (miles per galone)\")"
     ],
     "language": "python",
     "metadata": {},
     "outputs": [
      {
       "metadata": {},
       "output_type": "pyout",
       "prompt_number": 62,
       "text": [
        "<matplotlib.text.Text at 0x111c302b0>"
       ]
      },
      {
       "metadata": {},
       "output_type": "display_data",
       "png": "[encoded data removed]",
       "text": [
        "<matplotlib.figure.Figure at 0x111a7a5c0>"
       ]
      },
      {
       "metadata": {},
       "output_type": "display_data",
       "text": [
        "<matplotlib.figure.Figure at 0x1119a5e48>"
       ]
      },
      {
       "metadata": {},
       "output_type": "display_data",
       "png": "[encoded data removed]",
       "text": [
        "<matplotlib.figure.Figure at 0x111a2eda0>"
       ]
      }
     ],
     "prompt_number": 61
    },
    {
     "cell_type": "markdown",
     "metadata": {},
     "source": [
      "Finally, pandas has built in support for creating scatterplot matrices and much [more](http://pandas.pydata.org/pandas-docs/stable/visualization.html#other-plotting-features). "
     ]
    },
    {
     "cell_type": "code",
     "collapsed": false,
     "input": [
      "from pandas.tools.plotting import scatter_matrix\n",
      "_ = scatter_matrix(auto[['mpg', 'cylinders', 'displacement']], figsize=(14, 10))"
     ],
     "language": "python",
     "metadata": {},
     "outputs": [
      {
       "metadata": {},
       "output_type": "display_data",
       "png": "[encoded data removed]",
       "text": [
        "<matplotlib.figure.Figure at 0x111daa710>"
       ]
      }
     ],
     "prompt_number": 62
    },
    {
     "cell_type": "markdown",
     "metadata": {},
     "source": [
      "Matplotlib has a rich set of features to manipulate and style statistical graphics. Over the next few weeks we will cover many of them to help you make charts that you find visually appealing, but for now this should be enough to get you up and running in Python. "
     ]
    },
    {
     "cell_type": "markdown",
     "metadata": {},
     "source": [
      "## Further Reading\n",
      "\n",
      "**[Python Scientific Lecture Notes](http://scipy-lectures.github.io/)**\n",
      "\n",
      "For a more in-depth discussion of the Python scientific computing ecosystem we strongly recommend the Python Scientific Lecture Notes. The lecture notes contain lots of code examples from applied science such as signal processing, image processing, and machine learning.\n",
      "\n",
      "**[Python for Data Analysis](http://www.kqzyfj.com/click-7040302-11260198?url=http%3A%2F%2Fshop.oreilly.com%2Fproduct%2F0636920023784.do&cjsku=0636920023784)**\n",
      "\n",
      "[Wes Mckinney](http://blog.wesmckinney.com/), the original author of pandas, wrote a great book on using Python for data analysis. It is not only the primary reference to pandas but also features a concise yet profound introduction to Python, numpy and matplotlib.\n",
      "\n",
      "![](http://akamaicovers.oreilly.com/images/0636920023784/cat.gif)"
     ]
    }
   ],
   "metadata": {}
  }
 ]
}
