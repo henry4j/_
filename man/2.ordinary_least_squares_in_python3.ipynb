{
 "metadata": {
  "name": "",
  "signature": "sha256:585fc87ca16a564b09d4ddf7699da0869bbd49de2db798431c873dd6ddf8590d"
 },
 "nbformat": 3,
 "nbformat_minor": 0,
 "worksheets": [
  {
   "cells": [
    {
     "cell_type": "markdown",
     "metadata": {},
     "source": [
      "Keywords: model parameters/coefficients; constant term, or intercept; log-likelihood."
     ]
    },
    {
     "cell_type": "markdown",
     "metadata": {},
     "source": [
      "# Ordinary Least Squares in Python\n",
      "\n",
      "Linear Regression, also called Ordinary Least-Squares (OLS) Regression, is probably the most commonly used technique in Statistical Learning. It is also the oldest, dating back to the eighteenth century and the work of [Carl Friedrich Gauss](http://en.wikipedia.org/Carl_Freidrich_Gauss) and [Adrien-Marie Legendre](http://en.wikipedia.org/Adrien-Marie_Legendre). It is also one of the easier and more intuitive techniques to understand, and it provides a good basis for learning more advanced concepts and techniques. This posting explains how to perform linear regression using the [statsmodels](http://statsmodels.sourceforge.net/) Python package, we will discuss the single variable case and defer multiple regression to a future post.\n",
      "\n",
      "<em>This is part of a series of blog posts to show how to do common statistical learning techniques in Python. We provide only a small amount of background on the concepts and techniques we cover, so if you'd like a more thorough explanation check out [Introduction to Statistical Learning](http://www-bcf.usc.edu/~gareth/ISL/) or sign up for the [free online course](http://online.stanford.edu/course/statistical-learning-winter-2014) by the authors here. If you are just here to learn how to do it in Python [skip](#skip-to-python) directly to the examples below.</em>"
     ]
    },
    {
     "cell_type": "markdown",
     "metadata": {},
     "source": [
      "## Statsmodels\n",
      "\n",
      "Statsmodel is a Python library designed for more statistically-oriented approaches to data analysis, with an emphasis on econometric analyses. It integrates well with the [pandas](http://pandas.pydata.org) and [numpy](http://numpy.org) libraries we covered in a previous post. It also has built in support for many of the statistical tests to check the quality of the fit and a dedicated set of plotting functions to visualize and diagnose the fit. [Scikit-learn](http://scikit-learn.org/stable/) also has support for linear regression, including many forms of regularized regression lacking in statsmodels, but it lacks the rich set of statistical tests and diagnostics that have been developed for linear models."
     ]
    },
    {
     "cell_type": "markdown",
     "metadata": {},
     "source": [
      "## Linear Regression and Ordinary Least Squares"
     ]
    },
    {
     "cell_type": "markdown",
     "metadata": {},
     "source": [
      "Linear regression one of the simplest and most commonly used modeling techniques. It makes very strong assumptions about the relationship between the predictor variables (the X) and the response (the Y). It assumes that this relationship takes the form:\n",
      "\n",
      "$y = \\beta_0 + \\beta_1 * x$\n",
      "\n",
      "Ordinary Least Squares is the simplest and most common estimator in which the two $\\beta$s are chosen to minimize the square of the distance between the predicted values and the actual values. Even though this model is quite rigid and often does not reflect the true relationship, this still remains a popular approach for several reasons. For one, it is computationally cheap to calculate the coefficients. It is also easier to interpret than more sophisticated models, and in situations where the goal is understanding a simple model in detail, rather than estimating the response well, they can provide insight into what the model captures. Finally, in situations where there is a lot of noise, it may be hard to find the true functional form, so a constrained model can perform quite well compared to a complex model which is more affected by noise.\n",
      "\n",
      "The resulting model is represented as follows:\n",
      "\n",
      "$\\hat{y} = \\hat{\\beta}_0 + \\hat{\\beta}_1 * x$\n",
      "\n",
      "Here the hats on the variables represent the fact that they are estimated from the data we have available. The $\\beta$s are termed the parameters of the model or the coefficients. $\\beta_0$ is called the constant term or the intercept."
     ]
    },
    {
     "cell_type": "markdown",
     "metadata": {},
     "source": [
      "<div id=\"skip-to-python\"></div>\n",
      "##Ordinary Least Squares Using Statsmodels\n",
      "\n",
      "The statsmodels package provides several different classes that provide different options for linear regression. Getting started with linear regression is quite straightforward with the OLS module. \n",
      "\n",
      "To start with we load the [Longley dataset](http://stat.ethz.ch/R-manual/R-patched/library/datasets/html/longley.html) of US macroeconomic data from the [Rdatasets](http://vincentarelbundock.github.io/Rdatasets/) website."
     ]
    },
    {
     "cell_type": "code",
     "collapsed": false,
     "input": [
      "import numpy as np\n",
      "import pandas as pd\n",
      "\n",
      "# loads the longley dataset into a data frame - first column (year) used as row labels\n",
      "df = pd.read_csv('http://vincentarelbundock.github.io/Rdatasets/csv/datasets/longley.csv', index_col=0)\n",
      "df.head()"
     ],
     "language": "python",
     "metadata": {},
     "outputs": [
      {
       "html": [
        "<div style=\"max-height:1000px;max-width:1500px;overflow:auto;\">\n",
        "<table border=\"1\" class=\"dataframe\">\n",
        "  <thead>\n",
        "    <tr style=\"text-align: right;\">\n",
        "      <th></th>\n",
        "      <th>GNP.deflator</th>\n",
        "      <th>GNP</th>\n",
        "      <th>Unemployed</th>\n",
        "      <th>Armed.Forces</th>\n",
        "      <th>Population</th>\n",
        "      <th>Year</th>\n",
        "      <th>Employed</th>\n",
        "    </tr>\n",
        "  </thead>\n",
        "  <tbody>\n",
        "    <tr>\n",
        "      <th>1947</th>\n",
        "      <td> 83.0</td>\n",
        "      <td> 234.289</td>\n",
        "      <td> 235.6</td>\n",
        "      <td> 159.0</td>\n",
        "      <td> 107.608</td>\n",
        "      <td> 1947</td>\n",
        "      <td> 60.323</td>\n",
        "    </tr>\n",
        "    <tr>\n",
        "      <th>1948</th>\n",
        "      <td> 88.5</td>\n",
        "      <td> 259.426</td>\n",
        "      <td> 232.5</td>\n",
        "      <td> 145.6</td>\n",
        "      <td> 108.632</td>\n",
        "      <td> 1948</td>\n",
        "      <td> 61.122</td>\n",
        "    </tr>\n",
        "    <tr>\n",
        "      <th>1949</th>\n",
        "      <td> 88.2</td>\n",
        "      <td> 258.054</td>\n",
        "      <td> 368.2</td>\n",
        "      <td> 161.6</td>\n",
        "      <td> 109.773</td>\n",
        "      <td> 1949</td>\n",
        "      <td> 60.171</td>\n",
        "    </tr>\n",
        "    <tr>\n",
        "      <th>1950</th>\n",
        "      <td> 89.5</td>\n",
        "      <td> 284.599</td>\n",
        "      <td> 335.1</td>\n",
        "      <td> 165.0</td>\n",
        "      <td> 110.929</td>\n",
        "      <td> 1950</td>\n",
        "      <td> 61.187</td>\n",
        "    </tr>\n",
        "    <tr>\n",
        "      <th>1951</th>\n",
        "      <td> 96.2</td>\n",
        "      <td> 328.975</td>\n",
        "      <td> 209.9</td>\n",
        "      <td> 309.9</td>\n",
        "      <td> 112.075</td>\n",
        "      <td> 1951</td>\n",
        "      <td> 63.221</td>\n",
        "    </tr>\n",
        "  </tbody>\n",
        "</table>\n",
        "</div>"
       ],
       "metadata": {},
       "output_type": "pyout",
       "prompt_number": 11,
       "text": [
        "      GNP.deflator      GNP  Unemployed  Armed.Forces  Population  Year  \\\n",
        "1947          83.0  234.289       235.6         159.0     107.608  1947   \n",
        "1948          88.5  259.426       232.5         145.6     108.632  1948   \n",
        "1949          88.2  258.054       368.2         161.6     109.773  1949   \n",
        "1950          89.5  284.599       335.1         165.0     110.929  1950   \n",
        "1951          96.2  328.975       209.9         309.9     112.075  1951   \n",
        "\n",
        "      Employed  \n",
        "1947    60.323  \n",
        "1948    61.122  \n",
        "1949    60.171  \n",
        "1950    61.187  \n",
        "1951    63.221  "
       ]
      }
     ],
     "prompt_number": 11
    },
    {
     "cell_type": "markdown",
     "metadata": {},
     "source": [
      "We will use the variable Total Derived Employment (``'Employed'``) as our response ``y`` and Gross National Product (``'GNP'``) as our predictor ``X``. "
     ]
    },
    {
     "cell_type": "markdown",
     "metadata": {},
     "source": [
      "We take the single response variable and store it separately. We also add a constant term so that we fit the intercept of our linear model."
     ]
    },
    {
     "cell_type": "code",
     "collapsed": false,
     "input": [
      "import statsmodels.api as sm\n",
      "\n",
      "y, X = df.Employed, df.GNP  # response (Series), predictor (Series)\n",
      "X = sm.add_constant(X)  # adds a constant term to the predictor (DataFrame)\n",
      "X.head()"
     ],
     "language": "python",
     "metadata": {},
     "outputs": [
      {
       "html": [
        "<div style=\"max-height:1000px;max-width:1500px;overflow:auto;\">\n",
        "<table border=\"1\" class=\"dataframe\">\n",
        "  <thead>\n",
        "    <tr style=\"text-align: right;\">\n",
        "      <th></th>\n",
        "      <th>const</th>\n",
        "      <th>GNP</th>\n",
        "    </tr>\n",
        "  </thead>\n",
        "  <tbody>\n",
        "    <tr>\n",
        "      <th>1947</th>\n",
        "      <td> 1</td>\n",
        "      <td> 234.289</td>\n",
        "    </tr>\n",
        "    <tr>\n",
        "      <th>1948</th>\n",
        "      <td> 1</td>\n",
        "      <td> 259.426</td>\n",
        "    </tr>\n",
        "    <tr>\n",
        "      <th>1949</th>\n",
        "      <td> 1</td>\n",
        "      <td> 258.054</td>\n",
        "    </tr>\n",
        "    <tr>\n",
        "      <th>1950</th>\n",
        "      <td> 1</td>\n",
        "      <td> 284.599</td>\n",
        "    </tr>\n",
        "    <tr>\n",
        "      <th>1951</th>\n",
        "      <td> 1</td>\n",
        "      <td> 328.975</td>\n",
        "    </tr>\n",
        "  </tbody>\n",
        "</table>\n",
        "</div>"
       ],
       "metadata": {},
       "output_type": "pyout",
       "prompt_number": 12,
       "text": [
        "      const      GNP\n",
        "1947      1  234.289\n",
        "1948      1  259.426\n",
        "1949      1  258.054\n",
        "1950      1  284.599\n",
        "1951      1  328.975"
       ]
      }
     ],
     "prompt_number": 12
    },
    {
     "cell_type": "markdown",
     "metadata": {},
     "source": [
      "Now we perform the regression of the predictor on the response, using the ``sm.OLS`` class and and its initialization ``OLS(y, X)`` method. This method takes as an input two array-like objects: ``X`` and ``y``. In general, ``X`` will either be a numpy array or a pandas data frame with shape ``(n, p)`` where ``n`` is the number of data points and ``p`` is the number of predictors. ``y`` is either a one-dimensional numpy array or a pandas series of length ``n``."
     ]
    },
    {
     "cell_type": "markdown",
     "metadata": {},
     "source": [
      "We then need to fit the model by calling the OLS object's ``fit()`` method. Ignore the warning about the kurtosis test if it appears, we have only 16 examples in our dataset and the test of the kurtosis is valid only if there are more than 20 examples."
     ]
    },
    {
     "cell_type": "code",
     "collapsed": false,
     "input": [
      "ols = sm.OLS(y, X)  # type(ols): statsmodels.regression.linear_model.OLS.\n",
      "est = ols.fit()  # type(est): regression results.\n",
      "est.summary()  # type(summary): Summary."
     ],
     "language": "python",
     "metadata": {},
     "outputs": [
      {
       "html": [
        "<table class=\"simpletable\">\n",
        "<caption>OLS Regression Results</caption>\n",
        "<tr>\n",
        "  <th>Dep. Variable:</th>        <td>Employed</td>     <th>  R-squared:         </th> <td>   0.967</td>\n",
        "</tr>\n",
        "<tr>\n",
        "  <th>Model:</th>                   <td>OLS</td>       <th>  Adj. R-squared:    </th> <td>   0.965</td>\n",
        "</tr>\n",
        "<tr>\n",
        "  <th>Method:</th>             <td>Least Squares</td>  <th>  F-statistic:       </th> <td>   415.1</td>\n",
        "</tr>\n",
        "<tr>\n",
        "  <th>Date:</th>             <td>Sun, 06 Jul 2014</td> <th>  Prob (F-statistic):</th> <td>8.36e-12</td>\n",
        "</tr>\n",
        "<tr>\n",
        "  <th>Time:</th>                 <td>14:16:00</td>     <th>  Log-Likelihood:    </th> <td> -14.904</td>\n",
        "</tr>\n",
        "<tr>\n",
        "  <th>No. Observations:</th>      <td>    16</td>      <th>  AIC:               </th> <td>   33.81</td>\n",
        "</tr>\n",
        "<tr>\n",
        "  <th>Df Residuals:</th>          <td>    14</td>      <th>  BIC:               </th> <td>   35.35</td>\n",
        "</tr>\n",
        "<tr>\n",
        "  <th>Df Model:</th>              <td>     1</td>      <th>                     </th>     <td> </td>   \n",
        "</tr>\n",
        "<tr>\n",
        "  <th>Covariance Type:</th>      <td>nonrobust</td>    <th>                     </th>     <td> </td>   \n",
        "</tr>\n",
        "</table>\n",
        "<table class=\"simpletable\">\n",
        "<tr>\n",
        "    <td></td>       <th>coef</th>     <th>std err</th>      <th>t</th>      <th>P>|t|</th> <th>[95.0% Conf. Int.]</th> \n",
        "</tr>\n",
        "<tr>\n",
        "  <th>const</th> <td>   51.8436</td> <td>    0.681</td> <td>   76.087</td> <td> 0.000</td> <td>   50.382    53.305</td>\n",
        "</tr>\n",
        "<tr>\n",
        "  <th>GNP</th>   <td>    0.0348</td> <td>    0.002</td> <td>   20.374</td> <td> 0.000</td> <td>    0.031     0.038</td>\n",
        "</tr>\n",
        "</table>\n",
        "<table class=\"simpletable\">\n",
        "<tr>\n",
        "  <th>Omnibus:</th>       <td> 1.925</td> <th>  Durbin-Watson:     </th> <td>   1.619</td>\n",
        "</tr>\n",
        "<tr>\n",
        "  <th>Prob(Omnibus):</th> <td> 0.382</td> <th>  Jarque-Bera (JB):  </th> <td>   1.215</td>\n",
        "</tr>\n",
        "<tr>\n",
        "  <th>Skew:</th>          <td> 0.664</td> <th>  Prob(JB):          </th> <td>   0.545</td>\n",
        "</tr>\n",
        "<tr>\n",
        "  <th>Kurtosis:</th>      <td> 2.759</td> <th>  Cond. No.          </th> <td>1.66e+03</td>\n",
        "</tr>\n",
        "</table>"
       ],
       "metadata": {},
       "output_type": "pyout",
       "prompt_number": 21,
       "text": [
        "<class 'statsmodels.iolib.summary.Summary'>\n",
        "\"\"\"\n",
        "                            OLS Regression Results                            \n",
        "==============================================================================\n",
        "Dep. Variable:               Employed   R-squared:                       0.967\n",
        "Model:                            OLS   Adj. R-squared:                  0.965\n",
        "Method:                 Least Squares   F-statistic:                     415.1\n",
        "Date:                Sun, 06 Jul 2014   Prob (F-statistic):           8.36e-12\n",
        "Time:                        14:16:00   Log-Likelihood:                -14.904\n",
        "No. Observations:                  16   AIC:                             33.81\n",
        "Df Residuals:                      14   BIC:                             35.35\n",
        "Df Model:                           1                                         \n",
        "Covariance Type:            nonrobust                                         \n",
        "==============================================================================\n",
        "                 coef    std err          t      P>|t|      [95.0% Conf. Int.]\n",
        "------------------------------------------------------------------------------\n",
        "const         51.8436      0.681     76.087      0.000        50.382    53.305\n",
        "GNP            0.0348      0.002     20.374      0.000         0.031     0.038\n",
        "==============================================================================\n",
        "Omnibus:                        1.925   Durbin-Watson:                   1.619\n",
        "Prob(Omnibus):                  0.382   Jarque-Bera (JB):                1.215\n",
        "Skew:                           0.664   Prob(JB):                        0.545\n",
        "Kurtosis:                       2.759   Cond. No.                     1.66e+03\n",
        "==============================================================================\n",
        "\n",
        "Warnings:\n",
        "[1] Standard Errors assume that the covariance matrix of the errors is correctly specified.\n",
        "[2] The condition number is large, 1.66e+03. This might indicate that there are\n",
        "strong multicollinearity or other numerical problems.\n",
        "\"\"\""
       ]
      }
     ],
     "prompt_number": 21
    },
    {
     "cell_type": "markdown",
     "metadata": {},
     "source": [
      "After visualizing the relationship we will explain the summary. First, we need the coefficients of the fit."
     ]
    },
    {
     "cell_type": "code",
     "collapsed": false,
     "input": [
      "est.params"
     ],
     "language": "python",
     "metadata": {},
     "outputs": [
      {
       "metadata": {},
       "output_type": "pyout",
       "prompt_number": 22,
       "text": [
        "const    51.843590\n",
        "GNP       0.034752\n",
        "dtype: float64"
       ]
      }
     ],
     "prompt_number": 22
    },
    {
     "cell_type": "code",
     "collapsed": false,
     "input": [
      "# We pick 100 hundred points equally spaced from the min to the max\n",
      "X_prime = np.linspace(X.GNP.min(), X.GNP.max(), 100)[:, np.newaxis]  # ndarray of (100, 1)\n",
      "X_prime = sm.add_constant(X_prime)  # adds a constant term; ndarray of (100, 2)\n",
      "y_hat = est.predict(X_prime)  # the predicted values; ndarray of (100,)\n",
      "\n",
      "plt.scatter(X.GNP, y, alpha=0.3)  # plots the raw data\n",
      "plt.xlabel(\"Gross National Product\")\n",
      "plt.ylabel(\"Total Employment\")\n",
      "plt.plot(X_prime[:, 1], y_hat, 'r', alpha=0.9)  # adds the regression line, colored in red"
     ],
     "language": "python",
     "metadata": {},
     "outputs": [
      {
       "output_type": "stream",
       "stream": "stdout",
       "text": [
        "Populating the interactive namespace from numpy and matplotlib\n"
       ]
      },
      {
       "metadata": {},
       "output_type": "pyout",
       "prompt_number": 23,
       "text": [
        "[<matplotlib.lines.Line2D at 0x104155898>]"
       ]
      },
      {
       "metadata": {},
       "output_type": "display_data",
       "png": "[encoded data removed]",
       "text": [
        "<matplotlib.figure.Figure at 0x10928a390>"
       ]
      }
     ],
     "prompt_number": 23
    },
    {
     "cell_type": "markdown",
     "metadata": {},
     "source": [
      "Statsmodels also provides a formulaic interface that will be familiar to users of R. Note that this requires the use of a different api to statsmodels, and the class is now called ``ols`` rather than ``OLS``. The argument ``formula`` allows you to specify the response and the predictors using the column names of the input data frame ``data``. "
     ]
    },
    {
     "cell_type": "code",
     "collapsed": false,
     "input": [
      "import statsmodels.formula.api as smf\n",
      "\n",
      "ols = smf.ols(formula='Employed ~ GNP', data=df)\n",
      "est = ols.fit()  # formula: response ~ predictors\n",
      "est.summary()"
     ],
     "language": "python",
     "metadata": {},
     "outputs": [
      {
       "html": [
        "<table class=\"simpletable\">\n",
        "<caption>OLS Regression Results</caption>\n",
        "<tr>\n",
        "  <th>Dep. Variable:</th>        <td>Employed</td>     <th>  R-squared:         </th> <td>   0.967</td>\n",
        "</tr>\n",
        "<tr>\n",
        "  <th>Model:</th>                   <td>OLS</td>       <th>  Adj. R-squared:    </th> <td>   0.965</td>\n",
        "</tr>\n",
        "<tr>\n",
        "  <th>Method:</th>             <td>Least Squares</td>  <th>  F-statistic:       </th> <td>   415.1</td>\n",
        "</tr>\n",
        "<tr>\n",
        "  <th>Date:</th>             <td>Sun, 06 Jul 2014</td> <th>  Prob (F-statistic):</th> <td>8.36e-12</td>\n",
        "</tr>\n",
        "<tr>\n",
        "  <th>Time:</th>                 <td>15:52:40</td>     <th>  Log-Likelihood:    </th> <td> -14.904</td>\n",
        "</tr>\n",
        "<tr>\n",
        "  <th>No. Observations:</th>      <td>    16</td>      <th>  AIC:               </th> <td>   33.81</td>\n",
        "</tr>\n",
        "<tr>\n",
        "  <th>Df Residuals:</th>          <td>    14</td>      <th>  BIC:               </th> <td>   35.35</td>\n",
        "</tr>\n",
        "<tr>\n",
        "  <th>Df Model:</th>              <td>     1</td>      <th>                     </th>     <td> </td>   \n",
        "</tr>\n",
        "<tr>\n",
        "  <th>Covariance Type:</th>      <td>nonrobust</td>    <th>                     </th>     <td> </td>   \n",
        "</tr>\n",
        "</table>\n",
        "<table class=\"simpletable\">\n",
        "<tr>\n",
        "      <td></td>         <th>coef</th>     <th>std err</th>      <th>t</th>      <th>P>|t|</th> <th>[95.0% Conf. Int.]</th> \n",
        "</tr>\n",
        "<tr>\n",
        "  <th>Intercept</th> <td>   51.8436</td> <td>    0.681</td> <td>   76.087</td> <td> 0.000</td> <td>   50.382    53.305</td>\n",
        "</tr>\n",
        "<tr>\n",
        "  <th>GNP</th>       <td>    0.0348</td> <td>    0.002</td> <td>   20.374</td> <td> 0.000</td> <td>    0.031     0.038</td>\n",
        "</tr>\n",
        "</table>\n",
        "<table class=\"simpletable\">\n",
        "<tr>\n",
        "  <th>Omnibus:</th>       <td> 1.925</td> <th>  Durbin-Watson:     </th> <td>   1.619</td>\n",
        "</tr>\n",
        "<tr>\n",
        "  <th>Prob(Omnibus):</th> <td> 0.382</td> <th>  Jarque-Bera (JB):  </th> <td>   1.215</td>\n",
        "</tr>\n",
        "<tr>\n",
        "  <th>Skew:</th>          <td> 0.664</td> <th>  Prob(JB):          </th> <td>   0.545</td>\n",
        "</tr>\n",
        "<tr>\n",
        "  <th>Kurtosis:</th>      <td> 2.759</td> <th>  Cond. No.          </th> <td>1.66e+03</td>\n",
        "</tr>\n",
        "</table>"
       ],
       "metadata": {},
       "output_type": "pyout",
       "prompt_number": 31,
       "text": [
        "<class 'statsmodels.iolib.summary.Summary'>\n",
        "\"\"\"\n",
        "                            OLS Regression Results                            \n",
        "==============================================================================\n",
        "Dep. Variable:               Employed   R-squared:                       0.967\n",
        "Model:                            OLS   Adj. R-squared:                  0.965\n",
        "Method:                 Least Squares   F-statistic:                     415.1\n",
        "Date:                Sun, 06 Jul 2014   Prob (F-statistic):           8.36e-12\n",
        "Time:                        15:52:40   Log-Likelihood:                -14.904\n",
        "No. Observations:                  16   AIC:                             33.81\n",
        "Df Residuals:                      14   BIC:                             35.35\n",
        "Df Model:                           1                                         \n",
        "Covariance Type:            nonrobust                                         \n",
        "==============================================================================\n",
        "                 coef    std err          t      P>|t|      [95.0% Conf. Int.]\n",
        "------------------------------------------------------------------------------\n",
        "Intercept     51.8436      0.681     76.087      0.000        50.382    53.305\n",
        "GNP            0.0348      0.002     20.374      0.000         0.031     0.038\n",
        "==============================================================================\n",
        "Omnibus:                        1.925   Durbin-Watson:                   1.619\n",
        "Prob(Omnibus):                  0.382   Jarque-Bera (JB):                1.215\n",
        "Skew:                           0.664   Prob(JB):                        0.545\n",
        "Kurtosis:                       2.759   Cond. No.                     1.66e+03\n",
        "==============================================================================\n",
        "\n",
        "Warnings:\n",
        "[1] Standard Errors assume that the covariance matrix of the errors is correctly specified.\n",
        "[2] The condition number is large, 1.66e+03. This might indicate that there are\n",
        "strong multicollinearity or other numerical problems.\n",
        "\"\"\""
       ]
      }
     ],
     "prompt_number": 31
    },
    {
     "cell_type": "markdown",
     "metadata": {},
     "source": [
      "This summary provides quite a lot of information about the fit. The pats of the table we think are the most important are bolded in the description below.\n",
      "\n",
      "The left part of the first table provides basic information about the model fit:\n",
      "\n",
      "<table>\n",
      "<thead>\n",
      "<tr>\n",
      "<th>Element</th>\n",
      "<th>Description</th>\n",
      "</tr>\n",
      "</thead>\n",
      "<tbody>\n",
      "<tr>\n",
      "<td>Dep. Variable</td>\n",
      "<td>Which variable is the response in the model</td>\n",
      "</tr>\n",
      "<tr>\n",
      "<td>Model</td>\n",
      "<td>What model you are using in the fit</td>\n",
      "</tr>\n",
      "<tr>\n",
      "<td>Method</td>\n",
      "<td>How the parameters of the model were calculated</td>\n",
      "</tr>\n",
      "<tr>\n",
      "<td>No. Observations</td>\n",
      "<td>The number of observations (examples)</td>\n",
      "</tr>\n",
      "<tr>\n",
      "<td>DF Residuals</td>\n",
      "<td>Degrees of freedom of the residuals. Number of observations - number of parameters</td>\n",
      "</tr>\n",
      "<tr>\n",
      "<td>DF Model</td>\n",
      "<td>Number of parameters in the model (not including the constant term if present)</td>\n",
      "</tr>\n",
      "</tbody>\n",
      "</table>\n",
      "\n",
      "The right part of the first table shows the goodness of fit\n",
      "\n",
      "<table>\n",
      "<thead>\n",
      "<tr>\n",
      "<th>Element</th>\n",
      "<th>Description</th>\n",
      "</tr>\n",
      "</thead>\n",
      "<tbody>\n",
      "<tr>\n",
      "<td>**R-squared**</td>\n",
      "<td>The [coefficient of determination](http://en.wikipedia.org/wiki/Coefficient_of_determination). A statistical measure of how well the regression line approximates the real data points</td>\n",
      "</tr>\n",
      "<tr>\n",
      "<td>**Adj. R-squared**</td>\n",
      "<td>The above value adjusted based on the number of observations and the degrees-of-freedom of the residuals</td>\n",
      "</tr>\n",
      "<tr>\n",
      "<td>F-statistic</td>\n",
      "<td>A measure how significant the fit is. The mean squared error of the model divided by the mean squared error of the residuals</td>\n",
      "</tr>\n",
      "<tr>\n",
      "<td>Prob (F-statistic)</td>\n",
      "<td>The probability that you would get the above statistic, given the null hypothesis that they are unrelated</td>\n",
      "</tr>\n",
      "<tr>\n",
      "<td>Log-likelihood</td>\n",
      "<td>The log of the likelihood function.</td>\n",
      "</tr>\n",
      "<tr>\n",
      "<td>AIC</td>\n",
      "<td>The [Akaike Information Criterion](http://en.wikipedia.org/wiki/Akaike_information_criterion). Adjusts the log-likelihood based on the number of observations and the complexity of the model.</td>\n",
      "</tr>\n",
      "<tr>\n",
      "<td>BIC</td>\n",
      "<td>The [Bayesian Information Criterion](http://en.wikipedia.org/wiki/Bayesian_information_criterion). Similar to the AIC, but has a higher penalty for models with more parameters.</td>\n",
      "</tr>\n",
      "</tbody>\n",
      "</table>\n",
      "\n",
      "The second table reports for each of the coefficients\n",
      "\n",
      "<table>\n",
      "<thead>\n",
      "<tr>\n",
      "<th></th>\n",
      "<th>Description</th>\n",
      "</tr>\n",
      "</thead>\n",
      "<tbody>\n",
      "<tr>\n",
      "<td></td>\n",
      "<td>The name of the term in the model</td>\n",
      "</tr>\n",
      "<tr>\n",
      "<td>coef</td>\n",
      "<td>The estimated value of the coefficient</td>\n",
      "</tr>\n",
      "<tr>\n",
      "<td>std err</td>\n",
      "<td>The basic standard error of the estimate of the coefficient. More sophisticated errors are also available.</td>\n",
      "</tr>\n",
      "<tr>\n",
      "<td>t</td>\n",
      "<td>The t-statistic value. This is a measure of how statistically significant the coefficient is.</td>\n",
      "</tr>\n",
      "<tr>\n",
      "<td><strong>P &gt; |t|</strong></td>\n",
      "<td>P-value that the null-hypothesis that the coefficient = 0 is true. If it is less than the confidence level, often 0.05, it indicates that there is a statistically significant relationship between the term and the response.</td>\n",
      "</tr>\n",
      "<tr>\n",
      "<td>**[95.0% Conf. Interval]**</td>\n",
      "<td>The lower and upper values of the 95% confidence interval</td>\n",
      "</tr>\n",
      "</tbody>\n",
      "</table>\n",
      "\n",
      "Finally, there are several statistical tests to assess the distribution of the residuals \n",
      "\n",
      "<table>\n",
      "<thead>\n",
      "<tr>\n",
      "<th>Element</th>\n",
      "<th>Description</th>\n",
      "</tr>\n",
      "</thead>\n",
      "<tbody>\n",
      "<tr>\n",
      "<td>Skewness</td>\n",
      "<td>A measure of the symmetry of the data about the mean. Normally-distributed errors should be symmetrically distributed about the mean (equal amounts above and below the line).</td>\n",
      "</tr>\n",
      "<tr>\n",
      "<td>Kurtosis</td>\n",
      "<td>A measure of the shape of the distribution. Compares the amount of data close to the mean with those far away from the mean (in the tails).</td>\n",
      "</tr>\n",
      "<tr>\n",
      "<td>Omnibus</td>\n",
      "<td>D'Angostino's test. It provides a combined statistical test for the presence of skewness and kurtosis.</td>\n",
      "</tr>\n",
      "<tr>\n",
      "<td>Prob(Omnibus)</td>\n",
      "<td>The above statistic turned into a probability</td>\n",
      "</tr>\n",
      "<tr>\n",
      "<td>Jarque-Bera</td>\n",
      "<td>A different test of the skewness and kurtosis</td>\n",
      "</tr>\n",
      "<tr>\n",
      "<td>Prob (JB)</td>\n",
      "<td>The above statistic turned into a probability</td>\n",
      "</tr>\n",
      "<tr>\n",
      "<td>Durbin-Watson</td>\n",
      "<td>A test for the presence of autocorrelation (that the errors are not independent.) Often important in time-series analysis</td>\n",
      "</tr>\n",
      "<tr>\n",
      "<td>Cond. No</td>\n",
      "<td>A test for multicollinearity (if in a fit with multiple parameters, the parameters are related with each other).</td>\n",
      "</tr>\n",
      "</tbody>\n",
      "</table>\n"
     ]
    },
    {
     "cell_type": "markdown",
     "metadata": {},
     "source": [
      "As a final note, if you don't want to include a constant term in your model, you can exclude it using the minus operator."
     ]
    },
    {
     "cell_type": "code",
     "collapsed": false,
     "input": [
      "X_prime_1 = pd.DataFrame({'GNP': np.linspace(X.GNP.min(), X.GNP.max(), 100)})\n",
      "X_prime_1 = sm.add_constant(X_prime_1)  # adds a constant term\n",
      "\n",
      "est_no_int = smf.ols(formula='Employed ~ GNP - 1', data=df).fit()\n",
      "y_hat_no_int = est_no_int.predict(X_prime_1)\n",
      "y_hat_int = est.predict(X_prime_1)\n",
      "\n",
      "fig = plt.figure(figsize=(8,4))\n",
      "splt = plt.subplot(121)\n",
      "splt.scatter(X.GNP, y, alpha=0.3)  # plots the raw data\n",
      "plt.ylim(30, 100)  # sets the y-axis to be the same\n",
      "plt.xlabel(\"Gross National Product\")\n",
      "plt.ylabel(\"Total Employment\")\n",
      "plt.title(\"With intercept\")\n",
      "splt.plot(X_prime[:, 1], y_hat_int, 'r', alpha=0.9)  # adds the regression line, colored in red\n",
      "\n",
      "splt = plt.subplot(122)\n",
      "splt.scatter(X.GNP, y, alpha=0.3)  # plots the raw data\n",
      "plt.xlabel(\"Gross National Product\")\n",
      "plt.title(\"Without intercept\")\n",
      "splt.plot(X_prime[:, 1], y_hat_no_int, 'r', alpha=0.9)  # adds the regression line, colored in red"
     ],
     "language": "python",
     "metadata": {},
     "outputs": [
      {
       "metadata": {},
       "output_type": "pyout",
       "prompt_number": 32,
       "text": [
        "[<matplotlib.lines.Line2D at 0x1095d9278>]"
       ]
      },
      {
       "metadata": {},
       "output_type": "display_data",
       "png": "[encoded data removed]",
       "text": [
        "<matplotlib.figure.Figure at 0x109358080>"
       ]
      }
     ],
     "prompt_number": 32
    },
    {
     "cell_type": "markdown",
     "metadata": {},
     "source": [
      "But notice that this may not be the best idea... :)"
     ]
    },
    {
     "cell_type": "markdown",
     "metadata": {},
     "source": [
      "## Correlation and Causation"
     ]
    },
    {
     "cell_type": "markdown",
     "metadata": {},
     "source": [
      "Clearly there is a relationship or correlation between GNP and total employment. So does that mean a change in GNP cause a change in total employment? Or does a change in total employment cause a change in GNP? This is a subject we will explore in the next post."
     ]
    }
   ],
   "metadata": {}
  }
 ]
}
