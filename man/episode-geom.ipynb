{
 "metadata": {
  "name": "",
  "signature": "sha256:996c0d2aebdd5c91a23749be4cfd2dd3c0b8bf09b053d5418f77c869c9eb1498"
 },
 "nbformat": 3,
 "nbformat_minor": 0,
 "worksheets": [
  {
   "cells": [
    {
     "cell_type": "markdown",
     "metadata": {},
     "source": [
      "* http://www.geeksforgeeks.org/tag/geometric-algorithms/"
     ]
    },
    {
     "cell_type": "code",
     "collapsed": false,
     "input": [
      "class Point:\n",
      "    def __init__(self, x, y):\n",
      "        self.x, self.y = x, y\n",
      "\n",
      "def direction(p, q, r):\n",
      "    det = (q.x - p.x) * (r.y - p.y) - (q.y - p.y) * (r.x - p.x)\n",
      "    return det\n",
      "\n",
      "def is_online(p, line_seg):\n",
      "    xx = sorted(e.x for e in line_seg)\n",
      "    yy = sorted(e.y for e in line_seg)\n",
      "    return all((\n",
      "        xx[0] <= p.x <= xx[-1], yy[0] <= p.y <= yy[-1]))\n",
      "\n",
      "def intersecting(p1, q1, p2, q2):\n",
      "    d1 = direction(p1, q1, p2)\n",
      "    d2 = direction(p1, q1, q2)\n",
      "    d3 = direction(p2, q2, p1)\n",
      "    d4 = direction(p2, q2, q1)\n",
      "    return any((\n",
      "        (d1 * d2 < 0 and d3 * d4 < 0),\n",
      "        (d1 == 0 and is_online(p2, (p1, q1))),\n",
      "        (d2 == 0 and is_online(q2, (p1, q1))),\n",
      "        (d3 == 0 and is_online(p1, (p2, q2))),\n",
      "        (d4 == 0 and is_online(q1, (p2, q2)))))\n",
      "\n",
      "p, q, r, s, t = [Point(x, y) for x, y in ((1, 1), (4, 2), (2, 4), (4, 4), (2, 2))]\n",
      "d_cases = ((p, q, r), (q, r, p), (r, p, q), (p, r, q), (r, q, p), (q, p, r), (p, s, t))\n",
      "assert [8, 8, 8, -8, -8, -8, 0] == [direction(*c) for c in d_cases]\n",
      "e_cases = ((p, q, r, s), (q, r, s, t), (p, r, q, s), (p, s, t, q))\n",
      "assert [False, True, False, True] == [intersecting(*c) for c in e_cases]"
     ],
     "language": "python",
     "metadata": {},
     "outputs": [],
     "prompt_number": 19
    },
    {
     "cell_type": "code",
     "collapsed": false,
     "input": [
      "# http://www.geeksforgeeks.org/how-to-check-if-a-given-point-lies-inside-a-polygon/\n",
      "def is_inside(p, polygon):\n",
      "    n = len(polygon)\n",
      "    if n < 3:\n",
      "        return False\n",
      "    p2 = Point(2 * 31 - 1, p.y)\n",
      "    intersections = 0\n",
      "    for i in range(n):\n",
      "        p3, p4 = polygon[i], polygon[(i+1)%n]\n",
      "        if direction(p, p3, p4) == 0 and is_online(p, (p3, p4)):\n",
      "            return True\n",
      "        if intersecting(p, p2, p3, p4):\n",
      "            intersections += 1\n",
      "    return intersections % 2 == 1\n",
      "\n",
      "polygons = (\n",
      "    [Point(x, y) for x, y in ((0, 0), (10, 0), (10, 10), (0, 10))],\n",
      "    [Point(x, y) for x, y in ((0, 0), (5, 5), (5, 0))])\n",
      "points = [Point(x, y) for x, y in ((13, 13), (7, 7), (3, 3), (4, 1))]\n",
      "assert [0, 1, 1, 1, 0, 0, 1, 1] == [int(is_inside(pt, p)) for p in polygons for pt in points]"
     ],
     "language": "python",
     "metadata": {},
     "outputs": [],
     "prompt_number": 36
    },
    {
     "cell_type": "code",
     "collapsed": false,
     "input": [],
     "language": "python",
     "metadata": {},
     "outputs": []
    }
   ],
   "metadata": {}
  }
 ]
}