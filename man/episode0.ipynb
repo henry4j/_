{
 "metadata": {
  "name": "",
  "signature": "sha256:81059c71dddcf8baf156bc763fe1af181207eccaaff63aa217c38a93997e80d3"
 },
 "nbformat": 3,
 "nbformat_minor": 0,
 "worksheets": [
  {
   "cells": [
    {
     "cell_type": "code",
     "collapsed": false,
     "input": [
      "from math import *\n",
      "\n",
      "def factorize(n, m=2):\n",
      "    if n == 1:\n",
      "        return []\n",
      "    elif n % m == 0:\n",
      "        return [m] + factorize(n//m)\n",
      "    elif n < m**2:\n",
      "        return [n]\n",
      "    else:\n",
      "        return factorize(n, 3 if m == 2 else m+2)\n",
      "\n",
      "assert [2, 2, 3] == factorize(12) and [2, 3, 7] == factorize(42)\n",
      "assert [3, 3, 5] == factorize(45) and [3, 5, 5] == factorize(75)"
     ],
     "language": "python",
     "metadata": {},
     "outputs": [],
     "prompt_number": 22
    },
    {
     "cell_type": "code",
     "collapsed": false,
     "input": [],
     "language": "python",
     "metadata": {},
     "outputs": []
    }
   ],
   "metadata": {}
  }
 ]
}