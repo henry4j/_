{
 "metadata": {
  "name": "",
  "signature": "sha256:1690ac6f9aa639cd6ed6df3c757d9c795d3a2d54c2401ca425b6aa29e7c61546"
 },
 "nbformat": 3,
 "nbformat_minor": 0,
 "worksheets": [
  {
   "cells": [
    {
     "cell_type": "code",
     "collapsed": false,
     "input": [
      "from math import *\n",
      "\n",
      "def factorize(n, m=2):\n",
      "    if n == 1:\n",
      "        return []\n",
      "    elif n % m == 0:\n",
      "        return [m] + factorize(n//m)\n",
      "    elif n < m**2:\n",
      "        return [n]\n",
      "    else:\n",
      "        return factorize(n, 3 if m == 2 else m+2)\n",
      "\n",
      "assert [2, 2, 3] == factorize(12) and [2, 3, 7] == factorize(42)\n",
      "assert [3, 3, 5] == factorize(45) and [3, 5, 5] == factorize(75)"
     ],
     "language": "python",
     "metadata": {},
     "outputs": [],
     "prompt_number": 1
    },
    {
     "cell_type": "code",
     "collapsed": false,
     "input": [
      "\n",
      "\n",
      "#   def self.regex_match?(text, pattern, i = text.size-1, j = pattern.size-1)\n",
      "#     case\n",
      "#     when j == -1\n",
      "#       i == -1\n",
      "#     when i == -1\n",
      "#       j == -1 || (j == 1 && pattern[1].chr == '*')\n",
      "#     when pattern[j].chr == '*'\n",
      "#       regex_match?(text, pattern, i, j-2) ||\n",
      "#       (pattern[j-1].chr == '.' || pattern[j-1] == text[i]) && regex_match?(text, pattern, i-1, j)\n",
      "#     when pattern[j].chr == '.' || pattern[j] == text[i]\n",
      "#       regex_match?(text, pattern, i-1, j-1)\n",
      "#     else\n",
      "#       false\n",
      "#     end\n",
      "#   end\n",
      "\n",
      "#   def self.wildcard_match?(text, pattern)\n",
      "#     case\n",
      "#     when pattern == '*'\n",
      "#       true\n",
      "#     when text.empty? || pattern.empty?\n",
      "#       text.empty? && pattern.empty?\n",
      "#     when pattern[0].chr == '*'\n",
      "#       wildcard_match?(text, pattern[1..-1]) || \n",
      "#       wildcard_match?(text[1..-1], pattern)\n",
      "#     when pattern[0].chr == '?' || pattern[0] == text[0]\n",
      "#       wildcard_match?(text[1..-1], pattern[1..-1])\n",
      "#     else\n",
      "#       false\n",
      "#     end\n",
      "#   end\n"
     ],
     "language": "python",
     "metadata": {},
     "outputs": [],
     "prompt_number": 2
    },
    {
     "cell_type": "code",
     "collapsed": false,
     "input": [
      "def sum2(a, b):\n",
      "    a, b = [list(reversed(e)) for e in (a, b)]\n",
      "    c = []\n",
      "    zero = ord(\"0\")\n",
      "    tens = 0\n",
      "    for i in range(1 + max(len(a), len(b))):\n",
      "        ones = tens\n",
      "        ones += sum(ord(e[i]) - zero for e in (a, b) if i < len(e))\n",
      "        tens, ones = ones // 10, ones % 10\n",
      "        c.append(chr(ones + zero))\n",
      "    c.reverse()\n",
      "    return \"\".join(c)\n",
      "\n",
      "assert \"1443\" == sum2(\"456\", \"987\")"
     ],
     "language": "python",
     "metadata": {},
     "outputs": [],
     "prompt_number": 3
    },
    {
     "cell_type": "code",
     "collapsed": false,
     "input": [],
     "language": "python",
     "metadata": {},
     "outputs": [],
     "prompt_number": 3
    }
   ],
   "metadata": {}
  }
 ]
}