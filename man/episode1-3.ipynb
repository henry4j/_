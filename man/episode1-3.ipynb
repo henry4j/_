{
 "metadata": {
  "name": "",
  "signature": "sha256:aacd0eb0ff7e53aebc8fc4baabb78824bfa7f430d91772e33d0ea96c29b4c168"
 },
 "nbformat": 3,
 "nbformat_minor": 0,
 "worksheets": [
  {
   "cells": [
    {
     "cell_type": "markdown",
     "metadata": {},
     "source": [
      "#### <a id=\"top\"></a>1. [Arrays and Strings](http://nbviewer.ipython.org/github/henry4j/-/blob/master/man/episode1-3.ipynb) | 4. [Trees and Graphs](http://nbviewer.ipython.org/github/henry4j/-/blob/master/man/episode4-7.ipynb)\n",
      "\n",
      "[1.1](#1.1) Write a program to determine if a string has all unique characters. What if you cannot use additional data structures?   \n",
      "[1.2](#1.2) Write a function, void reverse(char* str), which reverses a null-terminated string.  \n",
      "[1.3](#1.3) Write a program to determine if a string is a permutation of the other.  \n",
      "[1.4](#1.4) Write a method to replace all spaces in a string with %20.  \n",
      "[1.5](#1.5) Write a method to compress a string using counts of repeated chars, e.g., aabcccccaaa becomes a2b1c5a3.  \n",
      "!! [1.6](#1.6) Given an image represented by an NxN matrix, write a method to rotate the image by 90 degrees; in-place, in O(1) space.  \n",
      "[1.7](#1.7) Given an NxN matrix, write a program to set entire row and column to 0 if an element has a value of 0.  \n",
      "[1.8](#1.8) Given two strings, write a program to determine if a string is a rotation of the other using isSubstring method.  "
     ]
    },
    {
     "cell_type": "markdown",
     "metadata": {},
     "source": [
      "#### <a id=\"2\"></a>[2](#top). Linked Lists\n",
      "\n",
      "[2.1](#2.1) Write code to remove duplicates from an unsorted linked list. What if you cannot use a temporary buffer?  \n",
      "[2.2](#2.2) Implement an algorithm to find the k-th last element of a singly linked list.  \n",
      "[2.3](#2.3) Given access only to a node, implement an algorithm to delete that node in the middle of a singly linked list.  \n",
      "[2.4](#2.4) Write a program to partition a linked list around a value of x, such that all nodes less than x come before all nodes greater than or equal to x.  \n",
      "[2.5](#2.5) Given two decimal numbers in a linked list where each node contains a single digit, write a program that sums up two numbers.  \n",
      "[2.6](#2.6) Given a circular linked list, implement an algorithm which returns the node at the beginning of the loop. e.g., INPUT: a -> b -> c -> d -> e -> c, and OUTPUT: c.  \n",
      "[2.7](#2.7) Implement a method to check if a linked list is a palindrome."
     ]
    },
    {
     "cell_type": "markdown",
     "metadata": {},
     "source": [
      "#### <a id=\"3\"></a>[3](#top). Stacks and Queues\n",
      "\n",
      "3.1 Implement three stacks using a single array.  \n",
      "[3.2](#3.2) Design a stack that has a min function that returns the minimum element in addition to push and pop. Push, pop, and min should all operate in O(1) time.  \n",
      "3.3 Imagine a literal stack of plates. If the stack gets too high, it might topple. Therefore, in real life, we would likely start a new stack when the previous stack exceeds some threshold. Implement a data structure SetOfStacks that mimics this. SetOfStacks should be composed of several stacks and should create a new stack once the previous one exceeds capacity. SetOfStacks.push() and SetOfStacks.pop() should behave identically to a single stack (that is, pop() should return the same values as it would if there were just a single stack). Implement a function popAt(int index) which performs a pop operation on a specific sub-stack.  \n",
      "!! [3.4](#3.4) Write a program that solves the tower of Hanoi puzzle of N disks between three rods.  \n",
      "[3.5](#3.5) Implement a queue using two stacks.  \n",
      "[3.6](#3.6) Write a program to sort a stack in ascending order with biggest items on top. You may use additional stacks to hold items, but you may not copy the elements into any other data structure such as an array. The stack supports the following operations: push, pop, peek, and isEmpty.  \n",
      "3.7 An animal shelter holds only dogs and cats, and operations on a strictly \"first in, first out\" basis. People must adopt either the oldest (based on the arrival time) of all animals at the shelter, or they can select whether they would prefer a dog or a cat (and will receive the oldest animal of that type). They cannot select which speicific animal they would like. Create the data structures to maintain this system and implement operations such as enqueue, dequeueAny, dequeueDog, and dequeueCat. You may use the LinkedList data structure.  "
     ]
    },
    {
     "cell_type": "markdown",
     "metadata": {},
     "source": [
      "<a id='1.1'></a>[1.1](#top) Write a program to determine if a string has all unique characters. What if you cannot use additional data structures? ([See Execution](http://goo.gl/v2Y2ml))"
     ]
    },
    {
     "cell_type": "code",
     "collapsed": false,
     "input": [
      "def histogram(iterable):\n",
      "    d = {}\n",
      "    for e in iterable:\n",
      "        d[e] = d.get(e, 0) + 1\n",
      "    return d\n",
      "\n",
      "def uniq(s):\n",
      "    return all([v == 1 for v in histogram(s).values()])\n",
      "\n",
      "def unique(s):\n",
      "    for i, e in enumerate(s):\n",
      "        for j in range(i+1, len(s)):\n",
      "            if s[i] == s[j]:\n",
      "                return False\n",
      "    else:\n",
      "        return True\n",
      "\n",
      "assert uniq('abc') and not uniq('abcba')\n",
      "assert unique('abc') and not unique('abcba')"
     ],
     "language": "python",
     "metadata": {},
     "outputs": [],
     "prompt_number": 1
    },
    {
     "cell_type": "markdown",
     "metadata": {},
     "source": [
      "<a id=\"1.2\"></a>[1.2](#top) Write a function, void reverse(char* str), which reverses a null-terminated string."
     ]
    },
    {
     "cell_type": "code",
     "collapsed": false,
     "input": [
      "def reverse(s):\n",
      "    a, n = list(s), len(s)\n",
      "    for i in range(n//2):\n",
      "        a[i], a[-1-i] = a[-1-i], a[i]\n",
      "    return \"\".join(a)\n",
      "\n",
      "assert 'tub' == reverse('but') and 'tub' == ''.join(reversed('but'))\n",
      "assert 'tub' == 'but'[::-1]"
     ],
     "language": "python",
     "metadata": {},
     "outputs": [],
     "prompt_number": 2
    },
    {
     "cell_type": "markdown",
     "metadata": {},
     "source": [
      "<a id=\"1.3\"></a>[1.3](#top) Write a program to determine if a string is a permutation of the other."
     ]
    },
    {
     "cell_type": "code",
     "collapsed": false,
     "input": [
      "def anagram(s1, s2):\n",
      "    if len(s1) == len(s2):\n",
      "        d1 = histogram(s1)\n",
      "        for e in s2:\n",
      "            if d1.get(e, 0) > 0:\n",
      "                d1[e] -= 1\n",
      "            else:\n",
      "                return False\n",
      "        return all([v == 0 for v in d1.values()])\n",
      "    else:\n",
      "        return False\n",
      "\n",
      "def anagram2(s1, s2):\n",
      "    to_anagram = lambda s: ''.join(sorted(s))\n",
      "    return len(s1) == len(s2) and to_anagram(s1) == to_anagram(s2)\n",
      "\n",
      "assert anagram('', '') and anagram('a', 'a') and anagram('ab', 'ba')\n",
      "assert anagram('aab', 'aba') and anagram('aabb', 'abab')\n",
      "assert not anagram('a', '') and not anagram('', 'a')\n",
      "assert not anagram('a', 'b') and not anagram('aa', 'ab')\n",
      "assert anagram2('aab', 'aba') and anagram2('aabb', 'abab')"
     ],
     "language": "python",
     "metadata": {},
     "outputs": [],
     "prompt_number": 3
    },
    {
     "cell_type": "markdown",
     "metadata": {},
     "source": [
      "<a id=\"1.4\"></a>[1.4](#top) Write a method to replace all spaces in a string with %20."
     ]
    },
    {
     "cell_type": "code",
     "collapsed": false,
     "input": [
      "def resize(a, new_size, fill_value=None):\n",
      "    del a[new_size:]\n",
      "    a.extend([fill_value] * (new_size - len(a)))\n",
      "    return a\n",
      "\n",
      "def escape_spaces(a): # \n",
      "    n = len(a)\n",
      "    m = j = n + 2 * sum(1 for e in a if e == \" \")\n",
      "    resize(a, m, \"_\")\n",
      "    for i in range(n-1, -1, -1): # n-1..0\n",
      "        if a[i] == \" \":\n",
      "            a[j-3:j] = \"%20\"\n",
      "            j -= 3\n",
      "        else:\n",
      "            j -= 1\n",
      "            a[j] = a[i]\n",
      "    return a\n",
      "\n",
      "assert list(\"a%20b%20c%20\") == escape_spaces(list('a b c '))"
     ],
     "language": "python",
     "metadata": {},
     "outputs": [],
     "prompt_number": 38
    },
    {
     "cell_type": "markdown",
     "metadata": {},
     "source": [
      "<a id=\"1.5\"></a>[1.5](#top) Write a method to compress a string using counts of repeated chars, e.g., aabcccccaaa becomes a2b1c5a3. If the \"compressed\" string would not become smaller than the original\n",
      "string, it should return the original string."
     ]
    },
    {
     "cell_type": "code",
     "collapsed": false,
     "input": [
      "def compressed(s):\n",
      "    s2 = \"\"\n",
      "    tail, n = 0, len(s)\n",
      "    for head in range(1, n+1):\n",
      "        if head == n or s[tail] != s[head]:\n",
      "            s2 += \"{0}{1}\".format(s[head-1], head-tail)\n",
      "            tail = head\n",
      "    return min(s2, s, key=len)\n",
      "\n",
      "assert 'a2b1c5a3' == compressed('aabcccccaaa')\n",
      "assert 'abcc' == compressed('abcc')\n",
      "assert 'abc' == compressed('abc')\n",
      "assert '' == compressed('')"
     ],
     "language": "python",
     "metadata": {},
     "outputs": [],
     "prompt_number": 5
    },
    {
     "cell_type": "markdown",
     "metadata": {},
     "source": [
      "<a id=\"1.6\"></a>[1.6](#top) Given an image represented by an NxN matrix, write a method to rotate the image by 90 degrees; in-place, in O(1) space."
     ]
    },
    {
     "cell_type": "code",
     "collapsed": false,
     "input": [
      "def rotate(g):\n",
      "    n = len(g)\n",
      "    for layer in range(n//2):\n",
      "        head = layer\n",
      "        tail = n - layer -1\n",
      "        for i in range(head, tail):\n",
      "            top = g[layer][i]\n",
      "            g[layer][i] = g[n-i-1][head] # to top\n",
      "            g[n-i-1][head] = g[tail][n-i-1] # to left\n",
      "            g[tail][n-i-1] = g[i][tail] # to bottom\n",
      "            g[i][tail] = top # top to right\n",
      "    return g\n",
      "\n",
      "g = [\n",
      "    [ 1,  2,  3,  4,  5],\n",
      "    [ 6,  7,  8,  9, 10],\n",
      "    [11, 12, 13, 14, 15],\n",
      "    [16, 17, 18, 19, 20],\n",
      "    [21, 22, 23, 24, 25]\n",
      "]\n",
      "\n",
      "assert [\n",
      "    [21, 16, 11,  6,  1],\n",
      "    [22, 17, 12,  7,  2],\n",
      "    [23, 18, 13,  8,  3],\n",
      "    [24, 19, 14,  9,  4],\n",
      "    [25, 20, 15, 10,  5]\n",
      "], rotate(g)"
     ],
     "language": "python",
     "metadata": {},
     "outputs": [],
     "prompt_number": 6
    },
    {
     "cell_type": "markdown",
     "metadata": {},
     "source": [
      "<a id=\"1.7\"></a>[1.7](#top) Given an NxN matrix, write a program to set entire row and column to 0 if an element has a value of 0."
     ]
    },
    {
     "cell_type": "code",
     "collapsed": false,
     "input": [
      "g = [\n",
      "    [ 1, 2, 3, 4 ],\n",
      "    [ 5, 6, 7, 8 ],\n",
      "    [ 9, 0, 1, 2 ],\n",
      "    [ 3, 4, 5, 6 ]\n",
      "]\n",
      "\n",
      "def zero_out(g):\n",
      "    rows, columns = {}, {}\n",
      "    for r in range(len(g)):\n",
      "        for c in range(len(g[r])):\n",
      "            if g[r][c] == 0:\n",
      "                columns[c] = rows[r] = True\n",
      "    for r in range(len(g)):\n",
      "        for c in range(len(g[r])):\n",
      "            if c in columns.keys() or r in rows.keys():\n",
      "                g[r][c] = 0\n",
      "    return g\n",
      "\n",
      "assert [\n",
      "    [1, 0, 3, 4],\n",
      "    [5, 0, 7, 8],\n",
      "    [0, 0, 0, 0],\n",
      "    [3, 0, 5, 6]\n",
      "] == zero_out(g)"
     ],
     "language": "python",
     "metadata": {},
     "outputs": [],
     "prompt_number": 7
    },
    {
     "cell_type": "markdown",
     "metadata": {},
     "source": [
      "<a id=\"1.8\"></a>[1.8](#top) Given two strings, write a program to determine if a string is a rotation of the other using isSubstring method."
     ]
    },
    {
     "cell_type": "code",
     "collapsed": false,
     "input": [
      "is_rotated = lambda s, t: len(s) == len(t) and -1 != (s+s).find(t)\n",
      "assert is_rotated(\"xyz\", \"yzx\")\n",
      "assert is_rotated(\"xyz\", \"zxy\")\n",
      "assert is_rotated(\"x\", \"x\")\n",
      "assert is_rotated(\"xy\", \"yx\")\n",
      "assert not is_rotated(\"xyz\", \"xyx\")"
     ],
     "language": "python",
     "metadata": {},
     "outputs": [],
     "prompt_number": 8
    },
    {
     "cell_type": "markdown",
     "metadata": {},
     "source": [
      "#### 2. Linked Lists"
     ]
    },
    {
     "cell_type": "markdown",
     "metadata": {},
     "source": [
      "<a id=\"2.1\"></a>[2.1](#2) Write code to remove duplicates from an unsorted linked list. What if you cannot use a temporary buffer?"
     ]
    },
    {
     "cell_type": "code",
     "collapsed": false,
     "input": [
      "class SNode:\n",
      "    def __init__(self, value, next = None):\n",
      "        self.value, self.next = value, next\n",
      "\n",
      "    def __repr__(self):\n",
      "        return \"SNode({0}, {1})\".format(self.value, self.next)\n",
      "    \n",
      "    def list(*values, next = None):\n",
      "        for value in reversed(values):\n",
      "            next = SNode(value, next)\n",
      "        return next\n",
      "    \n",
      "    def __eq__(self, other):\n",
      "        return other and self.value == other.value and self.next == other.next\n",
      "\n",
      "def remove_dups(head):\n",
      "    curr, pred, d = head, None, {}\n",
      "    while curr:\n",
      "        if curr.value in d:\n",
      "            pred.next = curr.next\n",
      "        else:\n",
      "            d[curr.value], pred = True, curr\n",
      "        curr = curr.next\n",
      "    return head\n",
      "\n",
      "assert SNode.list(1, 2, 3) == remove_dups(SNode.list(1, 2, 3, 3, 3))\n",
      "assert SNode.list(1, 2, 3) == remove_dups(SNode.list(1, 1, 2, 3, 3))\n",
      "assert SNode.list(1, 2, 3) == remove_dups(SNode.list(1, 2, 2, 3, 2))\n",
      "\n",
      "def remove_dups(head):\n",
      "    curr = head\n",
      "    while curr:\n",
      "        pred = curr\n",
      "        while pred.next:\n",
      "            if pred.next.value == curr.value:\n",
      "                pred.next = pred.next.next\n",
      "            else:\n",
      "                pred = pred.next\n",
      "        curr = curr.next\n",
      "    return head\n",
      "\n",
      "assert SNode.list(1, 2, 3) == remove_dups(SNode.list(1, 2, 3, 3, 3))\n",
      "assert SNode.list(1, 2, 3) == remove_dups(SNode.list(1, 1, 2, 3, 3))\n",
      "assert SNode.list(1, 2, 3) == remove_dups(SNode.list(1, 2, 2, 3, 2))"
     ],
     "language": "python",
     "metadata": {},
     "outputs": [],
     "prompt_number": 9
    },
    {
     "cell_type": "markdown",
     "metadata": {},
     "source": [
      "<a id=\"2.2\"></a>[2.2](#2) Implement an algorithm to find the k-th to last element of a singly linked list."
     ]
    },
    {
     "cell_type": "code",
     "collapsed": false,
     "input": [
      "class SNode:\n",
      "    def __init__(self, value, next = None):\n",
      "        self.value, self.next = value, next\n",
      "\n",
      "    def list(*values, next = None):\n",
      "        for value in reversed(values):\n",
      "            next = SNode(value, next)\n",
      "        return next\n",
      "    \n",
      "    def __eq__(self, other):\n",
      "        return other and self.value == other.value and self.next == other.next\n",
      "\n",
      "    def last(self, k = 1):\n",
      "        p1 = pk = self\n",
      "        for _ in range(k): p1 = p1.next\n",
      "        while p1: p1, pk = p1.next, pk.next\n",
      "        return pk\n",
      "\n",
      "assert SNode.list(3, 4) == SNode.list(1, 2, 3, 4).last(2)\n",
      "assert SNode.list(4) == SNode.list(1, 2, 3, 4).last(1)"
     ],
     "language": "python",
     "metadata": {},
     "outputs": [],
     "prompt_number": 10
    },
    {
     "cell_type": "markdown",
     "metadata": {},
     "source": [
      "<a id=\"2.3\"></a>[2.3](#2) Given access only to a node, implement an algorithm to delete that node in the middle of a singly linked list."
     ]
    },
    {
     "cell_type": "markdown",
     "metadata": {},
     "source": [
      "<a id=\"2.4\"></a>[2.4](#2) Write a program to partition a linked list around a value of x, such that all nodes less than x come before all nodes greater than or equal to x."
     ]
    },
    {
     "cell_type": "code",
     "collapsed": false,
     "input": [
      "class SNode:\n",
      "    def __init__(self, value, next = None):\n",
      "        self.value, self.next = value, next\n",
      "\n",
      "    def list(*values, next = None):\n",
      "        for value in reversed(values):\n",
      "            next = SNode(value, next)\n",
      "        return next\n",
      "    \n",
      "    def __eq__(self, other):\n",
      "        return other and self.value == other.value and self.next == other.next\n",
      "\n",
      "def partition(head, x):\n",
      "    curr, head, bind, tail = head, None, None, None\n",
      "    while curr:\n",
      "        next = curr.next\n",
      "        if curr.value < x:\n",
      "            curr.next = head\n",
      "            head = curr\n",
      "        elif curr.value > x:\n",
      "            curr.next = tail\n",
      "            tail = curr\n",
      "        else:\n",
      "            curr.next = bind\n",
      "            bind = curr\n",
      "        curr = next\n",
      "    curr = head\n",
      "    while curr.next:\n",
      "        curr = curr.next \n",
      "    curr.next = bind\n",
      "    while curr.next:\n",
      "        curr = curr.next\n",
      "    curr.next = tail\n",
      "    return head\n",
      "\n",
      "nine = SNode.list(9, 1, 8, 2, 5, 7, 3, 6, 4, 5)\n",
      "assert SNode.list(4, 3, 2, 1, 5, 5, 6, 7, 8, 9) == partition(nine, 5)"
     ],
     "language": "python",
     "metadata": {},
     "outputs": [],
     "prompt_number": 11
    },
    {
     "cell_type": "markdown",
     "metadata": {},
     "source": [
      "<a id=\"3.2\"></a>[3.2](#3) Design a stack that has a min function that returns the minimum element in addition to push and pop. Push, pop, and min should all operate in O(1) time."
     ]
    },
    {
     "cell_type": "code",
     "collapsed": false,
     "input": [
      "class MinStack:\n",
      "    def __init__(self):\n",
      "        self._stack, self.minimum = [], None\n",
      "\n",
      "    def push(self, element):\n",
      "        if self.minimum is None or element <= self.minimum:\n",
      "            self._stack.append(self.minimum)\n",
      "            self.minimum = element\n",
      "        self._stack.append(element)\n",
      "        return self\n",
      "\n",
      "    def pop(self):\n",
      "        element = self._stack.pop()\n",
      "        if self.minimum == element:\n",
      "            self.minimum = self._stack.pop()\n",
      "        return element\n",
      "\n",
      "stack = MinStack().push(2).push(3).push(2).push(1)\n",
      "assert 1 == stack.minimum and 1 == stack.pop()\n",
      "assert 2 == stack.minimum and 2 == stack.pop()\n",
      "assert 2 == stack.minimum and 3 == stack.pop()\n",
      "assert 2 == stack.minimum and 2 == stack.pop()\n",
      "assert stack.minimum is None"
     ],
     "language": "python",
     "metadata": {},
     "outputs": [],
     "prompt_number": 12
    },
    {
     "cell_type": "markdown",
     "metadata": {},
     "source": [
      "<a id=\"3.4\"></a>[3.4](#3) Write a program that solves the tower of Hanoi puzzle of N disks between three rods. "
     ]
    },
    {
     "cell_type": "code",
     "collapsed": false,
     "input": [
      "def move_disk(from_, to, which):\n",
      "    return (from_, to, which)\n",
      "\n",
      "def move_tower(from_, to, spare, n):\n",
      "      if 1 == n:\n",
      "          return [move_disk(from_, to, 1)]\n",
      "      return move_tower(from_, spare, to, n-1) \\\n",
      "             + [move_disk(from_, to, n)] \\\n",
      "             + move_tower(spare, to, from_, n-1)\n",
      "\n",
      "moves = move_tower('A', 'C', 'B', 3)\n",
      "assert [\n",
      "    ('A', 'C', 1), \n",
      "    ('A', 'B', 2),\n",
      "    ('C', 'B', 1),\n",
      "    ('A', 'C', 3),\n",
      "    ('B', 'A', 1),\n",
      "    ('B', 'C', 2),\n",
      "    ('A', 'C', 1)\n",
      "] == moves"
     ],
     "language": "python",
     "metadata": {},
     "outputs": [],
     "prompt_number": 13
    },
    {
     "cell_type": "markdown",
     "metadata": {},
     "source": [
      "<a id=\"3.5\"></a>[3.5](#3) Implement a queue using two stacks. "
     ]
    },
    {
     "cell_type": "code",
     "collapsed": false,
     "input": [
      "class Queueable:\n",
      "    def __init__(self):\n",
      "        self.s1, self.s2 = [], []\n",
      "\n",
      "    def offer(self, element):\n",
      "        self.s1.append(element)\n",
      "        return self\n",
      "\n",
      "    def poll(self):\n",
      "        while self.s1:\n",
      "            self.s2.append(self.s1.pop())\n",
      "        return self.s2.pop() if self.s2 else None\n",
      "\n",
      "    def __repr__(self):\n",
      "        return 'Queueable(s1={0.s1!r}, s2={0.s2!r})'.format(self)\n",
      "\n",
      "q = Queueable()          # s1: [], s2: []\n",
      "q.offer(1).offer(2)      # s1: [1, 2], s2: []\n",
      "assert 1 == q.poll()     # s1: [], s2: [2], coverage: true, and 2 iterations\n",
      "assert 2 == q.poll()     # s1: [], s2: [], coverage: false\n",
      "q.offer(3)               # s1: [3], s2: []\n",
      "assert 3 == q.poll()     # s1: [], s2: [], coverage: true, and 1 iteration\n",
      "assert None == q.poll()  # s1: [], s2: [], coverage: true, and 0 iteration"
     ],
     "language": "python",
     "metadata": {},
     "outputs": [],
     "prompt_number": 14
    },
    {
     "cell_type": "markdown",
     "metadata": {},
     "source": [
      "<a id=\"3.6\"></a>[3.6](#3) Write a program to sort a stack in ascending order with biggest items on top. You may use additional stacks to hold items, but you may not copy the elements into any other data structure such as an array. The stack supports the following operations: push, pop, peek, and isEmpty. rb"
     ]
    },
    {
     "cell_type": "code",
     "collapsed": false,
     "input": [
      "def sort(l):\n",
      "    s = []\n",
      "    while l:\n",
      "        e = l.pop()\n",
      "        while s and s[-1] > e:\n",
      "            l.append(s.pop())\n",
      "        s.append(e)\n",
      "    l.extend(s)\n",
      "    return l\n",
      "\n",
      "assert [-4, -3, 1, 2, 5, 6] == sort([5, -3, 1, 2, -4, 6])"
     ],
     "language": "python",
     "metadata": {},
     "outputs": [],
     "prompt_number": 15
    },
    {
     "cell_type": "markdown",
     "metadata": {},
     "source": [
      "[Back to Top](#top)"
     ]
    }
   ],
   "metadata": {}
  }
 ]
}