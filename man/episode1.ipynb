{
 "metadata": {
  "name": "",
  "signature": "sha256:df26ede6f67563154d8fa35a37efd0a69b90b87a370c195ce7f88b4efc538a1a"
 },
 "nbformat": 3,
 "nbformat_minor": 0,
 "worksheets": [
  {
   "cells": [
    {
     "cell_type": "markdown",
     "metadata": {},
     "source": [
      "[ [dojo](http://github.com/overlakehome/-/wiki/dojo) | [pythonista](https://github.com/overlakehome/-/wiki/pythonista) | [this notebook in viewer](http://nbviewer.ipython.org/github/henry4j/-/blob/master/man/episode1.ipynb) ]"
     ]
    },
    {
     "cell_type": "markdown",
     "metadata": {},
     "source": [
      "##### 1. Arrays and Strings"
     ]
    },
    {
     "cell_type": "markdown",
     "metadata": {},
     "source": [
      "1.1 Write a program to determine if a string has all unique characters. What if you cannot use additional data structures? [py](http://goo.gl/7WEWqp)"
     ]
    },
    {
     "cell_type": "code",
     "collapsed": false,
     "input": [
      "from functools import reduce\n",
      "\n",
      "def uniq(s):\n",
      "    h = reduce(lambda h, e: h.update({e:1+h.get(e, 0)}) or h, s, {})\n",
      "    return all(v == 1 for v in h.values())\n",
      "\n",
      "assert uniq('abc')\n",
      "assert not uniq('abcba')\n",
      "\n",
      "def uniq2(s):\n",
      "    for i, e in enumerate(s):\n",
      "        for j in range(i+1, len(s)):\n",
      "            if s[i] == s[j]:\n",
      "                 return False\n",
      "    return True\n",
      "\n",
      "assert uniq2('abc')\n",
      "assert not uniq2('abcba')"
     ],
     "language": "python",
     "metadata": {},
     "outputs": [],
     "prompt_number": 1
    },
    {
     "cell_type": "markdown",
     "metadata": {},
     "source": [
      "1.2 Write a function, void reverse(char* str), which reverses a null-terminated string."
     ]
    },
    {
     "cell_type": "code",
     "collapsed": false,
     "input": [
      "from functools import reduce\n",
      "from operator import iadd # http://docs.python.org/3/library/operator.html\n",
      "\n",
      "def str_reverse(s):\n",
      "    l = list(s)\n",
      "    for i in range(len(l)//2):\n",
      "        l[i], l[-1-i] = l[-1-i], l[i]\n",
      "    return ''.join(l)\n",
      "\n",
      "assert 'tub' == str_reverse('but')\n",
      "assert 'tub' == 'but'[::-1]\n",
      "assert 'tub' == ''.join(reversed('but'))\n",
      "assert 'tub' == reduce(lambda s, e: iadd(s, e), reversed('but'), '')"
     ],
     "language": "python",
     "metadata": {},
     "outputs": [],
     "prompt_number": 2
    },
    {
     "cell_type": "markdown",
     "metadata": {},
     "source": [
      "1.3 Write a program to determine if a string is a permutation of the other."
     ]
    },
    {
     "cell_type": "code",
     "collapsed": false,
     "input": [
      "from functools import reduce\n",
      "from operator import setitem # http://docs.python.org/3/library/operator.html\n",
      "\n",
      "def occurrences(s):\n",
      "    return reduce(lambda h, e: setitem(h, e, 1 + h.get(e, 0)) or h, s, {})\n",
      "\n",
      "def anagram(s1, s2):\n",
      "    d1 = occurrences(s1)\n",
      "    for c in s2:\n",
      "        if d1.get(c, 0):\n",
      "            d1[c] -= 1\n",
      "        else:\n",
      "            return False\n",
      "    return all(v == 0 for v in d1.values())\n",
      "\n",
      "assert anagram('', '')\n",
      "assert not anagram('a', '')\n",
      "assert not anagram('', 'a')\n",
      "assert anagram('a', 'a')\n",
      "assert not anagram('a', 'b')\n",
      "assert not anagram('aa', 'ab')\n",
      "assert anagram('ab', 'ba')\n",
      "assert anagram('aab', 'aba')\n",
      "assert anagram('aabb', 'abab')\n",
      "\n",
      "to_anagram = lambda s: ''.join(sorted(s))\n",
      "def anagram2(s1, s2):\n",
      "    return len(s1) == len(s2) and to_anagram(s1) == to_anagram(s2)\n",
      "\n",
      "assert not anagram2('a', 'b')\n",
      "assert not anagram2('aa', 'ab')\n",
      "assert anagram2('ab', 'ba')\n",
      "assert anagram2('aab', 'aba')\n",
      "assert anagram2('aabb', 'abab')"
     ],
     "language": "python",
     "metadata": {},
     "outputs": [],
     "prompt_number": 3
    },
    {
     "cell_type": "markdown",
     "metadata": {},
     "source": [
      "1.4 Write a method to replace all spaces in a string with %20."
     ]
    },
    {
     "cell_type": "code",
     "collapsed": false,
     "input": [
      "from itertools import repeat # http://docs.python.org/3/library/itertools.html\n",
      "\n",
      "def resize(list, new_size, fill_value=None):\n",
      "    del list[new_size:]\n",
      "    list.extend(repeat(fill_value, new_size - len(list)))\n",
      "    return list\n",
      "\n",
      "def escape_spaces(s):\n",
      "    n = len(s)\n",
      "    c = sum(1 for c in s if c == ' ') # same as: s.count(' ')\n",
      "    j = n + 2 * c\n",
      "    l = resize(list(s), j, '_')\n",
      "    for i in reversed(range(n)):\n",
      "        if l[i] == ' ':\n",
      "            l[j-3:j] = ('%', '2', '0')\n",
      "            j -= 3\n",
      "        else:\n",
      "            l[j-1] = l[i]\n",
      "            j -= 1\n",
      "    return ''.join(l)\n",
      "\n",
      "assert \"a%20b%20c%20\" == escape_spaces('a b c ')"
     ],
     "language": "python",
     "metadata": {},
     "outputs": [],
     "prompt_number": 4
    },
    {
     "cell_type": "markdown",
     "metadata": {},
     "source": [
      "1.5 Write a method to compress a string using counts of repeated chars, e.g., aabcccccaaa becomes a2b1c5a3."
     ]
    },
    {
     "cell_type": "code",
     "collapsed": false,
     "input": [
      "def compressed(s):\n",
      "    # import ipdb; ipdb.set_trace() # https://docs.python.org/3/library/pdb.html\n",
      "    r, tail, head = [], 0, 0\n",
      "    if len(s) > 0:\n",
      "        for head in range(1, len(s)):\n",
      "            if s[tail] != s[head]:\n",
      "                r.append(\"{0}{1}\".format(s[head-1], head-tail))\n",
      "                tail = head\n",
      "        r.append(\"{0}{1}\".format(s[-1], head-tail+1))\n",
      "    return ''.join(r) # if len(r) < len(s) else s\n",
      "\n",
      "assert 'a2b1c5a3' == compressed('aabcccccaaa')\n",
      "assert 'a1b1c2' == compressed('abcc')\n",
      "assert 'a1b1c1' == compressed('abc')\n",
      "assert 'a1' == compressed('a')\n",
      "assert '' == compressed('')"
     ],
     "language": "python",
     "metadata": {},
     "outputs": [],
     "prompt_number": 5
    },
    {
     "cell_type": "markdown",
     "metadata": {},
     "source": [
      "1.6 Given an image represented by an NxN matrix, write a method to rotate the image by 90 degrees; in-place, in O(1) space."
     ]
    },
    {
     "cell_type": "code",
     "collapsed": false,
     "input": [
      "g = [\n",
      "    [ 1,  2,  3,  4,  5],\n",
      "    [ 6,  7,  8,  9, 10],\n",
      "    [11, 12, 13, 14, 15],\n",
      "    [16, 17, 18, 19, 20],\n",
      "    [21, 22, 23, 24, 25]\n",
      "]\n",
      "\n",
      "def print_graph(g):\n",
      "    for row in g:\n",
      "        print(', '.join('{0:2d}'.format(e) for e in row))\n",
      "\n",
      "def rotate(g):\n",
      "    n = len(g)\n",
      "    for layer in range(n//2):\n",
      "        head = layer\n",
      "        tail = n - layer -1\n",
      "        for i in range(head, tail):\n",
      "            top = g[layer][i]\n",
      "            g[layer][i] = g[n-i-1][head] # to top\n",
      "            g[n-i-1][head] = g[tail][n-i-1] # to left\n",
      "            g[tail][n-i-1] = g[i][tail] # to bottom\n",
      "            g[i][tail] = top # top to right\n",
      "    return g\n",
      "\n",
      "assert [\n",
      "    [21, 16, 11,  6,  1],\n",
      "    [22, 17, 12,  7,  2],\n",
      "    [23, 18, 13,  8,  3],\n",
      "    [24, 19, 14,  9,  4],\n",
      "    [25, 20, 15, 10,  5]\n",
      "], rotate(g)"
     ],
     "language": "python",
     "metadata": {},
     "outputs": [],
     "prompt_number": 6
    },
    {
     "cell_type": "markdown",
     "metadata": {},
     "source": [
      "1.7 Given an NxN matrix, write a program to set entire row and column to 0 if an element has a value of 0."
     ]
    },
    {
     "cell_type": "code",
     "collapsed": false,
     "input": [
      "g = [\n",
      "    [ 1, 2, 3, 4 ],\n",
      "    [ 5, 6, 7, 8 ],\n",
      "    [ 9, 0, 1, 2 ],\n",
      "    [ 3, 4, 5, 6 ]\n",
      "]\n",
      "\n",
      "def zero_out(g):\n",
      "    rows, columns = {}, {}\n",
      "    for r in range(len(g)):\n",
      "        for c in range(len(g[r])):\n",
      "            if g[r][c] == 0:\n",
      "                columns[c] = rows[r] = True\n",
      "    for r in range(len(g)):\n",
      "        for c in range(len(g[r])):\n",
      "            if c in columns.keys() or r in rows.keys():\n",
      "                g[r][c] = 0\n",
      "    return g\n",
      "\n",
      "assert [\n",
      "    [1, 0, 3, 4],\n",
      "    [5, 0, 7, 8],\n",
      "    [0, 0, 0, 0],\n",
      "    [3, 0, 5, 6]\n",
      "] == zero_out(g)"
     ],
     "language": "python",
     "metadata": {},
     "outputs": [],
     "prompt_number": 7
    },
    {
     "cell_type": "markdown",
     "metadata": {},
     "source": [
      "1.8 Given two strings, write a program to determine if a string is a rotation of the other using isSubstring method."
     ]
    },
    {
     "cell_type": "code",
     "collapsed": false,
     "input": [
      "is_rotated = lambda s, t: len(s) == len(t) and -1 != (s+s).find(t)\n",
      "assert is_rotated(\"xyz\", \"yzx\")\n",
      "assert is_rotated(\"xyz\", \"zxy\")\n",
      "assert is_rotated(\"x\", \"x\")\n",
      "assert is_rotated(\"xy\", \"yx\")\n",
      "assert not is_rotated(\"xyz\", \"xyx\")"
     ],
     "language": "python",
     "metadata": {},
     "outputs": [],
     "prompt_number": 8
    },
    {
     "cell_type": "markdown",
     "metadata": {},
     "source": [
      "##### 2. Linked Lists"
     ]
    },
    {
     "cell_type": "markdown",
     "metadata": {},
     "source": [
      "2.1 Write code to remove duplicates from an unsorted linked list. What if you cannot use a temporary buffer?"
     ]
    },
    {
     "cell_type": "code",
     "collapsed": false,
     "input": [
      "class SNode:\n",
      "    def __init__(self, value, next = None):\n",
      "        self.value, self.next = value, next\n",
      "\n",
      "    def __repr__(self):\n",
      "        return \"SNode({0}, {1})\".format(self.value, self.next)\n",
      "    \n",
      "    def list(*values, next = None):\n",
      "        for value in reversed(values):\n",
      "            next = SNode(value, next)\n",
      "        return next\n",
      "    \n",
      "    def __eq__(self, other):\n",
      "        return other and self.value == other.value and self.next == other.next\n",
      "\n",
      "def remove_dups(head):\n",
      "    curr, pred, d = head, None, {}\n",
      "    while curr:\n",
      "        if curr.value in d:\n",
      "            pred.next = curr.next\n",
      "        else:\n",
      "            d[curr.value], pred = True, curr\n",
      "        curr = curr.next\n",
      "    return head\n",
      "\n",
      "assert SNode.list(1, 2, 3) == remove_dups(SNode.list(1, 2, 3, 3, 3))\n",
      "assert SNode.list(1, 2, 3) == remove_dups(SNode.list(1, 1, 2, 3, 3))\n",
      "assert SNode.list(1, 2, 3) == remove_dups(SNode.list(1, 2, 2, 3, 2))\n",
      "\n",
      "def remove_dups(head):\n",
      "    curr = head\n",
      "    while curr:\n",
      "        pred = curr\n",
      "        while pred.next:\n",
      "            if pred.next.value == curr.value:\n",
      "                pred.next = pred.next.next\n",
      "            else:\n",
      "                pred = pred.next\n",
      "        curr = curr.next\n",
      "    return head\n",
      "\n",
      "assert SNode.list(1, 2, 3) == remove_dups(SNode.list(1, 2, 3, 3, 3))\n",
      "assert SNode.list(1, 2, 3) == remove_dups(SNode.list(1, 1, 2, 3, 3))\n",
      "assert SNode.list(1, 2, 3) == remove_dups(SNode.list(1, 2, 2, 3, 2))"
     ],
     "language": "python",
     "metadata": {},
     "outputs": [],
     "prompt_number": 9
    },
    {
     "cell_type": "markdown",
     "metadata": {},
     "source": [
      "2.2 Implement an algorithm to find the k-th to last element of a singly linked list."
     ]
    },
    {
     "cell_type": "code",
     "collapsed": false,
     "input": [
      "class SNode:\n",
      "    def __init__(self, value, next = None):\n",
      "        self.value, self.next = value, next\n",
      "\n",
      "    def list(*values, next = None):\n",
      "        for value in reversed(values):\n",
      "            next = SNode(value, next)\n",
      "        return next\n",
      "    \n",
      "    def __eq__(self, other):\n",
      "        return other and self.value == other.value and self.next == other.next\n",
      "\n",
      "    def last(self, k = 1):\n",
      "        p1 = pk = self\n",
      "        for _ in range(k): p1 = p1.next\n",
      "        while p1: p1, pk = p1.next, pk.next\n",
      "        return pk\n",
      "\n",
      "assert SNode.list(3, 4) == SNode.list(1, 2, 3, 4).last(2)\n",
      "assert SNode.list(4) == SNode.list(1, 2, 3, 4).last(1)"
     ],
     "language": "python",
     "metadata": {},
     "outputs": [],
     "prompt_number": 10
    },
    {
     "cell_type": "markdown",
     "metadata": {},
     "source": [
      "2.3 Given access only to a node, implement an algorithm to delete that node in the middle of a singly linked list."
     ]
    },
    {
     "cell_type": "markdown",
     "metadata": {},
     "source": [
      "2.4 Write a program to partition a linked list around a value of x, such that all nodes less than x come before all nodes greater than or equal to x."
     ]
    },
    {
     "cell_type": "code",
     "collapsed": false,
     "input": [
      "class SNode:\n",
      "    def __init__(self, value, next = None):\n",
      "        self.value, self.next = value, next\n",
      "\n",
      "    def list(*values, next = None):\n",
      "        for value in reversed(values):\n",
      "            next = SNode(value, next)\n",
      "        return next\n",
      "    \n",
      "    def __eq__(self, other):\n",
      "        return other and self.value == other.value and self.next == other.next\n",
      "\n",
      "def partition(head, x):\n",
      "    curr, head, bind, tail = head, None, None, None\n",
      "    while curr:\n",
      "        next = curr.next\n",
      "        if curr.value < x:\n",
      "            curr.next = head\n",
      "            head = curr\n",
      "        elif curr.value > x:\n",
      "            curr.next = tail\n",
      "            tail = curr\n",
      "        else:\n",
      "            curr.next = bind\n",
      "            bind = curr\n",
      "        curr = next\n",
      "    curr = head\n",
      "    while curr.next:\n",
      "        curr = curr.next \n",
      "    curr.next = bind\n",
      "    while curr.next:\n",
      "        curr = curr.next\n",
      "    curr.next = tail\n",
      "    return head\n",
      "\n",
      "nine = SNode.list(9, 1, 8, 2, 5, 7, 3, 6, 4, 5)\n",
      "assert SNode.list(4, 3, 2, 1, 5, 5, 6, 7, 8, 9) == partition(nine, 5)"
     ],
     "language": "python",
     "metadata": {},
     "outputs": [],
     "prompt_number": 11
    },
    {
     "cell_type": "markdown",
     "metadata": {},
     "source": [
      "3.2 Design a stack that has a min function that returns the minimum element in addition to push and pop. Push, pop, and min should all operate in O(1) time."
     ]
    },
    {
     "cell_type": "code",
     "collapsed": false,
     "input": [
      "class MinStack:\n",
      "  def __init__(self):\n",
      "    self._stack, self.minimum = [], None\n",
      "\n",
      "  def push(self, element):\n",
      "    if self.minimum is None or element <= self.minimum:\n",
      "      self._stack.append(self.minimum)\n",
      "      self.minimum = element\n",
      "    self._stack.append(element)\n",
      "    return self\n",
      "\n",
      "  def pop(self):\n",
      "    element = self._stack.pop()\n",
      "    if self.minimum == element:\n",
      "        self.minimum = self._stack.pop()\n",
      "    return element\n",
      "\n",
      "stack = MinStack()\n",
      "assert stack.minimum is None\n",
      "stack.push(2).push(3).push(2).push(1)\n",
      "assert 1 == stack.minimum\n",
      "assert 1 == stack.pop()\n",
      "assert 2 == stack.minimum\n",
      "assert 2 == stack.pop()\n",
      "assert 2 == stack.minimum\n",
      "assert 3 == stack.pop()\n",
      "assert 2 == stack.minimum\n",
      "assert 2 == stack.pop()\n",
      "assert stack.minimum is None"
     ],
     "language": "python",
     "metadata": {},
     "outputs": [],
     "prompt_number": 12
    }
   ],
   "metadata": {}
  }
 ]
}