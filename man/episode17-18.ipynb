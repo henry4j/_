{
 "metadata": {
  "name": "",
  "signature": "sha256:2be28a133495c31432a036b194744ccd4d49de5951bfd912aa01c4326bf7b4c4"
 },
 "nbformat": 3,
 "nbformat_minor": 0,
 "worksheets": [
  {
   "cells": [
    {
     "cell_type": "markdown",
     "metadata": {},
     "source": [
      "#### <a id=\"top\"></a>17. [Moderate Problems](http://nbviewer.ipython.org/github/henry4j/-/blob/master/man/episode17-18.ipynb)\n",
      "\n",
      "[17.1](#17.1) Write a method to swap two numbers in place without using temporary variables.  \n",
      "[17.2](#17.2) Write a program to determine if someone has won a game of tic-tac-toe.  \n",
      "[17.3](#17.3) Write a method to compute the number of trailing zeros in n factorial.  \n",
      "[17.4](#17.4) Write a method to find the maximum of two numbers.  \n",
      "[17.5](#17.5) The Game of Master Mind is played as follows:  \n",
      "The computer has four slots, and each slot will contain a ball that is red (R), yellow (Y), green (G), or blue (B). For example, the computer might have RGGB (Slot #1 is red, Slot #2 and #3 are green, Slot #4 is blue).\n",
      "When you guess the correct color for the correct slot, you get a \"hit\". If you guess a color that exists but in the wrong slot, you get a \"pseudo-hit\". Note that a slot that is a hit can never count as a pseudo-hit. e.g.\n",
      "If the actual solution is RGBY and you guess GGRR, you have one hit and one pseudo-hit. Write a method that given a guess and a solution, return the number of hits and pseudo-hits.  \n",
      "[17.6](#17.6) Given an array of integers, write a method to find indices m and n such that if you sorted elements m through n, the entire array would be sorted. Minimize n - m (that is, find the smallest such sequence). e.g.  \n",
      "INPUT: 1, 2, 4, 7, 10, 11, 7, 12, 6, 7, 16, 18, 19  \n",
      "OUTPUT: 3, 9  \n",
      "[17.7](#17.7) Given any integer, print an English phrase that describes the integer (e.g. \"One Thousand. Two Hundred Thirty Four\").  \n",
      "[17.8](#17.8) Given an array of integers (both positive and negative), write a program to find the max sum sub-array (contiguous sequence).  \n",
      "[17.9](#17.9) Design a method to find the frequency of occurrences of any given word in a book.  \n",
      "17.11 Given a method rand5() that generates a random number between 1 and 5 (inclusive), write a method that generates a random number between 1 and 7 (inclusive).  \n",
      "17.12 Write a program to find all pairs of integers within an array which sum to a certain value.  \n",
      "17.13 Write a method to convert a binary tree to a doubly linked list. Keep the values in order while converting in-place.  \n",
      "17.14 Oh, no! You have accidently removed all spaces, punctuation, and capitalization a document. A sentence like \"I reset the computer. It still didn't boot!\" would become \"iresetthecomputeritstillldidntboot\". You figure that you can add back in the punctuation and capitalization later, once you get the individual words properly separated. Most of the words will be in a dictionary, but some strings, like proper names, will not.  \n",
      "Given a dictionary (a list of words) design an algorithm to find the optimal way of un-concatenating a sequence of words. In this case, \"optimal\" is defined to be the parsing which minimizes the number of unrecognized sequences of characters, e.g., the string \"jesslookedjustliketimherbrother\" would be optimally parsed as \"JESS looked just like TIM her brother\". This parsing has seven unrecognized characters, which we have capitalized for clarity.  "
     ]
    },
    {
     "cell_type": "markdown",
     "metadata": {},
     "source": [
      "#### <a id=\"18\"></a>[18](#top). Hard Problems\n",
      "\n",
      "[18.1](#18.1) Write a method that adds two numbers. You should not use the addition (+) arithmetic operator.  \n",
      "[18.2](#18.2) Write a method to shuffle a deck of cards. Each of the 52! permutations of the deck has to be equally probable.  \n",
      "[18.3](#18.3) Write a method to randomly sample m integers out of n integers. Each element must have equal probability of being chosen.  \n",
      "[18.4](#18.4) Write a function to count the number of 2s that appear in all the numbers between 0 and n (inclusive), e.g., input: 25, output: 9 (2, 12, 20, 21, 22, 23, 24, and 25); note that 22 counts for two 2s.  \n",
      "[18.5](#18.5) Given a large text file containing words, find the shortest distance between two or k words in terms of the number of words. What is the time and space complexity?  \n",
      "[18.6](#18.6) Write a program to find the smallest one million numbers in one billion numbers. Assume that the computer memory can hold all one billion numbers.  \n",
      "[18.7](#18.7) Given a list of words, write a program that returns the longest word made of other words, e.g., return \"doityourself\" given a list, \"doityourself\", \"do\", \"it\", \"yourself\", \"motherinlaw\", \"mother\", \"in\", \"law\".  \n",
      "[18.8](#18.8) Given a string s and an array of smaller strings Q, write a program to search s for each small string in Q.  \n",
      "[18.9](#18.9) Write a program that can quickly answer a median value, while random numbers are being generated and offered (a median bag).  \n",
      "[18.10](#18.10) Given two words of equal length that are in a dictionary, write a method to transform one word into another word by changing only one letter at a time. The new word you get in each step must be in the dictionary.  \n",
      "[18.11](#18.11) Given a square matrix of black and white cells, write a program to find the maximum sub-square such that all four borders are filled with black pixels.  \n",
      "[18.12](#18.12) Given a square matrix of positive and negatives integers, write a program to find the sub-matrix with the largest possible sum.  \n",
      "[18.13](#18.13) Given millions of words, write a program to create the largest possible rectangle of letters such that every row forms a word (reading left to right) and every column forms a word (reading top to bottom).  "
     ]
    },
    {
     "cell_type": "markdown",
     "metadata": {},
     "source": [
      "<a id='17.2'></a>[17.2](#top) Write a program to determine if someone has won a game of tic-tac-toe."
     ]
    },
    {
     "cell_type": "markdown",
     "metadata": {},
     "source": [
      "<a id='17.3'></a>[17.3](#top) Write a method to compute the number of trailing zeros in n factorial."
     ]
    },
    {
     "cell_type": "code",
     "collapsed": false,
     "input": [
      "def count_trailing_zeros(n):\n",
      "    count = 0\n",
      "    while n > 4:\n",
      "        count, n = count + n//5, n//5\n",
      "    return count\n",
      "\n",
      "assert 6 == count_trailing_zeros(25)\n",
      "assert 7 == count_trailing_zeros(30)"
     ],
     "language": "python",
     "metadata": {},
     "outputs": [],
     "prompt_number": 1
    },
    {
     "cell_type": "markdown",
     "metadata": {},
     "source": [
      "<a id='17.5'></a>[17.5](#top) The Game of Master Mind is played as follows:  \n",
      "The computer has four slots, and each slot will contain a ball that is red (R), yellow (Y), green (G), or blue (B). For example, the computer might have RGGB (Slot #1 is red, Slot #2 and #3 are green, Slot #4 is blue).\n",
      "When you guess the correct color for the correct slot, you get a \"hit\". If you guess a color that exists but in the wrong slot, you get a \"pseudo-hit\". Note that a slot that is a hit can never count as a pseudo-hit. e.g.\n",
      "If the actual solution is RGBY and you guess GGRR, you have one hit and one pseudo-hit. Write a method that given a guess and a solution, return the number of hits and pseudo-hits.  "
     ]
    },
    {
     "cell_type": "markdown",
     "metadata": {},
     "source": [
      "17.6 Given an array of integers, write a method to find indices m and n such that if you sorted elements m through n, the entire array would be sorted. Minimize n - m (that is, find the smallest such sequence). e.g.  \n",
      "INPUT: 1, 2, 4, 7, 10, 11, 7, 12, 6, 7, 16, 18, 19  \n",
      "OUTPUT: 3, 9  "
     ]
    },
    {
     "cell_type": "markdown",
     "metadata": {},
     "source": [
      "17.7 Given any integer, print an English phrase that describes the integer (e.g. \"One Thousand. Two Hundred Thirty Four\").  "
     ]
    },
    {
     "cell_type": "markdown",
     "metadata": {},
     "source": [
      "17.8 Given an array of integers (both positive and negative), write a program to find the max sum sub-array (contiguous sequence).  "
     ]
    },
    {
     "cell_type": "code",
     "collapsed": false,
     "input": [
      "def maxsum_subarray(a):\n",
      "    # Kadane's algorithm http://en.wikipedia.org/wiki/Maximum_subarray_problem\n",
      "    max_left = max_right = -1 \n",
      "    sum = max_sum = left = 0\n",
      "    for right, e in enumerate(a):\n",
      "        if sum > 0:\n",
      "            sum = sum + e\n",
      "        else:\n",
      "            left = right; sum = e\n",
      "        if sum >= max_sum:\n",
      "            max_left, max_right, max_sum = left, right, sum\n",
      "    return (max_sum, a[max_left:max_right+1])\n",
      "\n",
      "assert (5, [1, 3, -3, 4, -2, -1, 3]) == maxsum_subarray([-2, 1, 3, -3, 4, -2, -1, 3])"
     ],
     "language": "python",
     "metadata": {},
     "outputs": [],
     "prompt_number": 2
    },
    {
     "cell_type": "markdown",
     "metadata": {},
     "source": [
      "17.9 Design a method to find the frequency of occurrences of any given word in a book.  "
     ]
    },
    {
     "cell_type": "markdown",
     "metadata": {},
     "source": [
      "17.11 Given a method rand5() that generates a random number between 1 and 5 (inclusive), write a method that generates a random number between 1 and 7 (inclusive).  "
     ]
    },
    {
     "cell_type": "code",
     "collapsed": false,
     "input": [
      "import random\n",
      "\n",
      "def rand5():\n",
      "    return random.randrange(5) + 1\n",
      "\n",
      "def rand7():\n",
      "    rand21 = 0\n",
      "    while rand21 <= 21:\n",
      "        rand21 = 5 * (rand5() - 1) + rand5()\n",
      "    return rand21 % 7 + 1 # 1, 2, ..., 7\n",
      "\n",
      "for _ in range(1000):\n",
      "    assert 0 < rand7() < 8"
     ],
     "language": "python",
     "metadata": {},
     "outputs": [],
     "prompt_number": 3
    },
    {
     "cell_type": "markdown",
     "metadata": {},
     "source": [
      "17.12 Write a program to find all pairs of integers within an array which sum to a certain value.  "
     ]
    },
    {
     "cell_type": "code",
     "collapsed": false,
     "input": [
      "def pairs_of_sum(a, sum):\n",
      "    h = {}\n",
      "    for e in a:\n",
      "        if e in h:\n",
      "            h[sum - e] = e\n",
      "        else:\n",
      "            h[sum - e] = False\n",
      "    return [(k, v) for k, v in h.items() if v is not False]\n",
      "\n",
      "assert [(1, 9), (2, 8), (5, 5)] == sorted(pairs_of_sum([1, 2, 1, 5, 5, 5, 3, 9, 9, 8], 10))"
     ],
     "language": "python",
     "metadata": {},
     "outputs": [],
     "prompt_number": 4
    },
    {
     "cell_type": "markdown",
     "metadata": {},
     "source": [
      "17.13 Write a method to convert a binary tree to a doubly linked list. Keep the values in order while converting in-place.  "
     ]
    },
    {
     "cell_type": "markdown",
     "metadata": {},
     "source": [
      "<a id='17.14'></a>[17.14](#top) Oh, no! You have accidently removed all spaces, punctuation, and capitalization a document. A sentence like \"I reset the computer. It still didn't boot!\" would become \"iresetthecomputeritstillldidntboot\". You figure that you can add back in the punctuation and capitalization later, once you get the individual words properly separated. Most of the words will be in a dictionary, but some strings, like proper names, will not.  \n",
      "Given a dictionary (a list of words) design an algorithm to find the optimal way of un-concatenating a sequence of words. In this case, \"optimal\" is defined to be the parsing which minimizes the number of unrecognized sequences of characters, e.g., the string \"jesslookedjustliketimherbrother\" would be optimally parsed as \"JESS looked just like TIM her brother\". This parsing has seven unrecognized characters, which we have capitalized for clarity.  "
     ]
    },
    {
     "cell_type": "markdown",
     "metadata": {},
     "source": [
      "<a id='18.1'></a>[18.1](#18) Write a method that adds two numbers. You should not use the addition (+) arithmetic operator.  "
     ]
    },
    {
     "cell_type": "code",
     "collapsed": false,
     "input": [
      "def sum_(a, b):\n",
      "    return a if b == 0 else sum_(a^b, (a&b) << 1)\n",
      "\n",
      "assert 10 == sum_(7, 3)"
     ],
     "language": "python",
     "metadata": {},
     "outputs": [],
     "prompt_number": 5
    },
    {
     "cell_type": "markdown",
     "metadata": {},
     "source": [
      "<a id='18.2'></a>[18.2](#18) Write a method to shuffle a deck of cards. Each of the 52! permutations of the deck has to be equally probable."
     ]
    },
    {
     "cell_type": "code",
     "collapsed": false,
     "input": [
      "import random\n",
      "\n",
      "def knuth_suffle(a):\n",
      "    n = len(a)\n",
      "    for i in range(n):\n",
      "        j = i + random.randrange(n-i) # j is in i..n-1. \n",
      "        a[j], a[i] = a[i], a[j]\n",
      "    return a\n",
      "\n",
      "assert 52 == len(knuth_suffle(list(range(52)))) # shuffles a deck of 52 cards"
     ],
     "language": "python",
     "metadata": {},
     "outputs": [],
     "prompt_number": 6
    },
    {
     "cell_type": "markdown",
     "metadata": {},
     "source": [
      "<a id='18.3'></a>[18.3](#18) Write a method to randomly sample m integers out of n integers. Each element must have equal probability of being chosen."
     ]
    },
    {
     "cell_type": "code",
     "collapsed": false,
     "input": [
      "import random\n",
      "\n",
      "def reservoir_samples(io, k):\n",
      "    samples = []\n",
      "    count = 0\n",
      "    while True:\n",
      "        e = next(io, None)\n",
      "        if e is None:\n",
      "            break\n",
      "        count += 1\n",
      "        if len(samples) < k:\n",
      "            samples.append(e)\n",
      "        else:\n",
      "            i = random.randrange(count)\n",
      "            if i < k:\n",
      "                samples[i] = e\n",
      "    return samples\n",
      "\n",
      "assert 3 == len(reservoir_samples(iter(range(100)), 3))\n",
      "\n",
      "def weighted_choice(weights):\n",
      "    stop = random.randrange(sum(weights))\n",
      "    for i, e in enumerate(weights):\n",
      "        stop -= e\n",
      "        if stop < 0:\n",
      "            return i\n",
      "\n",
      "for _ in range(1000):\n",
      "    assert 0 <= weighted_choice([10, 20, 30, 40]) < 4"
     ],
     "language": "python",
     "metadata": {},
     "outputs": [],
     "prompt_number": 7
    },
    {
     "cell_type": "markdown",
     "metadata": {},
     "source": [
      "<a id='18.4'></a>[18.4](#18) Write a function to count the number of 2s that appear in all the numbers between 0 and n (inclusive), e.g., input: 25, output: 9 (2, 12, 20, 21, 22, 23, 24, and 25); note that 22 counts for two 2s.  "
     ]
    },
    {
     "cell_type": "code",
     "collapsed": false,
     "input": [
      "def count_2s_upto_E(E): # 1E+1 is 10; 1E+2 is 100.\n",
      "    return E * 10 ** (E-1) if E > 0 else 0\n",
      "\n",
      "def count_2s_upto(n):\n",
      "    count, b, d = 0, 0, n # a decimal (d) begins w/ a number (n).\n",
      "    while d > 0:\n",
      "        a = d % 10 # we look at a digit (aE+b) in each iteration.\n",
      "        count += a * count_2s_upto_E(b)\n",
      "        if a >= 3:\n",
      "            count += 10**b\n",
      "        if a == 2:\n",
      "            count += n % 10**b + 1\n",
      "        b, d = b+1, d//10\n",
      "    return count\n",
      "\n",
      "assert 1 == count_2s_upto(9)\n",
      "assert 20 == count_2s_upto(99)\n",
      "assert 300 == count_2s_upto(999)\n",
      "assert 3059 == count_2s_upto(6789)"
     ],
     "language": "python",
     "metadata": {},
     "outputs": [],
     "prompt_number": 11
    },
    {
     "cell_type": "markdown",
     "metadata": {},
     "source": [
      "<a id='18.5'></a>[18.5](#18) Given a large text file containing words, find the shortest distance between two or k words in terms of the number of words. What is the time and space complexity?  "
     ]
    },
    {
     "cell_type": "code",
     "collapsed": false,
     "input": [
      "from collections import deque\n",
      "import heapq\n",
      "\n",
      "def min_window(positions): # e.g., [[0, 89, 130], [95, 123, 177, 199], [70, 105, 117]], O(L*logK)\n",
      "    positions = [deque(e) for e in positions]\n",
      "    min_window = window = [e.popleft() for e in positions] # [0, 95, 70]\n",
      "    heap = []\n",
      "    for i, e in enumerate(window):\n",
      "        heapq.heappush(heap, (e, i)) # (position e, i).\n",
      "    while positions[heap[0][1]]: # positions[i] is non-empty.\n",
      "        i = heapq.heappop(heap)[1]\n",
      "        window[i] = positions[i].popleft()\n",
      "        min_window = min(min_window, window, key=lambda w: max(w) - min(w))\n",
      "        heapq.heappush(heap, (window[i], i))\n",
      "    return (min(min_window), max(min_window))\n",
      "\n",
      "assert (117, 130) == min_window([[0, 89, 130], [95, 123, 177, 199], [70, 105, 117]])"
     ],
     "language": "python",
     "metadata": {},
     "outputs": [],
     "prompt_number": 9
    },
    {
     "cell_type": "markdown",
     "metadata": {},
     "source": [
      "18.7 Given a list of words, write a program that returns the longest word made of other words, e.g., return \"doityourself\" given a list, \"doityourself\", \"do\", \"it\", \"yourself\", \"motherinlaw\", \"mother\", \"in\", \"law\".  "
     ]
    },
    {
     "cell_type": "code",
     "collapsed": false,
     "input": [
      "\n",
      "\n",
      "#   def self.compose(n, k, memos = {}) # compose n into k parts\n",
      "#     memos[n] ||= {}\n",
      "#     memos[n][k] ||= case\n",
      "#     when 0 == n || 0 == k\n",
      "#       []\n",
      "#     when 1 == n || 1 == k\n",
      "#       [[n]]\n",
      "#     else\n",
      "#       (1...n).reduce([]) do |compositions, e|\n",
      "#         compositions += compose(n-e, k-1, memos).map { |c| c + [e] }\n",
      "#       end\n",
      "#     end\n",
      "#   end\n",
      "\n",
      "# w = %w(approximation do it yourself doityourself motherinlaw mother in law).sort_by { |s| -s.size }\n",
      "# d = w.each_with_object({}) { |e, d| d[e] = true }\n",
      "# s = w.detect do |word|\n",
      "#   (2..3).any? do |k|\n",
      "#     comositions = Partitions.compose(word.size, k)\n",
      "#     Partitions.compose(word.size, k).any? do |composition|\n",
      "#       prefix_sums = composition.reduce([]) { |a, e| a << e + (a[-1] || 0) }\n",
      "#       words = (0...prefix_sums.size).map { |j| word[(j > 0 ? prefix_sums[j-1] : 0)...prefix_sums[j]] }\n",
      "#       words.all? { |k| d.has_key?(k) }\n",
      "#     end\n",
      "#   end\n",
      "# end\n",
      "\n",
      "assert 'doityourself' == s"
     ],
     "language": "python",
     "metadata": {},
     "outputs": [
      {
       "ename": "SyntaxError",
       "evalue": "invalid syntax (<ipython-input-10-85f31d15743e>, line 2)",
       "output_type": "pyerr",
       "traceback": [
        "\u001b[0;36m  File \u001b[0;32m\"<ipython-input-10-85f31d15743e>\"\u001b[0;36m, line \u001b[0;32m2\u001b[0m\n\u001b[0;31m    d = w.each_with_object({}) { |e, d| d[e] = true }\u001b[0m\n\u001b[0m                               ^\u001b[0m\n\u001b[0;31mSyntaxError\u001b[0m\u001b[0;31m:\u001b[0m invalid syntax\n"
       ]
      }
     ],
     "prompt_number": 10
    },
    {
     "cell_type": "markdown",
     "metadata": {},
     "source": [
      "18.8 Given a string s and an array of smaller strings Q, write a program to search s for each small string in Q.  "
     ]
    },
    {
     "cell_type": "code",
     "collapsed": false,
     "input": [
      "# http://en.wikipedia.org/wiki/Patricia_trie\n",
      "# https://raw.github.com/derat/trie/master/lib/trie.rb\n",
      "# https://raw.github.com/dustin/ruby-trie/master/lib/trie.rb\n",
      "class Trie:\n",
      "    def __init__(self):\n",
      "        self.value, self.children = None, {}\n",
      "\n",
      "    def __setitem__(self, key, value):\n",
      "        if isinstance(key, str):\n",
      "            key = list(key)\n",
      "        if len(key) == 0:\n",
      "            self.value = value\n",
      "        else:\n",
      "            self.children.setdefault(key[0], Trie())[key[1:]] = value\n",
      "\n",
      "    def __getitem__(self, key):\n",
      "        if isinstance(key, str):\n",
      "            key = list(key)\n",
      "        if len(key) == 0:\n",
      "            return value\n",
      "        elif key[0] in self.children:\n",
      "            return self.children[key[0]][key[1:]]\n",
      "\n",
      "    def path(self, key):\n",
      "        if isinstance(key, str):\n",
      "            key = list(key)\n",
      "        if 0 == len(key):\n",
      "            return self\n",
      "        elif key[0] in self.children:\n",
      "            return self.children[key[0]].path(key[1:])\n",
      "\n",
      "    def values(self):\n",
      "        values = [self.value] if self.value is not None else []\n",
      "        for c in self.children.values():\n",
      "            for v in c.values():\n",
      "                values.append(v)\n",
      "        return sorted(values)\n",
      "\n",
      "# a suffix tree of bananas\n",
      "s = 'bananas'\n",
      "suffix_tree = Trie()\n",
      "for i, e in enumerate(s):\n",
      "    suffix_tree[s[i:]] = i\n",
      "\n",
      "# all indices of query strings\n",
      "q = \"b ba n na nas s bas\".split(\" \")\n",
      "def indices_of(q):\n",
      "    trie = suffix_tree.path(q)\n",
      "    if trie is not None:\n",
      "        return trie.values()\n",
      "indices = [indices_of(e) for e in q]\n",
      "assert [[0], [0], [2, 4], [2, 4], [4], [6], None] == indices"
     ],
     "language": "python",
     "metadata": {},
     "outputs": []
    },
    {
     "cell_type": "markdown",
     "metadata": {},
     "source": [
      "18.9 Write a program that can quickly answer a median value, while random numbers are being generated and offered (a median bag).  "
     ]
    },
    {
     "cell_type": "markdown",
     "metadata": {},
     "source": [
      "18.10 Given two words of equal length that are in a dictionary, write a method to transform one word into another word by changing only one letter at a time. The new word you get in each step must be in the dictionary.  \n"
     ]
    },
    {
     "cell_type": "markdown",
     "metadata": {},
     "source": [
      "18.11 Given a square matrix of black and white cells, write a program to find the maximum sub-square such that all four borders are filled with black pixels.  "
     ]
    },
    {
     "cell_type": "markdown",
     "metadata": {},
     "source": [
      "18.12 Given a square matrix of positive and negatives integers, write a program to find the sub-matrix with the largest possible sum.  "
     ]
    },
    {
     "cell_type": "markdown",
     "metadata": {},
     "source": [
      "18.13 Given millions of words, write a program to create the largest possible rectangle of letters such that every row forms a word (reading left to right) and every column forms a word (reading top to bottom).  "
     ]
    }
   ],
   "metadata": {}
  }
 ]
}