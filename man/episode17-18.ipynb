{
 "metadata": {
  "name": "",
  "signature": "sha256:0fedaa190d2080e8b04372dfea4771521078c162e12194ddbe41ce3e08a39e5e"
 },
 "nbformat": 3,
 "nbformat_minor": 0,
 "worksheets": [
  {
   "cells": [
    {
     "cell_type": "markdown",
     "metadata": {},
     "source": [
      "#### <a id=\"top\"></a>17. [Moderate Problems](http://nbviewer.ipython.org/github/henry4j/-/blob/master/man/episode17-18.ipynb)\n",
      "\n",
      "[17.1](#17.1) Write a method to swap two numbers in place without using temporary variables.  \n",
      "[17.2](#17.2) Write a program to determine if someone has won a game of tic-tac-toe.  \n",
      "[17.3](#17.3) Write a method to compute the number of trailing zeros in n factorial.  \n",
      "[17.4](#17.4) Write a method to find the maximum of two numbers.  \n",
      "[17.5](#17.5) The Game of Master Mind is played as follows:  \n",
      "The computer has four slots, and each slot will contain a ball that is red (R), yellow (Y), green (G), or blue (B). For example, the computer might have RGGB (Slot #1 is red, Slot #2 and #3 are green, Slot #4 is blue).\n",
      "When you guess the correct color for the correct slot, you get a \"hit\". If you guess a color that exists but in the wrong slot, you get a \"pseudo-hit\". Note that a slot that is a hit can never count as a pseudo-hit. e.g.\n",
      "If the actual solution is RGBY and you guess GGRR, you have one hit and one pseudo-hit. Write a method that given a guess and a solution, return the number of hits and pseudo-hits.  \n",
      "[17.6](#17.6) Given an array of integers, write a method to find indices m and n such that if you sorted elements m through n, the entire array would be sorted. Minimize n - m (that is, find the smallest such sequence). e.g.  \n",
      "INPUT: 1, 2, 4, 7, 10, 11, 7, 12, 6, 7, 16, 18, 19  \n",
      "OUTPUT: 3, 9  \n",
      "[17.7](#17.7) Given any integer, print an English phrase that describes the integer (e.g. \"One Thousand. Two Hundred Thirty Four\").  \n",
      "[17.8](#17.8) Given an array of integers (both positive and negative), write a program to find the max sum sub-array (contiguous sequence).  \n",
      "[17.9](#17.9) Design a method to find the frequency of occurrences of any given word in a book.  \n",
      "17.11 Given a method rand5() that generates a random number between 1 and 5 (inclusive), write a method that generates a random number between 1 and 7 (inclusive).  \n",
      "17.12 Write a program to find all pairs of integers within an array which sum to a certain value.  \n",
      "17.13 Write a method to convert a binary tree to a doubly linked list. Keep the values in order while converting in-place.  \n",
      "17.14 Oh, no! You have accidently removed all spaces, punctuation, and capitalization a document. A sentence like \"I reset the computer. It still didn't boot!\" would become \"iresetthecomputeritstillldidntboot\". You figure that you can add back in the punctuation and capitalization later, once you get the individual words properly separated. Most of the words will be in a dictionary, but some strings, like proper names, will not.  \n",
      "Given a dictionary (a list of words) design an algorithm to find the optimal way of un-concatenating a sequence of words. In this case, \"optimal\" is defined to be the parsing which minimizes the number of unrecognized sequences of characters, e.g., the string \"jesslookedjustliketimherbrother\" would be optimally parsed as \"JESS looked just like TIM her brother\". This parsing has seven unrecognized characters, which we have capitalized for clarity.  "
     ]
    },
    {
     "cell_type": "markdown",
     "metadata": {},
     "source": [
      "#### <a id=\"18\"></a>[18](#top). Hard Problems\n",
      "\n",
      "18.1 Write a method that adds two numbers. You should not use the addition (+) arithmetic operator.  \n",
      "18.2 Write a method to shuffle a deck of cards. Each of the 52! permutations of the deck has to be equally probable.  \n",
      "18.3 Write a method to randomly sample m integers out of n integers. Each element must have equal probability of being chosen.  \n",
      "18.4 Write a function to count the number of 2s that appear in all the numbers between 0 and n (inclusive), e.g., input: 25, output: 9 (2, 12, 20, 21, 22, 23, 24, and 25); note that 22 counts for two 2s.  \n",
      "18.5 Given a large text file containing words, find the shortest distance between two or k words in terms of the number of words. What is the time and space complexity?  \n",
      "18.6 Write a program to find the smallest one million numbers in one billion numbers. Assume that the computer memory can hold all one billion numbers.  \n",
      "18.7 Given a list of words, write a program that returns the longest word made of other words, e.g., return \"doityourself\" given a list, \"doityourself\", \"do\", \"it\", \"yourself\", \"motherinlaw\", \"mother\", \"in\", \"law\".  \n",
      "18.8 Given a string s and an array of smaller strings Q, write a program to search s for each small string in Q.  \n",
      "18.9 Write a program that can quickly answer a median value, while random numbers are being generated and offered (a median bag).  \n",
      "18.10 Given two words of equal length that are in a dictionary, write a method to transform one word into another word by changing only one letter at a time. The new word you get in each step must be in the dictionary.  \n",
      "18.11 Given a square matrix of black and white cells, write a program to find the maximum sub-square such that all four borders are filled with black pixels.  \n",
      "18.12 Given a square matrix of positive and negatives integers, write a program to find the sub-matrix with the largest possible sum.  \n",
      "18.13 Given millions of words, write a program to create the largest possible rectangle of letters such that every row forms a word (reading left to right) and every column forms a word (reading top to bottom).  "
     ]
    },
    {
     "cell_type": "markdown",
     "metadata": {},
     "source": [
      "<a id='17.1'></a>[17.1](#top) Write a method to swap two numbers in place without using temporary variables."
     ]
    },
    {
     "cell_type": "markdown",
     "metadata": {},
     "source": [
      "<a id='17.2'></a>[17.2](#top) Write a program to determine if someone has won a game of tic-tac-toe."
     ]
    },
    {
     "cell_type": "markdown",
     "metadata": {},
     "source": [
      "<a id='17.3'></a>[17.3](#top) Write a method to compute the number of trailing zeros in n factorial."
     ]
    },
    {
     "cell_type": "markdown",
     "metadata": {},
     "source": [
      "<a id='17.4'></a>[17.4](#top) Write a method to find the maximum of two numbers."
     ]
    },
    {
     "cell_type": "markdown",
     "metadata": {},
     "source": [
      "<a id='17.5'></a>[17.5](#top) The Game of Master Mind is played as follows:  \n",
      "The computer has four slots, and each slot will contain a ball that is red (R), yellow (Y), green (G), or blue (B). For example, the computer might have RGGB (Slot #1 is red, Slot #2 and #3 are green, Slot #4 is blue).\n",
      "When you guess the correct color for the correct slot, you get a \"hit\". If you guess a color that exists but in the wrong slot, you get a \"pseudo-hit\". Note that a slot that is a hit can never count as a pseudo-hit. e.g.\n",
      "If the actual solution is RGBY and you guess GGRR, you have one hit and one pseudo-hit. Write a method that given a guess and a solution, return the number of hits and pseudo-hits.  "
     ]
    },
    {
     "cell_type": "markdown",
     "metadata": {},
     "source": [
      "17.6 Given an array of integers, write a method to find indices m and n such that if you sorted elements m through n, the entire array would be sorted. Minimize n - m (that is, find the smallest such sequence). e.g.  \n",
      "INPUT: 1, 2, 4, 7, 10, 11, 7, 12, 6, 7, 16, 18, 19  \n",
      "OUTPUT: 3, 9  "
     ]
    },
    {
     "cell_type": "markdown",
     "metadata": {},
     "source": [
      "17.7 Given any integer, print an English phrase that describes the integer (e.g. \"One Thousand. Two Hundred Thirty Four\").  "
     ]
    },
    {
     "cell_type": "markdown",
     "metadata": {},
     "source": [
      "17.8 Given an array of integers (both positive and negative), write a program to find the max sum sub-array (contiguous sequence).  "
     ]
    },
    {
     "cell_type": "markdown",
     "metadata": {},
     "source": [
      "17.9 Design a method to find the frequency of occurrences of any given word in a book.  "
     ]
    },
    {
     "cell_type": "markdown",
     "metadata": {},
     "source": [
      "17.11 Given a method rand5() that generates a random number between 1 and 5 (inclusive), write a method that generates a random number between 1 and 7 (inclusive).  "
     ]
    },
    {
     "cell_type": "markdown",
     "metadata": {},
     "source": [
      "17.12 Write a program to find all pairs of integers within an array which sum to a certain value.  "
     ]
    },
    {
     "cell_type": "markdown",
     "metadata": {},
     "source": [
      "17.13 Write a method to convert a binary tree to a doubly linked list. Keep the values in order while converting in-place.  "
     ]
    },
    {
     "cell_type": "markdown",
     "metadata": {},
     "source": [
      "<a id='17.14'></a>[17.14](#top) Oh, no! You have accidently removed all spaces, punctuation, and capitalization a document. A sentence like \"I reset the computer. It still didn't boot!\" would become \"iresetthecomputeritstillldidntboot\". You figure that you can add back in the punctuation and capitalization later, once you get the individual words properly separated. Most of the words will be in a dictionary, but some strings, like proper names, will not.  \n",
      "Given a dictionary (a list of words) design an algorithm to find the optimal way of un-concatenating a sequence of words. In this case, \"optimal\" is defined to be the parsing which minimizes the number of unrecognized sequences of characters, e.g., the string \"jesslookedjustliketimherbrother\" would be optimally parsed as \"JESS looked just like TIM her brother\". This parsing has seven unrecognized characters, which we have capitalized for clarity.  "
     ]
    },
    {
     "cell_type": "code",
     "collapsed": false,
     "input": [],
     "language": "python",
     "metadata": {},
     "outputs": []
    }
   ],
   "metadata": {}
  }
 ]
}