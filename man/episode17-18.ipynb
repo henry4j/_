{
 "metadata": {
  "name": "",
  "signature": "sha256:6ff407b97862ed4b7c9fcba6c1fb808b13678d875f0d38bf5414a938ec6c62b2"
 },
 "nbformat": 3,
 "nbformat_minor": 0,
 "worksheets": [
  {
   "cells": [
    {
     "cell_type": "markdown",
     "metadata": {},
     "source": [
      "#### <a id=\"top\"></a>17. [Moderate Problems](http://nbviewer.ipython.org/github/henry4j/-/blob/master/man/episode17-18.ipynb)\n",
      "\n",
      "**Gotchas**: trailing-zeros(n), count-twos(n), unordered(a), maxsum-submatrix, **query in suffix-tree/trie**, median bag, **quickfind-k**, **min-word-window(positions)**, knuth-shuffle(a), reservoir-samples(iter, k), longest compound words, largest word rectangles.\n",
      "\n",
      "[17.1](#17.1) Write a method to swap two numbers in place without using temporary variables.  \n",
      "[17.2](#17.2) Write a program to determine if someone has won a game of tic-tac-toe.  \n",
      "[17.3](#17.3) Write a method to compute the number of trailing zeros in n factorial.  \n",
      "[17.4](#17.4) Write a method to find the maximum of two numbers.  \n",
      "[17.5](#17.5) The Game of Master Mind is played as follows:  \n",
      "The computer has four slots, and each slot will contain a ball that is red (R), yellow (Y), green (G), or blue (B). For example, the computer might have RGGB (Slot #1 is red, Slot #2 and #3 are green, Slot #4 is blue).\n",
      "When you guess the correct color for the correct slot, you get a \"hit\". If you guess a color that exists but in the wrong slot, you get a \"pseudo-hit\". Note that a slot that is a hit can never count as a pseudo-hit. e.g.\n",
      "If the actual solution is RGBY and you guess GGRR, you have one hit and one pseudo-hit. Write a method that given a guess and a solution, return the number of hits and pseudo-hits.  \n",
      "[17.6](#17.6) Given an array of integers, write a method to find indices m and n such that if you sorted elements m through n, the entire array would be sorted. Minimize n - m (that is, find the smallest such sequence). e.g.  \n",
      "INPUT: 1, 2, 4, 7, 10, 11, 7, 12, 6, 7, 16, 18, 19  \n",
      "OUTPUT: 3, 9  \n",
      "[17.7](#17.7) Given any integer, print an English phrase that describes the integer (e.g. \"One Thousand. Two Hundred Thirty Four\").  \n",
      "[17.8](#17.8) Given an array of integers (both positive and negative), write a program to find the max sum sub-array (contiguous sequence).  \n",
      "[17.9](#17.9) Design a method to find the frequency of occurrences of any given word in a book.  \n",
      "[17.11](#17.11) Given a method rand5() that generates a random number between 1 and 5 (inclusive), write a method that generates a random number between 1 and 7 (inclusive).  \n",
      "[17.12](#17.12) Write a program to find all pairs of integers within an array which sum to a certain value.  \n",
      "[17.13](#17.13) Write a method to convert a binary tree to a doubly linked list. Keep the values in order while converting in-place.  \n",
      "[17.14](#17.14) Oh, no! You have accidently removed all spaces, punctuation, and capitalization a document. A sentence like \"I reset the computer. It still didn't boot!\" would become \"iresetthecomputeritstillldidntboot\". You figure that you can add back in the punctuation and capitalization later, once you get the individual words properly separated. Most of the words will be in a dictionary, but some strings, like proper names, will not.  \n",
      "Given a dictionary (a list of words) design an algorithm to find the optimal way of un-concatenating a sequence of words. In this case, \"optimal\" is defined to be the parsing which minimizes the number of unrecognized sequences of characters, e.g., the string \"jesslookedjustliketimherbrother\" would be optimally parsed as \"JESS looked just like TIM her brother\". This parsing has seven unrecognized characters, which we have capitalized for clarity.  "
     ]
    },
    {
     "cell_type": "markdown",
     "metadata": {},
     "source": [
      "#### <a id=\"18\"></a>[18](#top). Hard Problems\n",
      "\n",
      "[18.1](#18.1) Write a method that adds two numbers. You should not use the addition (+) arithmetic operator.  \n",
      "[18.2](#18.2) Write a method to shuffle a deck of cards. Each of the 52! permutations of the deck has to be equally probable.  \n",
      "[18.3](#18.3) Write a method to randomly sample m integers out of n integers. Each element must have equal probability of being chosen.  \n",
      "[18.4](#18.4) Write a function to count the number of 2s that appear in all the numbers between 0 and n (inclusive), e.g., input: 25, output: 9 (2, 12, 20, 21, 22, 23, 24, and 25); note that 22 counts for two 2s.  \n",
      "[18.5](#18.5) Given a large text file containing words, find the shortest distance between two or k words in terms of the number of words. What is the time and space complexity?  \n",
      "[18.6](#18.6) Write a program to find the smallest one million numbers in one billion numbers. Assume that the computer memory can hold all one billion numbers.  \n",
      "[18.7](#18.7) Given a list of words, write a program that returns the longest word made of other words, e.g., return \"doityourself\" given a list, \"doityourself\", \"do\", \"it\", \"yourself\", \"motherinlaw\", \"mother\", \"in\", \"law\".  \n",
      "[18.8](#18.8) Given a string s and an array of smaller strings Q, write a program to search s for each small string in Q.  \n",
      "[18.9](#18.9) Write a program that can quickly answer a median value, while random numbers are being generated and offered (a median bag).  \n",
      "[18.10](#18.10) Given two words of equal length that are in a dictionary, write a method to transform one word into another word by changing only one letter at a time. The new word you get in each step must be in the dictionary.  \n",
      "[18.11](#18.11) Given a square matrix of black and white cells, write a program to find the maximum sub-square such that all four borders are filled with black pixels.  \n",
      "[18.12](#18.12) Given a square matrix of positive and negatives integers, write a program to find the sub-matrix with the largest possible sum.  \n",
      "[18.13](#18.13) Given millions of words, write a program to create the largest possible rectangle of letters such that every row forms a word (reading left to right) and every column forms a word (reading top to bottom).  "
     ]
    },
    {
     "cell_type": "markdown",
     "metadata": {},
     "source": [
      "<a id='17.2'></a>[17.2](#top) Write a program to determine if someone has won a game of tic-tac-toe."
     ]
    },
    {
     "cell_type": "markdown",
     "metadata": {},
     "source": [
      "<a id='17.3'></a>[17.3](#top) Write a method to compute the number of trailing zeros in n factorial."
     ]
    },
    {
     "cell_type": "code",
     "collapsed": false,
     "input": [
      "def trailing_zeros(n):\n",
      "    count = 0\n",
      "    while n > 4:\n",
      "        count, n = count + n//5, n//5\n",
      "    return count\n",
      "\n",
      "assert 6 == trailing_zeros(25)\n",
      "assert 7 == trailing_zeros(30)"
     ],
     "language": "python",
     "metadata": {},
     "outputs": [],
     "prompt_number": 1
    },
    {
     "cell_type": "markdown",
     "metadata": {},
     "source": [
      "<a id='17.5'></a>[17.5](#top) The Game of Master Mind is played as follows:  \n",
      "The computer has four slots, and each slot will contain a ball that is red (R), yellow (Y), green (G), or blue (B). For example, the computer might have RGGB (Slot #1 is red, Slot #2 and #3 are green, Slot #4 is blue).\n",
      "When you guess the correct color for the correct slot, you get a \"hit\". If you guess a color that exists but in the wrong slot, you get a \"pseudo-hit\". Note that a slot that is a hit can never count as a pseudo-hit. e.g.\n",
      "If the actual solution is RGBY and you guess GGRR, you have one hit and one pseudo-hit. Write a method that given a guess and a solution, return the number of hits and pseudo-hits."
     ]
    },
    {
     "cell_type": "code",
     "collapsed": false,
     "input": [
      "def mind(facts, guess): # points and pseudo-points\n",
      "    points = 0\n",
      "    f, g = {}, {}\n",
      "    for i in range(4):\n",
      "        if facts[i] == guess[i]:\n",
      "            points += 1\n",
      "        else:\n",
      "            f[facts[i]] = f.get(facts[i], 0) + 1\n",
      "            g[guess[i]] = g.get(guess[i], 0) + 1\n",
      "    return points + sum(min(f.get(k, 0), v) for k, v in g.items())\n",
      "\n",
      "assert 2 == mind(\"RGBY\", \"GGRR\")\n",
      "assert 4 == mind(\"RGBY\", \"RGBY\") and 4 == mind(\"RGBY\", \"GBYR\")"
     ],
     "language": "python",
     "metadata": {},
     "outputs": [],
     "prompt_number": 2
    },
    {
     "cell_type": "markdown",
     "metadata": {},
     "source": [
      "<a id='17.6'></a>[17.6](#top) Given an array of integers, write a method to find indices m and n such that if you sorted elements m through n, the entire array would be sorted. Minimize n - m (that is, find the smallest such sequence). e.g.\n",
      "INPUT: 1, 2, 4, 7, 10, 11, 7, 12, 6, 7, 16, 18, 19, OUTPUT: 3, 9"
     ]
    },
    {
     "cell_type": "code",
     "collapsed": false,
     "input": [
      "from itertools import *\n",
      "\n",
      "def unordered(a): # return 3, 2 given \n",
      "    maxima = list(accumulate(a, max))\n",
      "    minima = list(accumulate(reversed(a), min))\n",
      "    end = next((i for i in range(len(a)-1, -1, -1) if maxima[i] != a[i]), -1)\n",
      "    begin = next((i for i, e in enumerate(a) if minima[-1-i] != e), -1)\n",
      "    return (begin, end)\n",
      "\n",
      "cases = (range(6), [1, 0, 2, 3, 4], [0, 1, 2, 4, 3], [0, 1, 3, 2, 4])\n",
      "assert [(-1, -1), (0, 1), (3, 4), (2, 3)] == [unordered(c) for c in cases]"
     ],
     "language": "python",
     "metadata": {},
     "outputs": [],
     "prompt_number": 3
    },
    {
     "cell_type": "markdown",
     "metadata": {},
     "source": [
      "<a id='17.7'></a>[17.7](#top) Given any integer, print an English phrase that describes the integer (e.g. \"One Thousand. Two Hundred Thirty Four\").  "
     ]
    },
    {
     "cell_type": "code",
     "collapsed": false,
     "input": [
      "digits = [None, \"One\", \"Two\", \"Three\", \"Four\", \"Five\", \"Six\", \"Seven\", \"Eight\", \"Nine\"]\n",
      "teens = [\"Ten\", \"Eleven\", \"Twelve\", \"Thirteen\", \"Fourteen\", \"Fifteen\", \"Sixteen\", \"Seventeen\", \"Eighteen\", \"Nineteen\"]\n",
      "tens = [None, \"Ten\", \"Twenty\", \"Thirty\", \"Forty\", \"Fifty\", \"Sixty\", \"Seventy\", \"Eighty\", \"Ninety\"]\n",
      "bigs = [None, \"Thousand\", \"Million\"]\n",
      "\n",
      "def read(d, x1000=0):\n",
      "    if d < 0:\n",
      "        return (\"Negative\",) + read(-decimal, x1000)\n",
      "    if d == 0:\n",
      "        return (\"Zero\",) if x1000 == 0 else ()\n",
      "    return read(d//1000, x1000+1) + read3d(d%1000) + \\\n",
      "           ((bigs[x1000],) if x1000 > 0 else ()) \n",
      "\n",
      "def read3d(d):\n",
      "    if d == 0:\n",
      "        return ()\n",
      "    if d >= 100:\n",
      "        return (digits[d // 100], \"Hundred\") + read3d(d % 100)\n",
      "    if 10 < d < 20:\n",
      "        return (teens[d - 10],)\n",
      "    if d == 10 or d > 19:\n",
      "        return (tens[d // 10],) + read3d(d % 10)\n",
      "    return (digits[d],)\n",
      "\n",
      "assert ('Zero',) == read(0)\n",
      "assert ('Ten', 'Million', 'Two', 'Hundred', 'Twelve', 'Thousand', 'Twenty', 'One') == read(10212021)"
     ],
     "language": "python",
     "metadata": {},
     "outputs": [],
     "prompt_number": 4
    },
    {
     "cell_type": "markdown",
     "metadata": {},
     "source": [
      "<a id='17.8'></a>[17.8](#top) Given an array of integers (both positive and negative), write a program to find the max sum sub-array (contiguous sequence).  "
     ]
    },
    {
     "cell_type": "code",
     "collapsed": false,
     "input": [
      "# Kadane's algorithm http://en.wikipedia.org/wiki/Maximum_subarray_problem\n",
      "def maxsum_subarray(a):\n",
      "    sum_ = max_sum = left = 0\n",
      "    max_range = (0, 0)\n",
      "    for right, e in enumerate(a):\n",
      "        if sum_ > 0:\n",
      "            sum_ = sum_ + e\n",
      "        else:\n",
      "            left = right; sum_ = e\n",
      "        if sum_ > max_sum:\n",
      "            max_sum = sum_; max_range = (left, right)\n",
      "    return (max_sum, max_range)\n",
      "\n",
      "assert (5, (1, 4)) == maxsum_subarray([-2, 1, 3, -3, 4, -2, -1, 3])"
     ],
     "language": "python",
     "metadata": {},
     "outputs": [],
     "prompt_number": 5
    },
    {
     "cell_type": "markdown",
     "metadata": {},
     "source": [
      "<a id='17.9'></a>[17.9](#top) Design a method to find the frequency of occurrences of any given word in a book.  "
     ]
    },
    {
     "cell_type": "markdown",
     "metadata": {},
     "source": [
      "<a id='17.11'></a>[17.11](#top) Given a method rand5() that generates a random number between 1 and 5 (inclusive), write a method that generates a random number between 1 and 7 (inclusive).  "
     ]
    },
    {
     "cell_type": "code",
     "collapsed": false,
     "input": [
      "import random\n",
      "\n",
      "def rand5():\n",
      "    return random.randrange(5) + 1\n",
      "\n",
      "def rand7():\n",
      "    rand21 = 0\n",
      "    while rand21 <= 21:\n",
      "        rand21 = 5 * (rand5() - 1) + rand5()\n",
      "    return rand21 % 7 + 1 # 1, 2, ..., 7\n",
      "\n",
      "for _ in range(100):\n",
      "    assert 0 < rand7() < 8"
     ],
     "language": "python",
     "metadata": {},
     "outputs": [],
     "prompt_number": 6
    },
    {
     "cell_type": "markdown",
     "metadata": {},
     "source": [
      "<a id='17.12'></a>[17.12](#top) Write a program to find all pairs of integers within an array which sum to a certain value.  "
     ]
    },
    {
     "cell_type": "code",
     "collapsed": false,
     "input": [
      "def pair_of_sum(a, sum_):\n",
      "    h = {}\n",
      "    for e in a:\n",
      "        h[sum_ - e] = e if e in h else False\n",
      "    return [(k, v) for k, v in h.items() if v is not False]\n",
      "\n",
      "assert [(1, 9), (2, 8), (5, 5)] == sorted(pair_of_sum([1, 2, 1, 5, 5, 5, 3, 9, 9, 8], 10))"
     ],
     "language": "python",
     "metadata": {},
     "outputs": [],
     "prompt_number": 7
    },
    {
     "cell_type": "markdown",
     "metadata": {},
     "source": [
      "<a id='17.13'></a>[17.13](#top) Write a method to convert a binary tree to a doubly linked list. Keep the values in order while converting in-place.  "
     ]
    },
    {
     "cell_type": "markdown",
     "metadata": {},
     "source": [
      "<a id='17.14'></a>[17.14](#top) Oh, no! You have accidently removed all spaces, punctuation, and capitalization a document. A sentence like \"I reset the computer. It still didn't boot!\" would become \"iresetthecomputeritstillldidntboot\". You figure that you can add back in the punctuation and capitalization later, once you get the individual words properly separated. Most of the words will be in a dictionary, but some strings, like proper names, will not.  \n",
      "Given a dictionary (a list of words) design an algorithm to find the optimal way of un-concatenating a sequence of words. In this case, \"optimal\" is defined to be the parsing which minimizes the number of unrecognized sequences of characters, e.g., the string \"jesslookedjustliketimherbrother\" would be optimally parsed as \"JESS looked just like TIM her brother\". This parsing has seven unrecognized characters, which we have capitalized for clarity.  "
     ]
    },
    {
     "cell_type": "code",
     "collapsed": false,
     "input": [
      "# http://stackoverflow.com/questions/5310756/split-a-string-to-a-string-of-valid-words-using-dynamic-programming\n",
      "# https://web.cs.dal.ca/~whidden/CS3110/assignments/a8_solution.pdf"
     ],
     "language": "python",
     "metadata": {},
     "outputs": [],
     "prompt_number": 8
    },
    {
     "cell_type": "markdown",
     "metadata": {},
     "source": [
      "<a id='18.1'></a>[18.1](#18) Write a method that adds two numbers. You should not use the addition (+) arithmetic operator.  "
     ]
    },
    {
     "cell_type": "code",
     "collapsed": false,
     "input": [
      "def sum_(a, b): # ones and carries\n",
      "    return sum_(a^b, (a&b) << 1) if b>0 else a\n",
      "\n",
      "assert 10 == sum_(7, 3)"
     ],
     "language": "python",
     "metadata": {},
     "outputs": [],
     "prompt_number": 9
    },
    {
     "cell_type": "markdown",
     "metadata": {},
     "source": [
      "<a id='18.2'></a>[18.2](#18) Write a method to shuffle a deck of cards. Each of the 52! permutations of the deck has to be equally probable."
     ]
    },
    {
     "cell_type": "code",
     "collapsed": false,
     "input": [
      "import random\n",
      "\n",
      "def knuth_suffle(a):\n",
      "    n = len(a)\n",
      "    for i in range(n):\n",
      "        j = i + random.randrange(n-i) # j is in i..n-1. \n",
      "        a[j], a[i] = a[i], a[j]\n",
      "    return a\n",
      "\n",
      "assert 52 == len(knuth_suffle(list(range(52)))) # shuffles a deck of 52 cards"
     ],
     "language": "python",
     "metadata": {},
     "outputs": [],
     "prompt_number": 10
    },
    {
     "cell_type": "markdown",
     "metadata": {},
     "source": [
      "<a id='18.3'></a>[18.3](#18) Write a method to randomly sample m integers out of n integers. Each element must have equal probability of being chosen."
     ]
    },
    {
     "cell_type": "code",
     "collapsed": false,
     "input": [
      "import random\n",
      "\n",
      "def reservoir_samples(iterable, k):\n",
      "    samples = []\n",
      "    count = 0\n",
      "    for e in iterable:\n",
      "        count += 1\n",
      "        if len(samples) < k:\n",
      "            samples.append(e)\n",
      "        else:\n",
      "            i = random.randrange(count)\n",
      "            if i < k:\n",
      "                samples[i] = e\n",
      "    return samples\n",
      "\n",
      "assert 3 == len(reservoir_samples(iter(range(100)), 3))\n",
      "\n",
      "def weighted_choice(weights):\n",
      "    stop = random.randrange(sum(weights))\n",
      "    for i, e in enumerate(weights):\n",
      "        stop -= e\n",
      "        if stop < 0:\n",
      "            return i\n",
      "\n",
      "for _ in range(1000):\n",
      "    assert 0 <= weighted_choice([10, 20, 30, 40]) < 4"
     ],
     "language": "python",
     "metadata": {},
     "outputs": [],
     "prompt_number": 11
    },
    {
     "cell_type": "markdown",
     "metadata": {},
     "source": [
      "<a id='18.4'></a>[18.4](#18) Write a function to count the number of 2s that appear in all the numbers between 0 and n (inclusive), e.g., input: 25, output: 9 (2, 12, 20, 21, 22, 23, 24, and 25); note that 22 counts for two 2s.  "
     ]
    },
    {
     "cell_type": "code",
     "collapsed": false,
     "input": [
      "def count_2s_upto_E(E): # 1E+1 is 10; 1E+2 is 100.\n",
      "    return E * 10 ** (E-1) if E > 0 else 0\n",
      "\n",
      "def count_2s_upto(n):\n",
      "    count, b, d = 0, 0, n # a decimal (d) begins w/ a number (n).\n",
      "    while d > 0:\n",
      "        a = d % 10 # we look at a digit (aE+b) in each iteration.\n",
      "        count += a * count_2s_upto_E(b)\n",
      "        if a >= 3:\n",
      "            count += 10**b\n",
      "        if a == 2:\n",
      "            count += n % 10**b + 1\n",
      "        b, d = b+1, d//10\n",
      "    return count\n",
      "\n",
      "assert 1 == count_2s_upto(9)\n",
      "assert 20 == count_2s_upto(99)\n",
      "assert 300 == count_2s_upto(999)\n",
      "assert 3059 == count_2s_upto(6789)"
     ],
     "language": "python",
     "metadata": {},
     "outputs": [],
     "prompt_number": 12
    },
    {
     "cell_type": "markdown",
     "metadata": {},
     "source": [
      "<a id='18.5'></a>[18.5](#18) Given a large text file containing words, find the shortest distance between two or k words in terms of the number of words. What is the time and space complexity?  "
     ]
    },
    {
     "cell_type": "code",
     "collapsed": false,
     "input": [
      "from collections import deque\n",
      "import heapq\n",
      "\n",
      "def min_word_window(positions): # e.g., [[0, 89, 130], [95, 123, 177, 199], [70, 105, 117]], O(L*logK)\n",
      "    positions = [deque(e) for e in positions]\n",
      "    min_window = window = [e.popleft() for e in positions] # [0, 95, 70]\n",
      "    heap = []\n",
      "    for i, e in enumerate(window):\n",
      "        heapq.heappush(heap, (e, i)) # (position e, i).\n",
      "    while positions[heap[0][1]]: # positions[i] is non-empty.\n",
      "        i = heapq.heappop(heap)[1]\n",
      "        window[i] = positions[i].popleft()\n",
      "        min_window = min(min_window, window, key=lambda w: max(w) - min(w))\n",
      "        heapq.heappush(heap, (window[i], i))\n",
      "    return (min(min_window), max(min_window))\n",
      "\n",
      "assert (117, 130) == min_word_window([[0, 89, 130], [95, 123, 177, 199], [70, 105, 117]])"
     ],
     "language": "python",
     "metadata": {},
     "outputs": [],
     "prompt_number": 13
    },
    {
     "cell_type": "markdown",
     "metadata": {},
     "source": [
      "<a id='18.6'></a>[18.6](#18) Write a program to find the smallest one million numbers in one billion numbers. Assume that the computer memory can hold all one billion numbers."
     ]
    },
    {
     "cell_type": "code",
     "collapsed": false,
     "input": [
      "import random\n",
      "\n",
      "def quicksort_k(a, k=0, start=0, stop=None, key=None):\n",
      "    quickfind_k(a, k, start, stop, True, key)\n",
      "    return a\n",
      "\n",
      "# http://en.wikipedia.org/wiki/Selection_algorithm#Optimised_sorting_algorithms\n",
      "def quickfind_k(a, k=0, start=0, stop=None, sort=False, key=None):\n",
      "    if stop is None:\n",
      "        stop = len(a)\n",
      "    if stop - start > 1:\n",
      "        pivot = partition(a, start, stop, key)\n",
      "        if k < pivot or sort:\n",
      "            quickfind_k(a, k, start, pivot, sort, key)\n",
      "        if pivot < k:\n",
      "            quickfind_k(a, k, pivot+1, stop, sort, key)\n",
      "    return a\n",
      "\n",
      "def partition(a, start, stop=None, key=None):\n",
      "    if stop is None:\n",
      "        stop = len(a)\n",
      "    if key is None:\n",
      "        key = lambda e: e\n",
      "    pivot = start + random.randrange(stop - start)\n",
      "    a[pivot], a[start], pivot = a[start], a[pivot], start\n",
      "    for i in range(start+1, stop):\n",
      "        if key(a[i]) < key(a[start]):\n",
      "            pivot += 1\n",
      "            a[pivot], a[i] = a[i], a[pivot]\n",
      "    a[pivot], a[start] = a[start], a[pivot]\n",
      "    return pivot\n",
      "\n",
      "for _ in range(1000):\n",
      "    assert [0, 1] == quickfind_k([9, 8, 7, 6, 5, 4, 3, 2, 1, 0], 1)[:2]\n",
      "    assert 2 == quickfind_k([9, 8, 7, 6, 5, 4, 3, 2, 1, 0], 2)[2]\n",
      "    assert 3 == quickfind_k([9, 8, 7, 6, 5, 4, 3, 2, 1, 0], 3)[3]\n",
      "    assert [0, 1, 2, 3] == quicksort_k([9, 8, 7, 6, 5, 4, 3, 2, 1, 0], 3)[:4]"
     ],
     "language": "python",
     "metadata": {},
     "outputs": [],
     "prompt_number": 14
    },
    {
     "cell_type": "markdown",
     "metadata": {},
     "source": [
      "<a id='18.7'></a>[18.7](#18) Given a list of words, write a program that returns the longest word made of other words, e.g., return \"doityourself\" given a list, \"doityourself\", \"do\", \"it\", \"yourself\", \"motherinlaw\", \"mother\", \"in\", \"law\".  "
     ]
    },
    {
     "cell_type": "code",
     "collapsed": false,
     "input": [
      "from itertools import *\n",
      "\n",
      "def compose(n, k, memos={}):\n",
      "    memos.setdefault(n, {})\n",
      "    def compute(n, k):\n",
      "        if k == 1:\n",
      "            return [(n,)]\n",
      "        else:\n",
      "            return [(e,) + c for e in range(1, n) for c in compose(n-e, k-1)]\n",
      "    return memos[n].get(k) or memos[n].setdefault(k, compute(n, k))\n",
      "\n",
      "def longest_compound_words(d):\n",
      "    for w in sorted(d):\n",
      "        for k in range(2, 4):\n",
      "            for composition in compose(len(w), k):\n",
      "                prefix_sums = list(accumulate(composition))\n",
      "                words = [w[(prefix_sums[j-1] if j > 0 else 0):prefix_sums[j]] for j in range(k)]\n",
      "                if all([w in d for w in words]):\n",
      "                    yield w\n",
      "\n",
      "assert [(1, 1, 2), (1, 2, 1), (2, 1, 1)] == compose(4, 3)\n",
      "d = set(\"approximation;do;it;yourself;doityourself;motherinlaw;mother in law\".split(\";\"))\n",
      "assert \"doityourself\" == next(longest_compound_words(d))"
     ],
     "language": "python",
     "metadata": {},
     "outputs": [],
     "prompt_number": 15
    },
    {
     "cell_type": "markdown",
     "metadata": {},
     "source": [
      "<a id='18.8'></a>[18.8](#18) Given a string s and an array of smaller strings Q, write a program to search s for each small string in Q.  "
     ]
    },
    {
     "cell_type": "code",
     "collapsed": false,
     "input": [
      "class Trie:\n",
      "    def __init__(self):\n",
      "        self.children, self.value = {}, None\n",
      "\n",
      "    def __setitem__(self, k, v):\n",
      "        if len(k):\n",
      "            if k[0] not in self.children:\n",
      "                self.children[k[0]] = Trie()\n",
      "            self.children[k[0]][k[1:]] = v\n",
      "        else:\n",
      "            self.value = v\n",
      "\n",
      "    def __getitem__(self, k):\n",
      "        if len(k):\n",
      "            if k[0] in self.children:\n",
      "                return self.children[k[0]][k[1:]]\n",
      "        else:\n",
      "            return self.value\n",
      "\n",
      "    def path(self, k):\n",
      "        if len(k):\n",
      "            if k[0] in self.children:\n",
      "                return self.children[k[0]].path(k[1:])\n",
      "        else:\n",
      "            return self\n",
      "\n",
      "    def values(self):\n",
      "        if self.value is not None:\n",
      "            yield self.value\n",
      "        for c in self.children.values():\n",
      "            for v in c.values():\n",
      "                yield v\n",
      "\n",
      "s, tree = \"bananas\", Trie()\n",
      "for i, _ in enumerate(s):\n",
      "    tree[s[i:]] = i\n",
      "\n",
      "# all indices of query strings\n",
      "def indices_of(q):\n",
      "    trie = tree.path(q)\n",
      "    return list(trie.values()) if trie else []\n",
      "\n",
      "q = \"ba na nas s bas\".split(\" \")\n",
      "assert [[0], [2, 4], [4], [6], []] == [sorted(indices_of(e)) for e in q]"
     ],
     "language": "python",
     "metadata": {},
     "outputs": [],
     "prompt_number": 16
    },
    {
     "cell_type": "markdown",
     "metadata": {},
     "source": [
      "<a id='18.9'></a>[18.9](#18) Write a program that can quickly answer a median value, while random numbers are being generated and offered (a median bag).  "
     ]
    },
    {
     "cell_type": "markdown",
     "metadata": {},
     "source": [
      "<a id='18.10'></a>[18.10](#18) Given two words of equal length that are in a dictionary, write a method to transform one word into another word by changing only one letter at a time. The new word you get in each step must be in the dictionary.  \n"
     ]
    },
    {
     "cell_type": "code",
     "collapsed": false,
     "input": [
      "import string\n",
      "\n",
      "def backtrack(candidate, expand_out, reduce_off):\n",
      "    if not reduce_off(candidate):\n",
      "        for e in expand_out(candidate):\n",
      "            candidate.append(e)\n",
      "            backtrack(candidate, expand_out, reduce_off)\n",
      "            candidate.pop()\n",
      "\n",
      "def transform(start, stop, dict_):\n",
      "    def branch_out(a):\n",
      "        word = list(a[-1])\n",
      "        seen = set(a)\n",
      "        for i, e in enumerate(word):\n",
      "            for c in set(string.ascii_uppercase):\n",
      "                word[i] = c\n",
      "                y = \"\".join(word)\n",
      "                if y not in seen and y in dict_:\n",
      "                    yield y\n",
      "            word[i] = e\n",
      "\n",
      "    def reduce_off(a):\n",
      "        if a[-1] == stop:\n",
      "            if reduce_off.reduced is None or len(reduce_off.reduced) > len(a):\n",
      "                reduce_off.reduced = a[:]\n",
      "            return True\n",
      "\n",
      "    reduce_off.reduced = None\n",
      "    backtrack([start], branch_out, reduce_off)\n",
      "    return reduce_off.reduced\n",
      "\n",
      "dict_ = set(\"CAMP;DAMP;LAMP;RAMP;LIMP;LUMP;LIMO;LITE;LIME;LIKE\".split(\";\"))\n",
      "assert ['DAMP', 'LAMP', 'LIMP', 'LIME', 'LIKE'] == transform(\"DAMP\", \"LIKE\", dict_)"
     ],
     "language": "python",
     "metadata": {},
     "outputs": [],
     "prompt_number": 17
    },
    {
     "cell_type": "markdown",
     "metadata": {},
     "source": [
      "<a id='18.11'></a>[18.11](#18) Given a square matrix of black and white cells, write a program to find the maximum sub-square such that all four borders are filled with black pixels.  "
     ]
    },
    {
     "cell_type": "markdown",
     "metadata": {},
     "source": [
      "<a id='18.12'></a>[18.12](#18) Given a square matrix of positive and negatives integers, write a program to find the sub-matrix with the largest possible sum.  "
     ]
    },
    {
     "cell_type": "code",
     "collapsed": false,
     "input": [
      "def maxsum_submatrix(g):\n",
      "    m, n = len(g), len(g[0])\n",
      "    prefix_sums_v = [[0] * n for _ in range(m)] # vertically\n",
      "    for r in range(m):\n",
      "        for c in range(n):\n",
      "            prefix_sums_v[r][c] = (prefix_sums_v[r-1][c] if r > 0 else 0) + g[r][c]\n",
      "\n",
      "    max_sum, max_matrix = g[0][0], (0, 0, 0, 0)\n",
      "    for top in range(m):\n",
      "        for bottom in range(top, m):\n",
      "            sum_h = left = 0;\n",
      "            for right in range(n):\n",
      "                sum_v = (prefix_sums_v[bottom][right]\n",
      "                         - (prefix_sums_v[top-1][right] if top > 0 else 0))\n",
      "                if sum_h > 0:\n",
      "                    sum_h += sum_v\n",
      "                else:\n",
      "                    sum_h, left = sum_v, right\n",
      "                if sum_h >= max_sum:\n",
      "                    max_sum, max_matrix = sum_h, (top, left, bottom, right)\n",
      "\n",
      "    return (max_sum, max_matrix)\n",
      "\n",
      "g = [ # 4 x 3 matrix\n",
      "    [ 1,  0, 1], \n",
      "    [ 0, -1, 0], \n",
      "    [ 1,  0, 1], \n",
      "    [-5,  2, 5]\n",
      "]\n",
      "\n",
      "assert (8, (2, 1, 3, 2)) == maxsum_submatrix(g)\n",
      "assert (3, (0, 0, 0, 1)) == maxsum_submatrix([[1, 2, -1], [-3, -1, -4], [1, -5, 2]])"
     ],
     "language": "python",
     "metadata": {},
     "outputs": [],
     "prompt_number": 18
    },
    {
     "cell_type": "markdown",
     "metadata": {},
     "source": [
      "<a id='18.13'></a>[18.13](#18) Given millions of words, write a program to create the largest possible rectangle of letters such that every row forms a word (reading left to right) and every column forms a word (reading top to bottom).  "
     ]
    },
    {
     "cell_type": "code",
     "collapsed": false,
     "input": [
      "def groupby(iterable, key=None, unique=False):\n",
      "    d = {}\n",
      "    if key is None:\n",
      "        key = lambda e: e\n",
      "    for e in iterable:\n",
      "        k = key(e)\n",
      "        if k in d:\n",
      "            if unique:\n",
      "                d[k].add(e)\n",
      "            else:\n",
      "                d[k].append(e)\n",
      "        else:\n",
      "            d[k] = set((e,)) if unique else [e]\n",
      "    return d\n",
      "\n",
      "def permutate(a, k=None, i=0): # places values at indices from i to k-1.\n",
      "    if k is None:\n",
      "        k = len(a)\n",
      "    if i == k:\n",
      "        yield a[:k]\n",
      "    else:\n",
      "        for j in {a[j]: j for j in range(i, len(a))}.values():\n",
      "            a[i], a[j] = a[j], a[i]\n",
      "            yield from permutate(a, k, i+1)\n",
      "            a[i], a[j] = a[j], a[i]\n",
      "\n",
      "assert {0: [2, 2], 1: [1, 3, 3, 3]} == groupby([1, 2, 2, 3, 3, 3], lambda e: e%2)\n",
      "assert {3: {'abc', 'def'}, 4: {'wxyz'}} == groupby([\"abc\", \"def\", \"wxyz\"], len, True)\n",
      "assert [[1, 1], [1, 2], [2, 1]] == sorted(permutate([1, 1, 2], 2))"
     ],
     "language": "python",
     "metadata": {},
     "outputs": [],
     "prompt_number": 19
    },
    {
     "cell_type": "code",
     "collapsed": false,
     "input": [
      "def rectangle(words):\n",
      "    d = groupby(words, len, unique=True)\n",
      "    n = max(d.keys())\n",
      "    area = n ** 2\n",
      "    for a in range(area, 0, -1):\n",
      "        for w in (w for w in range(n, 0, -1) if 0 == a%w):\n",
      "            h = a//w # height is area divided by width\n",
      "            if w >= h and d.get(w) and len(d[w]) >= h:\n",
      "                for p in permutate(list(d[w]), h):\n",
      "                    if all((\"\".join((p[r][c] for r in range(h))) in d[h]\n",
      "                            for c in range(w)\n",
      "                           )):\n",
      "                        return p\n",
      "\n",
      "words = set(\"a cat ate tea strafer taeniae resters antiflu fiefdom earlobe resumes schools coconut acacias oracle largest fingernails\".split(\" \"))\n",
      "assert 7 == len(rectangle(words))"
     ],
     "language": "python",
     "metadata": {},
     "outputs": [],
     "prompt_number": 20
    }
   ],
   "metadata": {}
  }
 ]
}