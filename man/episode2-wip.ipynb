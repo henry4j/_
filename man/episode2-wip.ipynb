{
 "metadata": {
  "name": "",
  "signature": "sha256:1b988d08508e13adff24ae0b770987b152a6929710713cf46d20e6a43e4dc5a9"
 },
 "nbformat": 3,
 "nbformat_minor": 0,
 "worksheets": [
  {
   "cells": [
    {
     "cell_type": "code",
     "collapsed": false,
     "input": [
      "def is_balanced(tree):\n",
      "    min_depth = lambda tree: 0 if tree is None else 1 + min(min_depth(tree.left), min_depth(tree.right))\n",
      "    max_depth = lambda tree: 0 if tree is None else 1 + max(max_depth(tree.left), max_depth(tree.right))\n",
      "    return max_depth(tree) - min_depth(tree) < 2\n",
      "\n",
      "assert is_balanced(BNode.tree((1, 2, 3, 4, 5, 6, 7)))\n",
      "\n",
      "def is_ordered(tree):\n",
      "    def process(v):\n",
      "        process.pred, pred = v, process.pred\n",
      "        process.ordered &= pred is None or pred.value <= v.value\n",
      "\n",
      "    def may_enter(v):\n",
      "        return process.ordered\n",
      "\n",
      "    process.ordered, process.pred = True, None # ordered is assumed to be True; predecessor is None.\n",
      "    tree.order(process, may_enter)\n",
      "    return process.ordered\n",
      "\n",
      "def is_ordered_by_minmax(tree, min=None, max=None):\n",
      "    return tree is None \\\n",
      "           or (min is None or tree.value >= min) \\\n",
      "           and (max is None or tree.value <= max) \\\n",
      "           and is_ordered_by_minmax(tree.left, min, tree.value) \\\n",
      "           and is_ordered_by_minmax(tree.right, tree.value, max)\n",
      "\n",
      "assert is_ordered(BNode.tree((1, 2, 3, 4, 5, 6, 7)))\n",
      "assert is_ordered_by_minmax(BNode.tree((1, 2, 3, 4, 5, 6, 7)))"
     ],
     "language": "python",
     "metadata": {},
     "outputs": [],
     "prompt_number": 2
    },
    {
     "cell_type": "code",
     "collapsed": false,
     "input": [
      "# tree:  a\n",
      "#         b\n",
      "#        c\n",
      "#       d e\n",
      "d = BNode('d')\n",
      "e = BNode('e')\n",
      "c = BNode('c', d, e)\n",
      "b = BNode('b', c)\n",
      "a = BNode('a', None, b)\n",
      "\n",
      "preorder = []\n",
      "postorder = []\n",
      "bfs = []\n",
      "a.dfs(lambda v: preorder.append(v.value) or True)\n",
      "a.dfs(None, lambda v: postorder.append(v.value))\n",
      "a.bfs(lambda v: bfs.append(v.value) or True)\n",
      "\n",
      "assert 'abcde' == ''.join(preorder)\n",
      "assert 'decba' == ''.join(postorder)\n",
      "assert 'abcde' == ''.join(bfs)"
     ],
     "language": "python",
     "metadata": {},
     "outputs": [],
     "prompt_number": 3
    }
   ],
   "metadata": {}
  }
 ]
}