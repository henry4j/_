{
 "metadata": {
  "name": "",
  "signature": "sha256:70b3dc940b31aeb47bb098b6346a127ea7cc287c05b94a9552b1ab7e0196db4c"
 },
 "nbformat": 3,
 "nbformat_minor": 0,
 "worksheets": [
  {
   "cells": [
    {
     "cell_type": "code",
     "collapsed": false,
     "input": [
      "from collections import deque \n",
      "\n",
      "class BNode:\n",
      "    def __init__(self, value=None, left=None, right=None, parent=None):\n",
      "        self.value, self.left, self.right, self.parent = value, left, right, parent\n",
      "    \n",
      "    def order(self, process, may_enter=None, leave=None): # for traversals\n",
      "        if not may_enter or may_enter(self):\n",
      "            if self.left is not None:\n",
      "                self.left.order(process, may_enter, leave)\n",
      "            process and process(self)\n",
      "            if self.right is not None:\n",
      "                self.right.order(process, may_enter, leave)\n",
      "            leave and leave(self)\n",
      "\n",
      "    def dfs(self, may_enter=None, leave=None): # for traversals\n",
      "        if not may_enter or may_enter(self):\n",
      "            for w in (self.left, self.right):\n",
      "                w is not None and w.dfs(may_enter, leave)\n",
      "            leave and leave(self)\n",
      "\n",
      "    def bfs(self, may_enter=None, leave=None): # not in use\n",
      "        q = deque()\n",
      "        q.append(self) # enque, or offer\n",
      "        while q:\n",
      "            v = q.popleft() # deque, or poll\n",
      "            if not may_enter or may_enter(v):\n",
      "                for w in (v.left, v.right):\n",
      "                    w is not None and q.append(w)\n",
      "            leave and leave(v)\n",
      "\n",
      "    def __repr__(self):\n",
      "        attrs = (self.value, self.left, self.right, self.parent)\n",
      "        i = 1 + next((i for i, e in reversed(list(enumerate(attrs))) if e is not None), -1)\n",
      "        attrs = attrs[:i] # without trailing None(s)\n",
      "        return \"BNode({0})\".format(', '.join(map(repr, attrs)))\n",
      "\n",
      "    def tree(values, start=0, stop=None):\n",
      "        if stop is None:\n",
      "            stop = len(values)\n",
      "        if stop - start > 0:\n",
      "            pivot = (start + stop - 1)//2\n",
      "            l = BNode.tree(values, start, pivot)\n",
      "            r = BNode.tree(values, pivot + 1, stop)\n",
      "            return BNode(values[pivot], l, r)"
     ],
     "language": "python",
     "metadata": {},
     "outputs": [],
     "prompt_number": 1
    },
    {
     "cell_type": "code",
     "collapsed": false,
     "input": [
      "# tree:    4\n",
      "#        /  \\\n",
      "#       3    6\n",
      "#      1 2  5 7\n",
      "BNode.tree((1, 2, 3, 4, 5, 6, 7))"
     ],
     "language": "python",
     "metadata": {},
     "outputs": [
      {
       "metadata": {},
       "output_type": "pyout",
       "prompt_number": 2,
       "text": [
        "BNode(4, BNode(2, BNode(1), BNode(3)), BNode(6, BNode(5), BNode(7)))"
       ]
      }
     ],
     "prompt_number": 2
    },
    {
     "cell_type": "code",
     "collapsed": false,
     "input": [
      "def is_balanced(tree):\n",
      "    min_depth = lambda tree: 0 if tree is None else 1 + min(min_depth(tree.left), min_depth(tree.right))\n",
      "    max_depth = lambda tree: 0 if tree is None else 1 + max(max_depth(tree.left), max_depth(tree.right))\n",
      "    return max_depth(tree) - min_depth(tree) < 2\n",
      "\n",
      "assert is_balanced(BNode.tree((1, 2, 3, 4, 5, 6, 7)))\n",
      "\n",
      "def is_ordered(tree):\n",
      "    ordered, pred = True, None # ordered is assumed to be True; predecessor is None.\n",
      "    def process(v):\n",
      "        nonlocal ordered, pred\n",
      "        ordered = ordered and (pred is None or pred.value <= v.value)\n",
      "        pred = v\n",
      "\n",
      "    def may_enter(v):\n",
      "        return ordered\n",
      "    \n",
      "    tree.order(process, may_enter, None)\n",
      "    return ordered\n",
      "\n",
      "def is_ordered_by_minmax(tree, min=None, max=None):\n",
      "    return tree is None \\\n",
      "           or (min is None or tree.value >= min) \\\n",
      "           and (max is None or tree.value <= max) \\\n",
      "           and is_ordered_by_minmax(tree.left, min, tree.value) \\\n",
      "           and is_ordered_by_minmax(tree.right, tree.value, max)\n",
      "\n",
      "assert is_ordered(BNode.tree((1, 2, 3, 4, 5, 6, 7)))\n",
      "assert is_ordered_by_minmax(BNode.tree((1, 2, 3, 4, 5, 6, 7)))"
     ],
     "language": "python",
     "metadata": {},
     "outputs": [],
     "prompt_number": 3
    },
    {
     "cell_type": "code",
     "collapsed": false,
     "input": [
      "# tree:  a\n",
      "#         b\n",
      "#        c\n",
      "#       d e\n",
      "d = BNode('d')\n",
      "e = BNode('e')\n",
      "c = BNode('c', d, e)\n",
      "b = BNode('b', c)\n",
      "a = BNode('a', None, b)\n",
      "\n",
      "preorder = []\n",
      "postorder = []\n",
      "bfs = []\n",
      "a.dfs(lambda v: preorder.append(v.value) or True)\n",
      "a.dfs(None, lambda v: postorder.append(v.value))\n",
      "a.bfs(lambda v: bfs.append(v.value) or True)\n",
      "\n",
      "assert 'abcde' == ''.join(preorder)\n",
      "assert 'decba' == ''.join(postorder)\n",
      "assert 'abcde' == ''.join(bfs)"
     ],
     "language": "python",
     "metadata": {},
     "outputs": [],
     "prompt_number": 4
    }
   ],
   "metadata": {}
  }
 ]
}