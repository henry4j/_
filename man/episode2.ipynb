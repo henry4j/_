{
 "metadata": {
  "name": "",
  "signature": "sha256:7422977c8eda35409e37f8662e14507219859f8c0ef010f95b0fb3c2c0e24d2e"
 },
 "nbformat": 3,
 "nbformat_minor": 0,
 "worksheets": [
  {
   "cells": [
    {
     "cell_type": "code",
     "collapsed": false,
     "input": [
      "# tree:    4\n",
      "#        /  \\\n",
      "#       3    6\n",
      "#      1 2  5 7\n",
      "BNode.tree((1, 2, 3, 4, 5, 6, 7))"
     ],
     "language": "python",
     "metadata": {},
     "outputs": [
      {
       "metadata": {},
       "output_type": "pyout",
       "prompt_number": 1,
       "text": [
        "BNode(4, BNode(2, BNode(1), BNode(3)), BNode(6, BNode(5), BNode(7)))"
       ]
      }
     ],
     "prompt_number": 1
    },
    {
     "cell_type": "code",
     "collapsed": false,
     "input": [],
     "language": "python",
     "metadata": {},
     "outputs": [],
     "prompt_number": 3
    }
   ],
   "metadata": {}
  }
 ]
}