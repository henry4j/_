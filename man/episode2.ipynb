{
 "metadata": {
  "name": "",
  "signature": "sha256:604030bf4964912a3df923bbad864ec2ecbf41d13d36ade11015dbb1a9de0339"
 },
 "nbformat": 3,
 "nbformat_minor": 0,
 "worksheets": [
  {
   "cells": [
    {
     "cell_type": "code",
     "collapsed": false,
     "input": [
      "class BNode:\n",
      "    def __init__(self, value=None, left=None, right=None, parent=None):\n",
      "        self.value, self.left, self.right, self.parent = value, left, right, parent\n",
      "\n",
      "    def order(v, process, enter_iff=None, exit=None):\n",
      "        if v and (enter_iff is None or enter_iff(v)):\n",
      "            order(v.left, process, enter_iff, exit)\n",
      "            if process is not None:\n",
      "                process(v)\n",
      "            order(v.right, process, enter_iff, exit)\n",
      "            if exit is not None:\n",
      "                exit(v)\n",
      "\n",
      "    def tree(values, range=)\n",
      "\n",
      "def is_balanced():\n",
      "    min_depth = lambda tree: 0 if tree is None else 1 + min(min_depth(tree.left), min_depth(tree.right))\n",
      "    max_depth = lambda tree: 0 if tree is None else 1 + max(max_depth(tree.left), max_depth(tree.right))\n",
      "    return max_depth(tree) - min_depth(tree) < 2\n",
      "\n"
     ],
     "language": "python",
     "metadata": {},
     "outputs": [],
     "prompt_number": 5
    },
    {
     "cell_type": "code",
     "collapsed": false,
     "input": [],
     "language": "python",
     "metadata": {},
     "outputs": []
    }
   ],
   "metadata": {}
  }
 ]
}