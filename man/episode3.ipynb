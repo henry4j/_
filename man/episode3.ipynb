{
 "metadata": {
  "name": "",
  "signature": "sha256:a3bf85be5cb86f59eb969402a50d304d2e50684e549ab8d387d456958f6a2cb1"
 },
 "nbformat": 3,
 "nbformat_minor": 0,
 "worksheets": [
  {
   "cells": [
    {
     "cell_type": "code",
     "collapsed": false,
     "input": [
      "from collections import deque \n",
      "from itertools import dropwhile, repeat\n",
      "\n",
      "class Graph(object):\n",
      "    @staticmethod\n",
      "    def dfs(v, edges, may_enter=None, cross=None, leave=None):\n",
      "        if may_enter is None or may_enter(v):\n",
      "            for e in (edges[v] or []):\n",
      "                cross is not None and cross(e, v)\n",
      "                Graph.dfs(e.y, edges, may_enter, cross, leave)\n",
      "            leave is not None and leave(v)\n",
      "\n",
      "class Edge(object):\n",
      "    def __init__(self, y=None, weight=None):\n",
      "        self.y, self.weight = y, weight\n",
      "\n",
      "    def __repr__(self):\n",
      "        attrs = (self.weight, self.y)\n",
      "        return \"Edge({0})\".format(', '.join(reversed( \\\n",
      "            [repr(e) for e in dropwhile(lambda e: e is None, attrs)])))"
     ],
     "language": "python",
     "metadata": {},
     "outputs": [],
     "prompt_number": 5
    },
    {
     "cell_type": "code",
     "collapsed": false,
     "input": [
      "def topological_sort(edges):\n",
      "    sort = []\n",
      "    entered = [False] * len(edges)\n",
      "    def may_enter(v):\n",
      "        if not entered[v]:\n",
      "            entered[v] = True\n",
      "            return True\n",
      "    def leave(v):\n",
      "        sort.append(v)\n",
      "    for v in range(len(edges)):\n",
      "        if not entered[v]:\n",
      "            Graph.dfs(v, edges, may_enter, None, leave)\n",
      "    return sort\n",
      "\n",
      "# graph:       D3 \u21fe H7\n",
      "#              \u2191\n",
      "#    \u250c\u2500\u2500\u2500\u2500\u2500\u2500\u2500\u2500 B1 \u21fe F5\n",
      "#    \u2193         \u2191     \u2191\n",
      "#   J9 \u21fd E4 \u21fd A0 \u21fe C2 \u21fe I8\n",
      "#              \u2193\n",
      "#              G6\n",
      "edges = list(range(10))\n",
      "edges[0] = [Edge(1), Edge(2), Edge(4), Edge(6)] # 1, 2, 4, and 6\n",
      "edges[1] = [Edge(3), Edge(5), Edge(9)] # 3, 5, and 9\n",
      "edges[2] = [Edge(5), Edge(8)] # 5, 8\n",
      "edges[3] = [Edge(7)] # 7\n",
      "edges[4] = [Edge(9)] # 9\n",
      "edges[5] = edges[6] = edges[7] = edges[8] = edges[9] = []\n",
      "\n",
      "assert [7, 3, 5, 9, 1, 8, 2, 4, 6, 0] == topological_sort(edges)"
     ],
     "language": "python",
     "metadata": {},
     "outputs": [],
     "prompt_number": 7
    },
    {
     "cell_type": "code",
     "collapsed": false,
     "input": [
      "def find_all(v, edges)\n",
      "    all = {}\n",
      "    entered = []\n",
      "    def may_enter(v):\n",
      "        if not entered[v]:\n",
      "            entered[v] = True\n",
      "            return True\n",
      "    def cross(e, x):\n",
      "        all[e.y] = true }\n",
      "    Graph.dfs(v, edges, may_ener, cross  \n",
      "    return all.keys()"
     ],
     "language": "python",
     "metadata": {},
     "outputs": [],
     "prompt_number": 6
    }
   ],
   "metadata": {}
  }
 ]
}