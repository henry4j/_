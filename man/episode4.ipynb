{
 "metadata": {
  "name": "",
  "signature": "sha256:b5a4046204cbf709aed78fb49f8664ef44dda004b377b9ba49e97b1c56be15e6"
 },
 "nbformat": 3,
 "nbformat_minor": 0,
 "worksheets": [
  {
   "cells": [
    {
     "cell_type": "markdown",
     "metadata": {},
     "source": [
      "#### [4. Trees and Graphs](http://nbviewer.ipython.org/github/henry4j/-/blob/master/man/episode3.ipynb)"
     ]
    },
    {
     "cell_type": "code",
     "collapsed": false,
     "input": [
      "from collections import deque \n",
      "from itertools import dropwhile\n",
      "\n",
      "class BNode:\n",
      "    def __init__(self, value=None, left=None, right=None, parent=None):\n",
      "        self.value, self.left, self.right, self.parent = value, left, right, parent\n",
      "    \n",
      "    def order(self, process, may_enter=None, leave=None): # for traversals\n",
      "        if not may_enter or may_enter(self):\n",
      "            if self.left is not None:\n",
      "                self.left.order(process, may_enter, leave)\n",
      "            process and process(self)\n",
      "            if self.right is not None:\n",
      "                self.right.order(process, may_enter, leave)\n",
      "            leave and leave(self)\n",
      "\n",
      "    def dfs(self, may_enter=None, leave=None): # for traversals\n",
      "        if not may_enter or may_enter(self):\n",
      "            for w in (self.left, self.right):\n",
      "                w is not None and w.dfs(may_enter, leave)\n",
      "            leave and leave(self)\n",
      "\n",
      "    def bfs(self, may_enter=None, leave=None): # not in use\n",
      "        if may_enter is None:\n",
      "            may_enter = lambda *_, **__: True\n",
      "        q = deque()\n",
      "        q.append(self) # enque, or offer\n",
      "        while q:\n",
      "            v = q.popleft() # deque, or poll\n",
      "            if may_enter(v):\n",
      "                for w in (v.left, v.right):\n",
      "                    w is not None and q.append(w)\n",
      "            leave and leave(v)\n",
      "\n",
      "    def __repr__(self):\n",
      "        attrs = (self.parent, self.right, self.left, self.value)\n",
      "        return \"BNode({0})\".format(', '.join(reversed( \\\n",
      "            [repr(e) for e in dropwhile(lambda e: e is None, attrs)])))\n",
      "\n",
      "    @staticmethod\n",
      "    def tree(values, start=0, stop=None):\n",
      "        if stop is None:\n",
      "            stop = len(values)\n",
      "        if stop - start > 0:\n",
      "            pivot = (start + stop - 1)//2\n",
      "            l = BNode.tree(values, start, pivot)\n",
      "            r = BNode.tree(values, pivot + 1, stop)\n",
      "            return BNode(values[pivot], l, r)\n",
      "\n"
     ],
     "language": "python",
     "metadata": {},
     "outputs": [],
     "prompt_number": 38
    },
    {
     "cell_type": "code",
     "collapsed": false,
     "input": [
      "from itertools import dropwhile\n",
      "\n",
      "class Graph(object):\n",
      "    @staticmethod\n",
      "    def dfs(v, edges, may_enter=None, cross=None, leave=None):\n",
      "        if may_enter is None:\n",
      "            may_enter = lambda v, entered=set(): v not in entered and not entered.add(v)\n",
      "        if may_enter(v):\n",
      "            for e in (edges[v] or []):\n",
      "                cross is not None and cross(e, v)\n",
      "                Graph.dfs(e.y, edges, may_enter, cross, leave)\n",
      "            leave is not None and leave(v)\n",
      "\n",
      "class Edge(object): # wegith is None in unweighted graph\n",
      "    def __init__(self, y=None, weight=None):\n",
      "        self.y, self.weight = y, weight\n",
      "\n",
      "    def __repr__(self):\n",
      "        attrs = (self.weight, self.y)\n",
      "        return \"Edge({0})\".format(', '.join(reversed( \\\n",
      "            [repr(e) for e in dropwhile(lambda e: e is None, attrs)])))"
     ],
     "language": "python",
     "metadata": {},
     "outputs": [],
     "prompt_number": 39
    },
    {
     "cell_type": "code",
     "collapsed": false,
     "input": [
      "# tree:  a\n",
      "#         b\n",
      "#        c\n",
      "#       d e\n",
      "a = BNode('a', None, BNode('b', BNode('c', BNode('d'), BNode('e'))))\n",
      "\n",
      "preorder = []\n",
      "postorder = []\n",
      "bfs = []\n",
      "a.dfs(lambda v: preorder.append(v.value) or True)\n",
      "a.dfs(None, lambda v: postorder.append(v.value))\n",
      "a.bfs(lambda v: bfs.append(v.value) or True)\n",
      "\n",
      "assert 'abcde' == ''.join(preorder)\n",
      "assert 'decba' == ''.join(postorder)\n",
      "assert 'abcde' == ''.join(bfs)\n",
      "\n",
      "# tree:    4\n",
      "#        /  \\\n",
      "#       3    6\n",
      "#      1 2  5 7\n",
      "BNode.tree((1, 2, 3, 4, 5, 6, 7))"
     ],
     "language": "python",
     "metadata": {},
     "outputs": [
      {
       "metadata": {},
       "output_type": "pyout",
       "prompt_number": 40,
       "text": [
        "BNode(4, BNode(2, BNode(1), BNode(3)), BNode(6, BNode(5), BNode(7)))"
       ]
      }
     ],
     "prompt_number": 40
    },
    {
     "cell_type": "code",
     "collapsed": false,
     "input": [
      "def topological_sort(edges):\n",
      "    sort, entered = [], set()\n",
      "    may_enter = lambda v: v not in entered and not entered.add(v)\n",
      "    for v in range(len(edges)):\n",
      "        if v not in entered:\n",
      "            Graph.dfs(v, edges, may_enter, None, lambda v: sort.append(v))\n",
      "    return sort\n",
      "\n",
      "# graph:       D3 \u21fe H7\n",
      "#              \u2191\n",
      "#    \u250c\u2500\u2500\u2500\u2500\u2500\u2500\u2500\u2500 B1 \u21fe F5\n",
      "#    \u2193         \u2191     \u2191\n",
      "#   J9 \u21fd E4 \u21fd A0 \u21fe C2 \u21fe I8\n",
      "#              \u2193\n",
      "#              G6\n",
      "edges = [[]] * 10\n",
      "edges[0] = [Edge(1), Edge(2), Edge(4), Edge(6)] # 1, 2, 4, and 6\n",
      "edges[1] = [Edge(3), Edge(5), Edge(9)] # 3, 5, and 9\n",
      "edges[2] = [Edge(5), Edge(8)] # 5, 8\n",
      "edges[3] = [Edge(7)] # 7\n",
      "edges[4] = [Edge(9)] # 9\n",
      "\n",
      "assert [7, 3, 5, 9, 1, 8, 2, 4, 6, 0] == topological_sort(edges)"
     ],
     "language": "python",
     "metadata": {},
     "outputs": [],
     "prompt_number": 41
    },
    {
     "cell_type": "code",
     "collapsed": false,
     "input": [],
     "language": "python",
     "metadata": {},
     "outputs": [],
     "prompt_number": 41
    },
    {
     "cell_type": "code",
     "collapsed": false,
     "input": [
      "def has_cycle(edges, directed):\n",
      "    for v in range(len(edges)):\n",
      "        entered, exited = set(), set()\n",
      "        tree_edges = {} # keyed by children; also called parents map.\n",
      "        back_edges = {} # keyed by ancestors, or the other end-point.\n",
      "        may_enter = lambda v: v not in entered and not entered.add(v)\n",
      "        exit = lambda v: exited.add(v)\n",
      "        def cross(e, x):\n",
      "            if e.y not in entered:\n",
      "                tree_edges[e.y] = x\n",
      "            elif (not directed and tree_edges.get(x, None) != e.y) \\\n",
      "                 or (directed and e.y not in exited):\n",
      "                 back_edges.setdefault(e.y, []).append(x) # x = 1, e.y = 0\n",
      "        Graph.dfs(v, edges, may_enter, cross, exit)\n",
      "        if back_edges:\n",
      "            return True\n",
      "    else:\n",
      "        return False\n",
      "\n",
      "# graph: B1 \u2190 C2 \u2192 A0\n",
      "#        \u2193  \u2197\n",
      "#        D3 \u2190 E4\n",
      "edges = [[]] * 5\n",
      "edges[0] = [] # out-degree of 0\n",
      "edges[1] = [Edge(3, 4)] # B1 \u2192 D3\n",
      "edges[2] = [Edge(0, 4), Edge(1, 6)] # C2 \u2192 A0, C2 \u2192 B1\n",
      "edges[3] = [Edge(2, 9)] # D3 \u2192 C2\n",
      "edges[4] = [Edge(3, 3)] # E4 \u2192 D3\n",
      "assert has_cycle(edges, True)\n",
      "\n",
      "# graph: B1 \u2190 C2 \u2192 A0\n",
      "#         \u2193    \u2193\n",
      "#        D3 \u2190 E4\n",
      "edges = [[]] * 5\n",
      "edges[0] = []\n",
      "edges[1] = [Edge(3)]\n",
      "edges[2] = [Edge(0), Edge(1), Edge(4)]\n",
      "edges[3] = []\n",
      "edges[4] = [Edge(3)]\n",
      "assert not has_cycle(edges, True)\n",
      "\n",
      "# undirected graph: A0 - B1 - C2\n",
      "edges = [[]] * 3\n",
      "edges[0] = [Edge(1)] # A0 - B1\n",
      "edges[1] = [Edge(0), Edge(2)] # B1 - A0, B1 - C2\n",
      "edges[2] = [Edge(1)] # C2 - B1\n",
      "assert not has_cycle(edges, False)\n",
      "\n",
      "# undirected graph: A0 - B1 - C2 - A0\n",
      "edges[0].append(Edge(2)) # A0 - C2\n",
      "edges[2].append(Edge(0)) # C2 - A0\n",
      "assert has_cycle(edges, False)"
     ],
     "language": "python",
     "metadata": {},
     "outputs": [],
     "prompt_number": 42
    },
    {
     "cell_type": "markdown",
     "metadata": {},
     "source": [
      "4.1 Implement a function to check if a binary tree is balanced. For the purposes of this question, a balanced tree is defined to be a tree such that the heights of two subtrees of any node never differ by more than one."
     ]
    },
    {
     "cell_type": "code",
     "collapsed": false,
     "input": [
      "def is_balanced(tree):\n",
      "    min_depth = lambda tree: 0 if tree is None else 1 + min(min_depth(tree.left), min_depth(tree.right))\n",
      "    max_depth = lambda tree: 0 if tree is None else 1 + max(max_depth(tree.left), max_depth(tree.right))\n",
      "    return max_depth(tree) - min_depth(tree) < 2\n",
      "\n",
      "assert is_balanced(BNode.tree((1, 2, 3, 4, 5, 6, 7)))"
     ],
     "language": "python",
     "metadata": {},
     "outputs": [],
     "prompt_number": 43
    },
    {
     "cell_type": "markdown",
     "metadata": {},
     "source": [
      "4.2 Given a directed graph, design an algorithm to find out whether there is a route between two nodes."
     ]
    },
    {
     "cell_type": "code",
     "collapsed": false,
     "input": [
      "def find_all(source, edges):\n",
      "    reached = set()\n",
      "    cross = lambda e, x: reached.add(e.y)\n",
      "    Graph.dfs(source, edges, None, cross, None)  \n",
      "    return reached\n",
      "\n",
      "def can_reach(source, sink):\n",
      "    return sink in find_all(source, edges)\n",
      "\n",
      "# graph: B1 \u2190 C2 \u2192 A0\n",
      "#        \u2193  \u2197\n",
      "#        D3 \u2190 E4\n",
      "edges = [[]] * 5\n",
      "edges[0] = [] # out-degree of 0\n",
      "edges[1] = [Edge(3)] # B1 \u2192 D3\n",
      "edges[2] = [Edge(0), Edge(1)] # C2 \u2192 A0, C2 \u2192 B1\n",
      "edges[3] = [Edge(2)] # D3 \u2192 C2\n",
      "edges[4] = [Edge(3)] # E4 \u2192 D3\n",
      "\n",
      "assert can_reach(4, 0)\n",
      "assert not can_reach(0, 4)\n",
      "assert not can_reach(3, 4)\n",
      "\n",
      "assert {0, 1, 2, 3} == find_all(4, edges)\n",
      "assert {0, 1, 2, 3} == find_all(3, edges)\n",
      "assert {0, 1, 2, 3} == find_all(2, edges)\n",
      "assert set() == find_all(0, edges)"
     ],
     "language": "python",
     "metadata": {},
     "outputs": [],
     "prompt_number": 44
    },
    {
     "cell_type": "markdown",
     "metadata": {},
     "source": [
      "4.3 Given a sorted (increasing order) array, implement an algorithm to create a binary search tree with minimal height."
     ]
    },
    {
     "cell_type": "markdown",
     "metadata": {},
     "source": [
      "4.4 Given a binary tree, design an algorithm which creates a linked list of all the nodes at each depth, e.g., if you have a tree with depth D, you will have D linked lists."
     ]
    },
    {
     "cell_type": "markdown",
     "metadata": {},
     "source": [
      "4.5 Implement a function to check if a binary tree is a binary search tree."
     ]
    },
    {
     "cell_type": "code",
     "collapsed": false,
     "input": [
      "def is_ordered(tree):\n",
      "    def process(v):\n",
      "        process.pred, pred = v, process.pred\n",
      "        process.ordered &= pred is None or pred.value <= v.value\n",
      "\n",
      "    def may_enter(v):\n",
      "        return process.ordered\n",
      "\n",
      "    process.ordered, process.pred = True, None # ordered is assumed to be True; predecessor is None.\n",
      "    tree.order(process, may_enter)\n",
      "    return process.ordered\n",
      "\n",
      "def is_ordered_by_minmax(tree, min=None, max=None):\n",
      "    return tree is None \\\n",
      "           or (min is None or tree.value >= min) \\\n",
      "           and (max is None or tree.value <= max) \\\n",
      "           and is_ordered_by_minmax(tree.left, min, tree.value) \\\n",
      "           and is_ordered_by_minmax(tree.right, tree.value, max)\n",
      "\n",
      "assert is_ordered(BNode.tree((1, 2, 3, 4, 5, 6, 7)))\n",
      "assert is_ordered_by_minmax(BNode.tree((1, 2, 3, 4, 5, 6, 7)))"
     ],
     "language": "python",
     "metadata": {},
     "outputs": [],
     "prompt_number": 45
    }
   ],
   "metadata": {}
  }
 ]
}