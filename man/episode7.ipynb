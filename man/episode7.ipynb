{
 "metadata": {
  "name": "",
  "signature": "sha256:c2ddf72c4be9d033e87469b12099b7168e52ee0edfa4753e5caa775d91615b22"
 },
 "nbformat": 3,
 "nbformat_minor": 0,
 "worksheets": [
  {
   "cells": [
    {
     "cell_type": "markdown",
     "metadata": {},
     "source": [
      "#### <a id=\"top\"></a>7. [Math and Probability](http://nbviewer.ipython.org/github/henry4j/-/blob/master/man/episode7.ipynb)\n",
      "\n",
      "7.1 You have a basketball hoop and someone says that you can play one of two games. Game 1: You get one shot to make the hoop. Game 2: You get three shoots and you have to make two of three shots. If p is the probability of making a particular shot, for which values of p should you pick one game or the other? <font color=\"blue\">p > 3 p<sup>2</sup> (1-p).</font>  \n",
      "7.2 There are three ants on different vertices of a triangle. What is the probability of collision (between any two or all of them) if they start walking on the sides of the triangle? Assume that each ant randomly picks a direction, which either direction being equally like to be chosen, and that they walk at the same speed. Similarly, find the probability of collision with n ants on an n-vertex polygon. <font color=\"blue\">p(collision) = 1 - p(no-collision) = 1 - 2/8</font>.  \n",
      "7.3 Given two lines on a Cartesian plane, determine whether the two lines would intersect.  \n",
      "7.4 Write methods to implement the multiply, subtract, and divide operations for integer. Use only the add operator.  \n",
      "7.5 Given two squares on a 2D plane, find a line that would cut these two squares in half. Assume that the top and bottom sides of the square run parallel to the x-axis.  \n",
      "7.6 Given a 2D graph with points on it, find a line, which passes the most number of points.  \n",
      "7.7 Deign an algorithm to find the k-th number such that the only prime factors are 3, 5, and 7.  "
     ]
    },
    {
     "cell_type": "markdown",
     "metadata": {},
     "source": [
      "7.3 Given 2 lines on a Cartesian plane, determine if the 2 lines would intersect."
     ]
    },
    {
     "cell_type": "code",
     "collapsed": false,
     "input": [
      "class Line:\n",
      "    epsilon = 1e-6\n",
      "    def __init__(slope, y_intercept):\n",
      "        self.slope, self.y_intercept = slope, y_intercept\n",
      "\n",
      "    def intersect(self, line2):\n",
      "        abs(self.slope - line2.slope) > epsilon \\\n",
      "        or abs(self.y_intercept - line2.y_intercept) < epsilon"
     ],
     "language": "python",
     "metadata": {},
     "outputs": [],
     "prompt_number": 1
    },
    {
     "cell_type": "markdown",
     "metadata": {},
     "source": [
      "7.5 Given 2 squares on a 2D plane, find a line that would cut these 2 squares in half. Assume that the top and bottom sides of the square run parallel to the x-axis."
     ]
    },
    {
     "cell_type": "code",
     "collapsed": false,
     "input": [
      "def to_line(p, q):\n",
      "    x, y = p[0] - q[0], p[1] - q[1]\n",
      "    if x == 0 and y == 0:\n",
      "        return None\n",
      "    elif x == 0:\n",
      "        return (p[0], None)\n",
      "    elif y == 0:\n",
      "        return (None, p[1])\n",
      "    else:\n",
      "        scope = y / x # e.g., 2.0\n",
      "        return (scope, p[1] - scope * p[0])\n",
      "\n",
      "center_of = lambda r: ((r[1] + r[3])/2.0, (r[0] + r[2])/2.0)\n",
      "\n",
      "r1, r2 = [4, 0, 0, 6], [6, 0, 0, 4] # top, left, bottom, right\n",
      "center1, center2 = center_of(r1), center_of(r2)\n",
      "\n",
      "assert (-1, 5) == to_line(center1, center2)\n",
      "assert (3, 2) == center1 and (2, 3) == center2\n",
      "assert (4, -7) == to_line([3, 5], [2, 1])"
     ],
     "language": "python",
     "metadata": {},
     "outputs": [],
     "prompt_number": 2
    },
    {
     "cell_type": "markdown",
     "metadata": {},
     "source": [
      "7.6 Given a 2D graph with points on it, find a line, which passes the most number of points."
     ]
    },
    {
     "cell_type": "code",
     "collapsed": false,
     "input": [
      "s = ((1, 2), (2, 4), (6, 12), (3, 2), (4, 0), (3, 2), (5, -2))\n",
      "\n",
      "class lazydict(dict):\n",
      "    def get(self, key, thunk=None):\n",
      "        return (self[key] if key in self else\n",
      "                thunk() if callable(thunk) else thunk)\n",
      "\n",
      "    def setdefault(self, key, thunk=None):\n",
      "        return (self[key] if key in self else\n",
      "                dict.setdefault(self, key, thunk() if callable(thunk) else\n",
      "                                thunk))\n",
      "\n",
      "points_by_line = lazydict()\n",
      "for i, _ in enumerate(s):\n",
      "    for j in range(i+1, len(s)):\n",
      "        line = to_line(s[i], s[j])\n",
      "        if line:\n",
      "            points_by_line.setdefault(line, lambda: set()).update({s[i], s[j]})\n",
      "\n",
      "line_points = ((-2.0, 8.0), {(2, 4), (3, 2), (4, 0), (5, -2)})\n",
      "assert line_points == max(points_by_line.items(), key=lambda kv: len(kv[1]))"
     ],
     "language": "python",
     "metadata": {},
     "outputs": [],
     "prompt_number": 3
    },
    {
     "cell_type": "markdown",
     "metadata": {},
     "source": [
      "7.7 Deign an algorithm to find the k-th number such that the only prime factors are 3, 5, and 7."
     ]
    },
    {
     "cell_type": "code",
     "collapsed": false,
     "input": [
      "import heapq\n",
      "from collections import deque\n",
      "from itertools import islice\n",
      "\n",
      "def int_of(prime_factors):\n",
      "    queues = []\n",
      "    for e in prime_factors:\n",
      "        heapq.heappush(queues, (deque([e]), e))\n",
      "    while True:\n",
      "        min_queues = [heapq.heappop(queues)]\n",
      "        min = min_queues[0][0][0]\n",
      "        while min == queues[0][0][0]:\n",
      "            min_queues.append(heapq.heappop(queues))\n",
      "        yield min\n",
      "        for e in queues:\n",
      "            e[0].append(min * e[1])\n",
      "        for e in min_queues:\n",
      "            e[0].popleft()\n",
      "            e[0].append(min * e[1])\n",
      "            heapq.heappush(queues, e)\n",
      "\n",
      "assert [3, 5, 7] == list(islice(int_of((3, 5, 7)), 3))\n",
      "assert [15, 21, 25] == list(islice(int_of((3, 5, 7)), 4, 7))"
     ],
     "language": "python",
     "metadata": {},
     "outputs": [],
     "prompt_number": 4
    }
   ],
   "metadata": {}
  }
 ]
}