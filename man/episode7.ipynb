{
 "metadata": {
  "name": "",
  "signature": "sha256:7c323265f50ea6b0e5ca61c7c0f68d0baae78051cd776debc7a67c350a48d625"
 },
 "nbformat": 3,
 "nbformat_minor": 0,
 "worksheets": [
  {
   "cells": [
    {
     "cell_type": "markdown",
     "metadata": {},
     "source": [
      "#### 7. Math and Probability\n",
      "\n",
      "7.1 You have a basketball hoop and someone says that you can play one of two games. Game 1: You get one shot to make the hoop. Game 2: You get three shoots and you have to make two of three shots. If p is the probability of making a particular shot, for which values of p should you pick one game or the other? <font color=\"blue\">p > 3 p<sup>2</sup> (1-p).</font>  \n",
      "7.2 There are three ants on different vertices of a triangle. What is the probability of collision (between any two or all of them) if they start walking on the sides of the triangle? Assume that each ant randomly picks a direction, which either direction being equally like to be chosen, and that they walk at the same speed. Similarly, find the probability of collision with n ants on an n-vertex polygon. <font color=\"blue\">p(collision) = 1 - p(no-collision) = 1 - 2/8</font>.  \n",
      "7.3 Given two lines on a Cartesian plane, determine whether the two lines would intersect.  \n",
      "7.4 Write methods to implement the multiply, subtract, and divide operations for integer. Use only the add operator.  \n",
      "7.5 Given two squares on a 2D plane, find a line that would cut these two squares in half. Assume that the top and bottom sides of the square run parallel to the x-axis.  \n",
      "7.6 Given a 2D graph with points on it, find a line, which passes the most number of points.  \n",
      "7.7 Deign an algorithm to find the k-th number such that the only prime factors are 3, 5, and 7.  "
     ]
    },
    {
     "cell_type": "code",
     "collapsed": false,
     "input": [
      "# 7.3 Given two lines on a Cartesian plane, determine if the two lines would intersect.  \n",
      "class Line:\n",
      "    def __init__(slope, y_intercept):\n",
      "        self.slope, self.y_intercept = slope, y_intercept\n",
      "\n",
      "    def intersect(self, line2):\n",
      "        abs(self.slope - line2.slope) > 0.000001 \\\n",
      "        or abs(self.y_intercept - line2.y_intercept) < 0.000001"
     ],
     "language": "python",
     "metadata": {},
     "outputs": [],
     "prompt_number": 2
    },
    {
     "cell_type": "code",
     "collapsed": false,
     "input": [],
     "language": "python",
     "metadata": {},
     "outputs": [],
     "prompt_number": 2
    },
    {
     "cell_type": "code",
     "collapsed": false,
     "input": [],
     "language": "python",
     "metadata": {},
     "outputs": []
    }
   ],
   "metadata": {}
  }
 ]
}