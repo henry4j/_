{
 "cells": [
  {
   "cell_type": "markdown",
   "metadata": {},
   "source": [
    "#### </a>9. [Recursion & DP](https://github.com/henry4j/-/blob/master/man/episode9-11.ipynb) | 17. [Hard Problems](https://github.com/henry4j/-/blob/master/man/episode17-18.ipynb)<a id=\"top\">\n",
    "\n",
    "**Gotchas**: Should apply recusion for a problem with recurrence relations; Should apply DP for a problem with overlapping subproblems and optimal substructures.\n",
    "\n",
    "**Gotchas**: magic\\_index, index\\_in\\_cycle, **bisect\\_range**, **subsets(a, i=0)**, **permutate(a, k=None, i=0)**, **combine\\_parens(o, c)**, interleave(s1, s2), **flood\\_fill(g, r, c, new)**, anagram\\_sort, **queens\\_in\\_peace**, find\\_in\\_grid, tower of people, make\\_amount(k, denominations), make\\_changes(k, denominations), longest\\_increasing\\_subseq, longest\\_common\\_substring.\n",
    "\n",
    "[9.1](#9.1) Given a staircase with n steps, write a program to count the number of possible ways to climb it, when one can hop either 1, 2, or 3 steps at a time.  \n",
    "[9.2](#9.2) Given NxM grid, write a program to route a robot from (0, 0) to (N, M). How many possible ways are there, when the robot can move in two directions: right, and down. What if there are some spots of off-limits?  \n",
    "[9.3](#9.3) Given an array of sorted integers, write a method to find a magic index where A[i] = i. What if integers are not distinct?  \n",
    "[9.4](#9.4) Write a method to generate all subsets of a set.  \n",
    "[9.5](#9.5) Write a method to generate all permutations of a string.  \n",
    "[9.6](#9.6) Write a program to generate all possible, valid combinations of n-pairs of parenthesis, e.g., INPUT: 3, OUTPUT: ((())), (()()), (())(), ()(()), ()()().  \n",
    "[9.7](#9.7) Write a flood-fill method to fill in a new color until the color changes from the original color; given a point and a new color.  \n",
    "[9.8](#9.8) Given infinite # of coins (25, 10, 5, and 1 cents), write a method to count the number of ways to represent n cents.  \n",
    "[9.9](#9.9) Given an NxN chessboard, write a program to place eight queens so that none of them share the same row, column, or diagonal.  \n",
    "[9.10](#9.10) Given n boxes that cannot be rotated, but can only be stacked up, write a method to find the tallest possible stack, where the height of a stack is the sum of height of each box.  \n",
    "[9.11](#9.11) Given a boolean equation, write a program to count the number of ways to parenthesize the expression such that equation is true, e.g., INPUT: Expression: 1^0|0|1, Desired Result: false(0), OUTPUT: 2 ways: 1^((0|0)|1) and 1^(0|(0|1)).  "
   ]
  },
  {
   "cell_type": "markdown",
   "metadata": {},
   "source": [
    "#### <a id=\"11\"></a>[11](#top). Sorting and Searching\n",
    "\n",
    "[11.1](#11.1) Given two sorted arrays, A and B, where A has a large enough buffer at the end to hold B, write a method to merge B into A.  \n",
    "[11.2](#11.2) Write a method to sort an array of string such that all anagrams are next to each other.\n",
    "\n",
    "```Java\n",
    "public String anagram(String s) {\n",
    "    char[] chars = s.toCharArray();\n",
    "    Arrays.sort(chars);\n",
    "    return new String(chars);\n",
    "}\n",
    "Arrays.sort(anagrams, new Comparator<String>() {\n",
    "    public int compare(String a, String b) {\n",
    "        int d = a.length() - b.length();\n",
    "        return d != 0 ? d : anagram(a).compareTo(anagram(b));\n",
    "    }\n",
    "});\n",
    "```\n",
    "\n",
    "[11.3](#11.3) Given an array of sorted integers that has been rotated a number of times, write code to find an element in the array.  \n",
    "[11.4](#11.4) Given a 20 GB file with a string per line, how would you sort the file.  \n",
    "[11.5](#11.5) Given an array of sorted strings, which is interspersed with empty strings, write a method to find the location of a given string, e.g., find 'ball' in **['at', '', 'ball', '', '', 'car', '', 'dad', '', '']**.  \n",
    "[11.6](#11.6) Given an NxM matrix in which each row and each column is sorted in ascending order, write a method to find an element.  \n",
    "[11.7](#11.7) Write a program to design a circus of the largest tower of people standing atop one another's shoulders. For practical and aesthetic reasons, each person must be both shorter and lighter than the person below him or her.  \n",
    "[11.8](#11.8) Design and implement a data structure and an algorithm that can track a stream of numbers, and tell the rank of a value x (the number of values less than or equal to x).  "
   ]
  },
  {
   "cell_type": "markdown",
   "metadata": {},
   "source": [
    "<a id='9.1'></a>[9.1](#top) Given a staircase with n steps, write a program to count the number of possible ways to climb it, when one can hop either 1, 2, or 3 steps at a time."
   ]
  },
  {
   "cell_type": "code",
   "execution_count": 1,
   "metadata": {
    "collapsed": false
   },
   "outputs": [],
   "source": [
    "def climb(n, memos={}):\n",
    "    if n in memos:\n",
    "        return memos[n]\n",
    "    return memos.setdefault(n, (\n",
    "        n if n == 1 or n == 2 else\n",
    "        4 if n == 3 else\n",
    "        climb(n-1) + climb(n-2) + climb(n-3)))\n",
    "\n",
    "assert 13 == climb(5)\n",
    "assert 24 == climb(6)"
   ]
  },
  {
   "cell_type": "markdown",
   "metadata": {},
   "source": [
    "<a id='9.2'></a>[9.2](#top) Given NxM grid, write a program to route a robot from (0, 0) to (N, M). How many possible ways are there, when the robot can move in two directions: right, and down. What if there are some spots of off-limits?"
   ]
  },
  {
   "cell_type": "code",
   "execution_count": 2,
   "metadata": {
    "collapsed": false
   },
   "outputs": [],
   "source": [
    "def backtrack(candidate, expand_out, reduce_off):\n",
    "    if not reduce_off(candidate):\n",
    "        for e in expand_out(candidate):\n",
    "            candidate.append(e)\n",
    "            backtrack(candidate, expand_out, reduce_off)\n",
    "            candidate.pop()\n",
    "\n",
    "maze = [None] * 6\n",
    "maze[0] = [1, 1, 1, 1, 1, 0]\n",
    "maze[1] = [1, 0, 1, 0, 1, 0]\n",
    "maze[2] = [1, 1, 1, 0, 1, 0]\n",
    "maze[3] = [1, 0, 0, 1, 1, 1]\n",
    "maze[4] = [1, 1, 0, 0, 1, 0]\n",
    "maze[5] = [1, 1, 0, 1, 1, 1]\n",
    "n, m = len(maze), len(maze[0]) # n x m grid\n",
    "\n",
    "def within_bounds_n_limits(r, c):\n",
    "    return 0 <= r and r < n and 0 <= c and c < m and maze[r][c] == 1\n",
    "\n",
    "def expand_out(a):\n",
    "    r0, c0 = a[-1]\n",
    "    for r, c in ((r0+1, c0), (r0, c0+1)):\n",
    "        if within_bounds_n_limits(r, c):\n",
    "            yield (r, c)\n",
    "\n",
    "def reduce_off(a):\n",
    "    r, c = a[-1]\n",
    "    if r == n-1 and c == m-1:\n",
    "        reduce_off.reduced.append(a[:])\n",
    "        return True\n",
    "\n",
    "reduce_off.reduced = []\n",
    "backtrack([(0, 0)], expand_out, reduce_off)\n",
    "assert [\n",
    "    [(0, 0), (0, 1), (0, 2), (0, 3),(0, 4), (1, 4), (2, 4), (3, 4), (4, 4), (5, 4), (5, 5)]\n",
    "] == reduce_off.reduced"
   ]
  },
  {
   "cell_type": "markdown",
   "metadata": {},
   "source": [
    "<a id='9.3'></a>[9.3](#top) Given an array of sorted integers, write a method to find a magic index where A[i] = i. What if integers are not distinct?"
   ]
  },
  {
   "cell_type": "code",
   "execution_count": 3,
   "metadata": {
    "collapsed": false
   },
   "outputs": [],
   "source": [
    "def magic(a, start=0, stop=None):\n",
    "    if stop is None:\n",
    "        stop = len(a)\n",
    "    if stop - start > 0:\n",
    "        mid = (start + stop - 1)//2\n",
    "        if mid == a[mid]:\n",
    "            return mid\n",
    "        x = magic(a, start, min(mid, a[mid]+1)) # ..min(mid-1, a[mid])\n",
    "        if x is None:\n",
    "            x = magic(a, max(mid+1, a[mid]), stop) # max(mid+1, a[mid])..\n",
    "        return x\n",
    "\n",
    "deq = [\n",
    "    [1, 3, 3, 5, 5, 5, 7, 9, 9],\n",
    "    [1, 3, 3, 5, 6, 6, 7, 7, 9],\n",
    "    [1, 1, 3, 4, 6, 6, 7, 9, 9]\n",
    "]\n",
    "assert [5, 7, 1] == [magic(q) for q in deq]"
   ]
  },
  {
   "cell_type": "code",
   "execution_count": 4,
   "metadata": {
    "collapsed": false
   },
   "outputs": [],
   "source": [
    "def bisect_left(a, x, lo=0, hi=None):\n",
    "    if hi is None:\n",
    "        hi = len(a)\n",
    "    while lo < hi:\n",
    "        mid = (lo+hi)//2\n",
    "        if x > a[mid]: lo = mid+1\n",
    "        else: hi = mid\n",
    "    return lo\n",
    "\n",
    "def bisect_right(a, x, lo=0, hi=None):\n",
    "    if hi is None:\n",
    "        hi = len(a)\n",
    "    while lo < hi:\n",
    "        mid = (lo+hi)//2\n",
    "        if x >= a[mid]: lo = mid+1\n",
    "        else: hi = mid\n",
    "    return lo\n",
    "\n",
    "def bisect_range(a, x, lo=0, hi=None):\n",
    "    if hi is None:\n",
    "        hi = len(a)\n",
    "    args = [a, x, lo, hi]\n",
    "    return (bisect_left(*args), bisect_right(*args))\n",
    "\n",
    "a = [1, 1, 5, 5, 5, 5, 5, 7, 7]\n",
    "assert [(2, 7), (0, 2), (7, 9)] == [bisect_range(a, x) for x in (5, 1, 7)]\n",
    "assert [(0, 0), (9, 9)] == [bisect_range(a, x) for x in (0, 8)]"
   ]
  },
  {
   "cell_type": "code",
   "execution_count": 5,
   "metadata": {
    "collapsed": false
   },
   "outputs": [],
   "source": [
    "# find the exact point of transition within an array that\n",
    "# contains a run of 0's and an unbounded run of 1's.\n",
    "def one_sided_bsearch(a): # algorithm design manual 4.9.2\n",
    "    if a[1] == 1:\n",
    "        return 1\n",
    "    for n in range(32):\n",
    "        if a[2**n] == 1:\n",
    "            return bisect_left(a, 1, 2**(n-1)+1, 2**n+1)\n",
    "\n",
    "assert [1, 2, 3, 4] == [one_sided_bsearch(a) for a in (\n",
    "    (0, 1), (0, 0, 1), (0, 0, 0, 1, 1), (0, 0, 0, 0, 1))]"
   ]
  },
  {
   "cell_type": "markdown",
   "metadata": {},
   "source": [
    "<a id='9.4'></a>[9.4](#top) Write a method to generate all subsets of a set."
   ]
  },
  {
   "cell_type": "code",
   "execution_count": 6,
   "metadata": {
    "collapsed": false
   },
   "outputs": [],
   "source": [
    "def subsets(a, i=0):\n",
    "    if i == len(a):\n",
    "        yield ()\n",
    "    else:\n",
    "        for e in subsets(a, i+1):\n",
    "            yield e\n",
    "            yield (a[i],) + e\n",
    "\n",
    "assert (\n",
    "    (), ('a',), ('b',), ('a', 'b'), ('c',), ('a', 'c'), ('b', 'c'), ('a', 'b', 'c')\n",
    ") == tuple(subsets(list(\"abc\")))\n",
    "assert ((), ('a',), ('b',), ('a', 'b')) == tuple(subsets(list(\"ab\")))"
   ]
  },
  {
   "cell_type": "markdown",
   "metadata": {},
   "source": [
    "<a id='9.5'></a>[9.5](#top) Write a method to generate all permutations of a string."
   ]
  },
  {
   "cell_type": "code",
   "execution_count": 7,
   "metadata": {
    "collapsed": false
   },
   "outputs": [],
   "source": [
    "def permutate(a, k=None, i=0): # places values at indices from i to k-1.\n",
    "    if k is None:\n",
    "        k = len(a)\n",
    "    if i == k:\n",
    "        yield a[:k]\n",
    "    else:\n",
    "        for j in {a[j]: j for j in range(i, len(a))}.values():\n",
    "            a[i], a[j] = a[j], a[i]\n",
    "            yield from permutate(a, k, i+1)\n",
    "            a[i], a[j] = a[j], a[i]\n",
    "\n",
    "assert [[1, 1], [1, 2], [2, 1]] == sorted(permutate([1, 1, 2], 2))\n",
    "assert ['aab', 'aba', 'baa'] == sorted(\"\".join(e) for e in permutate(list(\"aab\")))"
   ]
  },
  {
   "cell_type": "markdown",
   "metadata": {},
   "source": [
    "<a id='9.6'></a>[9.6](#top) Write a program to generate all possible, valid combinations of n-pairs of parenthesis, e.g., INPUT: 3, OUTPUT: ((())), (()()), (())(), ()(()), ()()().  "
   ]
  },
  {
   "cell_type": "code",
   "execution_count": 8,
   "metadata": {
    "collapsed": false
   },
   "outputs": [],
   "source": [
    "def combine_parens(o, c):\n",
    "    if c == 0:\n",
    "        yield \"\"\n",
    "    elif o == 0:\n",
    "        yield \")\" * c\n",
    "    elif c == o:\n",
    "        yield from (\"(\" + e for e in combine_parens(o-1, c))\n",
    "    elif c > 0 and o > 0:\n",
    "        yield from (\"(\" + e for e in combine_parens(o-1, c))\n",
    "        yield from (\")\" + e for e in combine_parens(o, c-1))\n",
    "\n",
    "assert ('((()))', '(()())', '(())()', '()(())', '()()()') == tuple(combine_parens(3, 3))"
   ]
  },
  {
   "cell_type": "code",
   "execution_count": 9,
   "metadata": {
    "collapsed": false
   },
   "outputs": [],
   "source": [
    "def interleave(s1, s2):\n",
    "    if not s1 and not s2:\n",
    "        yield \"\"\n",
    "    elif not s1:\n",
    "        yield s2\n",
    "    elif not s2:\n",
    "        yield s1\n",
    "    else:\n",
    "        yield from (s1[0] + e for e in interleave(s1[1:], s2))\n",
    "        yield from (s2[0] + e for e in interleave(s1, s2[1:]))\n",
    "\n",
    "assert ('ab12', 'a1b2', 'a12b', '1ab2', '1a2b', '12ab') == tuple(interleave('ab', '12'))\n",
    "assert 20 == len(tuple(interleave('abc', '123')))"
   ]
  },
  {
   "cell_type": "markdown",
   "metadata": {},
   "source": [
    "<a id='9.7'></a>[9.7](#top) Write a flood-fill method to fill in a new color until the color changes from the original color; given a point and a new color."
   ]
  },
  {
   "cell_type": "code",
   "execution_count": 10,
   "metadata": {
    "collapsed": false
   },
   "outputs": [],
   "source": [
    "from collections import deque\n",
    "\n",
    "def flood_fill(graph, r, c, new):\n",
    "    m, n, g = len(graph), len(graph[0]), graph # m rows x n columns.\n",
    "    old = g[r][c]\n",
    "    q = deque([(r, c)])\n",
    "    while q:\n",
    "        r, c = q.popleft() # deque\n",
    "        if g[r][c] == old:\n",
    "            w = next((w for w in reversed(range(c)) if g[r][w] != old), -1) + 1\n",
    "            e = next((e for e in range(c+1, n) if g[r][e] != old), n) - 1\n",
    "            for c in range(w, e+1):\n",
    "                g[r][c] = new\n",
    "                if r > 0 and g[r-1][c] == old:\n",
    "                    q.append((r-1, c))\n",
    "                if r < m-1 and g[r+1][c] == old:\n",
    "                    q.append((r+1, c))\n",
    "    return g\n",
    "\n",
    "g = [\n",
    "    [1, 1, 1, 1],\n",
    "    [1, 0, 0, 1],\n",
    "    [0, 1, 0, 1],\n",
    "    [1, 1, 1, 1]\n",
    "]\n",
    "\n",
    "assert [[1, 1, 1, 1], [1, 2, 2, 1], [0, 1, 2, 1], [1, 1, 1, 1]] == flood_fill(g, 1, 1, 2)\n",
    "assert [[1, 1, 1, 1], [1, 3, 3, 1], [0, 1, 3, 1], [1, 1, 1, 1]] == flood_fill(g, 2, 2, 3)\n",
    "assert [[4, 4, 4, 4], [4, 3, 3, 4], [0, 4, 3, 4], [4, 4, 4, 4]] == flood_fill(g, 2, 1, 4)"
   ]
  },
  {
   "cell_type": "markdown",
   "metadata": {},
   "source": [
    "<a id='9.8'></a>[9.8](#top) Given infinite # of coins (25, 10, 5, and 1 cents), write a method to count the number of ways to represent n cents."
   ]
  },
  {
   "cell_type": "code",
   "execution_count": 11,
   "metadata": {
    "collapsed": false
   },
   "outputs": [],
   "source": [
    "def make_amount(k, denominations):\n",
    "    d0, d = denominations[0], denominations[1:]\n",
    "    if d0 == 1:\n",
    "        return 1\n",
    "    else:\n",
    "        return sum([make_amount(k-m*d0, d) for m in range(k//d0+1)])\n",
    "\n",
    "assert 1 == make_amount(4, [25, 10, 5, 1])\n",
    "assert 2 == make_amount(5, [25, 10, 5, 1])\n",
    "assert 4 == make_amount(10, [25, 10, 5, 1]) # 4 ways to make 10 cents\n",
    "assert 9 == make_amount(20, [25, 10, 5, 1]) # 13 ways to make 25 cents.\n",
    "\n",
    "def make_changes(k, denominations, memos=None):\n",
    "    if memos is None:\n",
    "        memos = {}\n",
    "    def computed(k):\n",
    "        if k == 0:\n",
    "            return ()\n",
    "        else:\n",
    "            return min([(d,) + make_changes(k-d, denominations, memos)\n",
    "                        for d in denominations if d <= k],\n",
    "                       key=lambda v: len(v))\n",
    "    if k not in memos:\n",
    "        memos[k] = computed(k)\n",
    "    return memos[k]\n",
    "\n",
    "assert (5, 5) == make_changes(10, [7, 5, 1])\n",
    "assert (7, 5, 1) == make_changes(13, [7, 5, 1])\n",
    "assert (7, 7) == make_changes(14, [7, 5, 1])"
   ]
  },
  {
   "cell_type": "markdown",
   "metadata": {},
   "source": [
    "<a id='9.9'></a>[9.9](#top) Given an NxN chessboard, write a program to place eight queens so that none of them share the same row, column, or diagonal -- [Visualize](http://goo.gl/pXYx79)"
   ]
  },
  {
   "cell_type": "code",
   "execution_count": 12,
   "metadata": {
    "collapsed": false
   },
   "outputs": [],
   "source": [
    "def peaceful_at(queens, r, c): # peaceful at row and column (r, c)?\n",
    "    return all([c0 != c and r - r0 != abs(c - c0)\n",
    "                for r0, c0 in enumerate(queens)])\n",
    "\n",
    "def queens_in_peace(n, queens=None):\n",
    "    if queens is None:\n",
    "        queens = []\n",
    "    r = len(queens)\n",
    "    if r == n:\n",
    "        yield queens[:]\n",
    "    else:\n",
    "        for c in range(n):\n",
    "            if peaceful_at(queens, r, c):\n",
    "                queens.append(c)\n",
    "                yield from queens_in_peace(n, queens)\n",
    "                queens.pop()\n",
    "\n",
    "assert [[1, 3, 0, 2], [2, 0, 3, 1]] == list(queens_in_peace(4))\n",
    "assert ([[0]], [], []) == tuple(list(queens_in_peace(n)) for n in range(1, 4))"
   ]
  },
  {
   "cell_type": "markdown",
   "metadata": {},
   "source": [
    "<a id='9.10'></a>[9.10](#top) Given n boxes that cannot be rotated, but can only be stacked up, write a method to find the tallest possible stack, where the height of a stack is the sum of height of each box."
   ]
  },
  {
   "cell_type": "code",
   "execution_count": 13,
   "metadata": {
    "collapsed": false
   },
   "outputs": [],
   "source": [
    "def stack(boxes, top=None):\n",
    "    m = [e[2] + stack(popped(boxes, i), e)\n",
    "         for i, e in enumerate(boxes)\n",
    "             if top is None or e[0] > top[0] and e[1] > top[1]]\n",
    "    return max(m) if m else 0\n",
    "\n",
    "def popped(a, i):\n",
    "    a = a.copy()\n",
    "    a.pop(i)\n",
    "    return a\n",
    "\n",
    "boxes = [\n",
    "    (10, 200, 30), (20, 300, 10), (30, 400, 20),\n",
    "    (100, 30, 10), (200, 40, 10), (300, 50, 20)\n",
    "]\n",
    "\n",
    "assert 60 == stack(boxes)"
   ]
  },
  {
   "cell_type": "markdown",
   "metadata": {},
   "source": [
    "<a id='9.11'></a>[9.11](#top) Given a boolean equation, write a program to count the number of ways to parenthesize the expression such that equation is true, e.g., INPUT: Expression: 1^0|0|1, Desired Result: false(0), OUTPUT: 2 ways: 1^((0|0)|1) and 1^(0|(0|1))."
   ]
  },
  {
   "cell_type": "code",
   "execution_count": 14,
   "metadata": {
    "collapsed": false
   },
   "outputs": [],
   "source": [
    "def express(expression, bit):\n",
    "    n = len(expression) // 2\n",
    "    if n < 2:\n",
    "        return 1 if bit == eval(expression) else 0\n",
    "    else:\n",
    "        m = 0\n",
    "        for p in range(n):\n",
    "            opr, opd1, opd2 = expression[2*p+1], expression[0:2*p+1], expression[2*p+2:]\n",
    "            opd1_1, opd1_0 = (express(a, b) for a, b in ((opd1, 1), (opd1, 0)))\n",
    "            opd2_1, opd2_0 = (express(a, b) for a, b in ((opd2, 1), (opd2, 0)))\n",
    "            if opr == '|':\n",
    "                m += ((opd1_1 * opd2_1 + opd1_1 * opd2_0 + opd1_0 * opd2_1) if bit == 1 else\n",
    "                      (opd1_0 * opd2_0))\n",
    "            if opr == '&':\n",
    "                m += ((opd1_1 * opd2_1) if bit == 1 else\n",
    "                      (opd1_1 * opd2_0 + opd1_0 * opd2_1 + opd1_0 * opd2_0))\n",
    "            if opr == '^':\n",
    "                m += ((opd1_1 * opd2_0 + opd1_0 * opd2_1) if bit == 1 else\n",
    "                      (opd1_1 * opd2_1 + opd1_0 * opd2_0))\n",
    "        return m\n",
    "  \n",
    "assert 2 == express(\"1^0|0|1\", 0)"
   ]
  },
  {
   "cell_type": "markdown",
   "metadata": {},
   "source": [
    "<a id='11.2'></a>[11.2](#11) Write a method to sort an array of string such that all anagrams are next to each other.\n",
    "\n",
    "```Java8\n",
    "Function<String, String> anagram = s -> s.chars().sorted()\n",
    "        .collect(StringBuilder::new, StringBuilder::appendCodePoint, null).toString();\n",
    "Comparator<String> compareByLength = (Comparator<String>)((a, b) -> a.length() - b.length());\n",
    "Comparator<String> compareByAnagram = compareByLength\n",
    "        .thenComparing((a, b) -> anagram.apply(a).compareTo(anagram.apply(b)))\n",
    "anagrams = anagrams.stream().sorted().collect(Collectors.toList());\n",
    "```"
   ]
  },
  {
   "cell_type": "markdown",
   "metadata": {},
   "source": [
    "<a id='11.3'></a>[11.3](#11) Given an array of sorted integers that has been rotated a number of times, write code to find an element in the array."
   ]
  },
  {
   "cell_type": "code",
   "execution_count": 15,
   "metadata": {
    "collapsed": false
   },
   "outputs": [],
   "source": [
    "from collections import deque\n",
    "\n",
    "def index_in_cycle(a, key, start=0, stop=None):\n",
    "    if stop is None:\n",
    "        stop = len(a)\n",
    "    while stop - start > 0:\n",
    "        mid = (start + stop-1)//2\n",
    "        if a[mid] == key:\n",
    "            return mid\n",
    "        if a[mid] > a[stop-1]:\n",
    "            if a[start] <= key < a[mid]: # rising monotonically\n",
    "                stop = mid\n",
    "            else:\n",
    "                start = mid+1\n",
    "        else:\n",
    "            if a[mid] < key <= a[stop-1]:\n",
    "                start = mid+1\n",
    "            else:\n",
    "                stop = mid\n",
    "\n",
    "def min_in_cycle(a, start=0, stop=None):\n",
    "    if stop is None:\n",
    "        stop = len(a)\n",
    "    if stop - start > 1:\n",
    "        mid = (start + stop-1)//2\n",
    "        if a[mid] > a[stop-1]:\n",
    "            return min_in_cycle(a, mid+1, stop)\n",
    "        else: # RHS is rising monotonically.\n",
    "            return min_in_cycle(a, start, mid+1)\n",
    "    else:\n",
    "        return start\n",
    "\n",
    "deq = [\n",
    "    deque([7, 8, 0, 1, 2, 3, 4, 5, 6]),\n",
    "    deque([3, 4, 5, 6, 7, 8, 0, 1, 2])\n",
    "]\n",
    "\n",
    "for q in deq:\n",
    "    for e in (0, 3, 5, 7):\n",
    "        assert e == q[index_in_cycle(q, e)]\n",
    "\n",
    "assert not any((min_in_cycle([6]), min_in_cycle([6, 7])))\n",
    "assert [2, 6] == [min_in_cycle(q) for q in deq]"
   ]
  },
  {
   "cell_type": "markdown",
   "metadata": {},
   "source": [
    "<a id='11.5'></a>[11.5](#11) Given an array of sorted strings, which is interspersed with empty strings, write a method to find the location of a given string, e.g., find 'ball' in **['at', '', 'ball', '', '', 'car', '', 'dad', '', '']**."
   ]
  },
  {
   "cell_type": "code",
   "execution_count": 16,
   "metadata": {
    "collapsed": false
   },
   "outputs": [],
   "source": [
    "def index(a, key, start=0, stop=None):\n",
    "    if stop is None:\n",
    "        stop = len(a)\n",
    "    if stop - start > 0:\n",
    "        head = tail = mid = (start + stop - 1)//2\n",
    "        while not a[mid]:\n",
    "            if head < start and tail >= stop:\n",
    "                return\n",
    "            if head >= start and a[head]:\n",
    "                mid = head\n",
    "            elif tail < stop and a[tail]:\n",
    "                mid = tail\n",
    "            else:\n",
    "                head, tail = head-1, tail+1\n",
    "        return (index(a, key, start, mid) if key < a[mid] else\n",
    "                index(a, key, mid+1, stop) if key > a[mid] else\n",
    "                mid)\n",
    "\n",
    "assert 1 == index([\"\", \"abc\", \"dos\", \"\", \"\", \"ijk\", \"xyz\"], \"abc\")\n",
    "assert 6 == index([\"\", \"abc\", \"dos\", \"\", \"\", \"ijk\", \"xyz\"], \"xyz\")"
   ]
  },
  {
   "cell_type": "markdown",
   "metadata": {},
   "source": [
    "<a id='11.6'></a>[11.6](#11) Given an NxM matrix in which each row and each column is sorted in ascending order, write a method to find an element."
   ]
  },
  {
   "cell_type": "code",
   "execution_count": 17,
   "metadata": {
    "collapsed": false
   },
   "outputs": [],
   "source": [
    "def find_in_grid(g, q, rows, cols):\n",
    "    if rows[1] - rows[0] >= 0 and cols[1] - cols[0] >= 0:\n",
    "        r, c = ((e[1] + e[0])//2 for e in (rows, cols))\n",
    "        if q < g[r][c]:\n",
    "            return (find_in_grid(g, q, (rows[0], r-1), cols) or\n",
    "                    find_in_grid(g, q, (r, rows[1]), (cols[0], c-1)))\n",
    "        elif q > g[r][c]:\n",
    "            return (find_in_grid(g, q, (r+1, rows[1]), cols) or\n",
    "                    find_in_grid(g, q, (rows[0], r), (c+1, cols[1])))\n",
    "        else:\n",
    "            return (r, c)\n",
    "\n",
    "g = [\n",
    "    [11, 23, 35, 47],\n",
    "    [22, 34, 38, 58],\n",
    "    [33, 39, 57, 62],\n",
    "    [44, 45, 61, 69]\n",
    "]\n",
    "\n",
    "rows, cols = (0, len(g)-1), (0, len(g[0])-1)\n",
    "assert [(0, 3), (3, 3), (0, 0), (3, 0), (2, 1), (3, 2)] \\\n",
    "    == [find_in_grid(g, e, rows, cols) for e in (47, 69, 11, 44, 39, 61)]"
   ]
  },
  {
   "cell_type": "code",
   "execution_count": 18,
   "metadata": {
    "collapsed": false
   },
   "outputs": [
    {
     "data": {
      "text/plain": [
       "[10, 11, 12, 13, 14, 15, 16, 17, 18, 19, 20, 21]"
      ]
     },
     "execution_count": 18,
     "metadata": {},
     "output_type": "execute_result"
    }
   ],
   "source": [
    "def find_in_rng(a1, a2, rng=None, rng1=None, rng2=None):\n",
    "    rng1 = rng1 or [0, len(a1)]\n",
    "    rng2 = rng2 or [0, len(a2)]\n",
    "    m, n = rng1[1] - rng1[0], rng2[1] - rng2[0]\n",
    "    if rng is None:\n",
    "        k, z = divmod(m + n, 2)\n",
    "        rng = [k, k+1 if z else k+2]\n",
    "    if n == 1:\n",
    "        rng1[0] += rng[0] - 1\n",
    "        rng[0], rng[1] = 0, rng[1] - rng[0]\n",
    "    elif m == 1:\n",
    "        rng2[0] += rng[0] - 1\n",
    "        rng[0], rng[1] = 0, rng[1] - rng[0]\n",
    "    if rng[0] == 0:\n",
    "        res = []\n",
    "        for _ in range(rng[0], rng[1]):\n",
    "            if rng1[0] < len(a1) and rng2[0] < len(a2):\n",
    "                if a1[rng1[0]] < a2[rng2[0]]:\n",
    "                    res.append(a1[rng1[0]])\n",
    "                    rng1[0] += 1 \n",
    "                else:\n",
    "                    res.append(a2[rng2[0]])\n",
    "                    rng2[0] += 1  \n",
    "            elif rng1[0] < len(a1):\n",
    "                res.append(a1[rng1[0]])\n",
    "                rng1[0] += 1 \n",
    "            elif rng2[0] < len(a2):\n",
    "                res.append(a2[rng2[0]])\n",
    "                rng2[0] += 1            \n",
    "        return res\n",
    "    ext1 = rng[0] * m // (m + n)\n",
    "    ext2 = rng[0] - ext1\n",
    "    cmp0 = a1[rng1[0] + ext1] - a2[rng2[0] + ext2]\n",
    "    if cmp0 < 0:\n",
    "        rng[0], rng[1] = rng[0] - ext1, rng[1] - ext1\n",
    "        rng1[0] = rng1[0] + ext1\n",
    "        rng2[1] = rng2[0] + ext2\n",
    "    else:\n",
    "        rng[0], rng[1] = rng[0] - ext2, rng[1] - ext2\n",
    "        rng1[0] = rng1[0] + ext2\n",
    "        rng2[1] = rng2[0] + ext1\n",
    "    return find_in_rng(a1, a2, rng, rng1, rng2)\n",
    "\n",
    "find_in_rng(list(range(10, 20)), list(range(20, 30)), [0, 12])"
   ]
  },
  {
   "cell_type": "markdown",
   "metadata": {},
   "source": [
    "<a id='11.7'></a>[11.7](#11) Write a program to design a circus of the largest tower of people standing atop one another's shoulders. For practical and aesthetic reasons, each person must be both shorter and lighter than the person below him or her."
   ]
  },
  {
   "cell_type": "code",
   "execution_count": 19,
   "metadata": {
    "collapsed": false
   },
   "outputs": [],
   "source": [
    "def longest_increasing_subsequence(a):\n",
    "    memos = []\n",
    "    for i, e in enumerate(a):\n",
    "        for j, m in reversed(list(enumerate(memos))):\n",
    "            if m[-1] <= a[i]:\n",
    "                break\n",
    "        else:\n",
    "            j = -1\n",
    "        m = memos[j] + [a[i]] if j != -1 else [a[i]]\n",
    "        if j < len(memos)-1:\n",
    "            memos[j+1] = m\n",
    "        else:\n",
    "            memos.append(m)\n",
    "    return memos[-1]\n",
    "            \n",
    "assert [1, 2, 3] == longest_increasing_subsequence([7, 8, 1, 5, 6, 2, 3])"
   ]
  },
  {
   "cell_type": "code",
   "execution_count": 20,
   "metadata": {
    "collapsed": false
   },
   "outputs": [],
   "source": [
    "from functools import *\n",
    "\n",
    "def maxima(iterable, key=lambda e: e):\n",
    "    maxima = []\n",
    "    for e in iterable:\n",
    "        if not maxima or key(e) == key(maxima[0]):\n",
    "            maxima.append(e)\n",
    "        elif key(e) > key(maxima[0]):\n",
    "            maxima = [e]\n",
    "    return maxima\n",
    "\n",
    "def lcs(a, b):\n",
    "    @lru_cache(maxsize=None)\n",
    "    def lcsuff(i, j): # returns a tuple of (offset, count)\n",
    "        if i == -1 or j == -1 or a[i] != b[j]:\n",
    "            return (i, 0)\n",
    "        o, c = lcsuff(i-1, j-1)\n",
    "        return (o, c+1) if c > 0 else (i, 1)\n",
    "    m, n = len(a), len(b)\n",
    "    z = maxima((lcsuff(i, j) for i in range(m) for j in range(n)), key=lambda e: e[1])\n",
    "    return [a[s:s+c] for s, c in z]\n",
    "\n",
    "assert ['aba', 'bab'] == lcs('abab', 'baba')"
   ]
  },
  {
   "cell_type": "markdown",
   "metadata": {},
   "source": [
    "<a id='11.8'></a>[11.8](#11) Design and implement a data structure and an algorithm that can track a stream of numbers, and tell the rank of a value x (the number of values less than or equal to x).  "
   ]
  },
  {
   "cell_type": "code",
   "execution_count": 21,
   "metadata": {
    "collapsed": false
   },
   "outputs": [],
   "source": [
    "class BNode:\n",
    "    def __init__(self, value=None, left=None, right=None, parent=None):\n",
    "        self.value, self.left, self.right, self.parent = value, left, right, parent\n",
    "\n",
    "def track(bnode, value):\n",
    "    if value <= bnode.value[0]:\n",
    "        if bnode.left is not None:\n",
    "            track(bnode.left, value)\n",
    "        else:\n",
    "            bnode.left = BNode([value, 0])\n",
    "        bnode.value[1] += 1\n",
    "    else:\n",
    "        if bnode.right is not None:\n",
    "            track(bnode.right, value)\n",
    "        else:\n",
    "            bnode.right = BNode([value, 0])\n",
    "\n",
    "def rank(bnode, value):\n",
    "    if value == bnode.value[0]:\n",
    "        return 1 + bnode.value[1]\n",
    "    elif value < bnode.value[0]:\n",
    "        return rank(bnode.left, value) if bnode.left is not None else -1\n",
    "    else:\n",
    "        right_rank = rank(bnode.right, value) if bnode.right is not None else -1\n",
    "        return -1 if right_rank == -1 else 1 + bnode.value[1] + right_rank\n",
    "\n",
    "# tree:    20(4) has a value of value, and # of nodes of smaller values.\n",
    "#        /    \\\n",
    "#     15(3)   25(2)\n",
    "#     /       /\n",
    "#   10(1)    23(0)\n",
    "#  /   \\      \\\n",
    "# 5(0) 13(0)  24(0)\n",
    "\n",
    "tree = BNode([2**31, 0])\n",
    "track(tree, 1)\n",
    "track(tree, 3)\n",
    "track(tree, 2)\n",
    "track(tree, 3)\n",
    "assert 1 == rank(tree, 1)\n",
    "assert 2 == rank(tree, 2)\n",
    "assert 4 == rank(tree, 3)"
   ]
  }
 ],
 "metadata": {
  "kernelspec": {
   "display_name": "Python 3",
   "language": "python",
   "name": "python3"
  },
  "language_info": {
   "codemirror_mode": {
    "name": "ipython",
    "version": 3
   },
   "file_extension": ".py",
   "mimetype": "text/x-python",
   "name": "python",
   "nbconvert_exporter": "python",
   "pygments_lexer": "ipython3",
   "version": "3.4.3"
  }
 },
 "nbformat": 4,
 "nbformat_minor": 0
}
