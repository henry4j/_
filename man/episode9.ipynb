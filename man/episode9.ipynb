{
 "metadata": {
  "name": "",
  "signature": "sha256:cbe87deeeb91b25460f453d189f1575d172a2ba3a805eedb2f26d33c549b2d76"
 },
 "nbformat": 3,
 "nbformat_minor": 0,
 "worksheets": [
  {
   "cells": [
    {
     "cell_type": "markdown",
     "metadata": {},
     "source": [
      "#### 9. Recursion and DP\n",
      "\n",
      "9.1 Given a staircase with n steps, write a program to count the number of possible ways to climb it, when one can hop either 1, 2, or 3 steps at a time.  \n",
      "9.2 Given NxM grid, write a program to route a robot from (0, 0) to (N, M). How many possible ways are there, when the robot can move in two directions: right, and down. What if there are some spots of off-limits?  \n",
      "9.3 Given an array of sorted integers, write a method to find a magic index where A[i] = i. What if integers are not distinct?  \n",
      "9.4 Write a method to generate all subsets of a set.  \n",
      "9.5 Write a method to generate all permutations of a string.  \n",
      "9.6 Write a program to generate all possible, valid combinations of n-pairs of parenthesis, e.g., INPUT: 3, OUTPUT: ((())), (()()), (())(), ()(()), ()()().  \n",
      "9.7 Write a flood-fill method to fill in a new color until the color changes from the original color; given a point and a new color.  \n",
      "9.8 Given infinite # of coins (25, 10, 5, and 1 cents), write a method to count the number of ways to represent n cents.  \n",
      "9.9 Given an NxN chessboard, write a program to place eight queens so that none of them share the same row, column, or diagonal.  \n",
      "9.10 Given n boxes that cannot be rotated, but can only be stacked up, write a method to find the tallest possible stack, where the height of a stack is the sum of height of each box.  \n",
      "9.11 Given a boolean equation, write a program to count the number of ways to parenthesize the expression such that equation is true, e.g., INPUT: Expression: 1^0|0|1, Desired Result: false(0), OUTPUT: 2 ways: 1^((0|0)|1) and 1^(0|(0|1)).  "
     ]
    },
    {
     "cell_type": "markdown",
     "metadata": {},
     "source": [
      "9.1 Given a staircase with n steps, write a program to count the number of possible ways to climb it, when one can hop either 1, 2, or 3 steps at a time."
     ]
    },
    {
     "cell_type": "code",
     "collapsed": false,
     "input": [
      "def climb(n, memos={}):\n",
      "    return memos.setdefault(n, (\n",
      "        n if n == 1 or n == 2 else\n",
      "        4 if n == 3 else climb(n-1) + climb(n-2) + climb(n-3))\n",
      "    )\n",
      "\n",
      "assert 13 == climb(5)\n",
      "assert 24 == climb(6)"
     ],
     "language": "python",
     "metadata": {},
     "outputs": [],
     "prompt_number": 1
    },
    {
     "cell_type": "markdown",
     "metadata": {},
     "source": [
      "9.2 Given NxM grid, write a program to route a robot from (0, 0) to (N, M). How many possible ways are there, when the robot can move in two directions: right, and down. What if there are some spots of off-limits?"
     ]
    },
    {
     "cell_type": "code",
     "collapsed": false,
     "input": [
      "maze = [None] * 6\n",
      "maze[0] = [1, 1, 1, 1, 1, 0]\n",
      "maze[1] = [1, 0, 1, 0, 1, 0]\n",
      "maze[2] = [1, 1, 1, 0, 1, 0]\n",
      "maze[3] = [1, 0, 0, 1, 1, 1]\n",
      "maze[4] = [1, 1, 0, 0, 1, 0]\n",
      "maze[5] = [1, 1, 0, 1, 1, 1]\n",
      "n, m = len(maze), len(maze[0]) # n x m grid"
     ],
     "language": "python",
     "metadata": {},
     "outputs": [],
     "prompt_number": 2
    },
    {
     "cell_type": "code",
     "collapsed": false,
     "input": [],
     "language": "python",
     "metadata": {},
     "outputs": []
    }
   ],
   "metadata": {}
  }
 ]
}