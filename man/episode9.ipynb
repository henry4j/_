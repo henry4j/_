{
 "metadata": {
  "name": "",
  "signature": "sha256:5aef987e856fff23d0574a7743a01e2a0f6b9bfea86475672484d6f7d145f4ae"
 },
 "nbformat": 3,
 "nbformat_minor": 0,
 "worksheets": [
  {
   "cells": [
    {
     "cell_type": "markdown",
     "metadata": {},
     "source": [
      "#### 9. Recursion and DP\n",
      "\n",
      "9.1 Given a staircase with n steps, write a program to count the number of possible ways to climb it, when one can hop either 1, 2, or 3 steps at a time.  \n",
      "9.2 Given NxM grid, write a program to route a robot from (0, 0) to (N, M). How many possible ways are there, when the robot can move in two directions: right, and down. What if there are some spots of off-limits?  \n",
      "9.3 Given an array of sorted integers, write a method to find a magic index where A[i] = i. What if integers are not distinct?  \n",
      "9.4 Write a method to generate all subsets of a set.  \n",
      "9.5 Write a method to generate all permutations of a string.  \n",
      "9.6 Write a program to generate all possible, valid combinations of n-pairs of parenthesis, e.g., INPUT: 3, OUTPUT: ((())), (()()), (())(), ()(()), ()()().  \n",
      "9.7 Write a flood-fill method to fill in a new color until the color changes from the original color; given a point and a new color.  \n",
      "9.8 Given infinite # of coins (25, 10, 5, and 1 cents), write a method to count the number of ways to represent n cents.  \n",
      "9.9 Given an NxN chessboard, write a program to place eight queens so that none of them share the same row, column, or diagonal.  \n",
      "9.10 Given n boxes that cannot be rotated, but can only be stacked up, write a method to find the tallest possible stack, where the height of a stack is the sum of height of each box.  \n",
      "9.11 Given a boolean equation, write a program to count the number of ways to parenthesize the expression such that equation is true, e.g., INPUT: Expression: 1^0|0|1, Desired Result: false(0), OUTPUT: 2 ways: 1^((0|0)|1) and 1^(0|(0|1)).  "
     ]
    },
    {
     "cell_type": "markdown",
     "metadata": {},
     "source": [
      "9.1 Given a staircase with n steps, write a program to count the number of possible ways to climb it, when one can hop either 1, 2, or 3 steps at a time."
     ]
    },
    {
     "cell_type": "code",
     "collapsed": false,
     "input": [
      "def climb(n, memos={}):\n",
      "    return memos.setdefault(n, (\n",
      "        n if n == 1 or n == 2 else\n",
      "        4 if n == 3 else climb(n-1) + climb(n-2) + climb(n-3))\n",
      "    )\n",
      "\n",
      "assert 13 == climb(5)\n",
      "assert 24 == climb(6)"
     ],
     "language": "python",
     "metadata": {},
     "outputs": [],
     "prompt_number": 1
    },
    {
     "cell_type": "markdown",
     "metadata": {},
     "source": [
      "9.2 Given NxM grid, write a program to route a robot from (0, 0) to (N, M). How many possible ways are there, when the robot can move in two directions: right, and down. What if there are some spots of off-limits?"
     ]
    },
    {
     "cell_type": "code",
     "collapsed": false,
     "input": [
      "maze = [None] * 6\n",
      "maze[0] = [1, 1, 1, 1, 1, 0]\n",
      "maze[1] = [1, 0, 1, 0, 1, 0]\n",
      "maze[2] = [1, 1, 1, 0, 1, 0]\n",
      "maze[3] = [1, 0, 0, 1, 1, 1]\n",
      "maze[4] = [1, 1, 0, 0, 1, 0]\n",
      "maze[5] = [1, 1, 0, 1, 1, 1]\n",
      "n, m = len(maze), len(maze[0]) # n x m grid\n",
      "\n",
      "def backtrack(candidate, expand_out, reduce_off):\n",
      "    if not reduce_off(candidate):\n",
      "        for e in expand_out(candidate):\n",
      "            candidate.append(e)\n",
      "            backtrack(candidate, expand_out, reduce_off)\n",
      "            candidate.pop()\n",
      "\n",
      "answers = []\n",
      "\n",
      "def within_limits_n_bounds(r, c):\n",
      "    return 0 <= r and r < n and 0 <= c and c < m and maze[r][c] == 1\n",
      "\n",
      "def expand_out(a):\n",
      "    r, c = a[-1]\n",
      "    for a, b in ((r+1, c), (r, c+1)):\n",
      "        if within_limits_n_bounds(r, c):\n",
      "            yield (a, b)\n",
      "\n",
      "def reduce_off(a):\n",
      "    r, c = a[-1]\n",
      "    if r == n-1 and c == m-1:\n",
      "        answers.append(a[:])\n",
      "        return True\n",
      "\n",
      "backtrack([(0, 0)], expand_out, reduce_off)\n",
      "assert [\n",
      "    [(0, 0), (0, 1), (0, 2), (0, 3),(0, 4), (1, 4), (2, 4), (3, 4), (4, 4), (5, 4), (5, 5)]\n",
      "] == answers"
     ],
     "language": "python",
     "metadata": {},
     "outputs": [],
     "prompt_number": 2
    },
    {
     "cell_type": "markdown",
     "metadata": {},
     "source": [
      "9.4 Write a method to generate all subsets of a set."
     ]
    },
    {
     "cell_type": "code",
     "collapsed": false,
     "input": [
      "def subsets(a, k=None):\n",
      "    if k == None:\n",
      "        k = len(a)\n",
      "    if k == 0:\n",
      "        yield ()\n",
      "    else:\n",
      "        for e in subsets(a, k-1):\n",
      "            yield e\n",
      "            yield e + (a[k-1],)\n",
      "\n",
      "s3 = [(), ('c',), ('b',), ('b', 'c'), ('a',), ('a', 'c'), ('a', 'b'), ('a', 'b', 'c')]\n",
      "assert s3 == list(subsets(list(\"abc\")))\n",
      "assert [(), ('b',), ('a',), ('a', 'b')] == list(subsets(list(\"ab\")))"
     ],
     "language": "python",
     "metadata": {},
     "outputs": [],
     "prompt_number": 3
    },
    {
     "cell_type": "markdown",
     "metadata": {},
     "source": [
      "9.5 Write a method to generate all permutations of a string."
     ]
    },
    {
     "cell_type": "code",
     "collapsed": false,
     "input": [
      "def permutate(a, k=None):\n",
      "    if k is None:\n",
      "        k = len(a)\n",
      "    if k == 1:\n",
      "        return [list(a)]\n",
      "    else:\n",
      "        d = {} # indices by values\n",
      "        for i in range(k):\n",
      "            if a[i] not in d:\n",
      "                d[a[i]] = i\n",
      "        r = []\n",
      "        for i in d.values():\n",
      "            a[k-1], a[i] = a[i], a[k-1]\n",
      "            r.extend(permutate(a, k-1))\n",
      "            a[k-1], a[i] = a[i], a[k-1]\n",
      "        return r\n",
      "\n",
      "assert [[9, 9, 8], [9, 8, 9], [8, 9, 9]] == permutate([9, 8, 9])\n",
      "x = ['aabb', 'abab', 'baab', 'abba', 'baba', 'bbaa']\n",
      "assert x == [''.join(e) for e in permutate(list(\"aabb\"))] # 4!/2!/2!"
     ],
     "language": "python",
     "metadata": {},
     "outputs": [],
     "prompt_number": 4
    },
    {
     "cell_type": "markdown",
     "metadata": {},
     "source": [
      "9.6 Write a program to generate all possible, valid combinations of n-pairs of parenthesis, e.g., INPUT: 3, OUTPUT: ((())), (()()), (())(), ()(()), ()()().  "
     ]
    },
    {
     "cell_type": "code",
     "collapsed": false,
     "input": [
      "def combine_parentheses(o, c, s=\"\"):\n",
      "    if c == 0: # o must be 0.\n",
      "        return [s]\n",
      "    if o == 0:\n",
      "        return combine_parentheses(o, c-1, s+\")\")\n",
      "    if c == o:\n",
      "        return combine_parentheses(o-1, c, s+\"(\")\n",
      "    else:\n",
      "        return combine_parentheses(o-1, c, s+\"(\") + combine_parentheses(o, c-1, s+\")\")\n",
      "\n",
      "assert ['(())', '()()'] == combine_parentheses(2, 2)\n",
      "assert ['((()))', '(()())', '(())()', '()(())', '()()()'] == combine_parentheses(3, 3)"
     ],
     "language": "python",
     "metadata": {},
     "outputs": [],
     "prompt_number": 5
    },
    {
     "cell_type": "markdown",
     "metadata": {},
     "source": [
      "9.7 Write a flood-fill method to fill in a new color until the color changes from the original color; given a point and a new color."
     ]
    },
    {
     "cell_type": "code",
     "collapsed": false,
     "input": [
      "from collections import deque\n",
      "\n",
      "m = [\n",
      "    [1, 1, 1, 1],\n",
      "    [1, 0, 0, 1],\n",
      "    [0, 1, 0, 1],\n",
      "    [1, 1, 1, 1]\n",
      "]\n",
      "\n",
      "\n",
      "\n",
      "def flood_fill(map, n, s, t): # fills 's' color with 't' color from node 'n'\n",
      "    q = deque([n])\n",
      "    while q:\n",
      "        r, c = q.popleft()\n",
      "        if map[r][c] == s:\n",
      "            w = e = c\n",
      "            while w > 0 and map[r][w-1] == s: # goes west\n",
      "                w -= 1\n",
      "            while e < len(map[0])-1 and map[r][e+1] == s: # goes east\n",
      "                e += 1\n",
      "            for c in range(w, e+1):\n",
      "                map[r][c] = t\n",
      "                if r > 0 and map[r-1][c] == s:\n",
      "                    q.append((r-1, c))\n",
      "                if r < len(map)-1 and map[r+1][c] == s:\n",
      "                    q.append((r+1, c))\n",
      "    return map\n",
      "\n",
      "assert [[1, 1, 1, 1], [1, 2, 2, 1], [0, 1, 2, 1], [1, 1, 1, 1]] == flood_fill(m, (1, 1), 0, 2)\n",
      "assert [[1, 1, 1, 1], [1, 3, 3, 1], [0, 1, 3, 1], [1, 1, 1, 1]] == flood_fill(m, (2, 2), 2, 3)\n",
      "assert [[4, 4, 4, 4], [4, 3, 3, 4], [0, 4, 3, 4], [4, 4, 4, 4]] == flood_fill(m, (2, 1), 1, 4)"
     ],
     "language": "python",
     "metadata": {},
     "outputs": [],
     "prompt_number": 6
    },
    {
     "cell_type": "markdown",
     "metadata": {},
     "source": [
      "9.8 Given infinite # of coins (25, 10, 5, and 1 cents), write a method to count the number of ways to represent n cents."
     ]
    },
    {
     "cell_type": "code",
     "collapsed": false,
     "input": [
      "def make_amount(k, denominations):\n",
      "    d = denominations[0]\n",
      "    if d == 1:\n",
      "        return 1 \n",
      "    else:\n",
      "        n = 0\n",
      "        for m in range(k//d+1):\n",
      "            n += make_amount(k-m*d, denominations[1:])\n",
      "    return n\n",
      "\n",
      "assert 1 == make_amount(4, [25, 10, 5, 1])\n",
      "assert 2 == make_amount(5, [25, 10, 5, 1])\n",
      "assert 4 == make_amount(10, [25, 10, 5, 1]) # 4 ways to make 10 cents\n",
      "assert 9 == make_amount(20, [25, 10, 5, 1]) # 13 ways to make 25 cents.\n",
      "\n",
      "def make_changes(k, denominations, memos=None):\n",
      "    if memos is None:\n",
      "        memos = {}\n",
      "    if k in memos:\n",
      "        return memos[k]\n",
      "    else:\n",
      "        changes = [(d,) + make_changes(k-d, denominations, memos) for d in denominations if d <= k]\n",
      "        return memos.setdefault(k, min(changes, key=lambda a: len(a)) if changes else ())\n",
      "\n",
      "assert () == make_changes(0, [1, 5, 7])\n",
      "assert (5, 5) == make_changes(10, [1, 5, 7])\n",
      "assert (1, 5, 7) == make_changes(13, [1, 5, 7])\n",
      "assert (7, 7) == make_changes(14, [1, 5, 7])"
     ],
     "language": "python",
     "metadata": {},
     "outputs": [],
     "prompt_number": 7
    },
    {
     "cell_type": "markdown",
     "metadata": {},
     "source": [
      "9.9 Given an NxN chessboard, write a program to place eight queens so that none of them share the same row, column, or diagonal."
     ]
    },
    {
     "cell_type": "code",
     "collapsed": false,
     "input": [
      "def backtrack(candidate, expand_out, reduce_off):\n",
      "    if not reduce_off(candidate):\n",
      "        for e in expand_out(candidate):\n",
      "            candidate.append(e)\n",
      "            backtrack(candidate, expand_out, reduce_off)\n",
      "            candidate.pop()\n",
      "\n",
      "def queens_in_peace(n):\n",
      "    answers = []\n",
      "    def peaceful_at(queens, c):\n",
      "        return all([ e != c and len(queens)-i != abs(c-e) for i, e in enumerate(queens) ])\n",
      "\n",
      "    def expand_out(queens):\n",
      "        return filter(lambda c: peaceful_at(queens, c), range(n))\n",
      "\n",
      "    def reduce_off(queens):\n",
      "        if len(queens) == n:\n",
      "            answers.append(list(queens))\n",
      "    \n",
      "    backtrack([], expand_out, reduce_off)\n",
      "    return answers\n",
      "\n",
      "queens_in_boards = queens_in_peace(4)\n",
      "assert [[1, 3, 0, 2], [2, 0, 3, 1]] == queens_in_boards"
     ],
     "language": "python",
     "metadata": {},
     "outputs": [],
     "prompt_number": 8
    },
    {
     "cell_type": "markdown",
     "metadata": {},
     "source": [
      "9.10 Given n boxes that cannot be rotated, but can only be stacked up, write a method to find the tallest possible stack, where the height of a stack is the sum of height of each box."
     ]
    },
    {
     "cell_type": "code",
     "collapsed": false,
     "input": [
      "def tallest_stack(boxes):\n",
      "\n",
      "boxes = [\n",
      "    (10, 200, 30),\n",
      "    (20, 300, 10),\n",
      "    (30, 300, 20),\n",
      "    (100, 30, 10),\n",
      "    (200, 40, 10),\n",
      "    (300, 50, 20),\n",
      "    (400, 60, 10)\n",
      "]\n",
      "\n"
     ],
     "language": "python",
     "metadata": {},
     "outputs": [],
     "prompt_number": 9
    },
    {
     "cell_type": "markdown",
     "metadata": {},
     "source": [
      "9.11 Given a boolean equation, write a program to count the number of ways to parenthesize the expression such that equation is true, e.g., INPUT: Expression: 1^0|0|1, Desired Result: false(0), OUTPUT: 2 ways: 1^((0|0)|1) and 1^(0|(0|1))."
     ]
    },
    {
     "cell_type": "code",
     "collapsed": false,
     "input": [],
     "language": "python",
     "metadata": {},
     "outputs": []
    },
    {
     "cell_type": "code",
     "collapsed": false,
     "input": [
      "def knapsack_unbounded(skus, capacity): # skus is a sequence of (value, cost).\n",
      "    memos = {}\n",
      "    def mapped(w):\n",
      "        def compute():\n",
      "            if w == 0:\n",
      "                return (None, 0)\n",
      "            else:\n",
      "                return max(\n",
      "                    [(i, skus[i][0] + mapped(w - skus[i][1])[1])\n",
      "                     for i, e in enumerate(skus)\n",
      "                     if w >= skus[i][1]],\n",
      "                    key=lambda v: v[1]\n",
      "                )\n",
      "        return memos.get(w) or memos.setdefault(w, compute())\n",
      "\n",
      "    def reduced(w):\n",
      "        if w == 0:\n",
      "            return ()\n",
      "        else:\n",
      "            i = memos[w][0]\n",
      "            return (i,) + reduced(w - skus[i][1])\n",
      "\n",
      "    return (mapped(capacity)[1], reduced(capacity))\n",
      "\n",
      "def knapsack01(skus, capacity): # skus is a sequence of (value, cost).\n",
      "    memos = {} # maximum values by i items, and w capacity.\n",
      "    def mapped(n, w):\n",
      "        memos.setdefault(n, {})\n",
      "        def compute():\n",
      "            if n == 0:\n",
      "                return 0\n",
      "            if skus[n-1][1] > w:\n",
      "                return mapped(n-1, w)\n",
      "            else:\n",
      "                return max(\n",
      "                    mapped(n-1, w),\n",
      "                    skus[n-1][0] + mapped(n-1, w - skus[n-1][1]))\n",
      "        return memos[n].get(w) or memos[n].setdefault(w, compute())\n",
      "    \n",
      "    def reduced(n, w):\n",
      "        if n == 0:\n",
      "            return ()\n",
      "        if memos[n][w] == memos[n-1][w]:\n",
      "            return reduced(n-1, w)\n",
      "        else:\n",
      "            return (n-1,) + reduced(n-1, w - skus[n-1][1])\n",
      "\n",
      "    args = len(skus), capacity\n",
      "    return (mapped(*args), reduced(*args))\n",
      "\n",
      "skus = [(2, 2), (1, 1), (10, 4), (2, 1),  (4, 12)]\n",
      "assert (36, (2, 2, 2, 3, 3, 3)) == knapsack_unbounded(skus, 15) # max sum = 36\n",
      "assert (15, (3, 2, 1, 0)) == knapsack01(skus, 15) # max sum = 15"
     ],
     "language": "python",
     "metadata": {},
     "outputs": [],
     "prompt_number": 44
    },
    {
     "cell_type": "code",
     "collapsed": false,
     "input": [],
     "language": "python",
     "metadata": {},
     "outputs": []
    }
   ],
   "metadata": {}
  }
 ]
}