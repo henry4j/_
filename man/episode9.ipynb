{
 "metadata": {
  "name": "",
  "signature": "sha256:169a6e7b0e639d821e0b9c3452e3db1e79863ed5f01d0935c9de81c9e26b908d"
 },
 "nbformat": 3,
 "nbformat_minor": 0,
 "worksheets": [
  {
   "cells": [
    {
     "cell_type": "markdown",
     "metadata": {},
     "source": [
      "#### 9. Recursion and DP\n",
      "\n",
      "9.1 Given a staircase with n steps, write a program to count the number of possible ways to climb it, when one can hop either 1, 2, or 3 steps at a time.  \n",
      "9.2 Given NxM grid, write a program to route a robot from (0, 0) to (N, M). How many possible ways are there, when the robot can move in two directions: right, and down. What if there are some spots of off-limits?  \n",
      "9.3 Given an array of sorted integers, write a method to find a magic index where A[i] = i. What if integers are not distinct?  \n",
      "9.4 Write a method to generate all subsets of a set.  \n",
      "9.5 Write a method to generate all permutations of a string.  \n",
      "9.6 Write a program to generate all possible, valid combinations of n-pairs of parenthesis, e.g., INPUT: 3, OUTPUT: ((())), (()()), (())(), ()(()), ()()().  \n",
      "9.7 Write a flood-fill method to fill in a new color until the color changes from the original color; given a point and a new color.  \n",
      "9.8 Given infinite # of coins (25, 10, 5, and 1 cents), write a method to count the number of ways to represent n cents.  \n",
      "9.9 Given an NxN chessboard, write a program to place eight queens so that none of them share the same row, column, or diagonal.  \n",
      "9.10 Given n boxes that cannot be rotated, but can only be stacked up, write a method to find the tallest possible stack, where the height of a stack is the sum of height of each box.  \n",
      "9.11 Given a boolean equation, write a program to count the number of ways to parenthesize the expression such that equation is true, e.g., INPUT: Expression: 1^0|0|1, Desired Result: false(0), OUTPUT: 2 ways: 1^((0|0)|1) and 1^(0|(0|1)).  "
     ]
    },
    {
     "cell_type": "markdown",
     "metadata": {},
     "source": [
      "9.1 Given a staircase with n steps, write a program to count the number of possible ways to climb it, when one can hop either 1, 2, or 3 steps at a time."
     ]
    },
    {
     "cell_type": "code",
     "collapsed": false,
     "input": [
      "def climb(n, memos={}):\n",
      "    return memos.setdefault(n, (\n",
      "        n if n == 1 or n == 2 else\n",
      "        4 if n == 3 else climb(n-1) + climb(n-2) + climb(n-3))\n",
      "    )\n",
      "\n",
      "assert 13 == climb(5)\n",
      "assert 24 == climb(6)"
     ],
     "language": "python",
     "metadata": {},
     "outputs": [],
     "prompt_number": 1
    },
    {
     "cell_type": "markdown",
     "metadata": {},
     "source": [
      "9.2 Given NxM grid, write a program to route a robot from (0, 0) to (N, M). How many possible ways are there, when the robot can move in two directions: right, and down. What if there are some spots of off-limits?"
     ]
    },
    {
     "cell_type": "code",
     "collapsed": false,
     "input": [
      "maze = [None] * 6\n",
      "maze[0] = [1, 1, 1, 1, 1, 0]\n",
      "maze[1] = [1, 0, 1, 0, 1, 0]\n",
      "maze[2] = [1, 1, 1, 0, 1, 0]\n",
      "maze[3] = [1, 0, 0, 1, 1, 1]\n",
      "maze[4] = [1, 1, 0, 0, 1, 0]\n",
      "maze[5] = [1, 1, 0, 1, 1, 1]\n",
      "n, m = len(maze), len(maze[0]) # n x m grid\n",
      "\n",
      "def backtrack(candidate, expand_out, reduce_off):\n",
      "    if not reduce_off(candidate):\n",
      "        for e in expand_out(candidate):\n",
      "            candidate.append(e)\n",
      "            backtrack(candidate, expand_out, reduce_off)\n",
      "            candidate.pop()\n",
      "\n",
      "answers = []\n",
      "\n",
      "def within_limits_n_bounds(r, c):\n",
      "    return 0 <= r and r < n and 0 <= c and c < m and maze[r][c] == 1\n",
      "\n",
      "def expand_out(a):\n",
      "    r, c = a[-1]\n",
      "    for a, b in ((r+1, c), (r, c+1)):\n",
      "        if within_limits_n_bounds(r, c):\n",
      "            yield (a, b)\n",
      "\n",
      "def reduce_off(a):\n",
      "    r, c = a[-1]\n",
      "    if r == n-1 and c == m-1:\n",
      "        answers.append(a[:])\n",
      "        return True\n",
      "\n",
      "backtrack([(0, 0)], expand_out, reduce_off)\n",
      "assert [\n",
      "    [(0, 0), (0, 1), (0, 2), (0, 3),(0, 4), (1, 4), (2, 4), (3, 4), (4, 4), (5, 4), (5, 5)]\n",
      "] == answers"
     ],
     "language": "python",
     "metadata": {},
     "outputs": [],
     "prompt_number": 39
    },
    {
     "cell_type": "markdown",
     "metadata": {},
     "source": [
      "9.4 Write a method to generate all subsets of a set."
     ]
    },
    {
     "cell_type": "code",
     "collapsed": false,
     "input": [
      "def subsets(a, k=None):\n",
      "    if k == None:\n",
      "        k = len(a)\n",
      "    if k == 0:\n",
      "        yield ()\n",
      "    else:\n",
      "        for e in subsets(a, k-1):\n",
      "            yield e\n",
      "            yield e + (a[k-1],)\n",
      "\n",
      "s3 = [(), ('c',), ('b',), ('b', 'c'), ('a',), ('a', 'c'), ('a', 'b'), ('a', 'b', 'c')]\n",
      "assert s3 == list(subsets(list(\"abc\")))\n",
      "assert [(), ('b',), ('a',), ('a', 'b')] == list(subsets(list(\"ab\")))"
     ],
     "language": "python",
     "metadata": {},
     "outputs": [],
     "prompt_number": 72
    },
    {
     "cell_type": "markdown",
     "metadata": {},
     "source": [
      "9.5 Write a method to generate all permutations of a string."
     ]
    },
    {
     "cell_type": "code",
     "collapsed": false,
     "input": [
      "def permutate(a, k=None):\n",
      "    if k is None:\n",
      "        k = len(a)\n",
      "    if k == 1:\n",
      "        return [list(a)]\n",
      "    else:\n",
      "        d = {} # indices by values\n",
      "        for i in range(k):\n",
      "            if a[i] not in d:\n",
      "                d[a[i]] = i\n",
      "        r = []\n",
      "        for i in d.values():\n",
      "            a[k-1], a[i] = a[i], a[k-1]\n",
      "            r.extend(permutate(a, k-1))\n",
      "            a[k-1], a[i] = a[i], a[k-1]\n",
      "        return r\n",
      "\n",
      "assert [[9, 9, 8], [9, 8, 9], [8, 9, 9]] == permutate([9, 8, 9])\n",
      "x = ['aabb', 'abab', 'baab', 'abba', 'baba', 'bbaa']\n",
      "assert x == [''.join(e) for e in permutate(list(\"aabb\"))] # 4!/2!/2!"
     ],
     "language": "python",
     "metadata": {},
     "outputs": [],
     "prompt_number": 76
    },
    {
     "cell_type": "markdown",
     "metadata": {},
     "source": [
      "9.6 Write a program to generate all possible, valid combinations of n-pairs of parenthesis, e.g., INPUT: 3, OUTPUT: ((())), (()()), (())(), ()(()), ()()().  "
     ]
    },
    {
     "cell_type": "code",
     "collapsed": false,
     "input": [
      "def combine_parentheses(o, c, s=\"\"):\n",
      "    if c == 0: # o must be 0.\n",
      "        return [s]\n",
      "    if o == 0:\n",
      "        return combine_parentheses(o, c-1, s+\")\")\n",
      "    if c == o:\n",
      "        return combine_parentheses(o-1, c, s+\"(\")\n",
      "    else:\n",
      "        return combine_parentheses(o-1, c, s+\"(\") + combine_parentheses(o, c-1, s+\")\")\n",
      "\n",
      "assert ['(())', '()()'] == combine_parentheses(2, 2)\n",
      "assert ['((()))', '(()())', '(())()', '()(())', '()()()'] == combine_parentheses(3, 3)"
     ],
     "language": "python",
     "metadata": {},
     "outputs": [],
     "prompt_number": 38
    },
    {
     "cell_type": "markdown",
     "metadata": {},
     "source": [
      "9.7 Write a flood-fill method to fill in a new color until the color changes from the original color; given a point and a new color."
     ]
    },
    {
     "cell_type": "code",
     "collapsed": false,
     "input": [
      "from collections import deque\n",
      "\n",
      "m = [\n",
      "    [1, 1, 1, 1],\n",
      "    [1, 0, 0, 1],\n",
      "    [0, 1, 0, 1],\n",
      "    [1, 1, 1, 1]\n",
      "]\n",
      "\n",
      "\n",
      "\n",
      "def flood_fill(map, n, s, t): # fills 's' color with 't' color from node 'n'\n",
      "    q = deque([n])\n",
      "    while q:\n",
      "        r, c = q.popleft()\n",
      "        if map[r][c] == s:\n",
      "            w = e = c\n",
      "            while w > 0 and map[r][w-1] == s: # goes west\n",
      "                w -= 1\n",
      "            while e < len(map[0])-1 and map[r][e+1] == s: # goes east\n",
      "                e += 1\n",
      "            for c in range(w, e+1):\n",
      "                map[r][c] = t\n",
      "                if r > 0 and map[r-1][c] == s:\n",
      "                    q.append((r-1, c))\n",
      "                if r < len(map)-1 and map[r+1][c] == s:\n",
      "                    q.append((r+1, c))\n",
      "    return map\n",
      "\n",
      "assert [[1, 1, 1, 1], [1, 2, 2, 1], [0, 1, 2, 1], [1, 1, 1, 1]] == flood_fill(m, (1, 1), 0, 2)\n",
      "assert [[1, 1, 1, 1], [1, 3, 3, 1], [0, 1, 3, 1], [1, 1, 1, 1]] == flood_fill(m, (2, 2), 2, 3)\n",
      "assert [[4, 4, 4, 4], [4, 3, 3, 4], [0, 4, 3, 4], [4, 4, 4, 4]] == flood_fill(m, (2, 1), 1, 4)"
     ],
     "language": "python",
     "metadata": {},
     "outputs": [],
     "prompt_number": 103
    },
    {
     "cell_type": "code",
     "collapsed": false,
     "input": [],
     "language": "python",
     "metadata": {},
     "outputs": []
    }
   ],
   "metadata": {}
  }
 ]
}