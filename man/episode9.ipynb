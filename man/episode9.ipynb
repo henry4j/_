{
 "metadata": {
  "name": "",
  "signature": "sha256:44e2cb173334009dbf74cdfe7aa8dfddadfc77d3f3081ca8980c1fe222127508"
 },
 "nbformat": 3,
 "nbformat_minor": 0,
 "worksheets": [
  {
   "cells": [
    {
     "cell_type": "markdown",
     "metadata": {},
     "source": [
      "#### <a id=\"top\"></a>9. [Recursion and DP](http://nbviewer.ipython.org/github/henry4j/-/blob/master/man/episode9.ipynb)\n",
      "\n",
      "[9.1](#9.1) Given a staircase with n steps, write a program to count the number of possible ways to climb it, when one can hop either 1, 2, or 3 steps at a time.  \n",
      "[9.2](#9.2) Given NxM grid, write a program to route a robot from (0, 0) to (N, M). How many possible ways are there, when the robot can move in two directions: right, and down. What if there are some spots of off-limits?  \n",
      "[9.3](#9.3) Given an array of sorted integers, write a method to find a magic index where A[i] = i. What if integers are not distinct?  \n",
      "[9.4](#9.4) Write a method to generate all subsets of a set.  \n",
      "[9.5](#9.5) Write a method to generate all permutations of a string.  \n",
      "[9.6](#9.6) Write a program to generate all possible, valid combinations of n-pairs of parenthesis, e.g., INPUT: 3, OUTPUT: ((())), (()()), (())(), ()(()), ()()().  \n",
      "[9.7](#9.7) Write a flood-fill method to fill in a new color until the color changes from the original color; given a point and a new color.  \n",
      "[9.8](#9.8) Given infinite # of coins (25, 10, 5, and 1 cents), write a method to count the number of ways to represent n cents.  \n",
      "[9.9](#9.9) Given an NxN chessboard, write a program to place eight queens so that none of them share the same row, column, or diagonal.  \n",
      "[9.10](#9.10) Given n boxes that cannot be rotated, but can only be stacked up, write a method to find the tallest possible stack, where the height of a stack is the sum of height of each box.  \n",
      "[9.11](#9.11) Given a boolean equation, write a program to count the number of ways to parenthesize the expression such that equation is true, e.g., INPUT: Expression: 1^0|0|1, Desired Result: false(0), OUTPUT: 2 ways: 1^((0|0)|1) and 1^(0|(0|1)).  "
     ]
    },
    {
     "cell_type": "markdown",
     "metadata": {},
     "source": [
      "<a id='9.1'></a>[9.1](#top) Given a staircase with n steps, write a program to count the number of possible ways to climb it, when one can hop either 1, 2, or 3 steps at a time."
     ]
    },
    {
     "cell_type": "code",
     "collapsed": false,
     "input": [
      "def climb(n, memos={}):\n",
      "    return memos.setdefault(n, (\n",
      "        n if n == 1 or n == 2 else\n",
      "        4 if n == 3 else\n",
      "        climb(n-1) + climb(n-2) + climb(n-3)))\n",
      "\n",
      "assert 13 == climb(5)\n",
      "assert 24 == climb(6)"
     ],
     "language": "python",
     "metadata": {},
     "outputs": [],
     "prompt_number": 1
    },
    {
     "cell_type": "markdown",
     "metadata": {},
     "source": [
      "<a id='9.2'></a>[9.2](#top) Given NxM grid, write a program to route a robot from (0, 0) to (N, M). How many possible ways are there, when the robot can move in two directions: right, and down. What if there are some spots of off-limits?"
     ]
    },
    {
     "cell_type": "code",
     "collapsed": false,
     "input": [
      "def backtrack(candidate, expand_out, reduce_off):\n",
      "    if not reduce_off(candidate):\n",
      "        for e in expand_out(candidate):\n",
      "            candidate.append(e)\n",
      "            backtrack(candidate, expand_out, reduce_off)\n",
      "            candidate.pop()\n",
      "\n",
      "maze = [None] * 6\n",
      "maze[0] = [1, 1, 1, 1, 1, 0]\n",
      "maze[1] = [1, 0, 1, 0, 1, 0]\n",
      "maze[2] = [1, 1, 1, 0, 1, 0]\n",
      "maze[3] = [1, 0, 0, 1, 1, 1]\n",
      "maze[4] = [1, 1, 0, 0, 1, 0]\n",
      "maze[5] = [1, 1, 0, 1, 1, 1]\n",
      "n, m = len(maze), len(maze[0]) # n x m grid\n",
      "\n",
      "def within_bounds_n_limits(r, c):\n",
      "    return 0 <= r and r < n and 0 <= c and c < m and maze[r][c] == 1\n",
      "\n",
      "def expand_out(a):\n",
      "    r0, c0 = a[-1]\n",
      "    for r, c in ((r0+1, c0), (r0, c0+1)):\n",
      "        if within_bounds_n_limits(r, c):\n",
      "            yield (r, c)\n",
      "#   return ((r, c) for r, c in ((r0+1, c0), (r0, c0+1))\n",
      "#           if within_bounds_n_limits(r, c))\n",
      "\n",
      "answers = []\n",
      "def reduce_off(a):\n",
      "    r, c = a[-1]\n",
      "    if r == n-1 and c == m-1:\n",
      "        answers.append(a[:])\n",
      "        return True\n",
      "\n",
      "backtrack([(0, 0)], expand_out, reduce_off)\n",
      "assert [\n",
      "    [(0, 0), (0, 1), (0, 2), (0, 3),(0, 4), (1, 4), (2, 4), (3, 4), (4, 4), (5, 4), (5, 5)]\n",
      "] == answers"
     ],
     "language": "python",
     "metadata": {},
     "outputs": [],
     "prompt_number": 2
    },
    {
     "cell_type": "markdown",
     "metadata": {},
     "source": [
      "<a id='9.3'></a>[9.3](#top) Given an array of sorted integers, write a method to find a magic index where A[i] = i. What if integers are not distinct?"
     ]
    },
    {
     "cell_type": "code",
     "collapsed": false,
     "input": [
      "def magic_index(a, start=0, stop=None):\n",
      "    if stop is None:\n",
      "        stop = len(values)\n",
      "    if stop - start > 0:\n",
      "        mid = (start + stop - 1)//2\n",
      "        if mid == a[mid]:\n",
      "            return mid\n",
      "        else\n",
      "            max_ = min(mid-1, a[mid])\n",
      "            key = magic_index(a, start, max_)\n",
      "\n",
      "#     magic_key = lambda do |ary, range|\n",
      "#       if range.count > 1\n",
      "#         mid = range.minmax.reduce(:+) / 2\n",
      "#         if mid == ary[mid]\n",
      "#           mid\n",
      "#         else\n",
      "#           max = [mid-1, ary[mid]].min\n",
      "#           key = magic_key.call(ary, range.min..max)\n",
      "#           if -1 != key\n",
      "#             key\n",
      "#           else\n",
      "#             min = [mid-1, ary[mid]].min\n",
      "#             magic_key.call(ary, min..range.max)\n",
      "#           end\n",
      "#         end\n",
      "#       else\n",
      "#         -1\n",
      "#       end\n",
      "#     end"
     ],
     "language": "python",
     "metadata": {},
     "outputs": [
      {
       "ename": "SyntaxError",
       "evalue": "invalid syntax (<ipython-input-3-3c32beb6cb1c>, line 8)",
       "output_type": "pyerr",
       "traceback": [
        "\u001b[0;36m  File \u001b[0;32m\"<ipython-input-3-3c32beb6cb1c>\"\u001b[0;36m, line \u001b[0;32m8\u001b[0m\n\u001b[0;31m    else\u001b[0m\n\u001b[0m        ^\u001b[0m\n\u001b[0;31mSyntaxError\u001b[0m\u001b[0;31m:\u001b[0m invalid syntax\n"
       ]
      }
     ],
     "prompt_number": 3
    },
    {
     "cell_type": "markdown",
     "metadata": {},
     "source": [
      "<a id='9.4'></a>[9.4](#top) Write a method to generate all subsets of a set."
     ]
    },
    {
     "cell_type": "code",
     "collapsed": false,
     "input": [
      "def subsets(a, k=None):\n",
      "    if k == None:\n",
      "        k = len(a)\n",
      "    if k == 0:\n",
      "        yield ()\n",
      "    else:\n",
      "        for e in subsets(a, k-1):\n",
      "            yield e\n",
      "            yield e + (a[k-1],)\n",
      "\n",
      "assert (\n",
      "    (), ('c',), ('b',), ('b', 'c'), ('a',), ('a', 'c'), ('a', 'b'), ('a', 'b', 'c')\n",
      ") == tuple(subsets(list(\"abc\")))\n",
      "assert [(), ('b',), ('a',), ('a', 'b')] == list(subsets(list(\"ab\")))"
     ],
     "language": "python",
     "metadata": {},
     "outputs": []
    },
    {
     "cell_type": "markdown",
     "metadata": {},
     "source": [
      "<a id='9.5'></a>[9.5](#top) Write a method to generate all permutations of a string."
     ]
    },
    {
     "cell_type": "code",
     "collapsed": false,
     "input": [
      "def permutate(a, k=None):\n",
      "    if k is None:\n",
      "        k = len(a)\n",
      "    if k == 1:\n",
      "        return [a[:]]\n",
      "    else:\n",
      "        d = {} # indices by values\n",
      "        for i in range(k):\n",
      "            if a[i] not in d:\n",
      "                d[a[i]] = i\n",
      "        r = []\n",
      "        for i in d.values():\n",
      "            a[k-1], a[i] = a[i], a[k-1]\n",
      "            r.extend(permutate(a, k-1))\n",
      "            a[k-1], a[i] = a[i], a[k-1]\n",
      "        return r\n",
      "\n",
      "assert [[9, 9, 8], [9, 8, 9], [8, 9, 9]] == permutate([9, 8, 9])\n",
      "assert [\n",
      "    'aabb', 'abab', 'abba', 'baab', 'baba', 'bbaa'\n",
      "] == sorted([''.join(e) for e in permutate(list(\"aabb\"))]) # 4!/2!/2!"
     ],
     "language": "python",
     "metadata": {},
     "outputs": []
    },
    {
     "cell_type": "markdown",
     "metadata": {},
     "source": [
      "<a id='9.6'></a>[9.6](#top) Write a program to generate all possible, valid combinations of n-pairs of parenthesis, e.g., INPUT: 3, OUTPUT: ((())), (()()), (())(), ()(()), ()()().  "
     ]
    },
    {
     "cell_type": "code",
     "collapsed": false,
     "input": [
      "def combine_parentheses(o, c, s=\"\"):\n",
      "    if c == 0: # o must be 0.\n",
      "        return (s,)\n",
      "    if o == 0:\n",
      "        return combine_parentheses(o, c-1, s+\")\")\n",
      "    if c == o:\n",
      "        return combine_parentheses(o-1, c, s+\"(\")\n",
      "    else:\n",
      "        return combine_parentheses(o-1, c, s+\"(\") + \\\n",
      "               combine_parentheses(o, c-1, s+\")\")\n",
      "\n",
      "assert ('(())', '()()') == combine_parentheses(2, 2)\n",
      "assert ('((()))', '(()())', '(())()', '()(())', '()()()') == combine_parentheses(3, 3)"
     ],
     "language": "python",
     "metadata": {},
     "outputs": []
    },
    {
     "cell_type": "markdown",
     "metadata": {},
     "source": [
      "<a id='9.7'></a>[9.7](#top) Write a flood-fill method to fill in a new color until the color changes from the original color; given a point and a new color."
     ]
    },
    {
     "cell_type": "code",
     "collapsed": false,
     "input": [
      "from collections import deque\n",
      "\n",
      "m = [\n",
      "    [1, 1, 1, 1],\n",
      "    [1, 0, 0, 1],\n",
      "    [0, 1, 0, 1],\n",
      "    [1, 1, 1, 1]\n",
      "]\n",
      "\n",
      "def flood_fill(map, node, s, t): # fills 's' color with 't' color.\n",
      "    n, m = len(map), len(map[0]) # n x m grid\n",
      "    q = deque([node])\n",
      "    while q:\n",
      "        r, c = q.popleft()\n",
      "        if map[r][c] == s:\n",
      "            w = e = c\n",
      "            while w > 0 and map[r][w-1] == s: # goes west\n",
      "                w -= 1\n",
      "            while e < m-1 and map[r][e+1] == s: # goes east\n",
      "                e += 1\n",
      "            for c in range(w, e+1):\n",
      "                map[r][c] = t\n",
      "                if r > 0 and map[r-1][c] == s:\n",
      "                    q.append((r-1, c))\n",
      "                if r < n-1 and map[r+1][c] == s:\n",
      "                    q.append((r+1, c))\n",
      "    return map\n",
      "\n",
      "assert [[1, 1, 1, 1], [1, 2, 2, 1], [0, 1, 2, 1], [1, 1, 1, 1]] == flood_fill(m, (1, 1), 0, 2)\n",
      "assert [[1, 1, 1, 1], [1, 3, 3, 1], [0, 1, 3, 1], [1, 1, 1, 1]] == flood_fill(m, (2, 2), 2, 3)\n",
      "assert [[4, 4, 4, 4], [4, 3, 3, 4], [0, 4, 3, 4], [4, 4, 4, 4]] == flood_fill(m, (2, 1), 1, 4)"
     ],
     "language": "python",
     "metadata": {},
     "outputs": []
    },
    {
     "cell_type": "markdown",
     "metadata": {},
     "source": [
      "<a id='9.8'></a>[9.8](#top) Given infinite # of coins (25, 10, 5, and 1 cents), write a method to count the number of ways to represent n cents."
     ]
    },
    {
     "cell_type": "code",
     "collapsed": false,
     "input": [
      "def make_amount(k, denominations):\n",
      "    d0, d = denominations[0], denominations[1:]\n",
      "    if d0 == 1:\n",
      "        return 1\n",
      "    else:\n",
      "        return sum([make_amount(k-m*d0, d) for m in range(k//d0+1)])\n",
      "\n",
      "assert 1 == make_amount(4, [25, 10, 5, 1])\n",
      "assert 2 == make_amount(5, [25, 10, 5, 1])\n",
      "assert 4 == make_amount(10, [25, 10, 5, 1]) # 4 ways to make 10 cents\n",
      "assert 9 == make_amount(20, [25, 10, 5, 1]) # 13 ways to make 25 cents.\n",
      "\n",
      "def make_changes(k, denominations, memos=None):\n",
      "    if memos is None:\n",
      "        memos = {}\n",
      "    def compute(k):\n",
      "        if min(denominations) > k:\n",
      "            return ()\n",
      "        else:\n",
      "            return min([(d,) + make_changes(k-d, denominations, memos)\n",
      "                        for d in denominations if d <= k],\n",
      "                       key=lambda v: len(v))\n",
      "    return memos.get(k) or memos.setdefault(k, compute(k))\n",
      "\n",
      "assert (5, 5) == make_changes(10, [7, 5, 1])\n",
      "assert (7, 5, 1) == make_changes(13, [7, 5, 1])\n",
      "assert (7, 7) == make_changes(14, [7, 5, 1])"
     ],
     "language": "python",
     "metadata": {},
     "outputs": []
    },
    {
     "cell_type": "markdown",
     "metadata": {},
     "source": [
      "<a id='9.9'></a>[9.9](#top) Given an NxN chessboard, write a program to place eight queens so that none of them share the same row, column, or diagonal."
     ]
    },
    {
     "cell_type": "code",
     "collapsed": false,
     "input": [
      "def backtrack(candidate, expand_out, reduce_off):\n",
      "    if not reduce_off(candidate):\n",
      "        for e in expand_out(candidate):\n",
      "            candidate.append(e)\n",
      "            backtrack(candidate, expand_out, reduce_off)\n",
      "            candidate.pop()\n",
      "\n",
      "def queens_in_peace(n):\n",
      "    answers = []\n",
      "    def peaceful_at(queens, c):\n",
      "        return all([ e != c and len(queens)-i != abs(c-e) for i, e in enumerate(queens) ])\n",
      "\n",
      "    def expand_out(queens):\n",
      "        return filter(lambda c: peaceful_at(queens, c), range(n))\n",
      "\n",
      "    def reduce_off(queens):\n",
      "        if len(queens) == n:\n",
      "            answers.append(list(queens))\n",
      "    \n",
      "    backtrack([], expand_out, reduce_off)\n",
      "    return answers\n",
      "\n",
      "queens_in_boards = queens_in_peace(4)\n",
      "assert [[1, 3, 0, 2], [2, 0, 3, 1]] == queens_in_boards"
     ],
     "language": "python",
     "metadata": {},
     "outputs": []
    },
    {
     "cell_type": "markdown",
     "metadata": {},
     "source": [
      "<a id='9.10'></a>[9.10](#top) Given n boxes that cannot be rotated, but can only be stacked up, write a method to find the tallest possible stack, where the height of a stack is the sum of height of each box."
     ]
    },
    {
     "cell_type": "code",
     "collapsed": false,
     "input": [
      "def stack(boxes, top=None):\n",
      "    m = [e[2] + stack(popped(boxes, i), e)\n",
      "         for i, e in enumerate(boxes)\n",
      "             if top is None or e[0] > top[0] and e[1] > top[1]]\n",
      "    return max(m) if m else 0\n",
      "\n",
      "def popped(a, i):\n",
      "    a = a.copy()\n",
      "    a.pop(i)\n",
      "    return a\n",
      "\n",
      "boxes = [\n",
      "    (10, 200, 30), (20, 300, 10), (30, 400, 20),\n",
      "    (100, 30, 10), (200, 40, 10), (300, 50, 20)\n",
      "]\n",
      "\n",
      "assert 60 == stack(boxes)"
     ],
     "language": "python",
     "metadata": {},
     "outputs": []
    },
    {
     "cell_type": "markdown",
     "metadata": {},
     "source": [
      "<a id='9.11'></a>[9.11](#top) Given a boolean equation, write a program to count the number of ways to parenthesize the expression such that equation is true, e.g., INPUT: Expression: 1^0|0|1, Desired Result: false(0), OUTPUT: 2 ways: 1^((0|0)|1) and 1^(0|(0|1))."
     ]
    },
    {
     "cell_type": "code",
     "collapsed": false,
     "input": [
      "def express(expression, bit):\n",
      "    n = len(expression) // 2\n",
      "    if n < 2:\n",
      "        return 1 if bit == eval(expression) else 0\n",
      "    else:\n",
      "        m = 0\n",
      "        for p in range(n):\n",
      "            opr, opd1, opd2 = expression[2*p+1], expression[0:2*p+1], expression[2*p+2:]\n",
      "            opd1_1, opd1_0 = (express(a, b) for a, b in ((opd1, 1), (opd1, 0)))\n",
      "            opd2_1, opd2_0 = (express(a, b) for a, b in ((opd2, 1), (opd2, 0)))\n",
      "            if opr == '|':\n",
      "                m += (opd1_1 * opd2_1 + opd1_1 * opd2_0 + opd1_0 * opd2_1) if bit == 1 else (opd1_0 * opd2_0)\n",
      "            if opr == '&':\n",
      "                m += (opd1_1 * opd2_1) if bit == 1 else (opd1_1 * opd2_0 + opd1_0 * opd2_1 + opd1_0 * opd2_0)\n",
      "            if opr == '^':\n",
      "                m += (opd1_1 * opd2_0 + opd1_0 * opd2_1) if bit == 1 else (opd1_1 * opd2_1 + opd1_0 * opd2_0)\n",
      "        return m\n",
      "  \n",
      "assert 2 == express(\"1^0|0|1\", 0)"
     ],
     "language": "python",
     "metadata": {},
     "outputs": []
    },
    {
     "cell_type": "code",
     "collapsed": false,
     "input": [
      "def knapsack_unbounded(skus, capacity): # skus is a sequence of (value, cost).\n",
      "    memos = {}\n",
      "    def mapped(c):\n",
      "        def compute():\n",
      "            if c == 0:\n",
      "                return (None, 0) # item id and maximum value.\n",
      "            else:\n",
      "                return max(\n",
      "                    [(i, skus[i][1] + mapped(c - skus[i][0])[1])\n",
      "                     for i, e in enumerate(skus)\n",
      "                     if c >= skus[i][0]],\n",
      "                    key=lambda v: v[1]\n",
      "                )\n",
      "        return memos.get(c) or memos.setdefault(c, compute())\n",
      "\n",
      "    def reduced(c):\n",
      "        if c == 0:\n",
      "            return ()\n",
      "        else:\n",
      "            i = memos[c][0]\n",
      "            return (i,) + reduced(c - skus[i][0])\n",
      "\n",
      "    return (mapped(capacity)[1], reduced(capacity))\n",
      "\n",
      "def knapsack01(skus, capacity): # skus is a sequence of cost & value.\n",
      "    memos = {}\n",
      "    def mapped(n, c): # maximum values for n items and c capacity.\n",
      "        def compute():\n",
      "            if n == 0: # maximum value is 0 for 0 items and any capacity.\n",
      "                return 0\n",
      "            if skus[n-1][0] > c:\n",
      "                return mapped(n-1, c) # n-1 items and c capacity.\n",
      "            else:\n",
      "                return max(\n",
      "                    mapped(n-1, c),\n",
      "                    skus[n-1][1] + mapped(n-1, c - skus[n-1][0]))\n",
      "        m = memos.setdefault(n, {})\n",
      "        return m.get(c) or m.setdefault(c, compute())\n",
      "\n",
      "    def reduced(n, c):\n",
      "        if n == 0:\n",
      "            return ()\n",
      "        if memos[n][c] == memos[n-1][c]:\n",
      "            return reduced(n-1, c)\n",
      "        else:\n",
      "            return (n-1,) + reduced(n-1, c - skus[n-1][0])\n",
      "\n",
      "    args = (len(skus), capacity)\n",
      "    return (mapped(*args), reduced(*args))\n",
      "\n",
      "skus = [(2, 2), (1, 1), (4, 10), (1, 2),  (12, 4)]\n",
      "assert (36, (2, 2, 2, 3, 3, 3)) == knapsack_unbounded(skus, 15) # max sum = 36\n",
      "assert (15, (3, 2, 1, 0)) == knapsack01(skus, 15) # max sum = 15"
     ],
     "language": "python",
     "metadata": {},
     "outputs": []
    },
    {
     "cell_type": "code",
     "collapsed": false,
     "input": [],
     "language": "python",
     "metadata": {},
     "outputs": []
    }
   ],
   "metadata": {}
  }
 ]
}