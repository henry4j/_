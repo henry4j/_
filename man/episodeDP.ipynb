{
 "metadata": {
  "name": "",
  "signature": "sha256:e2d822cdfcfb2754cc9ab8a8900a3382c32e000cb9bbc679906fcd568af0792c"
 },
 "nbformat": 3,
 "nbformat_minor": 0,
 "worksheets": [
  {
   "cells": [
    {
     "cell_type": "code",
     "collapsed": false,
     "input": [
      "# Longest Common Subsequence, APBCADCQER, RASBTUCVE, \n",
      "# http://www.youtube.com/watch?v=wJ-rP9hJXO0\n",
      "def lcss():\n",
      "    pass\n",
      "\n",
      "# https://www.youtube.com/watch?v=Mbav2iuJ7xQ\n",
      "def longest palindrome subsequence():\n",
      "    pass\n",
      "\n",
      "# http://\n",
      "def lcs():\n",
      "    pass"
     ],
     "language": "python",
     "metadata": {},
     "outputs": [
      {
       "ename": "SyntaxError",
       "evalue": "invalid syntax (<ipython-input-6-6a3a65d59170>, line 7)",
       "output_type": "pyerr",
       "traceback": [
        "\u001b[0;36m  File \u001b[0;32m\"<ipython-input-6-6a3a65d59170>\"\u001b[0;36m, line \u001b[0;32m7\u001b[0m\n\u001b[0;31m    def longest palindrome subsequence():\u001b[0m\n\u001b[0m                         ^\u001b[0m\n\u001b[0;31mSyntaxError\u001b[0m\u001b[0;31m:\u001b[0m invalid syntax\n"
       ]
      }
     ],
     "prompt_number": 6
    },
    {
     "cell_type": "code",
     "collapsed": false,
     "input": [
      "def buy_sell(a, at_most):\n",
      "    memos = {}\n",
      "    n = len(a)\n",
      "    def mapped(a, start, at_most):\n",
      "        key = (start, at_most)\n",
      "        if key not in memos:\n",
      "            if at_most == 0 or start > n-2:\n",
      "                m = [0, None]\n",
      "            else:\n",
      "                m = max(((a[s] - a[b] + mapped(a, s+1, at_most-1)[0], (b, s))\n",
      "                          for b in range(start, n-1) for s in range(b+1, n)\n",
      "                          if a[b] < a[s]),\n",
      "                        key=lambda e: e[0])\n",
      "            memos[key] = m\n",
      "        return memos[key]\n",
      "    mapped(a, 0, at_most)\n",
      "    print(memos)\n",
      "    return memos[(0, at_most)]\n",
      "\n",
      "a = [1, 9, 2, 8, 3, 7, 4, 5, 6]\n",
      "buy_sell(a, 3)"
     ],
     "language": "python",
     "metadata": {},
     "outputs": [
      {
       "output_type": "stream",
       "stream": "stdout",
       "text": [
        "{(9, 0): [0, None], (7, 0): [0, None], (9, 1): [0, None], (7, 1): (1, (7, 8)), (8, 1): [0, None], (5, 2): (2, (6, 8)), (6, 1): (2, (6, 8)), (8, 0): [0, None], (6, 0): [0, None], (4, 2): (6, (4, 5)), (9, 2): [0, None], (3, 2): (6, (4, 5)), (2, 2): (10, (2, 3)), (6, 2): (2, (6, 8)), (5, 1): (2, (6, 8)), (0, 3): (18, (0, 1)), (4, 1): (4, (4, 5)), (7, 2): (1, (7, 8)), (8, 2): [0, None]}\n"
       ]
      },
      {
       "metadata": {},
       "output_type": "pyout",
       "prompt_number": 2,
       "text": [
        "(18, (0, 1))"
       ]
      }
     ],
     "prompt_number": 2
    },
    {
     "cell_type": "code",
     "collapsed": false,
     "input": [],
     "language": "python",
     "metadata": {},
     "outputs": [],
     "prompt_number": 3
    },
    {
     "cell_type": "markdown",
     "metadata": {},
     "source": [
      "9.9 Given an NxN chessboard, write a program to place eight queens so that none of them share the same row, column, or diagonal -- [Visualize](http://goo.gl/pXYx79)"
     ]
    },
    {
     "cell_type": "code",
     "collapsed": false,
     "input": [
      "def peaceful_at(queens, r, c): # peaceful at row and column (r, c)?\n",
      "    return all(c0 != c and r - r0 != abs(c - c0)\n",
      "               for r0, c0 in enumerate(queens))\n",
      "\n",
      "def queens_in_peace(n, queens=None):\n",
      "    if queens is None:\n",
      "        queens = []\n",
      "    r = len(queens)\n",
      "    if r == n:\n",
      "        yield queens.copy()\n",
      "    else:\n",
      "        for c in range(n):\n",
      "            if peaceful_at(queens, r, c):\n",
      "                queens.append(c)\n",
      "                yield from queens_in_peace(n, queens)\n",
      "                queens.pop()\n",
      "\n",
      "assert [[1, 3, 0, 2], [2, 0, 3, 1]] == list(queens_in_peace(4))\n",
      "assert ([0], None, None) == tuple(next(queens_in_peace(n), None) for n in range(1, 4))\n",
      "queens = next(queens_in_peace(4, [1]))"
     ],
     "language": "python",
     "metadata": {},
     "outputs": [],
     "prompt_number": 4
    },
    {
     "cell_type": "code",
     "collapsed": false,
     "input": [
      "def partition(a, k, start=0, memos=None):\n",
      "    if memos is None:\n",
      "        memos = {}\n",
      "    n = len(a)\n",
      "    args = (k, start)\n",
      "    if args not in memos:\n",
      "        if k == 1:\n",
      "            best = (sum(a[start:]), [(start, n)])\n",
      "        else:\n",
      "            best = None\n",
      "            for end in range(start+1, n+1-k):\n",
      "                new_p = sum(a[start:end])\n",
      "                max_p, states = partition(a, k-1, end, memos)\n",
      "                max_p = max(new_p, max_p)\n",
      "                if best is None or best[0] > max_p:\n",
      "                    best = (max_p, [(start, end)] + states)\n",
      "        memos[args] = best\n",
      "    return memos[args]\n",
      "\n",
      "books = [1, 2, 3, 4, 5, 6, 7, 8, 9]\n",
      "parts = [[1, 2, 3, 4, 5], [6, 7], [8, 9]]\n",
      "assert parts == [books[s:e] for s, e in partition(books, 3)[1]]"
     ],
     "language": "python",
     "metadata": {},
     "outputs": [],
     "prompt_number": 5
    },
    {
     "cell_type": "code",
     "collapsed": false,
     "input": [],
     "language": "python",
     "metadata": {},
     "outputs": [],
     "prompt_number": 5
    }
   ],
   "metadata": {}
  }
 ]
}