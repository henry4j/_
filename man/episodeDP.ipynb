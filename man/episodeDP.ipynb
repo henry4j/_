{
 "metadata": {
  "name": "",
  "signature": "sha256:86309dca65096cd41b8832ee9a786de0c2265ae52b267d1b25edd1f0551d3f51"
 },
 "nbformat": 3,
 "nbformat_minor": 0,
 "worksheets": [
  {
   "cells": [
    {
     "cell_type": "code",
     "collapsed": false,
     "input": [
      "from itertools import *\n",
      "from functools import *\n",
      "\n",
      "def maxima(iterable, key=lambda e: e):\n",
      "    maxima = []\n",
      "    for e in iterable:\n",
      "        if not maxima or key(e) == key(maxima[0]):\n",
      "            maxima.append(e)\n",
      "        elif key(e) > key(maxima[0]):\n",
      "            maxima = [e]\n",
      "    return maxima\n",
      "\n",
      "def lps(s): # longest palindromic subsequence http://goo.gl/nTiQvX\n",
      "    @lru_cache(maxsize=None)\n",
      "    def proc(b, e): # begin(b), end(e)\n",
      "        if e - b == 1:\n",
      "            return [s[b:e]]\n",
      "        elif e - b == 2:\n",
      "            if s[b] == s[b+1]:\n",
      "                return [s[b:e]]\n",
      "            else:\n",
      "                return [s[b:b+1], s[b+1:b+2]]\n",
      "        elif s[b] == s[e-1]:\n",
      "            return [s[b]+ss+s[b] for ss in proc(b+1, e-1)]\n",
      "        else:\n",
      "            return maxima((chain(proc(b+1, e), proc(b, e-1))), key=len)\n",
      "    return proc(0, len(s))\n",
      "        \n",
      "assert ['abzba'] == list(lps('xaybzba'))\n",
      "assert ['bab', 'aba'] == list(lps('abab'))"
     ],
     "language": "python",
     "metadata": {},
     "outputs": [],
     "prompt_number": 1
    },
    {
     "cell_type": "code",
     "collapsed": false,
     "input": [
      "def lcsseq(a, b):\n",
      "    n, m = len(a), len(b)\n",
      "    def proc(i, j, memos={}):\n",
      "        args = (i, j)\n",
      "        if args not in memos:\n",
      "            if i == -1 or j == -1:\n",
      "                m = ['']\n",
      "            elif a[i] == b[j]:\n",
      "                m = [a[i] + s for s in proc(i-1, j-1)]\n",
      "            else:\n",
      "                m = maxima(chain(proc(i-1, j), proc(i, j-1)), key=len)\n",
      "            memos[args] = m\n",
      "        return memos[args]\n",
      "    return proc(n-1, m-1)\n",
      "\n",
      "assert ['aba', 'bab'] == list(lcsseq('abab', 'baba'))\n",
      "assert {'ecaba'} == set(lcsseq('apbcadcqer', 'rasbtaucve'))"
     ],
     "language": "python",
     "metadata": {},
     "outputs": [],
     "prompt_number": 2
    },
    {
     "cell_type": "code",
     "collapsed": false,
     "input": [
      "def lcs(a, b):\n",
      "    @lru_cache(maxsize=None)\n",
      "    def lcsuff(i, j): # returns a tuple of (offset, count)\n",
      "        if i == -1 or j == -1 or a[i] != b[j]:\n",
      "            return (i, 0)\n",
      "        o, c = lcsuff(i-1, j-1)\n",
      "        return (o, c+1) if c > 0 else (i, 1)\n",
      "    m, n = len(a), len(b)\n",
      "    z = maxima((lcsuff(i, j) for i in range(m) for j in range(n)), key=lambda e: e[1])\n",
      "    return [a[s:s+c] for s, c in z]\n",
      "\n",
      "assert ['aba', 'bab'] == lcs('abab', 'baba')"
     ],
     "language": "python",
     "metadata": {},
     "outputs": [],
     "prompt_number": 3
    },
    {
     "cell_type": "code",
     "collapsed": false,
     "input": [
      "def buy_sell(a, at_most):\n",
      "    memos = {}\n",
      "    n = len(a)\n",
      "    def mapped(a, start, at_most):\n",
      "        key = (start, at_most)\n",
      "        if key not in memos:\n",
      "            if at_most == 0 or start > n-2:\n",
      "                m = [0, None]\n",
      "            else:\n",
      "                m = max(((a[s] - a[b] + mapped(a, s+1, at_most-1)[0], (b, s))\n",
      "                          for b in range(start, n-1) for s in range(b+1, n)\n",
      "                          if a[b] < a[s]),\n",
      "                        key=lambda e: e[0])\n",
      "            memos[key] = m\n",
      "        return memos[key]\n",
      "    mapped(a, 0, at_most)\n",
      "    print(memos)\n",
      "    return memos[(0, at_most)]\n",
      "\n",
      "a = [1, 9, 2, 8, 3, 7, 4, 5, 6]\n",
      "buy_sell(a, 3)"
     ],
     "language": "python",
     "metadata": {},
     "outputs": [
      {
       "output_type": "stream",
       "stream": "stdout",
       "text": [
        "{(9, 0): [0, None], (7, 0): [0, None], (9, 1): [0, None], (7, 1): (1, (7, 8)), (8, 1): [0, None], (5, 2): (2, (6, 8)), (6, 1): (2, (6, 8)), (8, 0): [0, None], (6, 0): [0, None], (4, 2): (6, (4, 5)), (9, 2): [0, None], (3, 2): (6, (4, 5)), (2, 2): (10, (2, 3)), (6, 2): (2, (6, 8)), (5, 1): (2, (6, 8)), (0, 3): (18, (0, 1)), (4, 1): (4, (4, 5)), (7, 2): (1, (7, 8)), (8, 2): [0, None]}\n"
       ]
      },
      {
       "metadata": {},
       "output_type": "pyout",
       "prompt_number": 4,
       "text": [
        "(18, (0, 1))"
       ]
      }
     ],
     "prompt_number": 4
    },
    {
     "cell_type": "markdown",
     "metadata": {},
     "source": [
      "9.9 Given an NxN chessboard, write a program to place eight queens so that none of them share the same row, column, or diagonal -- [Visualize](http://goo.gl/pXYx79)"
     ]
    },
    {
     "cell_type": "code",
     "collapsed": false,
     "input": [
      "def peaceful_at(queens, r, c): # peaceful at row and column (r, c)?\n",
      "    return all(c0 != c and r - r0 != abs(c - c0)\n",
      "               for r0, c0 in enumerate(queens))\n",
      "\n",
      "def queens_in_peace(n, queens=None):\n",
      "    if queens is None:\n",
      "        queens = []\n",
      "    r = len(queens)\n",
      "    if r == n:\n",
      "        yield queens.copy()\n",
      "    else:\n",
      "        for c in range(n):\n",
      "            if peaceful_at(queens, r, c):\n",
      "                queens.append(c)\n",
      "                yield from queens_in_peace(n, queens)\n",
      "                queens.pop()\n",
      "\n",
      "# assert [[1, 3, 0, 2], [2, 0, 3, 1]] == list(queens_in_peace(4))\n",
      "# assert ([0], None, None) == tuple(next(queens_in_peace(n), None) for n in range(1, 4))\n",
      "# queens = next(queens_in_peace(4, [1]))"
     ],
     "language": "python",
     "metadata": {},
     "outputs": [],
     "prompt_number": 5
    },
    {
     "cell_type": "code",
     "collapsed": false,
     "input": [
      "def partition(a, k, start=0, memos=None):\n",
      "    if memos is None:\n",
      "        memos = {}\n",
      "    n = len(a)\n",
      "    args = (k, start)\n",
      "    if args not in memos:\n",
      "        if k == 1:\n",
      "            best = (sum(a[start:]), [(start, n)])\n",
      "        else:\n",
      "            best = None\n",
      "            for end in range(start+1, n+1-k):\n",
      "                new_p = sum(a[start:end])\n",
      "                max_p, states = partition(a, k-1, end, memos)\n",
      "                max_p = max(new_p, max_p)\n",
      "                if best is None or best[0] > max_p:\n",
      "                    best = (max_p, [(start, end)] + states)\n",
      "        memos[args] = best\n",
      "    return memos[args]\n",
      "\n",
      "books = [1, 2, 3, 4, 5, 6, 7, 8, 9]\n",
      "parts = [[1, 2, 3, 4, 5], [6, 7], [8, 9]]\n",
      "assert parts == [books[s:e] for s, e in partition(books, 3)[1]]"
     ],
     "language": "python",
     "metadata": {},
     "outputs": [],
     "prompt_number": 6
    },
    {
     "cell_type": "code",
     "collapsed": false,
     "input": [
      "def make_amount(k, denoms): # denominations\n",
      "    denoms, d = denoms[:-1], denoms[-1]\n",
      "    if d == 1:\n",
      "        return 1\n",
      "    else:\n",
      "        return sum(make_amount(k-d*n, denoms) for n in range(1+k//d))\n",
      "\n",
      "def make_changes(k, denoms): # denominations\n",
      "    @lru_cache(maxsize=None)\n",
      "    def proc(k):\n",
      "        cases = ((d,) + proc(k-d) for d in denoms if k >= d)\n",
      "        return min(cases, key=len, default=())\n",
      "    return proc(k)\n",
      "\n",
      "assert 1 == make_amount(4, [1, 5, 10, 25])\n",
      "assert 2 == make_amount(5, [1, 5, 10, 25])\n",
      "assert 4 == make_amount(10, [1, 5, 10, 25]) # 4 ways to make 10 cents\n",
      "assert 9 == make_amount(20, [1, 5, 10, 25]) # 13 ways to make 25 cents.\n",
      "\n",
      "assert (5, 5) == make_changes(10, (7, 5, 1))\n",
      "assert (7, 5, 1) == make_changes(13, (7, 5, 1))\n",
      "assert (7, 7) == make_changes(14, (7, 5, 1))"
     ],
     "language": "python",
     "metadata": {},
     "outputs": [],
     "prompt_number": 7
    },
    {
     "cell_type": "code",
     "collapsed": false,
     "input": [],
     "language": "python",
     "metadata": {},
     "outputs": [],
     "prompt_number": 7
    }
   ],
   "metadata": {}
  }
 ]
}