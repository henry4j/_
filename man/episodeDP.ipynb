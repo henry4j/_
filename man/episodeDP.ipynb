{
 "metadata": {
  "name": "",
  "signature": "sha256:c36ed2f64cf288d02949c66a48a39e1e0447e097b5b012e5f39f87e13152ace1"
 },
 "nbformat": 3,
 "nbformat_minor": 0,
 "worksheets": [
  {
   "cells": [
    {
     "cell_type": "code",
     "collapsed": false,
     "input": [
      "# Longest Common Subsequence, APBCADCQER, RASBTUCVE, \n",
      "# http://www.youtube.com/watch?v=wJ-rP9hJXO0\n",
      "def lcss():\n",
      "    pass\n",
      "\n",
      "# https://www.youtube.com/watch?v=Mbav2iuJ7xQ\n",
      "def longest palindrome subsequence():\n",
      "    pass\n",
      "\n",
      "# http://\n",
      "def lcs():\n",
      "    pass"
     ],
     "language": "python",
     "metadata": {},
     "outputs": []
    },
    {
     "cell_type": "code",
     "collapsed": false,
     "input": [
      "def buy_sell(a, at_most):\n",
      "    memos = {}\n",
      "    n = len(a)\n",
      "    def mapped(a, start, at_most):\n",
      "        key = (start, at_most)\n",
      "        if key not in memos:\n",
      "            if at_most == 0 or start > n-2:\n",
      "                m = [0, None]\n",
      "            else:\n",
      "                m = max(((a[s] - a[b] + mapped(a, s+1, at_most-1)[0], (b, s))\n",
      "                          for b in range(start, n-1) for s in range(b+1, n)\n",
      "                          if a[b] < a[s]),\n",
      "                        key=lambda e: e[0])\n",
      "            memos[key] = m\n",
      "        return memos[key]\n",
      "    mapped(a, 0, at_most)\n",
      "    print(memos)\n",
      "    return memos[(0, at_most)]\n",
      "\n",
      "a = [1, 9, 2, 8, 3, 7, 4, 5, 6]\n",
      "buy_sell(a, 3)"
     ],
     "language": "python",
     "metadata": {},
     "outputs": [
      {
       "output_type": "stream",
       "stream": "stdout",
       "text": [
        "(18, (0, 1))\n"
       ]
      },
      {
       "metadata": {},
       "output_type": "pyout",
       "prompt_number": 11,
       "text": [
        "(18, (0, 1))"
       ]
      }
     ],
     "prompt_number": 11
    }
   ],
   "metadata": {}
  }
 ]
}