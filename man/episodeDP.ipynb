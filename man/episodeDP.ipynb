{
 "metadata": {
  "name": "",
  "signature": "sha256:621397255b8c3fe134b62b8ea91acb1b0d8fc5e047b279e988a4494d8def7d21"
 },
 "nbformat": 3,
 "nbformat_minor": 0,
 "worksheets": [
  {
   "cells": [
    {
     "cell_type": "markdown",
     "metadata": {},
     "source": [
      "LIS (longest increasing subsequence), LPS (longest palindromic sequence), LCSSeq (longest common subsequence), LCS (longest common substring), make\\_amount, make\\_changes, ..."
     ]
    },
    {
     "cell_type": "markdown",
     "metadata": {},
     "source": [
      "Given two strings of size m, n and operations of insert (I), delete (D), and replace (R)\n",
      "all at equal cost. Find the minimum # of edits required to transform a string into another."
     ]
    },
    {
     "cell_type": "code",
     "collapsed": false,
     "input": [
      "from itertools import *\n",
      "from functools import *\n",
      "\n",
      "from enum import Enum\n",
      "Edit = Enum(\"Edit\", {\"I\": \"Insert\", \"D\": \"Delete\", \"R\": \"Replace\", \"M\": \"Match\"})\n",
      "\n",
      "def edit(a, b):\n",
      "    @lru_cache(maxsize=None)\n",
      "    def proc(i, o):\n",
      "        if i == 0 or o == 0:\n",
      "            return (i+o, ())\n",
      "        m = int(a[i-1] != b[o-1])\n",
      "        cases = (\n",
      "            (m + proc(i-1, o-1)[0], proc(i-1, o-1)[1] + (Edit.M,)),\n",
      "            (1 + proc(i-1, o)[0], proc(i-1, o)[1] + (Edit.D,)),\n",
      "            (1 + proc(i, o-1)[0], proc(i, o-1)[1] + (Edit.I,))\n",
      "        )\n",
      "        return min(cases, key=lambda e: e[0])\n",
      "    return proc(len(a), len(b))\n",
      "\n",
      "assert (3, (Edit.M,) * 6 + (Edit.I,)) == edit('kitten', 'sitting')"
     ],
     "language": "python",
     "metadata": {},
     "outputs": [],
     "prompt_number": 1
    },
    {
     "cell_type": "code",
     "collapsed": false,
     "input": [
      "def renumerate(a, stop=-1):\n",
      "    return zip(range(len(a)+stop, stop, -1), reversed(a))"
     ],
     "language": "python",
     "metadata": {},
     "outputs": [],
     "prompt_number": 2
    },
    {
     "cell_type": "code",
     "collapsed": false,
     "input": [
      "def maxima(iterable, key=lambda e: e):\n",
      "    maxima = []\n",
      "    for e in iterable:\n",
      "        if not maxima or key(e) == key(maxima[0]):\n",
      "            maxima.append(e)\n",
      "        elif key(e) > key(maxima[0]):\n",
      "            maxima = [e]\n",
      "    return maxima\n",
      "\n",
      "def lis(a):\n",
      "    @lru_cache(maxsize=None)\n",
      "    def lisuff(i):\n",
      "        cases = [e + [i]\n",
      "                 for j in range(i)\n",
      "                 for e in lisuff(j) \n",
      "                 if a[e[-1]] <= a[i]] # 0 <= j < i\n",
      "        return maxima(cases, key=len) or [[i]]\n",
      "    z = maxima((e\n",
      "                for i in range(len(a))\n",
      "                for e in lisuff(i)), key=len)\n",
      "    return list(z)\n",
      "\n",
      "assert [[2, 3, 4], [2, 5, 6]] == lis((7, 8, 1, 5, 6, 2, 3))"
     ],
     "language": "python",
     "metadata": {},
     "outputs": [],
     "prompt_number": 3
    },
    {
     "cell_type": "code",
     "collapsed": false,
     "input": [
      "def lps(s): # longest palindromic subsequence http://goo.gl/nTiQvX\n",
      "    @lru_cache(maxsize=None)\n",
      "    def proc(b, e): # begin(b), end(e)\n",
      "        if e - b == 1:\n",
      "            return [s[b:e]]\n",
      "        elif e - b == 2:\n",
      "            if s[b] == s[b+1]:\n",
      "                return [s[b:e]]\n",
      "            else:\n",
      "                return [s[b:b+1], s[b+1:b+2]]\n",
      "        elif s[b] == s[e-1]:\n",
      "            return [s[b]+ss+s[b] for ss in proc(b+1, e-1)]\n",
      "        else:\n",
      "            return maxima((chain(proc(b+1, e), proc(b, e-1))), key=len)\n",
      "    return proc(0, len(s))\n",
      "        \n",
      "assert ['abzba'] == list(lps('xaybzba'))\n",
      "assert ['bab', 'aba'] == list(lps('abab'))"
     ],
     "language": "python",
     "metadata": {},
     "outputs": [],
     "prompt_number": 4
    },
    {
     "cell_type": "code",
     "collapsed": false,
     "input": [
      "def lcsseq(a, b):\n",
      "    n, m = len(a), len(b)\n",
      "    def proc(i, j, memos={}):\n",
      "        args = (i, j)\n",
      "        if args not in memos:\n",
      "            if i == -1 or j == -1:\n",
      "                m = ['']\n",
      "            elif a[i] == b[j]:\n",
      "                m = [a[i] + s for s in proc(i-1, j-1)]\n",
      "            else:\n",
      "                m = maxima(chain(proc(i-1, j), proc(i, j-1)), key=len)\n",
      "            memos[args] = m\n",
      "        return memos[args]\n",
      "    return proc(n-1, m-1)\n",
      "\n",
      "assert ['aba', 'bab'] == list(lcsseq('abab', 'baba'))\n",
      "assert {'ecaba'} == set(lcsseq('apbcadcqer', 'rasbtaucve'))"
     ],
     "language": "python",
     "metadata": {},
     "outputs": [],
     "prompt_number": 5
    },
    {
     "cell_type": "code",
     "collapsed": false,
     "input": [
      "def lcs(a, b):\n",
      "    @lru_cache(maxsize=None)\n",
      "    def lcsuff(i, j): # returns a tuple of (offset, count)\n",
      "        if i == -1 or j == -1 or a[i] != b[j]:\n",
      "            return (i, 0)\n",
      "        o, c = lcsuff(i-1, j-1)\n",
      "        return (o, c+1) if c > 0 else (i, 1)\n",
      "    m, n = len(a), len(b)\n",
      "    z = maxima((lcsuff(i, j) for i in range(m) for j in range(n)), key=lambda e: e[1])\n",
      "    return [a[s:s+c] for s, c in z]\n",
      "\n",
      "assert ['aba', 'bab'] == lcs('abab', 'baba')"
     ],
     "language": "python",
     "metadata": {},
     "outputs": [],
     "prompt_number": 6
    },
    {
     "cell_type": "code",
     "collapsed": false,
     "input": [
      "def max_profit(a, k): # at most k transactions.\n",
      "    n = len(a)\n",
      "    @lru_cache(maxsize=None)\n",
      "    def proc(start, k):\n",
      "        if k == 0 or start > n-2:\n",
      "            return (0, ())\n",
      "        else:\n",
      "            cases = ((a[s] - a[b] + proc(s+1, k-1)[0],\n",
      "                      ((b, s),) + proc(s+1, k-1)[1])\n",
      "                     for b in range(start, n-1)\n",
      "                     for s in range(b+1, n)\n",
      "                     if a[b] < a[s])\n",
      "            return max(cases, key=lambda e: e[0])\n",
      "    return proc(0, k)\n",
      "\n",
      "a = [1, 9, 2, 8, 3, 7, 4, 5, 6]\n",
      "assert (18, ((0, 1), (2, 3), (4, 5))) == max_profit(a, 3)"
     ],
     "language": "python",
     "metadata": {},
     "outputs": [],
     "prompt_number": 7
    },
    {
     "cell_type": "markdown",
     "metadata": {},
     "source": [
      "9.9 Given an NxN chessboard, write a program to place eight queens so that none of them share the same row, column, or diagonal -- [Visualize](http://goo.gl/pXYx79)"
     ]
    },
    {
     "cell_type": "code",
     "collapsed": false,
     "input": [
      "def peaceful_at(queens, r, c): # peaceful at row and column (r, c)?\n",
      "    return all([c0 != c and r - r0 != abs(c - c0)\n",
      "                for r0, c0 in enumerate(queens)])\n",
      "\n",
      "def queens_in_peace(n, queens=None):\n",
      "    if queens is None:\n",
      "        queens = []\n",
      "    r = len(queens)\n",
      "    if r == n:\n",
      "        yield queens[:]\n",
      "    else:\n",
      "        for c in range(n):\n",
      "            if peaceful_at(queens, r, c):\n",
      "                queens.append(c)\n",
      "                yield from queens_in_peace(n, queens)\n",
      "                queens.pop()\n",
      "\n",
      "assert [[1, 3, 0, 2], [2, 0, 3, 1]] == list(queens_in_peace(4))\n",
      "assert ([[0]], [], []) == tuple(list(queens_in_peace(n)) for n in range(1, 4))"
     ],
     "language": "python",
     "metadata": {},
     "outputs": [],
     "prompt_number": 8
    },
    {
     "cell_type": "code",
     "collapsed": false,
     "input": [
      "def partition(a, k, start=0, memos=None):\n",
      "    if memos is None:\n",
      "        memos = {}\n",
      "    n = len(a)\n",
      "    args = (k, start)\n",
      "    if args not in memos:\n",
      "        if k == 1:\n",
      "            best = (sum(a[start:]), [(start, n)])\n",
      "        else:\n",
      "            best = None\n",
      "            for end in range(start+1, n+1-k):\n",
      "                new_p = sum(a[start:end])\n",
      "                max_p, states = partition(a, k-1, end, memos)\n",
      "                max_p = max(new_p, max_p)\n",
      "                if best is None or best[0] > max_p:\n",
      "                    best = (max_p, [(start, end)] + states)\n",
      "        memos[args] = best\n",
      "    return memos[args]\n",
      "\n",
      "books = [1, 2, 3, 4, 5, 6, 7, 8, 9]\n",
      "parts = [[1, 2, 3, 4, 5], [6, 7], [8, 9]]\n",
      "assert parts == [books[s:e] for s, e in partition(books, 3)[1]]"
     ],
     "language": "python",
     "metadata": {},
     "outputs": [],
     "prompt_number": 9
    },
    {
     "cell_type": "code",
     "collapsed": false,
     "input": [
      "def make_amount(k, denoms): # denominations\n",
      "    denoms, d = denoms[:-1], denoms[-1]\n",
      "    cases = (make_amount(k-d*n, denoms) for n in range(1+k//d))\n",
      "    return sum(cases) if d > 1 else 1\n",
      "\n",
      "def make_changes(k, denoms): # denominations\n",
      "    @lru_cache(maxsize=None)\n",
      "    def proc(k):\n",
      "        cases = ((d,) + proc(k-d) for d in denoms if k >= d)\n",
      "        return min(cases, key=len, default=())\n",
      "    return proc(k)\n",
      "\n",
      "assert 1 == make_amount(4, [1, 5, 10, 25])\n",
      "assert 2 == make_amount(5, [1, 5, 10, 25])\n",
      "assert 4 == make_amount(10, [1, 5, 10, 25]) # 4 ways to make 10 cents\n",
      "assert 9 == make_amount(20, [1, 5, 10, 25]) # 13 ways to make 25 cents.\n",
      "\n",
      "assert (5, 5) == make_changes(10, (7, 5, 1))\n",
      "assert (7, 5, 1) == make_changes(13, (7, 5, 1))\n",
      "assert (7, 7) == make_changes(14, (7, 5, 1))"
     ],
     "language": "python",
     "metadata": {},
     "outputs": [],
     "prompt_number": 10
    },
    {
     "cell_type": "code",
     "collapsed": false,
     "input": [],
     "language": "python",
     "metadata": {},
     "outputs": [],
     "prompt_number": 10
    }
   ],
   "metadata": {}
  }
 ]
}