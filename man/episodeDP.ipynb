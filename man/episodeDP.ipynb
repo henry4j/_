{
 "metadata": {
  "name": "",
  "signature": "sha256:9b1057e8bed76a4599c93ec809180db0636fde7f0db008bdb7359bf2ac56346c"
 },
 "nbformat": 3,
 "nbformat_minor": 0,
 "worksheets": [
  {
   "cells": [
    {
     "cell_type": "markdown",
     "metadata": {},
     "source": [
      "LIS (longest increasing subsequence), LPS (longest palindromic sequence), LCSSeq (longest common subsequence), LCS (longest common substring), make\\_amount, make\\_changes, ..."
     ]
    },
    {
     "cell_type": "markdown",
     "metadata": {},
     "source": [
      "Given a string, a partitioning of the string is a palindrome partitioning if every substring of the partition is a palindrome. For example, \u201caba|b|bbabb|a|b|aba\u201d is a palindrome partitioning of \u201cababbbabbababa\u201d. Determine the fewest cuts needed for palindrome partitioning of a given string. \n"
     ]
    },
    {
     "cell_type": "markdown",
     "metadata": {},
     "source": [
      "Given two strings of size m, n and operations of insert (I), delete (D), and replace (R)\n",
      "all at equal cost. Find the minimum # of edits required to transform a string into another."
     ]
    },
    {
     "cell_type": "code",
     "collapsed": false,
     "input": [
      "from functools import lru_cache\n",
      "\n",
      "def recap(kv, k, v):\n",
      "    return (kv[0] + k, kv[1] + v)\n",
      "\n",
      "def knapsack01(skus, capacity): # a seq of costs & values.\n",
      "    @lru_cache(maxsize=None) # by capacity c and n items.\n",
      "    def prog(n, c): # returns a tuple of (a yield, items).\n",
      "        if n == 0:\n",
      "            return (0, ()) # a tuple of ($0, none items).\n",
      "        sku = skus[n-1]\n",
      "        cases = (recap(prog(n-1, c-cost), value, seq)\n",
      "                 for (cost, value), seq in ((sku, (n-1,)), ((0, 0), ()))\n",
      "                 if c >= cost) # at most two cases\n",
      "        return max(cases, key=lambda kv: kv[0])\n",
      "    return prog(len(skus), capacity)\n",
      "\n",
      "def knapsack_unbounded(skus, capacity):\n",
      "    @lru_cache(maxsize=None)\n",
      "    def prog(c):\n",
      "        cases = (recap(prog(c - sku[0]), sku[1], (i,))\n",
      "                 for i, sku in enumerate(skus)\n",
      "                 if c >= sku[0])\n",
      "        return max(cases, key=lambda kv: kv[0], default=(0, ()))\n",
      "    return prog(capacity)\n",
      "\n",
      "skus = [(2, 2), (1, 1), (4, 10), (1, 2), (12, 4)]\n",
      "assert (15, (0, 1, 2, 3)) == knapsack01(skus, 16)\n",
      "assert (36, (3, 3, 3, 2, 2, 2)) == knapsack_unbounded(skus, 15)"
     ],
     "language": "python",
     "metadata": {},
     "outputs": [],
     "prompt_number": 1
    },
    {
     "cell_type": "code",
     "collapsed": false,
     "input": [
      "from enum import Enum\n",
      "\n",
      "Edit = Enum(\"Edit\", {\"I\": \"Insert\", \"D\": \"Delete\", \"R\": \"Replace\", \"M\": \"Match\"})\n",
      "\n",
      "def edit(a, b):\n",
      "    @lru_cache(maxsize=None)\n",
      "    def prog(i, o):\n",
      "        if i == 0 or o == 0:\n",
      "            return (i+o, ())\n",
      "        m = int(a[i-1] != b[o-1]) # match costs 1 or 0.\n",
      "        cases = (recap(prog(i-1, o-1), m, (Edit.M,)),\n",
      "                 recap(prog(i-1, o), 1, (Edit.D,)),\n",
      "                 recap(prog(i, o-1), 1, (Edit.I,)))\n",
      "        return min(cases, key=lambda e: e[0])\n",
      "    return prog(len(a), len(b))\n",
      "\n",
      "assert (3, (Edit.M,) * 6 + (Edit.I,)) == edit('kitten', 'sitting')"
     ],
     "language": "python",
     "metadata": {},
     "outputs": [],
     "prompt_number": 2
    },
    {
     "cell_type": "code",
     "collapsed": false,
     "input": [
      "def renumerate(a, stop=-1):\n",
      "    return zip(range(len(a)+stop, stop, -1), reversed(a))"
     ],
     "language": "python",
     "metadata": {},
     "outputs": [],
     "prompt_number": 3
    },
    {
     "cell_type": "code",
     "collapsed": false,
     "input": [
      "def maxima(iterable, key=lambda e: e):\n",
      "    maxima = []\n",
      "    for e in iterable:\n",
      "        if not maxima or key(e) == key(maxima[0]):\n",
      "            maxima.append(e)\n",
      "        elif key(e) > key(maxima[0]):\n",
      "            maxima = [e]\n",
      "    return maxima\n",
      "\n",
      "def lis(a):\n",
      "    @lru_cache(maxsize=None)\n",
      "    def lisuff(i):\n",
      "        cases = (e + (a[i],)\n",
      "                 for j in range(i)\n",
      "                 for e in lisuff(j) \n",
      "                 if e[-1] <= a[i]) # 0 <= j < i\n",
      "        return maxima(cases, key=len) or [(a[i],)]\n",
      "    return maxima((e\n",
      "                   for i in range(len(a))\n",
      "                   for e in lisuff(i)), key=len)\n",
      "\n",
      "assert [(1, 5, 6), (1, 2, 3)] == lis((7, 8, 1, 5, 6, 2, 3))"
     ],
     "language": "python",
     "metadata": {},
     "outputs": [],
     "prompt_number": 4
    },
    {
     "cell_type": "code",
     "collapsed": false,
     "input": [
      "from itertools import chain\n",
      "\n",
      "def lps(s): # longest palindromic subsequence http://goo.gl/nTiQvX\n",
      "    @lru_cache(maxsize=None)\n",
      "    def prog(b, e): # begin(b), end(e)\n",
      "        if e - b == 1:\n",
      "            return [s[b:e]]\n",
      "        elif e - b == 2:\n",
      "            if s[b] == s[b+1]:\n",
      "                return [s[b:e]]\n",
      "            else:\n",
      "                return [s[b:b+1], s[b+1:b+2]]\n",
      "        elif s[b] == s[e-1]:\n",
      "            return [s[b]+ss+s[b] for ss in prog(b+1, e-1)]\n",
      "        else:\n",
      "            return maxima((chain(prog(b+1, e), prog(b, e-1))), key=len)\n",
      "    return prog(0, len(s))\n",
      "        \n",
      "assert ['abzba'] == list(lps('xaybzba'))\n",
      "assert ['bab', 'aba'] == list(lps('abab'))"
     ],
     "language": "python",
     "metadata": {},
     "outputs": [],
     "prompt_number": 5
    },
    {
     "cell_type": "code",
     "collapsed": false,
     "input": [
      "def lcsseq(a, b):\n",
      "    n, m = len(a), len(b)\n",
      "    def prog(i, j, memos={}):\n",
      "        args = (i, j)\n",
      "        if args not in memos:\n",
      "            if i == -1 or j == -1:\n",
      "                m = ['']\n",
      "            elif a[i] == b[j]:\n",
      "                m = [a[i] + s for s in prog(i-1, j-1)]\n",
      "            else:\n",
      "                m = maxima(chain(prog(i-1, j), prog(i, j-1)), key=len)\n",
      "            memos[args] = m\n",
      "        return memos[args]\n",
      "    return prog(n-1, m-1)\n",
      "\n",
      "assert ['aba', 'bab'] == list(lcsseq('abab', 'baba'))\n",
      "assert {'ecaba'} == set(lcsseq('apbcadcqer', 'rasbtaucve'))"
     ],
     "language": "python",
     "metadata": {},
     "outputs": [],
     "prompt_number": 6
    },
    {
     "cell_type": "code",
     "collapsed": false,
     "input": [
      "def lcs(a, b):\n",
      "    @lru_cache(maxsize=None)\n",
      "    def lcsuff(i, j): # returns a tuple of (offset, count)\n",
      "        if i == -1 or j == -1 or a[i] != b[j]:\n",
      "            return (i, 0)\n",
      "        o, c = lcsuff(i-1, j-1)\n",
      "        return (o, c+1) if c > 0 else (i, 1)\n",
      "    m, n = len(a), len(b)\n",
      "    z = maxima((lcsuff(i, j) for i in range(m) for j in range(n)), key=lambda e: e[1])\n",
      "    return [a[o:o+c] for o, c in z]\n",
      "\n",
      "assert ['aba', 'bab'] == lcs('abab', 'baba')"
     ],
     "language": "python",
     "metadata": {},
     "outputs": [],
     "prompt_number": 7
    },
    {
     "cell_type": "code",
     "collapsed": false,
     "input": [
      "def max_profit(a, k): # at most k transactions.\n",
      "    n = len(a)\n",
      "    @lru_cache(maxsize=None)\n",
      "    def prog(start, k):\n",
      "        if k == 0 or start > n-2:\n",
      "            return (0, ())\n",
      "        else:\n",
      "            cases = ((a[s] - a[b] + prog(s+1, k-1)[0],\n",
      "                      ((b, s),) + prog(s+1, k-1)[1])\n",
      "                     for b in range(start, n-1)\n",
      "                     for s in range(b+1, n)\n",
      "                     if a[b] < a[s])\n",
      "            return max(cases, key=lambda e: e[0])\n",
      "    return prog(0, k)\n",
      "\n",
      "a = [1, 9, 2, 8, 3, 7, 4, 5, 6]\n",
      "assert (18, ((0, 1), (2, 3), (4, 5))) == max_profit(a, 3)"
     ],
     "language": "python",
     "metadata": {},
     "outputs": [],
     "prompt_number": 8
    },
    {
     "cell_type": "code",
     "collapsed": false,
     "input": [
      "def recalc(kv, k, v):\n",
      "    return (max(k, kv[0]), v + kv[1])\n",
      "\n",
      "def bookshelf(books, p): # at most p partitions.\n",
      "    n = len(books)\n",
      "    @lru_cache(maxsize=None)\n",
      "    def prog(p, s): # partitions (p), range start (s).\n",
      "        if p == 1:\n",
      "            return (sum(books[s:]), ((s, n),))\n",
      "        cases = (\n",
      "            recalc(prog(p-1, s2), sum(books[s:s2]), ((s, s2),))\n",
      "            for s2 in range(s+1, n+1-p))\n",
      "        return min(cases, key=lambda e: e[0])\n",
      "    return prog(p, 0)\n",
      "\n",
      "books = [1, 2, 3, 4, 5, 6, 7, 8, 9]\n",
      "parts = [[1, 2, 3, 4, 5], [6, 7], [8, 9]]\n",
      "assert parts == [books[s:e] for s, e in bookshelf(books, 3)[1]]"
     ],
     "language": "python",
     "metadata": {},
     "outputs": [],
     "prompt_number": 9
    },
    {
     "cell_type": "code",
     "collapsed": false,
     "input": [
      "def make_amount(k, denoms): # denominations\n",
      "    denoms, d = denoms[:-1], denoms[-1]\n",
      "    cases = (make_amount(k-d*n, denoms) for n in range(1+k//d))\n",
      "    return sum(cases) if d > 1 else 1\n",
      "\n",
      "def make_changes(k, denoms): # denominations\n",
      "    @lru_cache(maxsize=None)\n",
      "    def prog(k):\n",
      "        cases = ((d,) + prog(k-d) for d in denoms if k >= d)\n",
      "        return min(cases, key=len, default=())\n",
      "    return prog(k)\n",
      "\n",
      "assert 1 == make_amount(4, [1, 5, 10, 25])\n",
      "assert 2 == make_amount(5, [1, 5, 10, 25])\n",
      "assert 4 == make_amount(10, [1, 5, 10, 25]) # 4 ways to make 10 cents\n",
      "assert 9 == make_amount(20, [1, 5, 10, 25]) # 13 ways to make 25 cents.\n",
      "\n",
      "assert (5, 5) == make_changes(10, (7, 5, 1))\n",
      "assert (7, 5, 1) == make_changes(13, (7, 5, 1))\n",
      "assert (7, 7) == make_changes(14, (7, 5, 1))"
     ],
     "language": "python",
     "metadata": {},
     "outputs": [],
     "prompt_number": 10
    }
   ],
   "metadata": {}
  }
 ]
}