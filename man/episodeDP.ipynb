{
 "metadata": {
  "name": "",
  "signature": "sha256:00c9f82c5576c9bdaa9ab7b5108aa3c2e066cb94bd90fe4e3b4d393acd242a5e"
 },
 "nbformat": 3,
 "nbformat_minor": 0,
 "worksheets": [
  {
   "cells": [
    {
     "cell_type": "code",
     "collapsed": false,
     "input": [
      "# Longest Common Subsequence, APBCADCQER, RASBTUCVE, \n",
      "# http://www.youtube.com/watch?v=wJ-rP9hJXO0\n",
      "def lcss():\n",
      "    pass\n",
      "\n",
      "# https://www.youtube.com/watch?v=Mbav2iuJ7xQ\n",
      "def longest palindrome subsequence():\n",
      "    pass\n",
      "\n",
      "# http://\n",
      "def lcs():\n",
      "    pass"
     ],
     "language": "python",
     "metadata": {},
     "outputs": []
    }
   ],
   "metadata": {}
  }
 ]
}