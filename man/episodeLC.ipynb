{
 "cells": [
  {
   "cell_type": "markdown",
   "metadata": {},
   "source": [
    "[Elements of PI](http://elementsofprogramminginterviews.com/solutions/)"
   ]
  },
  {
   "cell_type": "code",
   "execution_count": 1,
   "metadata": {
    "collapsed": true
   },
   "outputs": [],
   "source": [
    "from collections import *\n",
    "from functools import *\n",
    "from heapq import *\n",
    "from itertools import *\n",
    "\n",
    "class BTree:\n",
    "    def __init__(self, value=None, left=None, right=None, parent=None):\n",
    "        self.value, self.left, self.right, self.parent = value, left, right, parent"
   ]
  },
  {
   "cell_type": "markdown",
   "metadata": {},
   "source": [
    "[Longest Subarray of Distinct Entries](https://leetcode.com/articles/longest-substring-without-repeating-characters/): Given a string, find the length of the longest substring without repeating characters."
   ]
  },
  {
   "cell_type": "code",
   "execution_count": 2,
   "metadata": {
    "collapsed": true
   },
   "outputs": [],
   "source": [
    "def longest_subarray_of_distinct_entries(a):\n",
    "    last_indices = {}\n",
    "    longest_start, longest_stop = 0, 1\n",
    "    start = 0\n",
    "    for stop, e in enumerate(a):\n",
    "        if e in last_indices:\n",
    "            if last_indices[e] >= start:\n",
    "                if stop - start > longest_stop - longest_start:\n",
    "                    longest_stop, longest_start = stop, start\n",
    "                start = last_indices[e] + 1\n",
    "        last_indices[e] = stop\n",
    "    if len(a) - start > longest_stop - longest_start:\n",
    "        longest_stop, longest_start = stop, start\n",
    "    return longest_start, longest_stop\n",
    "\n",
    "assert (2, 5) == longest_subarray_of_distinct_entries('pwwkew')\n",
    "assert (3, 9) == longest_subarray_of_distinct_entries('pwwkewabcd')"
   ]
  },
  {
   "cell_type": "markdown",
   "metadata": {
    "collapsed": true
   },
   "source": [
    "[Longest Contained Range](https://leetcode.com/problems/longest-consecutive-sequence/description/): Given an array of integers, find the length of the longest consecutive elements sequence."
   ]
  },
  {
   "cell_type": "code",
   "execution_count": 3,
   "metadata": {
    "collapsed": true
   },
   "outputs": [],
   "source": [
    "def longest_contained_range(a):\n",
    "    q = set(a)\n",
    "    longest = None\n",
    "    while q:\n",
    "        i = q.pop()\n",
    "        lbound, ubound = i - 1, i + 1\n",
    "        while lbound in q:\n",
    "            q.remove(lbound)\n",
    "            lbound -= 1\n",
    "        while ubound in q:\n",
    "            q.remove(ubound)\n",
    "            ubound += 1\n",
    "        lbound, ubound = lbound + 1, ubound - 1\n",
    "        if longest is None or ubound - lbound > longest[1] - longest[0]:\n",
    "            longest = lbound, ubound\n",
    "    return longest\n",
    "            \n",
    "assert (1, 4) == longest_contained_range([100, 4, 200, 1, 3, 2])"
   ]
  },
  {
   "cell_type": "code",
   "execution_count": 4,
   "metadata": {
    "collapsed": true
   },
   "outputs": [],
   "source": [
    "def longest_increasing_subarray(a):\n",
    "    longest_start, longest_stride = 0, 1  # a tuple of (start and stride), not (start and stop).\n",
    "    start = 0\n",
    "    while start < len(a) - longest_stride:\n",
    "        for start2 in range(start + longest_stride, start, -1):\n",
    "            if a[start2] <= a[start2 - 1]:\n",
    "                break\n",
    "        else:\n",
    "            start2 = start + longest_stride + 1\n",
    "            while start2 < len(a) and a[start2] > a[start2 - 1]:\n",
    "                start2 = start2 + 1\n",
    "            longest_start, longest_stride = start, start2 - start\n",
    "        start = start2\n",
    "    return longest_start, longest_start + longest_stride\n",
    "\n",
    "assert (3, 7) == longest_increasing_subarray([4, 5, 6, 3, 4, 5, 6, 0, 0, 0, 0, 0, 1, 2, 3])\n",
    "assert (3, 8) == longest_increasing_subarray([4, 5, 6, 3, 4, 5, 6, 7, 0])\n",
    "assert (3, 9) == longest_increasing_subarray([4, 5, 6, 3, 4, 5, 6, 7, 8])\n",
    "assert (4, 9) == longest_increasing_subarray([4, 5, 6, 9, 4, 5, 6, 7, 8])"
   ]
  },
  {
   "cell_type": "markdown",
   "metadata": {},
   "source": [
    "[Longest Increasing Subsequence](https://leetcode.com/problems/longest-increasing-subsequence/description/): Given an array of integers, find the length of longest increasing subsequence."
   ]
  },
  {
   "cell_type": "code",
   "execution_count": 5,
   "metadata": {
    "collapsed": true
   },
   "outputs": [],
   "source": [
    "def maxima(iterable, key=lambda e: e):\n",
    "    maxima = []\n",
    "    for e in iterable:\n",
    "        if not maxima or key(e) > key(maxima[0]):\n",
    "            maxima = [e]\n",
    "        elif key(e) == key(maxima[0]):\n",
    "            maxima.append(e)\n",
    "    return maxima\n",
    "\n",
    "def lis(a):  # also called longest_increasing_subsequence.\n",
    "    @lru_cache(maxsize=None)\n",
    "    def lisuff(i):\n",
    "        cases = (e + (a[i],)\n",
    "                 for j in range(i)\n",
    "                 for e in lisuff(j) \n",
    "                 if e[-1] <= a[i])\n",
    "        return maxima(cases, key=len) or [(a[i],)]\n",
    "    cases = (lisuff(i) for i in range(len(a)))\n",
    "    return maxima(chain.from_iterable(cases), key=len)\n",
    "\n",
    "assert [(1, 5, 6), (1, 2, 3)] == lis((7, 8, 1, 5, 6, 2, 3))"
   ]
  },
  {
   "cell_type": "markdown",
   "metadata": {},
   "source": [
    "[Longest subarray which sums <= K](https://leetcode.com/problems/minimum-size-subarray-sum/description/): Find the longest subarray, which sums <= k."
   ]
  },
  {
   "cell_type": "code",
   "execution_count": 6,
   "metadata": {
    "collapsed": true
   },
   "outputs": [],
   "source": [
    "def longest_subarray_le_k(a, k):\n",
    "    cumsum = list(accumulate(a))\n",
    "    cumsum_stop = list(reversed(list(accumulate(reversed(cumsum), min))))\n",
    "    longest_start, longest_stop = None, None\n",
    "    start, stop, n = 0, 1, len(cumsum)\n",
    "    while start < n and stop <= n:\n",
    "        if start > 0:\n",
    "            sum_ = cumsum_stop[stop - 1] - cumsum[start - 1]\n",
    "        else:\n",
    "            sum_ = cumsum_stop[stop - 1]\n",
    "        if sum_ <= k:\n",
    "            if longest_stop is None or stop - start > (longest_stop - longest_start):\n",
    "                longest_stop, longest_start = stop, start\n",
    "            stop += 1\n",
    "        else:\n",
    "            start += 1\n",
    "    return longest_start, longest_stop\n",
    "    \n",
    "assert (0, 3) == longest_subarray_le_k([10, 20, -30, 40, -10], 10)"
   ]
  },
  {
   "cell_type": "code",
   "execution_count": 7,
   "metadata": {},
   "outputs": [],
   "source": [
    "def max_rectangle_submatrix(matrix):\n",
    "    m, n = len(matrix), len(matrix[0])\n",
    "    HW = namedtuple('hw', ('h', 'w'))\n",
    "    strides = [[HW(0, 0)] * n for _ in range(m)]\n",
    "\n",
    "    for r in range(m-1, -1, -1):\n",
    "        for c in range(n-1, -1, -1):\n",
    "            if matrix[r][c]:\n",
    "                strides[r][c] = HW(strides[r + 1][c].h + 1 if r < m - 1 else 1,\n",
    "                                   strides[r][c + 1].w + 1 if c < n - 1 else 1)\n",
    "\n",
    "    max_area = 0\n",
    "    for r in range(m):\n",
    "        for c in range(n):\n",
    "            if strides[r][c].w * strides[r][c].h > max_area:\n",
    "                min_width = strides[r][c].w\n",
    "                for k in range(strides[r][c].h):\n",
    "                    min_width = min(min_width, strides[r + k][c].w)\n",
    "                    max_area = max(max_area, min_width * (k + 1))\n",
    "    return max_area\n",
    "\n",
    "matrix = [  # 6 x 5\n",
    "    [1, 0, 1, 1, 1],\n",
    "    [1, 1, 1, 1, 1],\n",
    "    [1, 1, 1, 1, 0],\n",
    "    [0, 1, 1, 1, 1],\n",
    "    [1, 1, 1, 1, 1],\n",
    "    [1, 1, 1, 0, 1]\n",
    "]\n",
    "assert 12 == max_rectangle_submatrix(matrix)"
   ]
  },
  {
   "cell_type": "code",
   "execution_count": 8,
   "metadata": {
    "collapsed": true
   },
   "outputs": [],
   "source": [
    "def largest_k_from_max_heap(max_heap, k):\n",
    "    largest = [(-max_heap[0], 0)]  # the largest a[0] and the index (0).\n",
    "    for _ in range(k):\n",
    "        i = largest[0][1]\n",
    "        yield -heappop(largest)[0]\n",
    "        for k in (2 * i + j for j in range(1, 3)):\n",
    "            if k < len(max_heap):\n",
    "                heappush(largest, (-max_heap[k], k))\n",
    "\n",
    "max_heap = [\n",
    "          561, \n",
    "       314,   401, \n",
    "    28, 156, 359, 271,\n",
    "  11, 3]\n",
    "assert [561, 401, 359, 314] == list(largest_k_from_max_heap(max_heap, 4))"
   ]
  },
  {
   "cell_type": "code",
   "execution_count": 9,
   "metadata": {
    "collapsed": true
   },
   "outputs": [],
   "source": [
    "def islice(tree, start=0, stop=None, step=None):\n",
    "    e, i, stack = tree, 0, []\n",
    "    while (e or stack) and (stop is None or i < stop):\n",
    "        if e:\n",
    "            stack.append(e)\n",
    "            e = e.left\n",
    "        else:\n",
    "            e = stack.pop()\n",
    "            if start <= i and (i - start) % step == 0:\n",
    "                yield e\n",
    "            e, i = e.right, i + 1\n",
    "\n",
    "def irslice(tree, start, stop=None, step=None):  # step not supported yet.\n",
    "    e, i, stack = tree, 0, []\n",
    "    while (e or stack) and (stop is None or i < stop):\n",
    "        if e:\n",
    "            stack.append(e)\n",
    "            e = e.right\n",
    "        else:\n",
    "            e = stack.pop()\n",
    "            if start <= i and (step is None or (i - start) % step == 0):\n",
    "                yield e\n",
    "            e, i = e.left, i + 1\n",
    "\n",
    "# tree:   4\n",
    "#       /  \\\n",
    "#     3     8\n",
    "#    /     /  \\\n",
    "#   2     5    9\n",
    "#  1       7\n",
    "# 0       6\n",
    "tree = BTree(4, \n",
    "             BTree(3, BTree(2, BTree(1, BTree(0)))),\n",
    "             BTree(8, BTree(5, None, BTree(7, BTree(6))), BTree(9)))\n",
    "\n",
    "assert [0, 3, 6, 9] == [e.value for e in islice(tree, 0, stop=10, step=3)]\n",
    "assert [0, 3, 6] == [e.value for e in islice(tree, 0, stop=9, step=3)]\n",
    "assert [0, 3, 6] == [e.value for e in islice(tree, 0, stop=7, step=3)]\n",
    "assert [0, 3] == [e.value for e in islice(tree, 0, stop=6, step=3)]\n",
    "assert [9, 8] == [e.value for e in irslice(tree, 0, stop=2)]\n",
    "assert [8, 7] == [e.value for e in irslice(tree, 1, stop=3)]"
   ]
  },
  {
   "cell_type": "code",
   "execution_count": 10,
   "metadata": {
    "collapsed": true
   },
   "outputs": [],
   "source": [
    "def islice(tree, start=0, stop=None, step=None):\n",
    "    prev = next = None\n",
    "    parents = {}\n",
    "    while tree:\n",
    "        if prev is parents.get(tree):\n",
    "            for e in filter(None, (tree.left, tree.right)):\n",
    "                parents[e] = tree                \n",
    "            if tree.left:\n",
    "                next_ = tree.left\n",
    "            else:\n",
    "                yield tree.value\n",
    "                next_ = tree.right or parents.get(tree)\n",
    "        elif prev is tree.left:\n",
    "            yield tree.value\n",
    "            next_ = tree.right or parents.get(tree)\n",
    "        else:\n",
    "            assert prev is tree.right\n",
    "            next_ = parents.get(tree)\n",
    "        prev, tree = tree, next_\n",
    "    \n",
    "assert [0, 1, 2, 3, 4, 5, 6, 7, 8, 9] == list(islice(tree))"
   ]
  },
  {
   "cell_type": "markdown",
   "metadata": {},
   "source": [
    "[Largest Rectangle in Histogram](https://leetcode.com/problems/largest-rectangle-in-histogram/description/): Given n non-negative integers representing the histogram's bar height where the width of each bar is 1, find the area of largest rectangle in the histogram.\n",
    "\n",
    "| Histogram | Area |\n",
    "|:---------:|:----:|\n",
    "| ![histogram](https://leetcode.com/static/images/problemset/histogram.png) | ![histogram-area](https://leetcode.com/static/images/problemset/histogram_area.png) |"
   ]
  },
  {
   "cell_type": "code",
   "execution_count": 11,
   "metadata": {
    "collapsed": true
   },
   "outputs": [],
   "source": [
    "def largest_rect_area(heights):\n",
    "    in_process = []\n",
    "    largest_area = 0\n",
    "    for stop, h in enumerate(heights + [0]):\n",
    "        while in_process and h < in_process[-1][1]:\n",
    "            start, height = in_process.pop()\n",
    "            width = stop - start\n",
    "            largest_area = max(largest_area, height * width)\n",
    "        in_process.append((stop, h))\n",
    "    return largest_area\n",
    "\n",
    "assert 10 == largest_rect_area([2, 1, 5, 6, 2, 3])\n",
    "assert 21 == largest_rect_area([3, 4, 5, 5, 5, 4, 3, 2, 1])"
   ]
  },
  {
   "cell_type": "markdown",
   "metadata": {},
   "source": [
    "[Compute Skyline](https://leetcode.com/problems/the-skyline-problem/description/): the buildings in Figure A are recorded as: [ [2 9 10], [3 7 15], [5 12 12], [15 20 10], [19 24 8] ]. The skyline in Figure B should be represented as:[ [2 10], [3 15], [7 12], [12 0], [15 10], [20 8], [24, 0] ].\n",
    "\n",
    "\n",
    "| Building | Skyline |\n",
    "|:--------:|:-------:|\n",
    "| ![x](http://leetcode.com/static/images/problemset/skyline1.jpg \"title1\")>        | ![y](http://leetcode.com/static/images/problemset/skyline2.jpg \"titlt2\") |"
   ]
  },
  {
   "cell_type": "code",
   "execution_count": 12,
   "metadata": {
    "collapsed": true
   },
   "outputs": [],
   "source": [
    "from collections import defaultdict, namedtuple\n",
    "from heapq import heappop, heappush\n",
    "\n",
    "class Buliding:\n",
    "    def __init__(self, height):\n",
    "        self.height = height\n",
    "        self.processed = False\n",
    "        \n",
    "    def __lt__(self, other):\n",
    "        return other.height < self.height\n",
    "\n",
    "Event = namedtuple('Event', 'beginning, ending')\n",
    "\n",
    "def skyline(buildings):\n",
    "    events = defaultdict(lambda: Event(beginning=[], ending=[]))\n",
    "    for left, height, right in buildings:\n",
    "        b = Buliding(height)\n",
    "        events[left].beginning.append(b)\n",
    "        events[right].ending.append(b)\n",
    "\n",
    "    in_process = []\n",
    "    last_h = 0\n",
    "    for i, event in sorted(events.items()):\n",
    "        for b in event.beginning:\n",
    "            heappush(in_process, b)\n",
    "        for b in event.ending:\n",
    "            b.processed = True\n",
    "        while in_process and in_process[0].processed:\n",
    "            heappop(in_process)\n",
    "        \n",
    "        h = in_process[0].height if in_process else 0\n",
    "        if h != last_h:\n",
    "            yield i, h\n",
    "            last_h = h\n",
    "\n",
    "buildings = [[2, 9, 10], [3, 7, 15], [5, 12, 12], [15, 20, 10], [19, 24, 8]]\n",
    "assert [(2, 9), (5, 12), (12, 7), (15, 0)] == list(skyline(buildings))"
   ]
  },
  {
   "cell_type": "code",
   "execution_count": 13,
   "metadata": {
    "collapsed": true
   },
   "outputs": [],
   "source": [
    "def skyline(buildings):\n",
    "    start_i = min(b[0] for b in buildings)\n",
    "    stop_i = 2 + max(b[2] for b in buildings)\n",
    "    heights = [0] * (stop_i - start_i)\n",
    "    for b in buildings:\n",
    "        for j in range(b[0] - start_i, b[2] - start_i + 1):\n",
    "            heights[j] = max(heights[j], b[1])\n",
    "    skyline = [[start_i, heights[0]]]\n",
    "    for j in range(1, len(heights)):\n",
    "        if heights[j] > heights[j - 1]:\n",
    "            skyline.append([start_i + j, heights[j]])\n",
    "        elif heights[j] < heights[j - 1]:\n",
    "            skyline.append([start_i + j - 1, heights[j]])\n",
    "    return skyline\n",
    "\n",
    "buildings = [[2, 9, 10], [3, 7, 15], [5, 12, 12], [15, 20, 10], [19, 24, 8]]\n",
    "assert [[2, 9], [5, 12], [12, 7], [15, 0]] == skyline(buildings)"
   ]
  },
  {
   "cell_type": "markdown",
   "metadata": {},
   "source": [
    "[Rain water](https://leetcode.com/problems/trapping-rain-water/description/): Given n non-negative integers representing an elevation map where the width of each bar is 1, compute how much water it is able to trap after raining. For example, given [0,1,0,2,1,0,1,3,2,1,2,1], return 6.\n",
    "\n",
    "![](http://www.leetcode.com/static/images/problemset/rainwatertrap.png)"
   ]
  },
  {
   "cell_type": "code",
   "execution_count": 14,
   "metadata": {
    "collapsed": true
   },
   "outputs": [],
   "source": [
    "def rain_water(elevations):\n",
    "    def rain_water_closed_end(elevations):\n",
    "        max_elevation = 0\n",
    "        volume = 0\n",
    "        for e in elevations:\n",
    "            if max_elevation < e:\n",
    "                max_elevation = e\n",
    "            else:\n",
    "                volume += max_elevation - e\n",
    "        return volume\n",
    "\n",
    "    max_i, _ = max(enumerate(elevations), key=lambda q: q[1])\n",
    "    return (rain_water_closed_end(elevations[:max_i]) +\n",
    "        rain_water_closed_end(reversed(elevations[max_i+1:])))\n",
    "\n",
    "assert 6 == rain_water([0, 1, 0, 2, 1, 0, 1, 3, 2, 1, 2, 1])"
   ]
  },
  {
   "cell_type": "code",
   "execution_count": 15,
   "metadata": {
    "collapsed": true
   },
   "outputs": [],
   "source": [
    "def justify(words, max_line_length, fillchar='_'):\n",
    "    result, start, word_length_sum = [], 0, 0\n",
    "    for stop, word in enumerate(words):\n",
    "        if word_length_sum + len(word) + stop - start > max_line_length:\n",
    "            for i in range(max_line_length - word_length_sum):\n",
    "                offset = i % (stop - start - 1 or 1)\n",
    "                words[start + offset] += fillchar\n",
    "            result.append(''.join(words[start:stop]))\n",
    "            start, word_length_sum = stop, 0\n",
    "        word_length_sum += len(word)\n",
    "    return result + [fillchar.join(words[start:]).ljust(max_line_length, fillchar)]\n",
    "\n",
    "assert (['This____is____an', 'example__of_text', 'justification.__']\n",
    "  == justify(['This', 'is', 'an', 'example', 'of', 'text', 'justification.'], 16))"
   ]
  },
  {
   "cell_type": "code",
   "execution_count": 16,
   "metadata": {
    "collapsed": true
   },
   "outputs": [],
   "source": [
    "class Trie:\n",
    "    def __init__(self, value=None):\n",
    "        self.children, self.value = {}, value\n",
    "\n",
    "    def __setitem__(self, k, v):\n",
    "        if len(k) > 1:\n",
    "            if k[0] not in self.children:\n",
    "                self.children[k[0]] = Trie()\n",
    "            self.children[k[0]][k[1:]] = v\n",
    "        else:\n",
    "            self.children[k[0]] = v\n",
    "\n",
    "    def __getitem__(self, k):\n",
    "        if len(k) > 0:\n",
    "            if k[0] in self.children:\n",
    "                return self.children[k[0]][k[1:]]\n",
    "        else:\n",
    "            return self\n",
    "\n",
    "    def values(self):\n",
    "        if self.value is not None:\n",
    "            yield self.value\n",
    "        for child in self.children.values():\n",
    "            yield from child.values()\n",
    "\n",
    "s, tree = \"bananas\", Trie()\n",
    "for i, _ in enumerate(s):\n",
    "    tree[s[i:]] = Trie(i)\n",
    "\n",
    "# all indices of query strings\n",
    "def indices_of(q):\n",
    "    trie = tree[q]\n",
    "    return list(trie.values()) if trie else []\n",
    "\n",
    "q = \"ba na nas s bas\".split(\" \")\n",
    "assert [[0], [2, 4], [4], [6], []] == [sorted(indices_of(e)) for e in q]"
   ]
  },
  {
   "cell_type": "markdown",
   "metadata": {},
   "source": [
    "18.5 Given a large text file containing words, find the shortest distance between two or k words in terms of the number of words. What is the time and space complexity?"
   ]
  },
  {
   "cell_type": "code",
   "execution_count": 17,
   "metadata": {
    "collapsed": true
   },
   "outputs": [],
   "source": [
    "from collections import deque\n",
    "import heapq\n",
    "\n",
    "def min_word_window(positions): # e.g., [[0, 89, 130], [95, 123, 177, 199], [70, 105, 117]], O(L*logK)\n",
    "    positions = [deque(e) for e in positions]\n",
    "    min_window = window = [e.popleft() for e in positions] # [0, 95, 70]\n",
    "    heap = []\n",
    "    for i, e in enumerate(window):\n",
    "        heapq.heappush(heap, (e, i)) # (position e, i).\n",
    "    while positions[heap[0][1]]: # positions[i] is non-empty.\n",
    "        i = heapq.heappop(heap)[1]\n",
    "        window[i] = positions[i].popleft()\n",
    "        min_window = min(min_window, window, key=lambda w: max(w) - min(w))\n",
    "        heapq.heappush(heap, (window[i], i))\n",
    "    return (min(min_window), max(min_window))\n",
    "\n",
    "assert (117, 130) == min_word_window([[0, 89, 130], [95, 123, 177, 199], [70, 105, 117]])"
   ]
  },
  {
   "cell_type": "markdown",
   "metadata": {},
   "source": [
    "12.7. Find the smallest subarray covering all values."
   ]
  },
  {
   "cell_type": "code",
   "execution_count": 18,
   "metadata": {
    "collapsed": true
   },
   "outputs": [],
   "source": [
    "def pangram(text='aabbaacxxx', alphas='abc'):\n",
    "    shortest = None\n",
    "    counter = Counter(set(alphas))\n",
    "    coverage = 0\n",
    "    start = 0\n",
    "    for end, c in enumerate(text):\n",
    "        if c in alphas:\n",
    "            counter[c] -= 1\n",
    "            if counter[c] == 0:\n",
    "                coverage += 1\n",
    "        while coverage == len(alphas):\n",
    "            if shortest is None or end - start < shortest[1] - shortest[0]:\n",
    "                shortest = (start, end)\n",
    "            c = text[start]\n",
    "            if c in alphas:\n",
    "                counter[c] += 1\n",
    "                if counter[c] == 1:\n",
    "                    coverage -= 1\n",
    "            start += 1\n",
    "    return shortest\n",
    "\n",
    "assert (0, 2) == pangram('abcybbcabc', 'abc')"
   ]
  },
  {
   "cell_type": "markdown",
   "metadata": {
    "collapsed": true
   },
   "source": [
    "5.11 Compute the next permutation."
   ]
  },
  {
   "cell_type": "markdown",
   "metadata": {},
   "source": [
    "6.13 Find the first occurence of a substring."
   ]
  },
  {
   "cell_type": "markdown",
   "metadata": {},
   "source": [
    "9.2 Test if a binary tree is symmetric."
   ]
  },
  {
   "cell_type": "code",
   "execution_count": 19,
   "metadata": {
    "collapsed": true
   },
   "outputs": [],
   "source": [
    "def is_symmetric(l, r):\n",
    "    if not any((l, r)):\n",
    "        return True\n",
    "    if not all((l, r)):\n",
    "        return False\n",
    "    return all((l.value == r.value,\n",
    "                is_symmetric(l.left, r.right),\n",
    "                is_symmetric(l.right, r.left)))\n",
    "\n",
    "# tree:   1\n",
    "#       2   2\n",
    "#     3       3\n",
    "tree = BTree(1, BTree(2, BTree(3)), BTree(2, None, BTree(3)))\n",
    "assert is_symmetric(tree.left, tree.right)"
   ]
  },
  {
   "cell_type": "markdown",
   "metadata": {},
   "source": [
    "9.5 Sum the root-to-leaf paths in a binary tree."
   ]
  },
  {
   "cell_type": "code",
   "execution_count": 20,
   "metadata": {
    "collapsed": true
   },
   "outputs": [],
   "source": [
    "def sum_to_leaf(tree, cumsum=0):  # cumulative sum.\n",
    "    if tree:\n",
    "        cumsum = 2 * cumsum + tree.value\n",
    "        if not any((tree.left, tree.right)):\n",
    "            yield cumsum\n",
    "        else:\n",
    "            yield from sum_to_leaf(tree.left, cumsum)\n",
    "            yield from sum_to_leaf(tree.right, cumsum)\n",
    "\n",
    "# tree:   1\n",
    "#       0   1\n",
    "#          1\n",
    "tree = BTree(1, BTree(0), BTree(1, BTree(1)))\n",
    "assert 9 == sum(sum_to_leaf(tree))  # B10(2) + B111(7)"
   ]
  },
  {
   "cell_type": "markdown",
   "metadata": {},
   "source": [
    "9.6 Find a root to leaf path with specified sum."
   ]
  },
  {
   "cell_type": "code",
   "execution_count": 21,
   "metadata": {
    "collapsed": true
   },
   "outputs": [],
   "source": [
    "# tree: -1\n",
    "#          3\n",
    "#        -1\n",
    "#       2  3\n",
    "tree = BTree(-1, None, BTree(3, BTree(-1, BTree(2), BTree(3))))\n",
    "\n",
    "def paths_to_leaves_of_sum(tree, sum_, breadcrumbs=None):\n",
    "    if tree:\n",
    "        sum_ -= tree.value\n",
    "        breadcrumbs = breadcrumbs or []\n",
    "        breadcrumbs.append(tree.value)\n",
    "        if not any((tree.left, tree.right)) and sum_ == 0:\n",
    "            yield breadcrumbs[:]\n",
    "        yield from paths_to_leaves_of_sum(tree.left, sum_, breadcrumbs)\n",
    "        yield from paths_to_leaves_of_sum(tree.right, sum_, breadcrumbs)\n",
    "        breadcrumbs.pop()\n",
    "\n",
    "assert ([-1, 3, -1, 2],) == tuple(paths_to_leaves_of_sum(tree, 3))"
   ]
  },
  {
   "cell_type": "markdown",
   "metadata": {
    "collapsed": true
   },
   "source": [
    "4.9 Given a binary tree in which each node contains a value. Design an algorithm to print all paths, which sum to a given value. Note that a path can start or end anywhere in the tree."
   ]
  },
  {
   "cell_type": "code",
   "execution_count": 22,
   "metadata": {
    "collapsed": true
   },
   "outputs": [],
   "source": [
    "# tree: -1\n",
    "#          3\n",
    "#        -1\n",
    "#       2  3\n",
    "tree = BTree(-1, None, BTree(3, BTree(-1, BTree(2), BTree(3))))\n",
    "\n",
    "breadcrumbs = []\n",
    "def paths_of_sum(tree, sum_, breadcrumbs=None, sums=None, indices=None):\n",
    "    if tree:\n",
    "        breadcrumbs = breadcrumbs or []\n",
    "        sums = sums or []\n",
    "        indices = indices or defaultdict(list, ((sum_, [0]),))\n",
    "        breadcrumbs.append(tree.value)\n",
    "        sums.append(tree.value + (sums[-1] if sums else 0))\n",
    "        for start in indices[sums[-1]]:\n",
    "            yield breadcrumbs[start:]\n",
    "        indices[sums[-1] + sum_].append(len(breadcrumbs))\n",
    "        yield from paths_of_sum(tree.left, sum_, breadcrumbs, sums, indices)\n",
    "        yield from paths_of_sum(tree.right, sum_, breadcrumbs, sums, indices)\n",
    "        indices[sums[-1] + sum_].pop()\n",
    "        sums.pop()\n",
    "        breadcrumbs.pop()\n",
    "\n",
    "assert ([-1, 3], [3, -1], [2], [-1, 3]) == tuple(paths_of_sum(tree, 2))\n",
    "assert ([-1], [-1]) == tuple(paths_of_sum(tree, -1))\n",
    "assert ([-1, 3, -1], [-1, 2]) == tuple(paths_of_sum(tree, 1))"
   ]
  },
  {
   "cell_type": "markdown",
   "metadata": {},
   "source": [
    "9.15 Compute the exterior of a binary tree."
   ]
  },
  {
   "cell_type": "code",
   "execution_count": 23,
   "metadata": {
    "collapsed": true
   },
   "outputs": [],
   "source": [
    "def is_leaf(tree):\n",
    "    return not any((tree.left, tree.right))\n",
    "\n",
    "def left_boundary_leaves(tree, exterior):\n",
    "    if tree:\n",
    "        if exterior or is_leaf(tree):\n",
    "            yield tree.value\n",
    "        yield from left_boundary_leaves(tree.left, exterior)\n",
    "        yield from right_boundary_leaves(tree.right, False)\n",
    "\n",
    "def right_boundary_leaves(tree, exterior):\n",
    "    if tree:\n",
    "        if exterior or is_leaf(tree):\n",
    "            yield tree.value\n",
    "        yield from right_boundary_leaves(tree.right, exterior)\n",
    "        yield from left_boundary_leaves(tree.left, False)\n",
    "\n",
    "def exterior(tree):\n",
    "    if tree:\n",
    "        yield tree.value\n",
    "        yield from left_boundary_leaves(tree.left, True)\n",
    "        yield from reversed(list(right_boundary_leaves(tree.right, True)))\n",
    "\n",
    "# tree:     a\n",
    "#         /   \\\n",
    "#       b      f\n",
    "#     c  e   g  h\n",
    "#   d       i   \n",
    "\n",
    "d = BTree('d')\n",
    "c = BTree('c', d)\n",
    "e = BTree('e')\n",
    "b = BTree('b', c, e)\n",
    "a = BTree('a', b, BTree('f', BTree('g', BTree('i')), BTree('h')))\n",
    "\n",
    "assert ['a', 'b', 'c', 'd', 'e', 'i', 'h', 'f'] == list(exterior(a))"
   ]
  },
  {
   "cell_type": "markdown",
   "metadata": {},
   "source": [
    "10. 4 Compute the k closest starts."
   ]
  },
  {
   "cell_type": "code",
   "execution_count": 24,
   "metadata": {
    "collapsed": true
   },
   "outputs": [],
   "source": [
    "def power_set(a, i=0):\n",
    "    if i == len(a):\n",
    "        yield tuple()\n",
    "    else:\n",
    "        for e in power_set(a, i+1):\n",
    "            yield from ((a[i],) + e, e)\n",
    "\n",
    "assert [(1, 2, 3), (2, 3), (1, 3), (3,), (1, 2), (2,), (1,), ()] == list(power_set([1, 2, 3]))"
   ]
  },
  {
   "cell_type": "markdown",
   "metadata": {},
   "source": [
    "15.1 Write a program that solves Tower of Hanoi puzzle of N disks. http://wikipedia.org/wiki/Tower_of_Hanoi"
   ]
  },
  {
   "cell_type": "code",
   "execution_count": 25,
   "metadata": {
    "collapsed": true
   },
   "outputs": [],
   "source": [
    "def move_tower(source, target, spare, n):\n",
    "    if n > 0:\n",
    "        yield from move_tower(source, spare, target, n-1)\n",
    "        yield (source, target)\n",
    "        yield from move_tower(spare, target, source, n-1)\n",
    "\n",
    "assert [\n",
    "    ('A', 'C'),\n",
    "    ('A', 'B'),\n",
    "    ('C', 'B'),\n",
    "    ('A', 'C'),\n",
    "    ('B', 'A'),\n",
    "    ('B', 'C'),\n",
    "    ('A', 'C')\n",
    "] == list(move_tower('A', 'C', 'B', 3))"
   ]
  },
  {
   "cell_type": "markdown",
   "metadata": {},
   "source": [
    "15.2 Generate non-attacking placements of queens. "
   ]
  },
  {
   "cell_type": "code",
   "execution_count": 26,
   "metadata": {
    "collapsed": true
   },
   "outputs": [],
   "source": [
    "def peaceful_at(queens, r, c): # Peaceful at row and column (r, c)?\n",
    "    return all([c0 != c and r - r0 != abs(c - c0)\n",
    "                for r0, c0 in enumerate(queens)])\n",
    "\n",
    "def queens_in_peace(n, queens):\n",
    "    r = len(queens)  # we're at row r.\n",
    "    if r == n:\n",
    "        yield queens[:]\n",
    "    else:\n",
    "        for c in range(n):\n",
    "            if peaceful_at(queens, r, c):\n",
    "                queens.append(c)\n",
    "                yield from queens_in_peace(n, queens)\n",
    "                queens.pop()\n",
    "\n",
    "assert [1, 3, 0, 2] == next(queens_in_peace(4, []))\n",
    "assert [[0], [], []] == list(next(queens_in_peace(n, []), [])\n",
    "                             for n in range(1, 4))"
   ]
  },
  {
   "cell_type": "markdown",
   "metadata": {},
   "source": [
    "15.3 Generate permutations."
   ]
  },
  {
   "cell_type": "code",
   "execution_count": 27,
   "metadata": {
    "collapsed": true
   },
   "outputs": [],
   "source": [
    "def permutation(a, i=0): # places uniq values at index i.\n",
    "    if i == len(a):\n",
    "        yield a\n",
    "    else:\n",
    "        uniq_value_indices = {a[j]: j for j in range(i, len(a))}.values()\n",
    "        for j in uniq_value_indices:\n",
    "            a[i], a[j] = a[j], a[i]\n",
    "            yield from permutation(a, i+1)\n",
    "            a[i], a[j] = a[j], a[i]\n",
    "\n",
    "assert {'aab', 'aba', 'baa'} == set(\"\".join(e) for e in permutation(list(\"aab\")))\n",
    "assert {(1, 1, 2), (1, 2, 1), (2, 1, 1)} == set(tuple(e) for e in permutation([1, 1, 2]))"
   ]
  },
  {
   "cell_type": "markdown",
   "metadata": {},
   "source": [
    "15.4 Generate the power set."
   ]
  },
  {
   "cell_type": "code",
   "execution_count": 28,
   "metadata": {
    "collapsed": true
   },
   "outputs": [],
   "source": [
    "def power_set(a, start=0):\n",
    "    if start == len(a):\n",
    "        yield ()\n",
    "    else:\n",
    "        for e in power_set(a, start+1):\n",
    "            yield from (e, (a[start],) + e)\n",
    "\n",
    "assert ({(), ('a',), ('b',), ('c',), ('a', 'b'), ('a', 'c'), ('b', 'c'), ('a', 'b', 'c')}\n",
    "    == set(power_set(list(\"abc\"))))"
   ]
  },
  {
   "cell_type": "markdown",
   "metadata": {},
   "source": [
    "15.5 Generate all subsets of size k."
   ]
  },
  {
   "cell_type": "code",
   "execution_count": 29,
   "metadata": {
    "collapsed": true
   },
   "outputs": [],
   "source": [
    "def combination(a, k, i=0):\n",
    "    if k == 0:\n",
    "        yield set()\n",
    "    elif i < len(a):\n",
    "        for e in combination(a, k-1, i+1):\n",
    "            yield {a[i]} | e\n",
    "        yield from combination(a, k, i+1)\n",
    "\n",
    "assert 10 == len(list(combination(range(5), 2)))\n",
    "assert 10 == len(list(combination(range(5), 3)))"
   ]
  },
  {
   "cell_type": "markdown",
   "metadata": {},
   "source": [
    "15.6 Generate strings of matched parens."
   ]
  },
  {
   "cell_type": "code",
   "execution_count": 30,
   "metadata": {
    "collapsed": true
   },
   "outputs": [],
   "source": [
    "def combine_parens(o, c):  # open and close counts.\n",
    "    if c == 0:\n",
    "        yield \"\"\n",
    "    elif o == 0:\n",
    "        yield \")\" * c\n",
    "    elif c == o:\n",
    "        yield from (\"(\" + e for e in combine_parens(o-1, c))\n",
    "    else:\n",
    "        yield from (\"(\" + e for e in combine_parens(o-1, c))\n",
    "        yield from (\")\" + e for e in combine_parens(o, c-1))\n",
    "\n",
    "assert {'((()))', '(()())', '(())()', '()(())', '()()()'} == set(combine_parens(3, 3))"
   ]
  },
  {
   "cell_type": "markdown",
   "metadata": {},
   "source": [
    "15.7 Generate palindromic decompositions."
   ]
  },
  {
   "cell_type": "code",
   "execution_count": 31,
   "metadata": {
    "collapsed": true
   },
   "outputs": [],
   "source": [
    "def palindromic_partitions(s):\n",
    "    if len(s) < 2:\n",
    "        yield (s,)\n",
    "    else:\n",
    "        for k in range(1, len(s)):\n",
    "            if s[:k] == s[k-1::-1]:\n",
    "                for e in palindromic_partitions(s[k:]):\n",
    "                    yield (s[:k],) + e\n",
    "\n",
    "assert {('a', 'a', 'b'), ('aa', 'b')} == set(palindromic_partitions('aab'))"
   ]
  },
  {
   "cell_type": "markdown",
   "metadata": {},
   "source": [
    "15.8 Generate binary trees."
   ]
  },
  {
   "cell_type": "code",
   "execution_count": 32,
   "metadata": {
    "collapsed": true
   },
   "outputs": [],
   "source": [
    "def binary_trees(n):\n",
    "    if n == 0:\n",
    "        yield None\n",
    "    for l in range(n):\n",
    "        r = n - 1 - l\n",
    "        l_trees = binary_trees(l)\n",
    "        r_trees = binary_trees(r)\n",
    "        for e_l, e_r in product(l_trees, r_trees):\n",
    "            yield BTree(None, e_l, e_r)\n",
    "\n",
    "ilen = lambda iterable: sum(1 for _ in iterable)\n",
    "assert [1, 1, 2, 5, 14] == [ilen(binary_trees(e)) for e in range(5)]"
   ]
  },
  {
   "cell_type": "markdown",
   "metadata": {},
   "source": [
    "15.9 Write a program that solves a sudoku puzzle."
   ]
  },
  {
   "cell_type": "markdown",
   "metadata": {},
   "source": [
    "15.10 Write a program that takes n as input and returns an n-bit Grey code."
   ]
  },
  {
   "cell_type": "code",
   "execution_count": 33,
   "metadata": {
    "collapsed": true
   },
   "outputs": [],
   "source": [
    "def acceptable(candidate, j):\n",
    "    i = candidate[-1]\n",
    "    k = i ^ j\n",
    "    return k and (k & k - 1) == 0\n",
    "\n",
    "def grey_code(n, candidate=None, accepted=None):\n",
    "    candidate = candidate or []\n",
    "    accepted = accepted or set()\n",
    "    if len(candidate) == 2**n:\n",
    "        if acceptable(candidate, candidate[0]):\n",
    "            yield candidate[:]\n",
    "    else:\n",
    "        for e in range(2**n):\n",
    "            if not accepted or e not in accepted and acceptable(candidate, e):\n",
    "                candidate.append(e)\n",
    "                accepted.add(e)\n",
    "                yield from grey_code(n, candidate, accepted)\n",
    "                accepted.remove(e)\n",
    "                candidate.pop()\n",
    "\n",
    "gc = grey_code(2)\n",
    "assert [0, 1, 3, 2] == next(gc, None)\n",
    "assert 7 == len(tuple(gc))"
   ]
  },
  {
   "cell_type": "code",
   "execution_count": 34,
   "metadata": {
    "collapsed": true
   },
   "outputs": [],
   "source": [
    "def grey_code(n):\n",
    "    if n == 1:\n",
    "        yield from ((0, 1), (1, 0))\n",
    "    for e in grey_code(n-1):\n",
    "        yield e\n",
    "    for e in reversed(grey_code(n-1)):\n",
    "        yield ee"
   ]
  },
  {
   "cell_type": "markdown",
   "metadata": {},
   "source": [
    "15.11 Compute the diameter of a tree."
   ]
  },
  {
   "cell_type": "code",
   "execution_count": 35,
   "metadata": {
    "collapsed": true
   },
   "outputs": [],
   "source": [
    "def parse(preorder, inorder):\n",
    "    if preorder:\n",
    "        v = preorder[0]\n",
    "        k = inorder.index(v)\n",
    "        return BTree(v,\n",
    "            parse(preorder[1:k+1], inorder[:k]),\n",
    "            parse(preorder[k+1:], inorder[k+1:]))\n",
    "\n",
    "DH = namedtuple('DiameterAndHeight', ('diameter', 'height'))\n",
    "\n",
    "def diameter(tree):  # returns DH(diameter, height)\n",
    "    if tree is None:\n",
    "        return DH(0, -1)  # leaf has (0, 0)\n",
    "    l = diameter(tree.left)\n",
    "    r = diameter(tree.right)\n",
    "    h = 1 + max(l.height, r.height)\n",
    "    d = max(l.diameter, r.diameter, l.height + r.height + 2)\n",
    "    return DH(d, h)\n",
    "\n",
    "# tree input:   a\n",
    "#             b\n",
    "#          c    f (1, 1)\n",
    "#           d     g (0, 0)\n",
    "#            e\n",
    "tree = parse('abcdefg', 'cdebfga')\n",
    "assert (5, 4) == diameter(tree)"
   ]
  },
  {
   "cell_type": "markdown",
   "metadata": {},
   "source": [
    "Interval Covering: Given a set of closed intervals, design an efficient algorithm that finds a minimum size set of numbers that covers all the intervals."
   ]
  },
  {
   "cell_type": "code",
   "execution_count": 36,
   "metadata": {
    "collapsed": true
   },
   "outputs": [],
   "source": [
    "def find_minimum_point_set(intervals):\n",
    "    intervals.sort(key=lambda interval: interval[1])\n",
    "    points = []\n",
    "    for e in intervals:\n",
    "        if not points or points[-1] < e[0]:\n",
    "            points.append(e[1])\n",
    "    return points\n",
    "\n",
    "assert [3, 9] == find_minimum_point_set([[0, 3], [2, 6], [3, 4], [6, 9]])"
   ]
  },
  {
   "cell_type": "markdown",
   "metadata": {},
   "source": [
    "[Insert Interval](https://leetcode.com/problems/insert-interval/description/): Given a set of non-overlapping intervals, insert a new interval into the intervals (merge if necessary). You may assume that the intervals were initially sorted according to their start times."
   ]
  },
  {
   "cell_type": "code",
   "execution_count": 37,
   "metadata": {
    "collapsed": true
   },
   "outputs": [],
   "source": [
    "Interval = namedtuple('Interval', 'left, right')\n",
    "\n",
    "def insert_interval(intervals, new_interval):\n",
    "    result = []\n",
    "    i = 0\n",
    "    while (i < len(intervals) and\n",
    "        new_interval.left > intervals[i].right):\n",
    "        result.append(intervals[i])\n",
    "        i += 1\n",
    "    while (i < len(intervals) and\n",
    "           new_interval.right >= intervals[i].left):\n",
    "        new_interval = Interval(\n",
    "            min(new_interval.left, intervals[i].left),\n",
    "            max(new_interval.right, intervals[i].right))\n",
    "        i += 1\n",
    "    return result + [new_interval] + intervals[i:]\n",
    "\n",
    "intervals = [Interval(*e) for e in [[1,2],[3,5],[6,7],[8,10],[12,16]]]\n",
    "assert [(1,2),(3,10),(12,16)] == insert_interval(intervals, Interval(4,9))"
   ]
  },
  {
   "cell_type": "markdown",
   "metadata": {
    "collapsed": true
   },
   "source": [
    "[Merge Interval](https://leetcode.com/problems/merge-intervals/description/): Given a collection of intervals, merge all overlapping intervals. Intervals may be open or closed at either end."
   ]
  },
  {
   "cell_type": "code",
   "execution_count": 38,
   "metadata": {
    "collapsed": true
   },
   "outputs": [],
   "source": [
    "Endpoint = namedtuple('Endpoint', 'x, is_closed')\n",
    "\n",
    "class Interval:\n",
    "    def __init__(self, left, right):\n",
    "        self.left, self.right = left, right\n",
    "\n",
    "    def __lt__(self, other):\n",
    "        return (self.left.x < other.left.x\n",
    "                or self.left.x == other.left.x\n",
    "                   and self.left.is_closed and not other.left.is_closed)\n",
    "\n",
    "def merge_intervals(intervals):\n",
    "    intervals.sort()\n",
    "    result = [intervals[0]]\n",
    "    for e in intervals:\n",
    "        if intervals and (e.left.x < result[-1].right.x\n",
    "                          or e.left.x == result[-1].right.x\n",
    "                             and e.left.is_closed or e.right.is_closed):\n",
    "            if (e.right.x > result[-1].right.x\n",
    "                or e.right.x == results[-1].right.x\n",
    "                   and e.right.is_closed):\n",
    "                result[-1].right = e.right\n",
    "        else:\n",
    "            result.append(i)\n",
    "    return result"
   ]
  }
 ],
 "metadata": {
  "celltoolbar": "Raw Cell Format",
  "kernelspec": {
   "display_name": "Python 3",
   "language": "python",
   "name": "python3"
  },
  "language_info": {
   "codemirror_mode": {
    "name": "ipython",
    "version": 3
   },
   "file_extension": ".py",
   "mimetype": "text/x-python",
   "name": "python",
   "nbconvert_exporter": "python",
   "pygments_lexer": "ipython3",
   "version": "3.6.2"
  }
 },
 "nbformat": 4,
 "nbformat_minor": 2
}
