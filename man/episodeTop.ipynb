{
 "metadata": {
  "name": "",
  "signature": "sha256:d392df68240b2b03a8ac93e9d8413344b2794c18afcdc5dccdb4cdb516ce6167"
 },
 "nbformat": 3,
 "nbformat_minor": 0,
 "worksheets": [
  {
   "cells": [
    {
     "cell_type": "markdown",
     "metadata": {},
     "source": [
      "* http://www.programcreek.com/2012/11/top-10-algorithms-for-coding-interview/\n",
      "* https://oj.leetcode.com/problems/\n",
      "* Median of 2 sorted arrays\n",
      "* Palindormic partitioning\n",
      "* Convert Sorted List to Binary Search Tree"
     ]
    },
    {
     "cell_type": "markdown",
     "metadata": {},
     "source": [
      "#### Most visited URLs - [CM sketch](http://en.wikipedia.org/wiki/Count%E2%80%93min_sketch) for probalistic answer?\n",
      "***\n",
      "* Take top 10 from the union of to 10s from each host.\n",
      "  * Find a threshold by top 10 devided by the # of hosts.\n",
      "* Take top 10 from the union of top N w/r/t from each host.\n",
      "***\n",
      "* Take Top 10 from the union of top 10s from each host after range or hash partitioning?"
     ]
    },
    {
     "cell_type": "code",
     "collapsed": false,
     "input": [],
     "language": "python",
     "metadata": {},
     "outputs": []
    }
   ],
   "metadata": {}
  }
 ]
}