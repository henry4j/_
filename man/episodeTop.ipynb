{
 "metadata": {
  "name": "",
  "signature": "sha256:4e92b1320032d7b2010801b957820289eb669e6bcb5240c5f5223b18aa8494d8"
 },
 "nbformat": 3,
 "nbformat_minor": 0,
 "worksheets": [
  {
   "cells": [
    {
     "cell_type": "code",
     "collapsed": false,
     "input": [],
     "language": "python",
     "metadata": {},
     "outputs": []
    }
   ],
   "metadata": {}
  }
 ]
}