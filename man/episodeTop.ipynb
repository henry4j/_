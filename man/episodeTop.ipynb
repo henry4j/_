{
 "metadata": {
  "name": "",
  "signature": "sha256:055d95a23a210aacbd4aab8a243affc101e74edd488992d5690c1e460fba6456"
 },
 "nbformat": 3,
 "nbformat_minor": 0,
 "worksheets": [
  {
   "cells": [
    {
     "cell_type": "markdown",
     "metadata": {},
     "source": [
      "* http://www.programcreek.com/2012/11/top-10-algorithms-for-coding-interview/\n",
      "* https://oj.leetcode.com/problems/\n",
      "* Median of 2 sorted arrays\n",
      "* Palindormic partitioning\n",
      "* Convert Sorted List to Binary Search Tree"
     ]
    },
    {
     "cell_type": "markdown",
     "metadata": {},
     "source": [
      "#### Most visited URLs - [CM sketch](http://en.wikipedia.org/wiki/Count%E2%80%93min_sketch) for probalistic answer?\n",
      "***\n",
      "* Take top 10 from the union of to 10s from each host.\n",
      "  * Find a threshold by top 10 devided by the # of hosts.\n",
      "* Take top 10 from the union of top N w/r/t from each host.\n",
      "***\n",
      "* Take Top 10 from the union of top 10s from each host after range or hash partitioning?"
     ]
    },
    {
     "cell_type": "markdown",
     "metadata": {},
     "source": [
      "Redis Partitioning\n",
      "* partitioning is splitting data into multiple instances, so each instance only contains a subset of keys.\n",
      "* two main goals: allowing much larger data sets beyond a memory limit on a single computer, and scaling IO and computational power to multi-cores, computer, and network adapters.\n",
      "* alternatives\n",
      "  * range partitioning (user id 0 to 10,000 goes to instance 0).\n",
      "  * hash partitioning (a hashcode modulo # of instances): consistent hashing.\n",
      "  * impl.: client side, proxy assisted, query routing (a rand instance), or a hybrid (redir.).\n",
      "* disadvantages: intersection between sets, transactions over multiple keys, a big sorted set for a single key, operational complexity, adding or removing capacity.\n",
      "* re-balancing or presharding in 2^5 instances w/ replication can do the move with minimal or no downtime.\n",
      "\n",
      "Pipeline, Script, Batch with read/write/computes.\n",
      "\n",
      "Redis Replication\n",
      "* x"
     ]
    },
    {
     "cell_type": "code",
     "collapsed": false,
     "input": [],
     "language": "python",
     "metadata": {},
     "outputs": []
    }
   ],
   "metadata": {}
  }
 ]
}