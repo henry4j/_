{
 "metadata": {
  "name": "",
  "signature": "sha256:8fadd24ca51ff4224446caadd15d0e916365e51bfca49b3847a3800d33ebe8f4"
 },
 "nbformat": 3,
 "nbformat_minor": 0,
 "worksheets": [
  {
   "cells": [
    {
     "cell_type": "code",
     "collapsed": false,
     "input": [
      "from pandas import Series, DataFrame\n",
      "import pandas as pd\n",
      "import numpy as np\n",
      "\n",
      "obj = Series([4, 7, -5, 3])\n",
      "obj.values, obj.index\n",
      "obj2 = Series([4, 7, -5, 3], index=['d', 'b', 'a', 'c'])\n",
      "obj2.values, obj2.index\n",
      "\n",
      "obj2['a']; obj2['d'] = 6; obj2[['c', 'a', 'd']]\n",
      "obj2[obj2 > 0]\n",
      "obj2 * 2\n",
      "np.exp(obj2)\n",
      "\n",
      "'b' in obj2 or 'e' in obj2 # think of it as an ordered dict.\n",
      "\n",
      "sdata = {'Ohio': 35000, 'Texas': 71000, 'Oregon': 16000, 'Utah': 5000}\n",
      "obj3 = Series(sdata)\n",
      "obj4 = Series(sdata, index=['Texas', 'California', 'Ohio', 'Oregon'])\n",
      "pd.isnull(obj4) | pd.notnull(obj4)\n",
      "obj4.isnull()\n",
      "\n",
      "obj3 + obj4\n",
      "obj4.name = 'population'\n",
      "obj4.index.name = 'state'\n",
      "obj4\n",
      "\n",
      "obj.index = ['Bob', 'Steve', 'Jeff', 'Ryan']\n",
      "obj"
     ],
     "language": "python",
     "metadata": {},
     "outputs": [
      {
       "metadata": {},
       "output_type": "pyout",
       "prompt_number": 58,
       "text": [
        "Bob      4\n",
        "Steve    7\n",
        "Jeff    -5\n",
        "Ryan     3\n",
        "dtype: int64"
       ]
      }
     ],
     "prompt_number": 58
    },
    {
     "cell_type": "code",
     "collapsed": false,
     "input": [
      "from pandas import Series, DataFrame\n",
      "import pandas as pd\n",
      "import numpy as np\n",
      "\n",
      "data = {'state': ['Ohio', 'Ohio', 'Ohio', 'Nevada', 'Nevada'],\n",
      "'year': [2000, 2001, 2002, 2001, 2002],\n",
      "'pop': [1.5, 1.7, 3.6, 2.4, 2.9]}\n",
      "frame = DataFrame(data)\n",
      "frame\n",
      "\n",
      "frame2 = DataFrame(data, columns=['year', 'state', 'pop', 'debt'], index=['one', 'two', 'three', 'four', 'five'])\n",
      "frame2.index, frame2.columns\n",
      "frame2['year'], frame2.state\n",
      "frame2.ix['three']\n",
      "frame2['debt'] = 16.5\n",
      "frame2.debt = np.arange(5.0)\n",
      "\n",
      "frame2['debt'] = Series([-1.2, -1.5, -1.7], index=['two', 'four', 'five'])\n",
      "frame2['eastern'] = frame2.state == 'Ohio'\n",
      "frame2.western = frame2.state == 'Ohio'\n",
      "frame2"
     ],
     "language": "python",
     "metadata": {},
     "outputs": [
      {
       "html": [
        "<div style=\"max-height:1000px;max-width:1500px;overflow:auto;\">\n",
        "<table border=\"1\" class=\"dataframe\">\n",
        "  <thead>\n",
        "    <tr style=\"text-align: right;\">\n",
        "      <th></th>\n",
        "      <th>year</th>\n",
        "      <th>state</th>\n",
        "      <th>pop</th>\n",
        "      <th>debt</th>\n",
        "      <th>eastern</th>\n",
        "    </tr>\n",
        "  </thead>\n",
        "  <tbody>\n",
        "    <tr>\n",
        "      <th>one</th>\n",
        "      <td> 2000</td>\n",
        "      <td>   Ohio</td>\n",
        "      <td> 1.5</td>\n",
        "      <td> NaN</td>\n",
        "      <td>  True</td>\n",
        "    </tr>\n",
        "    <tr>\n",
        "      <th>two</th>\n",
        "      <td> 2001</td>\n",
        "      <td>   Ohio</td>\n",
        "      <td> 1.7</td>\n",
        "      <td>-1.2</td>\n",
        "      <td>  True</td>\n",
        "    </tr>\n",
        "    <tr>\n",
        "      <th>three</th>\n",
        "      <td> 2002</td>\n",
        "      <td>   Ohio</td>\n",
        "      <td> 3.6</td>\n",
        "      <td> NaN</td>\n",
        "      <td>  True</td>\n",
        "    </tr>\n",
        "    <tr>\n",
        "      <th>four</th>\n",
        "      <td> 2001</td>\n",
        "      <td> Nevada</td>\n",
        "      <td> 2.4</td>\n",
        "      <td>-1.5</td>\n",
        "      <td> False</td>\n",
        "    </tr>\n",
        "    <tr>\n",
        "      <th>five</th>\n",
        "      <td> 2002</td>\n",
        "      <td> Nevada</td>\n",
        "      <td> 2.9</td>\n",
        "      <td>-1.7</td>\n",
        "      <td> False</td>\n",
        "    </tr>\n",
        "  </tbody>\n",
        "</table>\n",
        "</div>"
       ],
       "metadata": {},
       "output_type": "pyout",
       "prompt_number": 105,
       "text": [
        "       year   state  pop  debt eastern\n",
        "one    2000    Ohio  1.5   NaN    True\n",
        "two    2001    Ohio  1.7  -1.2    True\n",
        "three  2002    Ohio  3.6   NaN    True\n",
        "four   2001  Nevada  2.4  -1.5   False\n",
        "five   2002  Nevada  2.9  -1.7   False"
       ]
      }
     ],
     "prompt_number": 105
    },
    {
     "cell_type": "code",
     "collapsed": false,
     "input": [
      "import matplotlib.pyplot as plt\n",
      "import numpy as np\n",
      "\n",
      "plt.plot(np.arange(10))\n",
      "plt.plot([1.5, 3.5, -2, 1.6])\n",
      "close()\n",
      "\n",
      "fig = plt.figure()\n",
      "ax1 = fig.add_subplot(2, 2, 1)\n",
      "ax2 = fig.add_subplot(2, 2, 2)\n",
      "ax3 = fig.add_subplot(2, 2, 3)\n",
      "\n",
      "\n",
      "from numpy.random import randn\n",
      "plt.plot(randn(50).cumsum(), 'k--') # plots a black dashed line.\n",
      "_ = ax1.hist(randn(100), bins=20, color='k', alpha=0.3)\n",
      "ax2.scatter(np.arange(30), np.arange(30) + 3 * randn(30))"
     ],
     "language": "python",
     "metadata": {},
     "outputs": [
      {
       "metadata": {},
       "output_type": "pyout",
       "prompt_number": 17,
       "text": [
        "<matplotlib.collections.PathCollection at 0x119c47240>"
       ]
      }
     ],
     "prompt_number": 17
    },
    {
     "cell_type": "code",
     "collapsed": false,
     "input": [],
     "language": "python",
     "metadata": {},
     "outputs": []
    },
    {
     "cell_type": "code",
     "collapsed": false,
     "input": [
      "import matplotlib.pyplot as plt\n",
      "import numpy as np\n",
      "\n",
      "np.arange(30)\n",
      "randn(30)"
     ],
     "language": "python",
     "metadata": {},
     "outputs": [
      {
       "metadata": {},
       "output_type": "pyout",
       "prompt_number": 16,
       "text": [
        "array([-0.20449522, -1.15408782,  1.87433384,  0.74219964, -0.34334795,\n",
        "       -0.01708953, -1.38362768, -0.88721562,  0.95493792,  0.70370338,\n",
        "       -0.76823627,  1.29806769, -0.92799722, -0.9353197 ,  0.38143463,\n",
        "        2.75962208, -2.30369106,  0.66707781,  0.28744704, -0.89354639,\n",
        "        0.05736296, -0.2095717 , -0.57525437, -1.17178231, -0.08585273,\n",
        "       -1.45244628, -1.13029571, -0.53921055, -0.43581323, -1.46323655])"
       ]
      }
     ],
     "prompt_number": 16
    },
    {
     "cell_type": "code",
     "collapsed": false,
     "input": [
      "import matplotlib.pyplot as plt # %matplotlib inline\n",
      "\n",
      "# The slices will be ordered and plotted counter-clockwise.\n",
      "labels = 'Frogs', 'Hogs', 'Dogs', 'Logs'\n",
      "sizes = [15, 30, 45, 10]\n",
      "colors = ['yellowgreen', 'gold', 'lightskyblue', 'lightcoral']\n",
      "explode = (0, 0.1, 0, 0) # only \"explode\" the 2nd slice (i.e. 'Hogs')\n",
      "\n",
      "plt.pie(sizes, explode=explode, labels=labels, colors=colors,\n",
      "        autopct='%1.1f%%', shadow=True, startangle=90)\n",
      "# Set aspect ratio to be equal so that pie is drawn as a circle.\n",
      "plt.axis('equal')\n",
      "plt.show()"
     ],
     "language": "python",
     "metadata": {},
     "outputs": [
      {
       "metadata": {},
       "output_type": "display_data",
       "png": "[encoded data removed]",
       "text": [
        "<matplotlib.figure.Figure at 0x119cd47f0>"
       ]
      }
     ],
     "prompt_number": 21
    }
   ],
   "metadata": {}
  }
 ]
}