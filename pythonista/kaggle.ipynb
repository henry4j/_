{
 "metadata": {
  "name": "",
  "signature": "sha256:a8d34f0059b1f83017b12e0ff88166ed72412d7a56b31e61fb9e216a6bd2fed7"
 },
 "nbformat": 3,
 "nbformat_minor": 0,
 "worksheets": [
  {
   "cells": [
    {
     "cell_type": "code",
     "collapsed": false,
     "input": [
      "import urllib2, zipfile\n",
      "url = 'http://ipython.rossant.net/'\n",
      "filename = 'cities.zip'\n",
      "downloaded = urllib2.urlopen(url + filename)\n",
      "folder = 'data'\n",
      "%mkdir $folder\n",
      "with open(filename, 'wb') as f:\n",
      "    f.write(downloaded.read())\n",
      "with zipfile.ZipFile(filename) as zip:\n",
      "    zip.extractall(folder)"
     ],
     "language": "python",
     "metadata": {},
     "outputs": [
      {
       "output_type": "stream",
       "stream": "stdout",
       "text": [
        "mkdir: data: File exists\r\n"
       ]
      }
     ],
     "prompt_number": 33
    },
    {
     "cell_type": "code",
     "collapsed": false,
     "input": [],
     "language": "python",
     "metadata": {},
     "outputs": []
    }
   ],
   "metadata": {}
  }
 ]
}